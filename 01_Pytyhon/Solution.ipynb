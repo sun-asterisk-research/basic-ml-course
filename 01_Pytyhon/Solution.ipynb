{
  "nbformat": 4,
  "nbformat_minor": 0,
  "metadata": {
    "colab": {
      "provenance": [],
      "authorship_tag": "ABX9TyOxD1uTBvJl4u1djpFZZxTY",
      "include_colab_link": true
    },
    "kernelspec": {
      "name": "python3",
      "display_name": "Python 3"
    },
    "language_info": {
      "name": "python"
    }
  },
  "cells": [
    {
      "cell_type": "markdown",
      "metadata": {
        "id": "view-in-github",
        "colab_type": "text"
      },
      "source": [
        "<a href=\"https://colab.research.google.com/github/Timoh-Kingstar/basic-ml-course/blob/master/01_Pytyhon/Solution.ipynb\" target=\"_parent\"><img src=\"https://colab.research.google.com/assets/colab-badge.svg\" alt=\"Open In Colab\"/></a>"
      ]
    },
    {
      "cell_type": "code",
      "source": [
        "def is_triangle(a,b,c):\n",
        "    if a+b>=c and b+c>=a and c+a>=b:\n",
        "        return True\n",
        "    else:\n",
        "        return False\n",
        "\n"
      ],
      "metadata": {
        "id": "DU6DFwFvdB_x"
      },
      "execution_count": null,
      "outputs": []
    },
    {
      "cell_type": "code",
      "source": [
        "[i for i in range (10) if i%2==1]"
      ],
      "metadata": {
        "colab": {
          "base_uri": "https://localhost:8080/"
        },
        "id": "PkBbF1OVhrOz",
        "outputId": "c9657752-44db-4da4-cc93-414ebfffd621"
      },
      "execution_count": null,
      "outputs": [
        {
          "output_type": "execute_result",
          "data": {
            "text/plain": [
              "[1, 3, 5, 7, 9]"
            ]
          },
          "metadata": {},
          "execution_count": 9
        }
      ]
    },
    {
      "cell_type": "code",
      "source": [
        "def get_reverse(text):\n",
        "    text=text[::-1]\n",
        "    return text\n",
        "    \n",
        "    text = \"Kenya\"\n",
        "\n",
        "print(get_reverse(text))"
      ],
      "metadata": {
        "colab": {
          "base_uri": "https://localhost:8080/"
        },
        "id": "50aeafDtlUuO",
        "outputId": "52df74b6-3dfd-436a-d621-2a5c6ff0db2e"
      },
      "execution_count": null,
      "outputs": [
        {
          "output_type": "stream",
          "name": "stdout",
          "text": [
            "ayneK\n"
          ]
        }
      ]
    },
    {
      "cell_type": "code",
      "source": [
        "set1 = {10, 20, 30, 40, 50}\n",
        "set2 = {30, 40, 50, 60, 70}\n",
        "\n",
        "print(set1-set2)\n",
        "print (set2-set1)"
      ],
      "metadata": {
        "colab": {
          "base_uri": "https://localhost:8080/"
        },
        "id": "2SLxH6xaqut4",
        "outputId": "85d801c1-2957-4c89-b221-4285a8915a87"
      },
      "execution_count": null,
      "outputs": [
        {
          "output_type": "stream",
          "name": "stdout",
          "text": [
            "{10, 20}\n",
            "{60, 70}\n"
          ]
        }
      ]
    },
    {
      "cell_type": "code",
      "source": [
        "def remove_from_list(input_list, value):\n",
        "     res = [i for i in input_list if i != value]\n",
        " \n",
        "    return res\n",
        "\n",
        "    # driver code\n",
        "if __name__ == \"__main__\":\n",
        "\n",
        "   # initializing the list\n",
        "    input_list= [10, 20, 10, 30, 40, 50, 10, 0]\n",
        "    value = 10\n",
        "remove_from_list(a, 10)\n",
        "print(a)\n",
        "\n",
        "# calling the function remove_items()\n",
        "    res = remove_from_list(input_list, value)\n",
        "\n",
        "print((res))"
      ],
      "metadata": {
        "colab": {
          "base_uri": "https://localhost:8080/",
          "height": 130
        },
        "id": "QRcuBUhRudPd",
        "outputId": "74d1b2cb-187a-41f1-8089-7e18103c0291"
      },
      "execution_count": 2,
      "outputs": [
        {
          "output_type": "error",
          "ename": "IndentationError",
          "evalue": "ignored",
          "traceback": [
            "\u001b[0;36m  File \u001b[0;32m\"<tokenize>\"\u001b[0;36m, line \u001b[0;32m4\u001b[0m\n\u001b[0;31m    return res\u001b[0m\n\u001b[0m    ^\u001b[0m\n\u001b[0;31mIndentationError\u001b[0m\u001b[0;31m:\u001b[0m unindent does not match any outer indentation level\n"
          ]
        }
      ]
    },
    {
      "cell_type": "code",
      "source": [],
      "metadata": {
        "id": "isttxN-MqTOt"
      },
      "execution_count": null,
      "outputs": []
    }
  ]
}