{
  "nbformat": 4,
  "nbformat_minor": 0,
  "metadata": {
    "colab": {
      "provenance": [],
      "collapsed_sections": [],
      "authorship_tag": "ABX9TyNRnU9QWo6jmLll7MPPvjE2",
      "include_colab_link": true
    },
    "kernelspec": {
      "name": "python3",
      "display_name": "Python 3"
    },
    "language_info": {
      "name": "python"
    }
  },
  "cells": [
    {
      "cell_type": "markdown",
      "metadata": {
        "id": "view-in-github",
        "colab_type": "text"
      },
      "source": [
        "<a href=\"https://colab.research.google.com/github/quadspark/basic-ml-course/blob/master/01_Python/solution6.ipynb\" target=\"_parent\"><img src=\"https://colab.research.google.com/assets/colab-badge.svg\" alt=\"Open In Colab\"/></a>"
      ]
    },
    {
      "cell_type": "code",
      "execution_count": 33,
      "metadata": {
        "colab": {
          "base_uri": "https://localhost:8080/"
        },
        "id": "BFFeT37cRlsi",
        "outputId": "2ecc7435-8098-41af-c4e9-8e56fd099322"
      },
      "outputs": [
        {
          "output_type": "stream",
          "name": "stdout",
          "text": [
            "85\n",
            "John : 85\n"
          ]
        }
      ],
      "source": [
        "class Student:\n",
        "    def __init__(self, name, score):\n",
        "        self.name = name\n",
        "        self.score = 85\n",
        "        \n",
        "    def get_score(self):\n",
        "        return self.score\n",
        "        \n",
        "    def describe(self):\n",
        "        print(self.name,':', self.score )\n",
        "        \n",
        "student = Student(\"John\", 85)\n",
        "print(student.get_score()) \n",
        "student.describe()\n"
      ]
    }
  ]
}