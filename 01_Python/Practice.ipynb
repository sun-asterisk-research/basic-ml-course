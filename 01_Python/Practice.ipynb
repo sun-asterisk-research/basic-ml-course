{
  "cells": [
    {
      "cell_type": "markdown",
      "metadata": {
        "id": "ki-JUpb2BCrZ"
      },
      "source": [
        "# Lecture 01 Practice\n",
        "\n",
        "This is a supplementary notebook for lecture 01 so that you can get used to Python. Try it on Google Colab and experiment with it by changing the values, as well as write some code as you like."
      ]
    },
    {
      "cell_type": "markdown",
      "metadata": {
        "id": "m9eUUv7SA2Tc"
      },
      "source": [
        "## Basic data types of Python"
      ]
    },
    {
      "cell_type": "markdown",
      "metadata": {
        "id": "trCs56XLCMvj"
      },
      "source": [
        "Python has several data types. Some of the basic ones are `int`, `float`, `bool`, `str`, `list`, etc."
      ]
    },
    {
      "cell_type": "code",
      "execution_count": null,
      "metadata": {
        "id": "igai543VAu4G"
      },
      "outputs": [],
      "source": [
        "a = 1  # int (Integer)\n",
        "b = 2.0  # float (Real number)\n",
        "c = True  # bool (Boolean)\n",
        "d = False  # also bool (Boolean)\n",
        "e = \"Hello World!\"  # str (String)\n",
        "f = [1, 2, 3, 4]  # list"
      ]
    },
    {
      "cell_type": "markdown",
      "metadata": {
        "id": "KoLm2IuTCHEQ"
      },
      "source": [
        "`type` will return the type of variable. Try put the name of the variable inside the parenthesis and run the code cell."
      ]
    },
    {
      "cell_type": "code",
      "execution_count": null,
      "metadata": {
        "id": "2FvmFAVfB_q7"
      },
      "outputs": [],
      "source": [
        "print(type(c))"
      ]
    },
    {
      "cell_type": "markdown",
      "metadata": {
        "id": "Eziml8wSMXZd"
      },
      "source": [
        "### String\n",
        "\n",
        "String is a sequence of characters."
      ]
    },
    {
      "cell_type": "code",
      "execution_count": null,
      "metadata": {
        "id": "sQZ-77GnMcM-"
      },
      "outputs": [],
      "source": [
        "text = \"Machine Learning Basic\"\n",
        "print(text)"
      ]
    },
    {
      "cell_type": "markdown",
      "metadata": {
        "id": "yvhNyJj_MjQW"
      },
      "source": [
        "To access a character in string using an index, you can use square brackets `[]`. Remember that index starts from `0`."
      ]
    },
    {
      "cell_type": "code",
      "execution_count": null,
      "metadata": {
        "id": "hLFommpwMqYk"
      },
      "outputs": [],
      "source": [
        "print(text[8])"
      ]
    },
    {
      "cell_type": "markdown",
      "metadata": {
        "id": "iQnpmW-oMb-t"
      },
      "source": [
        "To get a substring, you can use slicing `[start:end]`. Remember that slicing is inclusive to it does not return the character at index `end`."
      ]
    },
    {
      "cell_type": "code",
      "execution_count": null,
      "metadata": {
        "id": "aq0FNWzrNHmV"
      },
      "outputs": [],
      "source": [
        "print(text[8:15])"
      ]
    },
    {
      "cell_type": "markdown",
      "metadata": {
        "id": "OnzoKhukNP4t"
      },
      "source": [
        "Here are some operations with string."
      ]
    },
    {
      "cell_type": "code",
      "execution_count": null,
      "metadata": {
        "id": "KgmCMhLYNSFC"
      },
      "outputs": [],
      "source": [
        "print(\"Learning\" in text)"
      ]
    },
    {
      "cell_type": "code",
      "execution_count": null,
      "metadata": {
        "id": "f2o6hgbhN4Wy"
      },
      "outputs": [],
      "source": [
        "print(\"Length of string:\", len(text))"
      ]
    },
    {
      "cell_type": "code",
      "execution_count": null,
      "metadata": {
        "id": "pbrtN2agN90F"
      },
      "outputs": [],
      "source": [
        "print(text + \" by Sun-asterisk\")"
      ]
    },
    {
      "cell_type": "code",
      "execution_count": null,
      "metadata": {
        "id": "3Aq3YrX8OC8Q"
      },
      "outputs": [],
      "source": [
        "print(text.upper())"
      ]
    },
    {
      "cell_type": "code",
      "execution_count": null,
      "metadata": {
        "id": "r9tYt4QmNzWH"
      },
      "outputs": [],
      "source": [
        "print(text.split(\" \"))"
      ]
    },
    {
      "cell_type": "code",
      "execution_count": null,
      "metadata": {
        "id": "khLDinF_OHDI"
      },
      "outputs": [],
      "source": [
        "print(\"-\".join(text.split(\" \")))"
      ]
    },
    {
      "cell_type": "markdown",
      "metadata": {
        "id": "l11ZAHiIO_T0"
      },
      "source": [
        "Try modifying a character in the string above and see what will happen."
      ]
    },
    {
      "cell_type": "code",
      "execution_count": null,
      "metadata": {
        "id": "v2EF3U8WPFT2"
      },
      "outputs": [],
      "source": [
        "text[0] = \"l\""
      ]
    },
    {
      "cell_type": "markdown",
      "metadata": {
        "id": "l9ZqoCKhOPkE"
      },
      "source": [
        "### List\n",
        "\n",
        "List is a sequence of items. It is enclosed in square brackets `[]`."
      ]
    },
    {
      "cell_type": "code",
      "execution_count": null,
      "metadata": {
        "id": "to4WkTZjOtqG"
      },
      "outputs": [],
      "source": [
        "a = [1, 2, 3, 4, 5]"
      ]
    },
    {
      "cell_type": "code",
      "execution_count": null,
      "metadata": {
        "id": "L53rVsjMO5he"
      },
      "outputs": [],
      "source": [
        "print(a)"
      ]
    },
    {
      "cell_type": "markdown",
      "metadata": {
        "id": "7PfEn8RAPVDl"
      },
      "source": [
        "Unlike string, you can freely modify a list."
      ]
    },
    {
      "cell_type": "code",
      "execution_count": null,
      "metadata": {
        "id": "vNu3XpkrPZPB"
      },
      "outputs": [],
      "source": [
        "a[0] = 4\n",
        "a.append(-2)\n",
        "print(a)"
      ]
    },
    {
      "cell_type": "markdown",
      "metadata": {
        "id": "Fmw9wNRHPqGO"
      },
      "source": [
        "Some operations with list"
      ]
    },
    {
      "cell_type": "code",
      "execution_count": null,
      "metadata": {
        "id": "E17kSC1NPh2_"
      },
      "outputs": [],
      "source": [
        "print(a[1:3])"
      ]
    },
    {
      "cell_type": "code",
      "execution_count": null,
      "metadata": {
        "id": "boPHn_fHPtnT"
      },
      "outputs": [],
      "source": [
        "a.sort()\n",
        "print(a)"
      ]
    },
    {
      "cell_type": "code",
      "execution_count": null,
      "metadata": {
        "id": "EsQX1bafPw2T"
      },
      "outputs": [],
      "source": [
        "print(len(a))"
      ]
    },
    {
      "cell_type": "code",
      "execution_count": null,
      "metadata": {
        "id": "5amXD2tXPzLt"
      },
      "outputs": [],
      "source": [
        "a.pop(1)\n",
        "print(a)"
      ]
    },
    {
      "cell_type": "code",
      "execution_count": null,
      "metadata": {
        "id": "jd9XoftkP3IZ"
      },
      "outputs": [],
      "source": [
        "a.remove(4)\n",
        "print(a)"
      ]
    },
    {
      "cell_type": "markdown",
      "metadata": {
        "id": "3QkIATBdP7Ql"
      },
      "source": [
        "You can use list comprehension to generate a list."
      ]
    },
    {
      "cell_type": "code",
      "execution_count": null,
      "metadata": {
        "id": "YrASHLy2P-m1"
      },
      "outputs": [],
      "source": [
        "b = [i*3 for i in range(6) if i%2==1]\n",
        "print(b)"
      ]
    },
    {
      "cell_type": "markdown",
      "metadata": {
        "id": "FZpoCUlEQKWV"
      },
      "source": [
        "### Tuple\n",
        "\n",
        "Tuple is similar to a list but you cannot modify its value (similar to string). It can be optionally enclosed with parenthesis `()`."
      ]
    },
    {
      "cell_type": "code",
      "execution_count": null,
      "metadata": {
        "id": "vjwG204JQXSP"
      },
      "outputs": [],
      "source": [
        "x = (1, 2, 3)\n",
        "print(x)\n",
        "x = 1, 2, 3\n",
        "print(x)"
      ]
    },
    {
      "cell_type": "markdown",
      "metadata": {
        "id": "QkIgNHcaQdPL"
      },
      "source": [
        "Trying to edit a tuple will generate an error."
      ]
    },
    {
      "cell_type": "code",
      "execution_count": null,
      "metadata": {
        "id": "6J5wVbX9QgO9"
      },
      "outputs": [],
      "source": [
        "x[1] = 6"
      ]
    },
    {
      "cell_type": "markdown",
      "metadata": {
        "id": "8DnrlqJ9QkSf"
      },
      "source": [
        "Anything that works with list also works with tuple, as long as it does not modify the content of tuple."
      ]
    },
    {
      "cell_type": "code",
      "execution_count": null,
      "metadata": {
        "id": "E5EwOpbHRoZw"
      },
      "outputs": [],
      "source": [
        "print(len(x))"
      ]
    },
    {
      "cell_type": "markdown",
      "metadata": {
        "id": "aABk8NCxWIMQ"
      },
      "source": [
        "You can assign multiple variables using a tuple. This is called tuple unpacking. Remember that the number of variables must be the same as the number of values in the tuple."
      ]
    },
    {
      "cell_type": "code",
      "execution_count": null,
      "metadata": {
        "id": "aZ6HIYNyWVd1"
      },
      "outputs": [],
      "source": [
        "x1, x2, x3 = x\n",
        "print(x1, x2, x3)"
      ]
    },
    {
      "cell_type": "markdown",
      "metadata": {
        "id": "5oIPRG51Rz6x"
      },
      "source": [
        "### Set\n",
        "\n",
        "Set is a special kind of list where all elements are unique and unordered. It is enclosed with curly brackets `{}`."
      ]
    },
    {
      "cell_type": "code",
      "execution_count": null,
      "metadata": {
        "id": "82rChB57STqN"
      },
      "outputs": [],
      "source": [
        "c = {0, 1, 2, 1, 2, 0, 2}\n",
        "print(c)"
      ]
    },
    {
      "cell_type": "markdown",
      "metadata": {
        "id": "OWblHIHMSk19"
      },
      "source": [
        "Since set is unordered, trying to access it using index will return an error."
      ]
    },
    {
      "cell_type": "code",
      "execution_count": null,
      "metadata": {
        "id": "QTtUpEYuSiGa"
      },
      "outputs": [],
      "source": [
        "print(c[0])"
      ]
    },
    {
      "cell_type": "markdown",
      "metadata": {
        "id": "mzk497gHSsW3"
      },
      "source": [
        "Some operations with set:"
      ]
    },
    {
      "cell_type": "code",
      "execution_count": null,
      "metadata": {
        "id": "h0zEPrVCStz4"
      },
      "outputs": [],
      "source": [
        "print(3 in c)"
      ]
    },
    {
      "cell_type": "code",
      "execution_count": null,
      "metadata": {
        "id": "m3D2aIrkSwe_"
      },
      "outputs": [],
      "source": [
        "a = {0, 1, 2}\n",
        "b = {1, 2, 3}\n",
        "\n",
        "print(\"Intersection of a and b\", a & b)\n",
        "print(\"Union of a and b\", a | b)\n",
        "print(\"Difference of a to b\", a - b)"
      ]
    },
    {
      "cell_type": "markdown",
      "metadata": {
        "id": "IyMlK-ISTR8-"
      },
      "source": [
        "### Dictionary\n",
        "\n",
        "Dictionary is used to map a key to a value. It is also enclosed with curly brackets but with a colon between key and value."
      ]
    },
    {
      "cell_type": "code",
      "execution_count": null,
      "metadata": {
        "id": "8FZ4vhDZTcOP"
      },
      "outputs": [],
      "source": [
        "d = {'japan': 'tokyo', 'vietnam': 'hanoi', 'kenya': 'nairobi'}\n",
        "print(d)"
      ]
    },
    {
      "cell_type": "markdown",
      "metadata": {
        "id": "v6cF4UJnToqF"
      },
      "source": [
        "Access the dictionary with key"
      ]
    },
    {
      "cell_type": "code",
      "execution_count": null,
      "metadata": {
        "id": "s_NyFH_9TrWW"
      },
      "outputs": [],
      "source": [
        "print(d[\"japan\"])"
      ]
    },
    {
      "cell_type": "markdown",
      "metadata": {
        "id": "MZznwZSmTu1t"
      },
      "source": [
        "If the key does not exist in the dictionary, Python will return an error."
      ]
    },
    {
      "cell_type": "code",
      "execution_count": null,
      "metadata": {
        "id": "yriH_n6hTzAT"
      },
      "outputs": [],
      "source": [
        "print(d[\"france\"])"
      ]
    },
    {
      "cell_type": "markdown",
      "metadata": {
        "id": "_-vEVfVLT3md"
      },
      "source": [
        "Add an entry in dictionary with square brackets."
      ]
    },
    {
      "cell_type": "code",
      "execution_count": null,
      "metadata": {
        "id": "MCwsE6a9UAmg"
      },
      "outputs": [],
      "source": [
        "d[\"france\"] = \"tokyo\"\n",
        "print(d)"
      ]
    },
    {
      "cell_type": "markdown",
      "metadata": {
        "id": "QBalunujCon6"
      },
      "source": [
        "## Variable assignment\n",
        "\n",
        "In Python, data value is assigned to a variable with `=`. The following code cell with assign `1` to `x`."
      ]
    },
    {
      "cell_type": "code",
      "execution_count": null,
      "metadata": {
        "id": "mDBi1kqRCBsi"
      },
      "outputs": [],
      "source": [
        "x = 1\n",
        "print(x)"
      ]
    },
    {
      "cell_type": "markdown",
      "metadata": {
        "id": "CxGz7LI-C4V6"
      },
      "source": [
        "You can reassign the variable to something else, such as a string or a float number."
      ]
    },
    {
      "cell_type": "code",
      "execution_count": null,
      "metadata": {
        "id": "yjwsmobRC3zc"
      },
      "outputs": [],
      "source": [
        "x = 5.0\n",
        "print(x)\n",
        "x = \"Sun*\"\n",
        "print(x)"
      ]
    },
    {
      "cell_type": "markdown",
      "metadata": {
        "id": "9xnSvjoSDPeE"
      },
      "source": [
        "You can also use a variable to assign value for another variable (including itself)."
      ]
    },
    {
      "cell_type": "code",
      "execution_count": null,
      "metadata": {
        "id": "8ysPBY3vDKwr"
      },
      "outputs": [],
      "source": [
        "x = 5\n",
        "y = x + 1\n",
        "print(y)"
      ]
    },
    {
      "cell_type": "code",
      "execution_count": null,
      "metadata": {
        "id": "b-ldX4RrDXXd"
      },
      "outputs": [],
      "source": [
        "x = x + 1\n",
        "print(x)"
      ]
    },
    {
      "cell_type": "markdown",
      "metadata": {
        "id": "JFgUJQuaDhTA"
      },
      "source": [
        "## Conditionals and Loops"
      ]
    },
    {
      "cell_type": "markdown",
      "metadata": {
        "id": "O2an9QopDmag"
      },
      "source": [
        "### Conditionals\n",
        "\n",
        "In Python, we use `if` statement to declare conditional statement. A boolean expression, which returns `True` or `False`, is used to determine if a code block will be run.\n",
        "\n",
        "Try running the following code cell, then changing the value of `x` to some number and run the code cell again.\n",
        "\n",
        "Note: In Python, line indention indicates a code block. Therefore, remember to indent the line correctly. If you do not indent a code block evenly, Python will throw an error."
      ]
    },
    {
      "cell_type": "code",
      "execution_count": null,
      "metadata": {
        "id": "O9wiOuNhDZ-B"
      },
      "outputs": [],
      "source": [
        "age = 20\n",
        "if age >= 18:\n",
        "    print('Eligible for driving')\n",
        "else:\n",
        "    print('Not eligible for driving')"
      ]
    },
    {
      "cell_type": "markdown",
      "metadata": {
        "id": "M9LDRTvZFmUN"
      },
      "source": [
        "You can use as many `elif` as you want to create multiple branches for your `if` statement."
      ]
    },
    {
      "cell_type": "code",
      "execution_count": null,
      "metadata": {
        "id": "N6jc7g62E7PM"
      },
      "outputs": [],
      "source": [
        "grade = 80\n",
        "\n",
        "if grade >= 90:\n",
        "    print(\"A+\")\n",
        "elif grade >= 85:\n",
        "    print(\"A\")\n",
        "elif grade >= 80:\n",
        "    print(\"B+\")\n",
        "else:\n",
        "    print(\"B\")"
      ]
    },
    {
      "cell_type": "markdown",
      "metadata": {
        "id": "gEAqZgb8EhRe"
      },
      "source": [
        "Boolean expressions can be combined with `and`, `or` and `not`."
      ]
    },
    {
      "cell_type": "code",
      "execution_count": null,
      "metadata": {
        "id": "mLkalEyaEAIi"
      },
      "outputs": [],
      "source": [
        "status = 'drunk'\n",
        "if age >= 18 and status != 'drunk':\n",
        "    print('Eligible for driving')"
      ]
    },
    {
      "cell_type": "markdown",
      "metadata": {
        "id": "B_aTWmyvGDES"
      },
      "source": [
        "### Loops\n",
        "\n",
        "Loop is a way to repeat code. There are two types of loops: `while` and `for` loops."
      ]
    },
    {
      "cell_type": "markdown",
      "metadata": {
        "id": "hDfH3tQlGWK1"
      },
      "source": [
        "A `while` loop will run as long as the condition boolean expression return `True`.\n",
        "\n",
        "Note: a `while` loop can run indefinitely. Try removing the `age += 1` line and run the code cell. To stop it from running, click the Stop button or Runtime -> Interrupt Execution."
      ]
    },
    {
      "cell_type": "code",
      "execution_count": null,
      "metadata": {
        "id": "QOvE-f-OF1bd"
      },
      "outputs": [],
      "source": [
        "age = 0\n",
        "while age <= 8:\n",
        "    print(age)\n",
        "    age += 1"
      ]
    },
    {
      "cell_type": "markdown",
      "metadata": {
        "id": "QdXNwBhdHAxf"
      },
      "source": [
        "A `for` loop will create a variable, assign a value to it and increment it until it reaches the stop value. "
      ]
    },
    {
      "cell_type": "code",
      "execution_count": null,
      "metadata": {
        "id": "TV7aYPe8GjzF"
      },
      "outputs": [],
      "source": [
        "for age in range(9):  # range(19) = [0, 1, 2, ..., 8]\n",
        "    print(age)"
      ]
    },
    {
      "cell_type": "code",
      "execution_count": null,
      "metadata": {
        "id": "27e_62FsHhE-"
      },
      "outputs": [],
      "source": [
        "for age in range(0, 9, 2):  # [0, 2, 4, 6, 8]\n",
        "    print(age)"
      ]
    },
    {
      "cell_type": "markdown",
      "metadata": {
        "id": "UofsTMwGHzff"
      },
      "source": [
        "In a loop, you can use `break` statement to exit a loop. `break` will exit only the most innerloop."
      ]
    },
    {
      "cell_type": "code",
      "execution_count": null,
      "metadata": {
        "id": "tLpLTC8LHsB1"
      },
      "outputs": [],
      "source": [
        "for age in range(9):\n",
        "    if age == 6:\n",
        "        break\n",
        "\n",
        "    print(age)"
      ]
    },
    {
      "cell_type": "markdown",
      "metadata": {
        "id": "5cqEyUZaIKEA"
      },
      "source": [
        "You can use `for` loop to iterate through a list/tuple/set."
      ]
    },
    {
      "cell_type": "code",
      "execution_count": null,
      "metadata": {
        "id": "eAqMZbXtH6eN"
      },
      "outputs": [],
      "source": [
        "for value in [\"Python\", \"is\", \"cool\"]:\n",
        "    print(value)"
      ]
    },
    {
      "cell_type": "markdown",
      "metadata": {
        "id": "kdr8DKGeIs9B"
      },
      "source": [
        "## Functions\n",
        "\n",
        "To avoid repeating lines of code, you can encapsulate them in a function and use it later."
      ]
    },
    {
      "cell_type": "code",
      "execution_count": null,
      "metadata": {
        "id": "6DYmrtGzIUyF"
      },
      "outputs": [],
      "source": [
        "def power(a, b):\n",
        "    # Calculate a^b\n",
        "    result = 1\n",
        "    for i in range(b):\n",
        "        result *= a\n",
        "    return result\n",
        "\n",
        "print(\"3^3 = \", power(3, 3))"
      ]
    },
    {
      "cell_type": "markdown",
      "metadata": {
        "id": "PjlAh47TJx6K"
      },
      "source": [
        "Default parameters: you can assign a default value to a parameter. If the function is called and no value is passed to this parameter, the default value will be assigned to it."
      ]
    },
    {
      "cell_type": "code",
      "execution_count": null,
      "metadata": {
        "id": "mjB2MCWKJoBS"
      },
      "outputs": [],
      "source": [
        "def say_hello(name=\"John\"):\n",
        "    print(\"Hello, my name is\", name)\n",
        "\n",
        "say_hello()"
      ]
    },
    {
      "cell_type": "markdown",
      "metadata": {
        "id": "ryea83RYKM1O"
      },
      "source": [
        "Named parameters: this will allow you to specify which argument will receive which value. It also allows you to mix the order of parameters when calling the function name."
      ]
    },
    {
      "cell_type": "code",
      "execution_count": null,
      "metadata": {
        "id": "hsEpcgfcKKYP"
      },
      "outputs": [],
      "source": [
        "def power(a, b=1):\n",
        "    # Calculate a^b\n",
        "    result = 1\n",
        "    for i in range(b):\n",
        "        result *= a\n",
        "    return result\n",
        "\n",
        "print(\"6^3 = \", power(b=3, a=6))"
      ]
    },
    {
      "cell_type": "markdown",
      "metadata": {
        "id": "GGMZk5kwK3b5"
      },
      "source": [
        "## Importing\n",
        "\n",
        "In order to reuse a function/class from a different place, you will need to import it from another module. There are two ways to do it."
      ]
    },
    {
      "cell_type": "markdown",
      "metadata": {
        "id": "mRlYeO7tLDgh"
      },
      "source": [
        "The first one is to import the whole module. This will allow you to use all the functions and classes of that module."
      ]
    },
    {
      "cell_type": "code",
      "execution_count": null,
      "metadata": {
        "id": "LmLX1e_zKv7Q"
      },
      "outputs": [],
      "source": [
        "import math\n",
        "\n",
        "print(math.sqrt(6))\n",
        "print(math.ceil(6.3))"
      ]
    },
    {
      "cell_type": "markdown",
      "metadata": {
        "id": "EPOBG-YBLTT2"
      },
      "source": [
        "The second one is to use `from <module_name> import <function>` to import a specific function. This will allow you to use only that function."
      ]
    },
    {
      "cell_type": "code",
      "execution_count": null,
      "metadata": {
        "id": "Q50qck8KLSTO"
      },
      "outputs": [],
      "source": [
        "from os import listdir\n",
        "\n",
        "print(listdir('.'))  # list all files in current working directory"
      ]
    },
    {
      "cell_type": "markdown",
      "metadata": {
        "id": "Xap8jrxdMJnt"
      },
      "source": [
        "This will return an error. The reason is that we only imported `listdir` from `os` module but not the whole `os` module."
      ]
    },
    {
      "cell_type": "code",
      "execution_count": null,
      "metadata": {
        "id": "6-gW0oo1LodD"
      },
      "outputs": [],
      "source": [
        "print(os.getcwd())"
      ]
    },
    {
      "cell_type": "markdown",
      "metadata": {
        "id": "IZ8k0gPYUWZ2"
      },
      "source": [
        "# Class\n",
        "\n",
        "Class is an important concept in Object Oriented Programming. It is used to define a blueprint for objects, including attributes and methods (or functions of object)."
      ]
    },
    {
      "cell_type": "code",
      "execution_count": null,
      "metadata": {
        "id": "jNuTdhKoUYQW"
      },
      "outputs": [],
      "source": [
        "class Person:\n",
        "    time_accessed = 0\n",
        "\n",
        "    def __init__(self, first, last):\n",
        "        self.firstname = first\n",
        "        self.lastname = last\n",
        "    \n",
        "    def get_time_accessed(self):\n",
        "        return self.time_accessed\n",
        "    \n",
        "    def describe(self):\n",
        "        self.time_accessed += 1\n",
        "        return self.firstname + \" \" + self.lastname\n",
        "\n",
        "a = Person(\"John\", \"Doe\")\n",
        "print(a.describe())\n",
        "print(a.describe())\n",
        "print(a.get_time_accessed())"
      ]
    },
    {
      "cell_type": "markdown",
      "metadata": {
        "id": "pD5fmqztVQZI"
      },
      "source": [
        "A class can also inherit another class as its base."
      ]
    },
    {
      "cell_type": "code",
      "execution_count": null,
      "metadata": {
        "id": "cJHnkYAIVIGI"
      },
      "outputs": [],
      "source": [
        "class Employee(Person):\n",
        "    def __init__(self, firstname, lastname, salary):\n",
        "        Person.__init__(self, firstname, lastname)\n",
        "        self.salary = salary\n",
        "    \n",
        "    def get_salary(self):\n",
        "        self.time_accessed += 1\n",
        "        return self.salary\n",
        "\n",
        "b = Employee(\"Jason\", \"Mack\", 1500)\n",
        "print(b.get_salary())\n",
        "print(b.describe())\n",
        "print(b.get_salary())\n",
        "print(b.get_time_accessed())"
      ]
    },
    {
      "cell_type": "markdown",
      "metadata": {
        "id": "tSVVQLI3XJqW"
      },
      "source": [
        "# Resources\n",
        "\n",
        "The above only covers some of the basics in Python. For more tutorials, I suggest checking [this official tutorial](https://docs.python.org/3.10/tutorial/index.html) and [Python documentation](https://docs.python.org/3.10/)."
      ]
    }
  ],
  "metadata": {
    "colab": {
      "collapsed_sections": [],
      "provenance": []
    },
    "kernelspec": {
      "display_name": "Python 3.9.12 ('base')",
      "language": "python",
      "name": "python3"
    },
    "language_info": {
      "name": "python",
      "version": "3.9.12"
    },
    "vscode": {
      "interpreter": {
        "hash": "a7a76e3493cd1b0fbd2ab0f836f3a03cc927105fb88a452c4356420be379e2b5"
      }
    }
  },
  "nbformat": 4,
  "nbformat_minor": 0
}
