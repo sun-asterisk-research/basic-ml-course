{
  "nbformat": 4,
  "nbformat_minor": 0,
  "metadata": {
    "colab": {
      "provenance": [],
      "collapsed_sections": [],
      "authorship_tag": "ABX9TyPudCvsHU5YIzEaVNQhVd/R",
      "include_colab_link": true
    },
    "kernelspec": {
      "name": "python3",
      "display_name": "Python 3"
    },
    "language_info": {
      "name": "python"
    }
  },
  "cells": [
    {
      "cell_type": "markdown",
      "metadata": {
        "id": "view-in-github",
        "colab_type": "text"
      },
      "source": [
        "<a href=\"https://colab.research.google.com/github/dancankimutai/basic-ml-course/blob/master/01_Python/Solution.ipynb\" target=\"_parent\"><img src=\"https://colab.research.google.com/assets/colab-badge.svg\" alt=\"Open In Colab\"/></a>"
      ]
    },
    {
      "cell_type": "code",
      "execution_count": null,
      "metadata": {
        "id": "V2F1MZ6SCRBT"
      },
      "outputs": [],
      "source": [
        "# Assignment 1\n",
        "def is_triangle(a,b,c):\n",
        "  if a == b:\n",
        "    return \"True\"\n",
        "  else:\n",
        "   return \"False\"\n",
        "\n",
        "print(is_triangle(1,2,3))\n",
        "print(is_triangle(2,2,3))\n"
      ]
    },
    {
      "cell_type": "code",
      "source": [
        "# Assignment 2\n",
        "for i in range(1,11):\n",
        "  if i%2 !=0:\n",
        "    print(i)\n"
      ],
      "metadata": {
        "id": "7tpHZtLChsO7"
      },
      "execution_count": null,
      "outputs": []
    },
    {
      "cell_type": "code",
      "source": [
        "# Assignment 3\n",
        "def get_reverse(text):\n",
        "  reversed=text[::-1]\n",
        "  return reversed\n",
        "get_reverse('kenya')\n"
      ],
      "metadata": {
        "id": "fxWIUwsth6tW"
      },
      "execution_count": null,
      "outputs": []
    },
    {
      "cell_type": "code",
      "source": [
        "# Assignment 4\n",
        "set1 = {10, 20, 30, 40, 50}\n",
        "set2 = {30, 40, 50, 60, 70}\n",
        "def is_or():\n",
        "  set3=set1^set2\n",
        "  return set3\n",
        "is_or()\n"
      ],
      "metadata": {
        "id": "05-QepU2h91M"
      },
      "execution_count": null,
      "outputs": []
    },
    {
      "cell_type": "code",
      "source": [
        "# Assignment 5\n",
        "\n",
        "def remove_from_list(b, value):\n",
        " b = [x for x in b if x!=value]\n",
        " return b\n",
        "\n",
        "a = [10, 20, 10, 30, 40, 50, 10, 0]\n",
        "remove_from_list(a, 10)\n"
      ],
      "metadata": {
        "id": "EBDgShHriA20"
      },
      "execution_count": null,
      "outputs": []
    },
    {
      "cell_type": "code",
      "source": [
        "# Assignment 6\n",
        "class Student:\n",
        "    def __init__(self,name,score):\n",
        "        self.name=name\n",
        "        self.score=score\n",
        "    def get_score(self):\n",
        "        return self.score\n",
        "    def describe(self):\n",
        "      print (self.name,\":\",self.score)\n",
        "student = Student(\"John\", 85)\n",
        "print(student.get_score()) \n",
        "student.describe()"
      ],
      "metadata": {
        "id": "LzcIot5XiDIZ"
      },
      "execution_count": null,
      "outputs": []
    },
    {
      "cell_type": "code",
      "source": [
        "# Assignment 7\n",
        "class Person:\n",
        "    def __init__(self, name):\n",
        "        self.name = name\n",
        "\n",
        "    def speak(self):\n",
        "        return \"Person \" + self.name + \" spoke something.\"\n",
        "\n",
        "class Employee(Person):\n",
        "    def init(self, name):\n",
        "        Person.__init__(self,name)\n",
        "    def speak(self, word):\n",
        "        self.word=word\n",
        "        return \"Employee \" +self.name + \" spoke \" +self.word\n",
        "\n",
        "employee = Employee(\"David\")\n",
        "print(employee.speak(\"hello\")) \n"
      ],
      "metadata": {
        "id": "d7p0UUfoiITR"
      },
      "execution_count": null,
      "outputs": []
    },
    {
      "cell_type": "code",
      "source": [
        "# Assignment 8\n",
        "country_capital = {\n",
        "    \"japan\": \"tokyo\",\n",
        "    \"vietnam\": \"hanoi\",\n",
        "    \"france\": \"paris\"\n",
        "}\n",
        "\n",
        "for i in country_capital:\n",
        "  print(i +\" - \"+ country_capital[i])\n",
        "\n"
      ],
      "metadata": {
        "colab": {
          "base_uri": "https://localhost:8080/"
        },
        "id": "4zzZF148iMwe",
        "outputId": "a4fe6933-d1d9-4ecb-b624-7ac1691784c4"
      },
      "execution_count": 8,
      "outputs": [
        {
          "output_type": "stream",
          "name": "stdout",
          "text": [
            "japan - tokyo\n",
            "vietnam - hanoi\n",
            "france - paris\n"
          ]
        }
      ]
    },
    {
      "cell_type": "code",
      "source": [
        "# Assignment 9\n",
        "import cmath\n",
        "def solve_equation(a, b, c):\n",
        "  d = (b**2) - (4*a*c)\n",
        "  if a==0:\n",
        "   print(\"No solution\")\n",
        "  else:\n",
        "   s1 = (-b-cmath.sqrt(d))/(2*a)\n",
        "   s2 = (-b+cmath.sqrt(d))/(2*a)\n",
        "   if s1 == True:\n",
        "     print(\"Equation has two solutions {0} and {1}\".format(s1,s2))\n",
        "    #  else:\n",
        "    #    print(\"Equation has one solution {0}\".format(s1))\n",
        "a=float(input(\"Enter value of a: \"))\n",
        "b=float(input(\"Enter value of b: \"))\n",
        "c=float(input(\"Enter value of c: \"))\n",
        "solve_equation(a,b,c)"
      ],
      "metadata": {
        "id": "lUvDlcKoiP3C"
      },
      "execution_count": null,
      "outputs": []
    }
  ]
}