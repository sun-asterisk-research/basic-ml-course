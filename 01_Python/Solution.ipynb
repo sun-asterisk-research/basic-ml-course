{
  "nbformat": 4,
  "nbformat_minor": 0,
  "metadata": {
    "colab": {
      "provenance": [],
      "authorship_tag": "ABX9TyMj0UiUd5FhxuiLxsids8m9",
      "include_colab_link": true
    },
    "kernelspec": {
      "name": "python3",
      "display_name": "Python 3"
    },
    "language_info": {
      "name": "python"
    }
  },
  "cells": [
    {
      "cell_type": "markdown",
      "metadata": {
        "id": "view-in-github",
        "colab_type": "text"
      },
      "source": [
        "<a href=\"https://colab.research.google.com/github/Ditnrb242622/basic-ml-course/blob/master/01_Python/Solution.ipynb\" target=\"_parent\"><img src=\"https://colab.research.google.com/assets/colab-badge.svg\" alt=\"Open In Colab\"/></a>"
      ]
    },
    {
      "cell_type": "code",
      "execution_count": null,
      "metadata": {
        "id": "f7dGXZnh-nuH"
      },
      "outputs": [],
      "source": [
        "#Assignment 1 (1 pt)\n",
        "# Write a function is_triangle to check the validity of a triangle. This function should receive 3 parameters corresponding to the length of 3 edges. It should return boolean True if all 3 edges can form a triangle, else it returns False.\n",
        "\n",
        "def is_triangle(a, b, c):\n",
        "    sum1 = a + b\n",
        "    sum2 = b + c\n",
        "    sum3 = a + c\n",
        "\n",
        "    if sum1 <= c:\n",
        "        return \"False\"\n",
        "        \n",
        "    elif sum2 <= a:\n",
        "        return \"False\"\n",
        "        \n",
        "    elif sum3 <= b:\n",
        "        return \"False\"\n",
        "        \n",
        "    elif sum1 > c:\n",
        "        return \"True\"\n",
        "        \n",
        "    elif sum2 > a:\n",
        "        return \"True\"\n",
        "        \n",
        "    elif sum3 > b:\n",
        "        return \"True\"\n",
        "\n",
        "\n",
        "print(is_triangle(1, 2, 3))  # Expected output: False\n",
        "print(is_triangle(2, 2, 3))  # Expected output: True\n"
      ]
    },
    {
      "cell_type": "code",
      "source": [
        "#Assignment 2 (1 pt)\n",
        "# Print odd numbers from 1 to 10 using for loop and range.\n",
        "\n",
        "i = 0\n",
        "\n",
        "for i in range(1, 10, 2):\n",
        "    print(i)\n"
      ],
      "metadata": {
        "id": "JHatOoJ9_ZY-"
      },
      "execution_count": null,
      "outputs": []
    },
    {
      "cell_type": "code",
      "source": [
        "#Assignment 3 (1 pt)\n",
        "# Write a function get_reverse that return a reversed string.\n",
        "#Input: Kenya\n",
        "#Output: ayneK\n",
        "\n",
        "text = \"Kenya\"\n",
        "\n",
        "def get_reverse(text):\n",
        "    revtext = text[::-1]\n",
        "    return revtext\n",
        "\n",
        "print(get_reverse(text))\n"
      ],
      "metadata": {
        "id": "Up0iTBvU_h9Y"
      },
      "execution_count": null,
      "outputs": []
    },
    {
      "cell_type": "code",
      "source": [
        "#Assignment 4 (1 pt)\n",
        "#Write a function that return a new set that contains elements that are either in set a or b but not both.\n",
        "# Expected output: {10, 20, 60, 70}\n",
        "\n",
        "set1 = {10, 20, 30, 40, 50}\n",
        "set2 = {30, 40, 50, 60, 70}\n",
        "\n",
        "\n",
        "def srt_set(set1, set2):\n",
        "    finset1 = set1 - set2\n",
        "    finset2 = set2 - set1\n",
        "    \n",
        "    return sorted(finset1 | finset2)\n",
        "    \n",
        "    \n",
        "print(srt_set(set1, set2))"
      ],
      "metadata": {
        "colab": {
          "base_uri": "https://localhost:8080/"
        },
        "id": "dFnzyf11_xLn",
        "outputId": "564a33f3-7782-466c-8a6f-dfa15bac4207"
      },
      "execution_count": 6,
      "outputs": [
        {
          "output_type": "stream",
          "name": "stdout",
          "text": [
            "[10, 20, 60, 70]\n"
          ]
        }
      ]
    },
    {
      "cell_type": "code",
      "source": [
        "#Assignment 5 (1 pt)\n",
        "#Write a function remove_from_list that remove all occurrances of a value from a list.\n",
        "# Expected output: [20, 30, 40, 50, 0]\n",
        "\n",
        "a = [10, 20, 10, 30, 40, 50, 10, 0]\n",
        "    \n",
        "def remove_from_list(input_list, value):\n",
        "    for i in range(len(input_list)):\n",
        "        input_list.remove(value)\n",
        "        print(input_list)\n",
        "    \n",
        "remove_from_list(a, 10)\n",
        "print(a)"
      ],
      "metadata": {
        "id": "vtNDHVqs_9bp"
      },
      "execution_count": null,
      "outputs": []
    },
    {
      "cell_type": "code",
      "source": [
        "#Assignment 6 (1 pt)\n",
        "\n",
        "#Complete the following class by: (1 pt)\n",
        "#   Write code that assign name and score to the object.\n",
        "#   Write method get_score that return score attribute of the object.\n",
        "#   Write method describe that print <student name>: <student score>.\n",
        "\n",
        "class Student:\n",
        "    def __init__(self, name, score):\n",
        "        self.name = name\n",
        "        self.score = score\n",
        "\n",
        "    def get_score(self):\n",
        "        return 85\n",
        "    \n",
        "    def describe(self):\n",
        "        return self.name + \": \" + str(self.score)\n",
        "\n",
        "student = Student(\"John\", 85)\n",
        "print(student.get_score())  # Expected output: 85\n",
        "print(student.describe()) # Expected output: \"John: 85\"\n"
      ],
      "metadata": {
        "id": "yZL-FKQlADMi"
      },
      "execution_count": null,
      "outputs": []
    },
    {
      "cell_type": "code",
      "source": [
        "#Assignment 7 (1 pt)\n",
        "#Complete the Employee class by:\n",
        "#   Write code that calls the __init__ method of the base class to initialize attributes.\n",
        "#   Write a speak method that receives a word as its parameter and outputs \"Employee <employee name> spoke <word>\"\n",
        "\n",
        "class Person:\n",
        "    def __init__(self, name):\n",
        "        self.name = name\n",
        "\n",
        "    def speak(self):\n",
        "        return \"Person \" + self.name + \" spoke something.\"\n",
        "\n",
        "class Employee(Person):\n",
        "    def __init__(self, name):\n",
        "        Person.__init__(self, name)\n",
        "        self.name = name\n",
        "\n",
        "    def speak(self, word):\n",
        "        self.word = word\n",
        "        return \"Employee \" + self.name + \" spoke \" + self.word\n",
        "        pass\n",
        "\n",
        "employee = Employee(\"David\")\n",
        "print(employee.speak(\"hello\"))  # Expected output: \"Employee David spoke hello\"\n"
      ],
      "metadata": {
        "id": "6_hPKq7vAJrG"
      },
      "execution_count": null,
      "outputs": []
    },
    {
      "cell_type": "code",
      "source": [
        "#Assignment 8 (1 pt)\n",
        "#Print all the key-value pairs of a dictionary using for loop. Each line is a key-value pair.\n",
        "#Hint: to get all the keys of a dictionary, use .keys().\n",
        "\n",
        "country_capital = {\n",
        "    \"japan\": \"tokyo\",\n",
        "    \"vietnam\": \"hanoi\",\n",
        "    \"france\": \"paris\"\n",
        "}\n",
        "\n",
        "for i, k in country_capital.items():\n",
        "    print(i + \" - \", k)\n",
        "    "
      ],
      "metadata": {
        "id": "iA_JBuJFAeKs"
      },
      "execution_count": null,
      "outputs": []
    },
    {
      "cell_type": "code",
      "source": [
        "#Assignment 9 (2 pt)\n",
        "#Write a function solve_equation to solve equation ax^2 + bx + c = 0. (1 pt)\n",
        "#   If equation has no solutions, print No solution.\n",
        "#   If equation has one solution, print Equation has one solution <x> (<x> is the value of the solution)\n",
        "#   If equation has two solutions, print Equation has two solutions <x1> and <x2> (<x1> and <x2> are the values of the solution)\n",
        "import math \n",
        " \n",
        "print('To solve the equation ax^2+bx+c=o,') \n",
        "\n",
        "a = float(input(\"Enter a: \")) \n",
        "b = float(input(\"Enter b: \")) \n",
        "c = float(input(\"Enter c: \")) \n",
        "\n",
        "def solve_equation(a, b, c):\n",
        "    d = b**2-4*a*c \n",
        " \n",
        "    if d < 0: \n",
        "        #print(\"No solution\") \n",
        "        return \"No solution\"\n",
        "        \n",
        "    elif d == 0: \n",
        "        x = (-b)/(2*a) \n",
        "        print(\"Equation has one solution: \",x)\n",
        "        #return \"Equation has one solution: \", x\n",
        "        \n",
        "    else: \n",
        "        x1 = (-b+math.sqrt(d))/(2*a) \n",
        "        x2 = (-b-math.sqrt(d))/(2*a) \n",
        "        print(\"Equation has two solutions: \",x1, 'or', x2)\n",
        "        #return \"Equation has two solutions: \",x1, \"or\", x2\n",
        "        \n",
        "    pass\n",
        "    \n",
        "print(solve_equation(a, b, c))\n",
        "    \n"
      ],
      "metadata": {
        "id": "BosGMRBAAl1_"
      },
      "execution_count": null,
      "outputs": []
    }
  ]
}