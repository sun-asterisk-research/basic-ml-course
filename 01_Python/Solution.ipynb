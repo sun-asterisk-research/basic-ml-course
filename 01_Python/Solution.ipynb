{
  "nbformat": 4,
  "nbformat_minor": 0,
  "metadata": {
    "colab": {
      "provenance": [],
      "collapsed_sections": [],
      "toc_visible": true,
      "include_colab_link": true
    },
    "kernelspec": {
      "name": "python3",
      "display_name": "Python 3"
    },
    "language_info": {
      "name": "python"
    }
  },
  "cells": [
    {
      "cell_type": "markdown",
      "metadata": {
        "id": "view-in-github",
        "colab_type": "text"
      },
      "source": [
        "<a href=\"https://colab.research.google.com/github/TolleDennis/basic-ml-course/blob/master/01_Python/Solution.ipynb\" target=\"_parent\"><img src=\"https://colab.research.google.com/assets/colab-badge.svg\" alt=\"Open In Colab\"/></a>"
      ]
    },
    {
      "cell_type": "markdown",
      "source": [
        "## Assignment 1 (1 pt)\n",
        "\n",
        "Write a function `is_triangle` to check the validity of a triangle. This function should receive 3 parameters corresponding to the length of 3 edges. It should return boolean `True` if all 3 edges can form a triangle, else it returns `False`.\n"
      ],
      "metadata": {
        "id": "8M6lqDCwQPV8"
      }
    },
    {
      "cell_type": "code",
      "source": [
        "def is_triangle(a,b,c):\n",
        "    if (a + b <= c) or (a + c <= b) or (b + c <= a):\n",
        "        return False\n",
        "    else :\n",
        "        return True"
      ],
      "metadata": {
        "id": "geOWtI40QQ1Y"
      },
      "execution_count": 53,
      "outputs": []
    },
    {
      "cell_type": "code",
      "source": [
        "is_triangle(1,2,3)"
      ],
      "metadata": {
        "colab": {
          "base_uri": "https://localhost:8080/"
        },
        "id": "d21RN9yYQV1i",
        "outputId": "69bd137e-290e-42d6-dff5-040d63fdb1ec"
      },
      "execution_count": 54,
      "outputs": [
        {
          "output_type": "execute_result",
          "data": {
            "text/plain": [
              "False"
            ]
          },
          "metadata": {},
          "execution_count": 54
        }
      ]
    },
    {
      "cell_type": "code",
      "source": [
        "is_triangle(2,2,3)"
      ],
      "metadata": {
        "colab": {
          "base_uri": "https://localhost:8080/"
        },
        "id": "6T64nzlh_UXT",
        "outputId": "4cc91e12-1fbc-432b-e7b2-8f10521e969b"
      },
      "execution_count": 55,
      "outputs": [
        {
          "output_type": "execute_result",
          "data": {
            "text/plain": [
              "True"
            ]
          },
          "metadata": {},
          "execution_count": 55
        }
      ]
    },
    {
      "cell_type": "markdown",
      "source": [
        "## Assignment 2 (1 pt)\n",
        "\n",
        "Print odd numbers from 1 to 10 using `for` loop and `range`.\n"
      ],
      "metadata": {
        "id": "mVI2C8AZQsRT"
      }
    },
    {
      "cell_type": "code",
      "source": [
        "for i in range(1,10):\n",
        "    if i%2==1:\n",
        "        print(i)"
      ],
      "metadata": {
        "colab": {
          "base_uri": "https://localhost:8080/"
        },
        "id": "vcxWP64EQtct",
        "outputId": "a481b3e3-7968-402c-b34a-0f69bd8a84e8"
      },
      "execution_count": 56,
      "outputs": [
        {
          "output_type": "stream",
          "name": "stdout",
          "text": [
            "1\n",
            "3\n",
            "5\n",
            "7\n",
            "9\n"
          ]
        }
      ]
    },
    {
      "cell_type": "markdown",
      "source": [
        "## Assignment 3 (1 pt)\n",
        "\n",
        "Write a function `get_reverse` that return a reversed string.\n"
      ],
      "metadata": {
        "id": "0P6P1jRhQzu-"
      }
    },
    {
      "cell_type": "code",
      "source": [
        "def reverse(s):\n",
        "    return s[::-1]\n",
        "  \n",
        "s = \"Kenya\"\n",
        "print(reverse(s))"
      ],
      "metadata": {
        "colab": {
          "base_uri": "https://localhost:8080/"
        },
        "id": "U4H8BbZ7Q5gb",
        "outputId": "4c373ceb-a317-4cfa-c3d1-0154a5c0c786"
      },
      "execution_count": 57,
      "outputs": [
        {
          "output_type": "stream",
          "name": "stdout",
          "text": [
            "ayneK\n"
          ]
        }
      ]
    },
    {
      "cell_type": "markdown",
      "source": [
        "## Assignment 4 (1 pt)\n",
        "\n",
        "Write a function that return a new set that contains elements that are either in set `a` or `b` but not both."
      ],
      "metadata": {
        "id": "X2tZtYRXRQHc"
      }
    },
    {
      "cell_type": "code",
      "source": [
        "set1 = {10, 20, 30, 40, 50}\n",
        "set2 = {30, 40, 50, 60, 70}\n",
        "\n",
        "def set_difference(a,b):\n",
        "    return set1.symmetric_difference(set2)\n",
        "set_difference(set1,set2)"
      ],
      "metadata": {
        "colab": {
          "base_uri": "https://localhost:8080/"
        },
        "id": "S5pQvyv1Rad4",
        "outputId": "6951b406-42bd-4d3c-afb7-de4ac4b9613c"
      },
      "execution_count": 58,
      "outputs": [
        {
          "output_type": "execute_result",
          "data": {
            "text/plain": [
              "{10, 20, 60, 70}"
            ]
          },
          "metadata": {},
          "execution_count": 58
        }
      ]
    },
    {
      "cell_type": "markdown",
      "source": [
        "## Assignment 5 (1 pt)\n",
        "\n",
        "Write a function `remove_from_list` that remove all occurrances of a value from a list.\n"
      ],
      "metadata": {
        "id": "mBUPP07aRjH7"
      }
    },
    {
      "cell_type": "code",
      "source": [
        "def remove_from_list(input_list, value):\n",
        "    new = [i for i in input_list if i != value]\n",
        "    return new\n",
        "\n",
        "a = [10, 20, 10, 30, 40, 50, 10, 0]\n",
        "remove_from_list(a, 10)\n"
      ],
      "metadata": {
        "colab": {
          "base_uri": "https://localhost:8080/"
        },
        "id": "LbLTMnjLRfeX",
        "outputId": "aba6be4a-bb87-4a9f-e638-89587b9befbc"
      },
      "execution_count": 59,
      "outputs": [
        {
          "output_type": "execute_result",
          "data": {
            "text/plain": [
              "[20, 30, 40, 50, 0]"
            ]
          },
          "metadata": {},
          "execution_count": 59
        }
      ]
    },
    {
      "cell_type": "markdown",
      "source": [
        "## Assignment 6 (1 pt)\n",
        "\n",
        "Complete the following class by: (1 pt)\n",
        "\n",
        "* Write code that assign `name` and `score` to the object.\n",
        "* Write method `get_score` that return `score` attribute of the object.\n",
        "* Write method `describe` that print `<student name>: <student score>`.\n",
        "\n"
      ],
      "metadata": {
        "id": "cZQsmRY3SCNo"
      }
    },
    {
      "cell_type": "code",
      "source": [
        "class Student:\n",
        "    def __init__(self, name, score):\n",
        "        self.name = name\n",
        "        self.score = score\n",
        "\n",
        "    def get_score(self):\n",
        "        return \"{}\".format(self.score)\n",
        "    \n",
        "    def describe(self):\n",
        "      print(\"{} {}\".format(self.name,self.score))\n",
        "       \n",
        "student = Student(\"John\", 85)\n",
        "print(student.get_score())  # Expected output: 85\n",
        "student.describe()  # Expected output: \"John: 85\"\n"
      ],
      "metadata": {
        "colab": {
          "base_uri": "https://localhost:8080/"
        },
        "id": "LeiKAp5uRq-H",
        "outputId": "0d7204b9-4971-4e52-822a-564b6228625e"
      },
      "execution_count": 60,
      "outputs": [
        {
          "output_type": "stream",
          "name": "stdout",
          "text": [
            "85\n",
            "John 85\n"
          ]
        }
      ]
    },
    {
      "cell_type": "markdown",
      "source": [
        "## Assignment 7 (1 pt)\n",
        "Complete the `Employee` class by:\n",
        "\n",
        "* Write code that calls the `__init__` method of the base class to initialize attributes.\n",
        "* Write a `speak` method that receives a word as its parameter and outputs `\"Employee <employee name> spoke <word>\"`"
      ],
      "metadata": {
        "id": "upMRyWmJSY3f"
      }
    },
    {
      "cell_type": "code",
      "source": [
        "\n",
        "class Person:\n",
        "    def __init__(self, name):\n",
        "        self.name = name\n",
        "\n",
        "    def speak(self,word):\n",
        "        return \"Person \" + self.name + \" spoke something.\"\n",
        "\n",
        "class Employee(Person):\n",
        "  \n",
        "    def __init__(self,name):\n",
        "      Person.__init__(self,name)\n",
        "      self.name = name\n",
        "\n",
        "    def speak(self, word):\n",
        "      self.word = word\n",
        "      return(\"Employee \" + self.name + \" spoke \" + self.word)\n",
        "\n",
        "employee = Employee(\"David\")\n",
        "print(employee.speak(\"hello\"))  # Expected output: \"Employee David spoke hello\"\n"
      ],
      "metadata": {
        "colab": {
          "base_uri": "https://localhost:8080/"
        },
        "id": "rnGSB9ReSZws",
        "outputId": "d7ca9147-6f05-4986-d308-b4aa13af9a6d"
      },
      "execution_count": 61,
      "outputs": [
        {
          "output_type": "stream",
          "name": "stdout",
          "text": [
            "Employee David spoke hello\n"
          ]
        }
      ]
    },
    {
      "cell_type": "markdown",
      "source": [
        "## Assignment 8 (1 pt)\n",
        "\n",
        "Print all the key-value pairs of a dictionary using `for` loop. Each line is a key-value pair.\n",
        "\n",
        "Hint: to get all the keys of a dictionary, use `.keys()`.\n"
      ],
      "metadata": {
        "id": "Ppp_S3ZDS4To"
      }
    },
    {
      "cell_type": "code",
      "source": [
        "country_capital = {\n",
        "    \"japan\": \"tokyo\",\n",
        "    \"vietnam\": \"hanoi\",\n",
        "    \"france\": \"paris\"\n",
        "}\n",
        "\n",
        "for country, capital in country_capital.items():\n",
        "    print(country, \"-\", capital)"
      ],
      "metadata": {
        "colab": {
          "base_uri": "https://localhost:8080/"
        },
        "id": "taLaizHyS42G",
        "outputId": "5a5b3586-622a-4545-a306-ab3f3754a942"
      },
      "execution_count": 62,
      "outputs": [
        {
          "output_type": "stream",
          "name": "stdout",
          "text": [
            "japan - tokyo\n",
            "vietnam - hanoi\n",
            "france - paris\n"
          ]
        }
      ]
    },
    {
      "cell_type": "markdown",
      "source": [
        "## Assignment 9 (2 pt)\n",
        "\n",
        "Write a function `solve_equation` to solve equation ax^2 + bx + c = 0. (1 pt)\n",
        "\n",
        "* If equation has no solutions, print `No solution`.\n",
        "* If equation has one solution, print `Equation has one solution <x>` (`<x>` is the value of the solution)\n",
        "* If equation has two solutions, print `Equation has two solutions <x1> and <x2>` (`<x1>` and `<x2>` are the values of the solution)\n"
      ],
      "metadata": {
        "id": "1oV8FlIZTBCh"
      }
    },
    {
      "cell_type": "code",
      "source": [
        "import math\n",
        "def solve_equation(a, b, c):\n",
        "    discriminant =(b * b) - (4 * a * c)   \n",
        "   \n",
        "    if discriminant < 0: \n",
        "      print(\"No solution\")\n",
        "    \n",
        "    elif discriminant == 0: \n",
        "      x1 = round((-b / 2 * a),4)\n",
        "      print(f\"Equation has one solution {x1}\")\n",
        "    \n",
        "    else:\n",
        "      x1 = round(((-b - math.sqrt(discriminant))/ 2 * a),4)\n",
        "      x2 = round(((-b + math.sqrt(discriminant))/ 2 * a),4)\n",
        "      print(f\"Equation has two solutions {x1} and {x2}\")  \n",
        "     \n",
        "   "
      ],
      "metadata": {
        "id": "H1V8TbzaTCN2"
      },
      "execution_count": 74,
      "outputs": []
    },
    {
      "cell_type": "code",
      "source": [
        "solve_equation(2,3,4)"
      ],
      "metadata": {
        "colab": {
          "base_uri": "https://localhost:8080/"
        },
        "id": "g-qKWKrfTGoP",
        "outputId": "2014f393-3e82-491e-a464-e79efdfc9b28"
      },
      "execution_count": 75,
      "outputs": [
        {
          "output_type": "stream",
          "name": "stdout",
          "text": [
            "No solution\n"
          ]
        }
      ]
    },
    {
      "cell_type": "code",
      "source": [
        "solve_equation(1,2,1)"
      ],
      "metadata": {
        "colab": {
          "base_uri": "https://localhost:8080/"
        },
        "id": "1eXjbJ_DAOxH",
        "outputId": "b50243bb-8161-4a64-d2e9-c80545d8bce1"
      },
      "execution_count": 81,
      "outputs": [
        {
          "output_type": "stream",
          "name": "stdout",
          "text": [
            "Equation has one solution -1.0\n"
          ]
        }
      ]
    },
    {
      "cell_type": "code",
      "source": [
        "solve_equation(-2,3,4)"
      ],
      "metadata": {
        "colab": {
          "base_uri": "https://localhost:8080/"
        },
        "id": "dLFLS1PiU5fm",
        "outputId": "01422bb2-bb0a-45d0-fe64-031c28eab388"
      },
      "execution_count": 82,
      "outputs": [
        {
          "output_type": "stream",
          "name": "stdout",
          "text": [
            "Equation has two solutions 9.4031 and -3.4031\n"
          ]
        }
      ]
    },
    {
      "cell_type": "code",
      "source": [],
      "metadata": {
        "id": "r941hfr-WU3C"
      },
      "execution_count": 66,
      "outputs": []
    }
  ]
}