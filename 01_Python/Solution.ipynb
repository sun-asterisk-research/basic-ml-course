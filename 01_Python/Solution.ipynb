{
  "nbformat": 4,
  "nbformat_minor": 0,
  "metadata": {
    "colab": {
      "provenance": [],
      "collapsed_sections": [],
      "authorship_tag": "ABX9TyNn8qno55Rx2hd0x6j07+AR",
      "include_colab_link": true
    },
    "kernelspec": {
      "name": "python3",
      "display_name": "Python 3"
    },
    "language_info": {
      "name": "python"
    }
  },
  "cells": [
    {
      "cell_type": "markdown",
      "metadata": {
        "id": "view-in-github",
        "colab_type": "text"
      },
      "source": [
        "<a href=\"https://colab.research.google.com/github/akrobi/basic-ml-course/blob/master/01_Python/Solution.ipynb\" target=\"_parent\"><img src=\"https://colab.research.google.com/assets/colab-badge.svg\" alt=\"Open In Colab\"/></a>"
      ]
    },
    {
      "cell_type": "code",
      "execution_count": 11,
      "metadata": {
        "colab": {
          "base_uri": "https://localhost:8080/"
        },
        "id": "Dk0Q_EZDxjf0",
        "outputId": "e036ccc7-d93b-484c-cbac-5dd4ea9c055f"
      },
      "outputs": [
        {
          "output_type": "stream",
          "name": "stdout",
          "text": [
            "False\n",
            "True\n"
          ]
        }
      ],
      "source": [
        "# Assignment 1 (1 point)\n",
        "\n",
        "# Write a function is_triangle to check the validity of a triangle. \n",
        "# This function should receive 3 parameters corresponding to the length of 3 edges. \n",
        "# It should return boolean True if all 3 edges can form a triangle, else it returns False.\n",
        "\n",
        "def is_triangle(a, b, c):\n",
        "    if a + b > c:\n",
        "      return True\n",
        "    # elif a + c > b: \n",
        "    #   return True\n",
        "    # elif b + c > a:\n",
        "    #   return True\n",
        "    else:\n",
        "      return False\n",
        "\n",
        "print(is_triangle(1, 2, 3))  # Expected output: False\n",
        "print(is_triangle(2, 2, 3))  # Expected output: True"
      ]
    },
    {
      "cell_type": "code",
      "source": [
        "# Assignment 2 (1 point)\n",
        "\n",
        "# Print odd numbers from 1 to 10 using for loop and range.\n",
        "\n",
        "for num in range(10):\n",
        "  if num%2 == 1:\n",
        "    print(num)\n",
        "\n",
        "\n",
        "# Expected output:\n",
        "\n",
        "# 1\n",
        "# 3\n",
        "# 5\n",
        "# 7\n",
        "# 9"
      ],
      "metadata": {
        "colab": {
          "base_uri": "https://localhost:8080/"
        },
        "id": "lh2w5Ji_2clV",
        "outputId": "75d0094b-6cfa-4a75-cdbb-b5c69023f2b1"
      },
      "execution_count": 11,
      "outputs": [
        {
          "output_type": "stream",
          "name": "stdout",
          "text": [
            "1\n",
            "3\n",
            "5\n",
            "7\n",
            "9\n"
          ]
        }
      ]
    },
    {
      "cell_type": "code",
      "source": [
        "# Assignment 3 (1 point)\n",
        "\n",
        "# Write a function get_reverse that return a reversed string.\n",
        "\n",
        "def get_reverse(text):\n",
        "  return text[::-1]\n",
        "\n",
        "get_reverse(\"Kenya\")\n",
        "\n",
        "# Input: Kenya\n",
        "# Output: ayneK\n",
        "\n"
      ],
      "metadata": {
        "colab": {
          "base_uri": "https://localhost:8080/",
          "height": 35
        },
        "id": "JH1m_sDb2c98",
        "outputId": "3dd4cb84-0546-44da-bd71-290a96af89eb"
      },
      "execution_count": 12,
      "outputs": [
        {
          "output_type": "execute_result",
          "data": {
            "text/plain": [
              "'ayneK'"
            ],
            "application/vnd.google.colaboratory.intrinsic+json": {
              "type": "string"
            }
          },
          "metadata": {},
          "execution_count": 12
        }
      ]
    },
    {
      "cell_type": "code",
      "source": [
        "# Assignment 4 (1 point)\n",
        "\n",
        "# Write a function that returns a new set that contains elements that are either in set a or b but not both.\n",
        "\n",
        "set1 = {10, 20, 30, 40, 50}\n",
        "set2 = {30, 40, 50, 60, 70}\n",
        "\n",
        "def either_a_or_b(seta, setb):\n",
        "  return (seta | setb) - (seta & setb)\n",
        "\n",
        "either_a_or_b(set1, set2)\n",
        "\n",
        "# Expected output: {10, 20, 60, 70}"
      ],
      "metadata": {
        "colab": {
          "base_uri": "https://localhost:8080/"
        },
        "id": "eDHDDxg72eAs",
        "outputId": "e243b2db-7df2-4b57-e87c-66d3c177e266"
      },
      "execution_count": 19,
      "outputs": [
        {
          "output_type": "execute_result",
          "data": {
            "text/plain": [
              "{10, 20, 60, 70}"
            ]
          },
          "metadata": {},
          "execution_count": 19
        }
      ]
    },
    {
      "cell_type": "code",
      "source": [
        "# Assignment 5 (1 point)\n",
        "\n",
        "# Write a function remove_from_list that remove all occurrances of a value from a list.\n",
        "\n",
        "def remove_from_list(input_list, value):\n",
        "  for elem in input_list:\n",
        "    if elem == value:\n",
        "      input_list.remove(elem)\n",
        "\n",
        "a = [10, 20, 10, 30, 40, 50, 10, 0]\n",
        "remove_from_list(a, 10)\n",
        "print(a)  # Expected output: [20, 30, 40, 50, 0]"
      ],
      "metadata": {
        "colab": {
          "base_uri": "https://localhost:8080/"
        },
        "id": "JSf550MJ2eO3",
        "outputId": "c8467e2d-4faf-4989-af87-11ccd2b96fd0"
      },
      "execution_count": 20,
      "outputs": [
        {
          "output_type": "stream",
          "name": "stdout",
          "text": [
            "[20, 30, 40, 50, 0]\n"
          ]
        }
      ]
    },
    {
      "cell_type": "code",
      "source": [
        "# Assignment 6 (1 point)\n",
        "\n",
        "# Complete the following class by: \n",
        "\n",
        "# Write code that assign name and score to the object.\n",
        "# Write method get_score that return score attribute of the object.\n",
        "# Write method describe that print <student name>: <student score>.\n",
        "\n",
        "class Student:\n",
        "    def __init__(self, name, score):\n",
        "      self.name = name\n",
        "      self.score = score    \n",
        "\n",
        "    def get_score(self):\n",
        "      return self.score\n",
        "        # Write your code here\n",
        "    \n",
        "    def describe(self):\n",
        "      return self.name + \": \" + str(self.score)\n",
        "        # Write your code here\n",
        "\n",
        "student = Student(\"John\", 85)\n",
        "print(student.get_score())  # Expected output: 85\n",
        "student.describe()  # Expected output: \"John: 85\""
      ],
      "metadata": {
        "colab": {
          "base_uri": "https://localhost:8080/",
          "height": 54
        },
        "id": "l05Q8BT52eZT",
        "outputId": "d2562bf4-c1ed-4211-9857-14355d339d0d"
      },
      "execution_count": 22,
      "outputs": [
        {
          "output_type": "stream",
          "name": "stdout",
          "text": [
            "85\n"
          ]
        },
        {
          "output_type": "execute_result",
          "data": {
            "text/plain": [
              "'John: 85'"
            ],
            "application/vnd.google.colaboratory.intrinsic+json": {
              "type": "string"
            }
          },
          "metadata": {},
          "execution_count": 22
        }
      ]
    },
    {
      "cell_type": "code",
      "source": [
        "# Assignment 7 (1 point)\n",
        "\n",
        "\n",
        "# Complete the Employee class by:\n",
        "\n",
        "# Write code that calls the __init__ method of the base class to initialize attributes.\n",
        "# Write a speak method that receives a word as its parameter and outputs \"Employee <employee name> spoke <word>\"\n",
        "\n",
        "class Person:\n",
        "    def __init__(self, name):\n",
        "        self.name = name\n",
        "\n",
        "    def speak(self):\n",
        "        return \"Person \" + self.name + \" spoke something.\"\n",
        "\n",
        "class Employee(Person):\n",
        "    def __init__(self, name):\n",
        "      Person.__init__(self, name)\n",
        "\n",
        "    def speak(self, word):\n",
        "      self.word = word\n",
        "      return \"Employee \" + self.name + \" spoke \" + self.word\n",
        "\n",
        "\n",
        "employee = Employee(\"David\")\n",
        "print(employee.speak(\"hello\"))  # Expected output: \"Employee David spoke hello\""
      ],
      "metadata": {
        "colab": {
          "base_uri": "https://localhost:8080/"
        },
        "id": "ngWqRyje2elO",
        "outputId": "028e367b-87dc-440f-a10b-731746bb9f35"
      },
      "execution_count": 25,
      "outputs": [
        {
          "output_type": "stream",
          "name": "stdout",
          "text": [
            "Employee David spoke hello\n"
          ]
        }
      ]
    },
    {
      "cell_type": "code",
      "source": [
        "# Assignment 8 (1 point)\n",
        "\n",
        "\n",
        "# Print all the key-value pairs of a dictionary using for loop. Each line is a key-value pair.\n",
        "\n",
        "# Hint: to get all the keys of a dictionary, use .keys().\n",
        "\n",
        "country_capital = {\n",
        "    \"japan\": \"tokyo\",\n",
        "    \"vietnam\": \"hanoi\",\n",
        "    \"france\": \"paris\"\n",
        "}\n",
        "\n",
        "for key, value in country_capital.items():\n",
        "  print(key + \" - \" + value)\n",
        "\n",
        "# Expected output:\n",
        "# \"\"\"\n",
        "# japan - tokyo\n",
        "# vietnam - hanoi\n",
        "# france - paris\n",
        "# \"\"\""
      ],
      "metadata": {
        "colab": {
          "base_uri": "https://localhost:8080/"
        },
        "id": "xbqJkVTp2ewE",
        "outputId": "a0e9d3a6-99a2-42e8-fddc-9ac0445e1bc3"
      },
      "execution_count": 12,
      "outputs": [
        {
          "output_type": "stream",
          "name": "stdout",
          "text": [
            "japan - tokyo\n",
            "vietnam - hanoi\n",
            "france - paris\n"
          ]
        }
      ]
    },
    {
      "cell_type": "code",
      "source": [
        "# Assignment 9 (2 points)\n",
        "\n",
        "\n",
        "# Write a function solve_equation to solve equation ax^2 + bx + c = 0. (1 pt)\n",
        "\n",
        "# If equation has no solutions, print No solution.\n",
        "# If equation has one solution, print Equation has one solution <x> (<x> is the value of the solution)\n",
        "# If equation has two solutions, print Equation has two solutions <x1> and <x2> (<x1> and <x2> are the values of the solution)\n",
        "\n",
        "import math\n",
        "\n",
        "def solve_equation(a, b, c):\n",
        "  numerator1 = -b + math.sqrt(b^2 -4*a*c)\n",
        "  numerator2 = -b - math.sqrt(b^2 -4*a*c)\n",
        "  denominator = 2*a\n",
        "\n",
        "  x1 = numerator1/denominator\n",
        "  x2 = numerator2/denominator\n",
        "\n",
        "  # if \n",
        "    # Write your code here\n",
        "  pass"
      ],
      "metadata": {
        "id": "irQjtfvw2e7q"
      },
      "execution_count": 10,
      "outputs": []
    }
  ]
}