{
  "nbformat": 4,
  "nbformat_minor": 0,
  "metadata": {
    "colab": {
      "provenance": [],
      "authorship_tag": "ABX9TyP9rXrM56HItPjGAjRI4079",
      "include_colab_link": true
    },
    "kernelspec": {
      "name": "python3",
      "display_name": "Python 3"
    },
    "language_info": {
      "name": "python"
    }
  },
  "cells": [
    {
      "cell_type": "markdown",
      "metadata": {
        "id": "view-in-github",
        "colab_type": "text"
      },
      "source": [
        "<a href=\"https://colab.research.google.com/github/vinhtq-2618/basic-ml-course/blob/Lec01_solution/01_Python/Solution.ipynb\" target=\"_parent\"><img src=\"https://colab.research.google.com/assets/colab-badge.svg\" alt=\"Open In Colab\"/></a>"
      ]
    },
    {
      "cell_type": "markdown",
      "source": [
        "# Solution for week 1 assignments"
      ],
      "metadata": {
        "id": "0PYAkrV6RkYZ"
      }
    },
    {
      "cell_type": "markdown",
      "source": [
        "## Assignment 1 (1 pt)\n",
        "\n",
        "Write a function `is_triangle` to check the validity of a triangle. This function should receive 3 parameters corresponding to the length of 3 edges. It should return boolean `True` if all 3 edges can form a triangle, else it returns `False`.\n",
        "\n",
        "```\n",
        "def is_triangle(a, b, c):\n",
        "    # Write your code here.\n",
        "    pass  # Remove this line\n",
        "\n",
        "print(is_triangle(1, 2, 3))  # Expected output: False\n",
        "print(is_triangle(2, 2, 3))  # Expected output: True\n",
        "```"
      ],
      "metadata": {
        "id": "ViTjLaLeREIj"
      }
    },
    {
      "cell_type": "code",
      "execution_count": 1,
      "metadata": {
        "id": "J2a111YzQc4S"
      },
      "outputs": [],
      "source": [
        "def is_triangle(a, b, c):\n",
        "    if (a + b > c) and (b + c > a) and (a + c > b):\n",
        "        return True\n",
        "    else:\n",
        "        return False"
      ]
    },
    {
      "cell_type": "code",
      "source": [
        "print(is_triangle(1, 2, 3))  # Expected output: False\n",
        "print(is_triangle(2, 2, 3))  # Expected output: True"
      ],
      "metadata": {
        "colab": {
          "base_uri": "https://localhost:8080/"
        },
        "id": "FTh3_2unRSw1",
        "outputId": "34071deb-a3d1-43ab-f2f5-2b010e6dfde8"
      },
      "execution_count": 2,
      "outputs": [
        {
          "output_type": "stream",
          "name": "stdout",
          "text": [
            "False\n",
            "True\n"
          ]
        }
      ]
    },
    {
      "cell_type": "markdown",
      "source": [
        "## Assignment 2 (1 pt)\n",
        "\n",
        "Print odd numbers from 1 to 10 using `for` loop and `range`.\n",
        "\n",
        "Expected output:\n",
        "```\n",
        "1\n",
        "3\n",
        "5\n",
        "7\n",
        "9\n",
        "```"
      ],
      "metadata": {
        "id": "bPPJ3-r5Ralr"
      }
    },
    {
      "cell_type": "code",
      "source": [
        "for i in range(1, 10, 2):\n",
        "    print(i)"
      ],
      "metadata": {
        "colab": {
          "base_uri": "https://localhost:8080/"
        },
        "id": "2337732wRUgo",
        "outputId": "b1e6d43d-abfe-4adf-8f0a-a7be74531c03"
      },
      "execution_count": 3,
      "outputs": [
        {
          "output_type": "stream",
          "name": "stdout",
          "text": [
            "1\n",
            "3\n",
            "5\n",
            "7\n",
            "9\n"
          ]
        }
      ]
    },
    {
      "cell_type": "code",
      "source": [
        "for i in range(1, 10):\n",
        "    if i % 2 == 1:\n",
        "        print(i)"
      ],
      "metadata": {
        "colab": {
          "base_uri": "https://localhost:8080/"
        },
        "id": "caL1fShEReEE",
        "outputId": "4dd4fdc5-235e-437e-a401-ccd1ef5b3195"
      },
      "execution_count": 4,
      "outputs": [
        {
          "output_type": "stream",
          "name": "stdout",
          "text": [
            "1\n",
            "3\n",
            "5\n",
            "7\n",
            "9\n"
          ]
        }
      ]
    },
    {
      "cell_type": "markdown",
      "source": [
        "## Assignment 3 (1 pt)\n",
        "\n",
        "Write a function `get_reverse` that return a reversed string.\n",
        "\n",
        "Input: `Kenya`\n",
        "\n",
        "Output: `ayneK`\n",
        "\n",
        "```\n",
        "def get_reverse(text):\n",
        "    # Write your code here\n",
        "    pass  # Remove this line\n",
        "```"
      ],
      "metadata": {
        "id": "It9VOcVCRpSf"
      }
    },
    {
      "cell_type": "code",
      "source": [
        "def get_reverse(text):\n",
        "    return text[::-1]"
      ],
      "metadata": {
        "id": "V7b8p-HSRicw"
      },
      "execution_count": 5,
      "outputs": []
    },
    {
      "cell_type": "code",
      "source": [
        "print(get_reverse('Hello'))\n",
        "print(get_reverse('this is a not reversed string'))"
      ],
      "metadata": {
        "colab": {
          "base_uri": "https://localhost:8080/"
        },
        "id": "UCT-bRd-Ryr9",
        "outputId": "00066f6e-e363-4503-adfb-8ae46faa39ae"
      },
      "execution_count": 6,
      "outputs": [
        {
          "output_type": "stream",
          "name": "stdout",
          "text": [
            "olleH\n",
            "gnirts desrever ton a si siht\n"
          ]
        }
      ]
    },
    {
      "cell_type": "markdown",
      "source": [
        "## Assignment 4 (1 pt)\n",
        "\n",
        "Write a function that return a new set that contains elements that are either in set `a` or `b` but not both.\n",
        "\n",
        "```\n",
        "set1 = {10, 20, 30, 40, 50}\n",
        "set2 = {30, 40, 50, 60, 70}\n",
        "\n",
        "# Expected output: {10, 20, 60, 70}\n",
        "```"
      ],
      "metadata": {
        "id": "E9ckiYpkR-a9"
      }
    },
    {
      "cell_type": "code",
      "source": [
        "def either_in_a_or_b_not_both(a, b):\n",
        "    return a ^ b"
      ],
      "metadata": {
        "id": "_325a7MkR4V9"
      },
      "execution_count": 11,
      "outputs": []
    },
    {
      "cell_type": "code",
      "source": [
        "set1 = {10, 20, 30, 40, 50}\n",
        "set2 = {30, 40, 50, 60, 70}\n",
        "either_in_a_or_b_not_both(set1, set2)"
      ],
      "metadata": {
        "colab": {
          "base_uri": "https://localhost:8080/"
        },
        "id": "Hd5UnJlCSOwp",
        "outputId": "f06b48af-0743-48cb-e080-75351b106513"
      },
      "execution_count": 12,
      "outputs": [
        {
          "output_type": "execute_result",
          "data": {
            "text/plain": [
              "{10, 20, 60, 70}"
            ]
          },
          "metadata": {},
          "execution_count": 12
        }
      ]
    },
    {
      "cell_type": "markdown",
      "source": [
        "## Assignment 5 (1 pt)\n",
        "\n",
        "Write a function `remove_from_list` that remove all occurrances of a value from a list.\n",
        "\n",
        "```\n",
        "def remove_from_list(input_list, value):\n",
        "    # Write your code here\n",
        "    pass  # Remove this line\n",
        "\n",
        "a = [10, 20, 10, 30, 40, 50, 10, 0]\n",
        "remove_from_list(a, 10)\n",
        "print(a)  # Expected output: [20, 30, 40, 50, 0]\n",
        "```"
      ],
      "metadata": {
        "id": "VPN55Qo2SdvS"
      }
    },
    {
      "cell_type": "code",
      "source": [
        "def remove_from_list(input_list, value):\n",
        "    while value in input_list:\n",
        "        input_list.remove(value)\n",
        "\n",
        "a = [10, 20, 10, 30, 40, 50, 10, 0]\n",
        "remove_from_list(a, 10)\n",
        "print(a)  # Expected output: [20, 30, 40, 50, 0]"
      ],
      "metadata": {
        "colab": {
          "base_uri": "https://localhost:8080/"
        },
        "id": "ZzdgR7WVSXn-",
        "outputId": "3aa57607-d981-434d-c4c7-f34d028497e5"
      },
      "execution_count": 14,
      "outputs": [
        {
          "output_type": "stream",
          "name": "stdout",
          "text": [
            "[20, 30, 40, 50, 0]\n"
          ]
        }
      ]
    },
    {
      "cell_type": "code",
      "source": [
        "a = [10, 20, 10, 10, 30, 40, 50, 10, 0]\n",
        "remove_from_list(a, 10)\n",
        "print(a)  # Expected output: [20, 30, 40, 50, 0]"
      ],
      "metadata": {
        "colab": {
          "base_uri": "https://localhost:8080/"
        },
        "id": "82m-41wySmJ8",
        "outputId": "47ed8d9d-2710-4e96-f39c-a8af27c15e13"
      },
      "execution_count": 15,
      "outputs": [
        {
          "output_type": "stream",
          "name": "stdout",
          "text": [
            "[20, 30, 40, 50, 0]\n"
          ]
        }
      ]
    },
    {
      "cell_type": "markdown",
      "source": [
        "## Assignment 6 (1 pt)\n",
        "\n",
        "Complete the following class by: (1 pt)\n",
        "\n",
        "* Write code that assign `name` and `score` to the object.\n",
        "* Write method `get_score` that return `score` attribute of the object.\n",
        "* Write method `describe` that print `<student name>: <student score>`.\n",
        "\n",
        "```\n",
        "class Student:\n",
        "    def __init__(self, name, score):\n",
        "        # Write your code here\n",
        "        pass  # Remove this line\n",
        "\n",
        "    def get_score(self):\n",
        "        # Write your code here\n",
        "        pass  # Remove this line\n",
        "    \n",
        "    def describe(self):\n",
        "        # Write your code here\n",
        "        pass  # Remove this line\n",
        "\n",
        "student = Student(\"John\", 85)\n",
        "print(student.get_score())  # Expected output: 85\n",
        "student.describe()  # Expected output: \"John: 85\"\n",
        "```"
      ],
      "metadata": {
        "id": "f9gTOOCDTEUZ"
      }
    },
    {
      "cell_type": "code",
      "source": [
        "class Student:\n",
        "    def __init__(self, name, score):\n",
        "        self.name = name\n",
        "        self.score = score\n",
        "\n",
        "    def get_score(self):\n",
        "        return self.score\n",
        "\n",
        "    def describe(self):\n",
        "        print(f'{self.name}: {self.score}')\n",
        "\n",
        "student = Student(\"John\", 85)\n",
        "print(student.get_score())  # Expected output: 85\n",
        "student.describe()  # Expected output: \"John: 85\""
      ],
      "metadata": {
        "colab": {
          "base_uri": "https://localhost:8080/"
        },
        "id": "jI8ytaoLTBZF",
        "outputId": "52714793-238d-48b1-d353-7341b5c52299"
      },
      "execution_count": 16,
      "outputs": [
        {
          "output_type": "stream",
          "name": "stdout",
          "text": [
            "85\n",
            "John: 85\n"
          ]
        }
      ]
    },
    {
      "cell_type": "markdown",
      "source": [
        "## Assignment 7 (1 pt)\n",
        "\n",
        "Complete the `Employee` class by:\n",
        "\n",
        "* Write code that calls the `__init__` method of the base class to initialize attributes.\n",
        "* Write a `speak` method that receives a word as its parameter and outputs `\"Employee <employee name> spoke <word>\"`\n",
        "\n",
        "```\n",
        "class Person:\n",
        "    def __init__(self, name):\n",
        "        self.name = name\n",
        "\n",
        "    def speak(self):\n",
        "        return \"Person \" + self.name + \" spoke something.\"\n",
        "\n",
        "class Employee(Person):\n",
        "    def __init__(self, name):\n",
        "        # Write your code here\n",
        "        pass  # Remove this line\n",
        "\n",
        "    def speak(self, word):\n",
        "        # Write your code here\n",
        "        pass\n",
        "\n",
        "employee = Employee(\"David\")\n",
        "print(employee.speak(\"hello\"))  # Expected output: \"Employee David spoke hello\"\n",
        "```"
      ],
      "metadata": {
        "id": "JhHPRtUPTUHa"
      }
    },
    {
      "cell_type": "code",
      "source": [
        "class Person:\n",
        "    def __init__(self, name):\n",
        "        self.name = name\n",
        "\n",
        "    def speak(self):\n",
        "        return \"Person \" + self.name + \" spoke something.\"\n",
        "\n",
        "class Employee(Person):\n",
        "    def __init__(self, name):\n",
        "        super().__init__(name)\n",
        "\n",
        "    def speak(self, word):\n",
        "        return f'Employee {self.name} spoke {word}'\n",
        "\n",
        "employee = Employee(\"David\")\n",
        "print(employee.speak(\"hello\"))  # Expected output: \"Employee David spoke hello\""
      ],
      "metadata": {
        "colab": {
          "base_uri": "https://localhost:8080/"
        },
        "id": "zsvYknBQTPR8",
        "outputId": "005bb033-ea9d-44a5-ceb4-62908141b529"
      },
      "execution_count": 18,
      "outputs": [
        {
          "output_type": "stream",
          "name": "stdout",
          "text": [
            "Employee David spoke hello\n"
          ]
        }
      ]
    },
    {
      "cell_type": "markdown",
      "source": [
        "## Assignment 8 (1 pt)\n",
        "\n",
        "Print all the key-value pairs of a dictionary using `for` loop. Each line is a key-value pair.\n",
        "\n",
        "Hint: to get all the keys of a dictionary, use `.keys()`.\n",
        "\n",
        "```\n",
        "country_capital = {\n",
        "    \"japan\": \"tokyo\",\n",
        "    \"vietnam\": \"hanoi\",\n",
        "    \"france\": \"paris\"\n",
        "}\n",
        "\n",
        "# Write your code here.\n",
        "\n",
        "# Expected output:\n",
        "\"\"\"\n",
        "japan - tokyo\n",
        "vietnam - hanoi\n",
        "france - paris\n",
        "\"\"\"\n",
        "```"
      ],
      "metadata": {
        "id": "kR8K-aw6TntO"
      }
    },
    {
      "cell_type": "code",
      "source": [
        "country_capital = {\n",
        "    \"japan\": \"tokyo\",\n",
        "    \"vietnam\": \"hanoi\",\n",
        "    \"france\": \"paris\"\n",
        "}\n",
        "\n",
        "for country in country_capital.keys():\n",
        "    print(f'{country} - {country_capital[country]}')"
      ],
      "metadata": {
        "colab": {
          "base_uri": "https://localhost:8080/"
        },
        "id": "DAOA2v0STgjp",
        "outputId": "6f423f40-153c-4bc1-e71b-8413b477d6b4"
      },
      "execution_count": 19,
      "outputs": [
        {
          "output_type": "stream",
          "name": "stdout",
          "text": [
            "japan - tokyo\n",
            "vietnam - hanoi\n",
            "france - paris\n"
          ]
        }
      ]
    },
    {
      "cell_type": "code",
      "source": [
        "for country, capital in country_capital.items():\n",
        "    print(f'{country} - {capital}')"
      ],
      "metadata": {
        "colab": {
          "base_uri": "https://localhost:8080/"
        },
        "id": "KrHXRbHqT3KX",
        "outputId": "447d646c-12ec-45a8-dd51-29b833291722"
      },
      "execution_count": 20,
      "outputs": [
        {
          "output_type": "stream",
          "name": "stdout",
          "text": [
            "japan - tokyo\n",
            "vietnam - hanoi\n",
            "france - paris\n"
          ]
        }
      ]
    },
    {
      "cell_type": "markdown",
      "source": [
        "## Assignment 9 (2 pt)\n",
        "\n",
        "Write a function `solve_equation` to solve equation ax^2 + bx + c = 0. (1 pt)\n",
        "\n",
        "* If equation has no solutions, print `No solution`.\n",
        "* If equation has one solution, print `Equation has one solution <x>` (`<x>` is the value of the solution)\n",
        "* If equation has two solutions, print `Equation has two solutions <x1> and <x2>` (`<x1>` and `<x2>` are the values of the solution)\n",
        "\n",
        "\n",
        "```\n",
        "def solve_equation(a, b, c):\n",
        "    # Write your code here\n",
        "    pass\n",
        "```"
      ],
      "metadata": {
        "id": "_rSoTjihT99T"
      }
    },
    {
      "cell_type": "code",
      "source": [
        "import math\n",
        "\n",
        "def solve_equation(a, b, c):\n",
        "    discriminant = b**2 - 4 * a * c\n",
        "    if discriminant < 0:\n",
        "        print('No solution')\n",
        "    elif discriminant == 0:\n",
        "        x = -b / (2 * a)\n",
        "        print(f'Equation has one solution {x}')\n",
        "    else:\n",
        "        x1 = (-b + math.sqrt(discriminant)) / (2 * a)\n",
        "        x2 = (-b - math.sqrt(discriminant)) / (2 * a)\n",
        "        print(f'Equation has two solutions {x1} and {x2}')"
      ],
      "metadata": {
        "id": "wdQrQ1bcT7fA"
      },
      "execution_count": 21,
      "outputs": []
    },
    {
      "cell_type": "code",
      "source": [
        "solve_equation(1, 2, 1)"
      ],
      "metadata": {
        "colab": {
          "base_uri": "https://localhost:8080/"
        },
        "id": "5UXigu25Ug2Z",
        "outputId": "39a9ef94-9283-4000-9b97-810c30aec7d6"
      },
      "execution_count": 22,
      "outputs": [
        {
          "output_type": "stream",
          "name": "stdout",
          "text": [
            "Equation has one solution -1.0\n"
          ]
        }
      ]
    },
    {
      "cell_type": "code",
      "source": [
        "solve_equation(3, 3, 9)"
      ],
      "metadata": {
        "colab": {
          "base_uri": "https://localhost:8080/"
        },
        "id": "K_cFUTPoUiuq",
        "outputId": "a5c2667f-46b1-43fb-86f8-2f4ae23b0261"
      },
      "execution_count": 23,
      "outputs": [
        {
          "output_type": "stream",
          "name": "stdout",
          "text": [
            "No solution\n"
          ]
        }
      ]
    },
    {
      "cell_type": "code",
      "source": [
        "solve_equation(1, 2, -1)"
      ],
      "metadata": {
        "colab": {
          "base_uri": "https://localhost:8080/"
        },
        "id": "Egtf5lQDUk6e",
        "outputId": "99c34c40-92c3-4144-a486-09c2c56e016c"
      },
      "execution_count": 24,
      "outputs": [
        {
          "output_type": "stream",
          "name": "stdout",
          "text": [
            "Equation has two solutions 0.41421356237309515 and -2.414213562373095\n"
          ]
        }
      ]
    }
  ]
}