{
  "nbformat": 4,
  "nbformat_minor": 0,
  "metadata": {
    "colab": {
      "provenance": [],
      "collapsed_sections": [],
      "authorship_tag": "ABX9TyOtDYc6z27ydm3ODhppu7WH",
      "include_colab_link": true
    },
    "kernelspec": {
      "name": "python3",
      "display_name": "Python 3"
    },
    "language_info": {
      "name": "python"
    }
  },
  "cells": [
    {
      "cell_type": "markdown",
      "metadata": {
        "id": "view-in-github",
        "colab_type": "text"
      },
      "source": [
        "<a href=\"https://colab.research.google.com/github/Jumaantony/basic-ml-course/blob/master/01_Python/Solution.ipynb\" target=\"_parent\"><img src=\"https://colab.research.google.com/assets/colab-badge.svg\" alt=\"Open In Colab\"/></a>"
      ]
    },
    {
      "cell_type": "code",
      "execution_count": null,
      "metadata": {
        "id": "xxGnjGPQ5kZJ"
      },
      "outputs": [],
      "source": [
        "# assignment 1 \n",
        "\n",
        "\"\"\"\n",
        "Write a function is_triangle to check the validity of a triangle. \n",
        "This function should receive 3 parameters corresponding to the length of 3 edges. \n",
        "It should return boolean True if all 3 edges can form a triangle, else it returns False.\n",
        "\"\"\"\n",
        "\n",
        "def is_triangle(a, b, c):\n",
        "    # check condition\n",
        "    if (a + b <= c) or (a + c <= b) or (b + c <= a) :\n",
        "        return False\n",
        "    else:\n",
        "        return True \n",
        "\n",
        "print(is_triangle(1, 2, 3))  # Expected output: False\n",
        "print(is_triangle(2, 2, 3))  # Expected output: True\n"
      ]
    },
    {
      "cell_type": "code",
      "source": [
        "# assignemt 2\n",
        "\"\"\"\n",
        "Print odd numbers from 1 to 10 using for loop and range.\n",
        "\"\"\"\n",
        "\n",
        "for num in range(1,10):\n",
        "     \n",
        "    # checking if number is an odd number\n",
        "    if num % 2 != 0:\n",
        "        print(num)\n"
      ],
      "metadata": {
        "id": "_MiSpNXc7WAm"
      },
      "execution_count": null,
      "outputs": []
    },
    {
      "cell_type": "code",
      "source": [
        "# assignemt 3 \n",
        "\"\"\"\n",
        "Write a function get_reverse that return a reversed string.\n",
        "\"\"\"\n",
        "\n",
        "def get_reverse(text):\n",
        "  return text[::-1]\n",
        "\n",
        "get_reverse('Kenya')"
      ],
      "metadata": {
        "id": "1sqCT6xj9oXZ"
      },
      "execution_count": null,
      "outputs": []
    },
    {
      "cell_type": "code",
      "source": [
        "# assignemt 4\n",
        "\"\"\"\n",
        "Write a function that return a new set that contains elements that \n",
        "are either in set a or b but not both.\n",
        "\"\"\"\n",
        "\n",
        "def create_set(set1, set2):\n",
        "  new_list = []\n",
        "  for item in set1:\n",
        "    if item not in set2:\n",
        "      new_list.append(item)\n",
        "\n",
        "  for item in set2:\n",
        "    if item not in set1:\n",
        "      new_list.append(item)\n",
        "\n",
        "  return set(new_list)\n",
        "\n",
        "set1 = {10, 20, 30, 40, 50}\n",
        "set2 = {30, 40, 50, 60, 70}\n",
        "\n",
        "create_set(set1, set2)\n",
        "  \n"
      ],
      "metadata": {
        "colab": {
          "base_uri": "https://localhost:8080/"
        },
        "id": "gGyT02fr-7Ju",
        "outputId": "38d204c2-3b61-4b67-c413-f1047f04d439"
      },
      "execution_count": 105,
      "outputs": [
        {
          "output_type": "execute_result",
          "data": {
            "text/plain": [
              "{10, 20, 60, 70}"
            ]
          },
          "metadata": {},
          "execution_count": 105
        }
      ]
    },
    {
      "cell_type": "code",
      "source": [
        "# assignemt 5\n",
        "\"\"\"\n",
        "Write a function remove_from_list that remove all occurrances of a value from a \n",
        "list.\n",
        "\"\"\"\n",
        "def remove_from_list(input_list, value):\n",
        "  x = input_list.count(value)\n",
        "  for i in range(x):\n",
        "      input_list.remove(value)\n",
        " \n",
        "  return input_list\n",
        "    \n",
        "\n",
        "a = [10, 20, 10, 30, 40, 50, 0]\n",
        "remove_from_list(a, 10)\n",
        "print(a)  # Expected output: [20, 30, 40, 50, 0]\n"
      ],
      "metadata": {
        "colab": {
          "base_uri": "https://localhost:8080/"
        },
        "id": "jr1sypxTK6m0",
        "outputId": "712cb9ed-3f12-41f4-be84-9284cd17dbf4"
      },
      "execution_count": 122,
      "outputs": [
        {
          "output_type": "stream",
          "name": "stdout",
          "text": [
            "[20, 30, 40, 50, 0]\n"
          ]
        }
      ]
    },
    {
      "cell_type": "code",
      "source": [
        "# assignemt 6\n",
        "\"\"\"\n",
        "Complete the following class by: (1 pt)\n",
        "\n",
        "Write code that assign name and score to the object.\n",
        "Write method get_score that return score attribute of the object.\n",
        "Write method describe that print <student name>: <student score>.\n",
        "\n",
        "\"\"\"\n",
        "\n",
        "class Student:\n",
        "    def __init__(self, name, score):\n",
        "        self.name = name\n",
        "        self.score = score\n",
        "\n",
        "    def get_score(self):\n",
        "        return self.score\n",
        "      \n",
        "    \n",
        "    def describe(self):\n",
        "        return f\"{self.name} : {self.score}\"\n",
        "\n",
        "student = Student(\"John\", 85)\n",
        "print(student.get_score())  # Expected output: 85\n",
        "student.describe()  # Expected output: \"John: 85\""
      ],
      "metadata": {
        "colab": {
          "base_uri": "https://localhost:8080/",
          "height": 53
        },
        "id": "WqdYr66LR6xQ",
        "outputId": "dc48a4a1-7537-4cd9-f856-df2174d179c3"
      },
      "execution_count": 123,
      "outputs": [
        {
          "output_type": "stream",
          "name": "stdout",
          "text": [
            "85\n"
          ]
        },
        {
          "output_type": "execute_result",
          "data": {
            "text/plain": [
              "'John : 85'"
            ],
            "application/vnd.google.colaboratory.intrinsic+json": {
              "type": "string"
            }
          },
          "metadata": {},
          "execution_count": 123
        }
      ]
    },
    {
      "cell_type": "code",
      "source": [
        "# assignment 7\n",
        "\n",
        "\"\"\"\n",
        "Complete the Employee class by:\n",
        "\n",
        "Write code that calls the __init__ method of the base class to initialize \n",
        "attributes.\n",
        "Write a speak method that receives a word as its parameter and outputs \n",
        "\"Employee <employee name> spoke <word>\"\n",
        "\"\"\"\n",
        "\n",
        "class Person:\n",
        "    def __init__(self, name):\n",
        "        self.name = name\n",
        "\n",
        "    def speak(self):\n",
        "        return \"Person \" + self.name + \" spoke something.\"\n",
        "\n",
        "class Employee(Person):\n",
        "    def __init__(self, name):\n",
        "      Person.__init__(self, name)\n",
        "      self.name = name\n",
        "\n",
        "    def speak(self, word):\n",
        "        self.word = word\n",
        "        return f\"Employee {self.name} spoke {self.word}\"\n",
        "\n",
        "employee = Employee(\"David\")\n",
        "print(employee.speak(\"hello\"))  # Expected output: \"Employee David spoke hello\""
      ],
      "metadata": {
        "colab": {
          "base_uri": "https://localhost:8080/"
        },
        "id": "xSDv9gpIVX1J",
        "outputId": "26c03283-ff36-4dd7-d706-65e9d352fee7"
      },
      "execution_count": 124,
      "outputs": [
        {
          "output_type": "stream",
          "name": "stdout",
          "text": [
            "Employee David spoke hello\n"
          ]
        }
      ]
    },
    {
      "cell_type": "code",
      "source": [
        "# assignemt 8\n",
        "\"\"\"\n",
        "Print all the key-value pairs of a dictionary using for loop. Each line is a key-value pair.\n",
        "Hint: to get all the keys of a dictionary, use .keys().\n",
        "\"\"\"\n",
        "\n",
        "country_capital = {\n",
        "    \"japan\": \"tokyo\",\n",
        "    \"vietnam\": \"hanoi\",\n",
        "    \"france\": \"paris\"\n",
        "}\n",
        "\n",
        "for key in country_capital:\n",
        "  print(key + \" - \" + country_capital[key])\n"
      ],
      "metadata": {
        "colab": {
          "base_uri": "https://localhost:8080/"
        },
        "id": "FDqsT0XfgwSp",
        "outputId": "7e0de474-4259-4aa5-8e1d-08b87aee8895"
      },
      "execution_count": 125,
      "outputs": [
        {
          "output_type": "stream",
          "name": "stdout",
          "text": [
            "japan - tokyo\n",
            "vietnam - hanoi\n",
            "france - paris\n"
          ]
        }
      ]
    },
    {
      "cell_type": "code",
      "source": [
        "# assignment 9\n",
        "\"\"\"\n",
        "Write a function solve_equation to solve equation ax^2 + bx + c = 0. (1 pt)\n",
        "\n",
        "If equation has no solutions, print No solution.\n",
        "If equation has one solution, print Equation has one solution \n",
        "<x> (<x> is the value of the solution)\n",
        "If equation has two solutions, print Equation has two solutions \n",
        "<x1> and <x2> (<x1> and <x2> are the values of the solution)\n",
        "\"\"\"\n",
        "import math\n",
        "\n",
        "def solve_equation(a, b, c):\n",
        "  # solving the equationg using the formula method\n",
        "  # geting the discriminant\n",
        "  dis = b*b - 4*a*c\n",
        "\n",
        "  # getting the sqrt\n",
        "  sqrt_ans = math.sqrt(abs(dis))\n",
        "\n",
        "  if dis < 0:\n",
        "    # no solution when the discriminant is a negative\n",
        "    # no real solution\n",
        "    print(\"the equation has no solution\")\n",
        "\n",
        "  elif dis == 0:\n",
        "    # the discriminant is equivalent to zero\n",
        "    print(f\"{(-b)/(2*a)} is the value of the solution\")\n",
        "  else:\n",
        "     print(f\"the equation has two solutions {(-b + sqrt_ans)/(2 * a)} and {(-b - sqrt_ans)/(2 * a)}\")\n",
        "\n",
        "\n",
        "solve_equation(1, 2, 5)\n",
        "solve_equation(1, -6, 9)\n",
        "solve_equation(4, 26, 12)\n"
      ],
      "metadata": {
        "colab": {
          "base_uri": "https://localhost:8080/"
        },
        "id": "OxxnOqbyh9h-",
        "outputId": "2bd4a61c-97a3-4eba-f7f4-5e8008f5b2f8"
      },
      "execution_count": 96,
      "outputs": [
        {
          "output_type": "stream",
          "name": "stdout",
          "text": [
            "the equation has no solution\n",
            "3.0 is the value of the solution\n",
            "the equation has two solutions -0.5 and -6.0\n"
          ]
        }
      ]
    }
  ]
}