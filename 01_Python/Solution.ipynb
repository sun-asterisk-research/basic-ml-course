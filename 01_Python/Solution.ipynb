{
  "nbformat": 4,
  "nbformat_minor": 0,
  "metadata": {
    "colab": {
      "provenance": [],
      "authorship_tag": "ABX9TyMuu6HE7HA/tM2NJnjhEYn1",
      "include_colab_link": true
    },
    "kernelspec": {
      "name": "python3",
      "display_name": "Python 3"
    },
    "language_info": {
      "name": "python"
    }
  },
  "cells": [
    {
      "cell_type": "markdown",
      "metadata": {
        "id": "view-in-github",
        "colab_type": "text"
      },
      "source": [
        "<a href=\"https://colab.research.google.com/github/b-kchr/basic-ml-course/blob/master/01_Python/Solution.ipynb\" target=\"_parent\"><img src=\"https://colab.research.google.com/assets/colab-badge.svg\" alt=\"Open In Colab\"/></a>"
      ]
    },
    {
      "cell_type": "code",
      "execution_count": null,
      "metadata": {
        "colab": {
          "base_uri": "https://localhost:8080/"
        },
        "id": "H4d3CixrLUVc",
        "outputId": "e73a9663-c42c-4c28-8f29-78b6a4467fe4"
      },
      "outputs": [
        {
          "output_type": "stream",
          "name": "stdout",
          "text": [
            "false\n",
            "None\n",
            "true\n",
            "None\n"
          ]
        }
      ],
      "source": [
        "def is_triangle(a, b, c):\n",
        "    if a+b>c and a+c>b and b+c>a:\n",
        "     print (\"true\")\n",
        "    else:\n",
        "     print (\"false\")\n",
        "print(is_triangle(1, 2, 3))  # Expected output: False\n",
        "print(is_triangle(2, 2, 3))  # Expected output: True"
      ]
    },
    {
      "cell_type": "code",
      "source": [
        "a=0\n",
        "for a in range(0,10,1):\n",
        "  if a%2 != 0:\n",
        "    print (a)\n"
      ],
      "metadata": {
        "colab": {
          "base_uri": "https://localhost:8080/"
        },
        "id": "_TPEz-iZOeNN",
        "outputId": "48c1e12f-b94a-4ec7-fe45-c3ea8abc5066"
      },
      "execution_count": null,
      "outputs": [
        {
          "output_type": "stream",
          "name": "stdout",
          "text": [
            "1\n",
            "3\n",
            "5\n",
            "7\n",
            "9\n"
          ]
        }
      ]
    },
    {
      "cell_type": "code",
      "source": [
        "text=input()\n",
        "\n",
        "def get_reverse(text):\n",
        "    a = 0\n",
        "    b=len(text)\n",
        "    revtext = \"\"\n",
        "    while a < len(text):\n",
        "     revtext=revtext+text[b-1]\n",
        "     b -= 1\n",
        "     a += 1    \n",
        "    print(revtext)\n",
        "get_reverse(text)"
      ],
      "metadata": {
        "colab": {
          "base_uri": "https://localhost:8080/"
        },
        "id": "L3ZO1StDQJGu",
        "outputId": "04e377df-93f3-4fc1-f893-341d8c472b31"
      },
      "execution_count": null,
      "outputs": [
        {
          "output_type": "stream",
          "name": "stdout",
          "text": [
            "Kenya\n",
            "ayneK\n"
          ]
        }
      ]
    },
    {
      "cell_type": "code",
      "source": [
        "set1 = {10, 20, 30, 40, 50}\n",
        "set2 = {30, 40, 50, 60, 70}\n",
        "def get_difference(a,b):\n",
        " print( a - b)\n",
        "get_difference(set1,set2)"
      ],
      "metadata": {
        "colab": {
          "base_uri": "https://localhost:8080/"
        },
        "id": "Ju68fZF9WNST",
        "outputId": "8c8ab86c-c464-4f13-a110-2415b22f6f5a"
      },
      "execution_count": null,
      "outputs": [
        {
          "output_type": "stream",
          "name": "stdout",
          "text": [
            "{10, 20}\n"
          ]
        }
      ]
    },
    {
      "cell_type": "code",
      "source": [
        "a = [10, 20, 10, 30, 40, 50, 10, 0]\n",
        "def remove_from_list(input_list, value):\n",
        "    # Write your code here\n",
        "    counter=0\n",
        "    while counter < len(input_list):\n",
        "     if value in a:\n",
        "      a.remove(value)\n",
        "     counter += 1\n",
        "\n",
        "remove_from_list(a, 10)\n",
        "print(a)  # Expected output: [20, 30, 40, 50, 0]"
      ],
      "metadata": {
        "id": "ShfCbp6JXUhq",
        "colab": {
          "base_uri": "https://localhost:8080/"
        },
        "outputId": "a1de9e60-dc14-4433-85c6-e0576033e5a6"
      },
      "execution_count": null,
      "outputs": [
        {
          "output_type": "stream",
          "name": "stdout",
          "text": [
            "[20, 30, 40, 50, 0]\n"
          ]
        }
      ]
    },
    {
      "cell_type": "code",
      "source": [
        "class Student:\n",
        "    def __init__(self, name, score):\n",
        "        # Write your code here\n",
        "        self.name=name\n",
        "        self.score=score\n",
        "\n",
        "    def get_score(self):\n",
        "        # Write your code here\n",
        "        return self.score\n",
        "        \n",
        "    \n",
        "    def describe(self):\n",
        "        # Write your code here\n",
        "        return '{}: {}'.format(self.name,self.score)\n",
        "student = Student(\"John\", 85)\n",
        "print(student.get_score())  # Expected output: 85\n",
        "student.describe()  # Expected output: \"John: 85\""
      ],
      "metadata": {
        "colab": {
          "base_uri": "https://localhost:8080/",
          "height": 53
        },
        "id": "DDpD8bQcnEcN",
        "outputId": "eb9a5d89-d343-4604-f8f6-09ba8b70617f"
      },
      "execution_count": null,
      "outputs": [
        {
          "output_type": "stream",
          "name": "stdout",
          "text": [
            "85\n"
          ]
        },
        {
          "output_type": "execute_result",
          "data": {
            "text/plain": [
              "'John: 85'"
            ],
            "application/vnd.google.colaboratory.intrinsic+json": {
              "type": "string"
            }
          },
          "metadata": {},
          "execution_count": 5
        }
      ]
    },
    {
      "cell_type": "code",
      "source": [
        "class Person:\n",
        "    def __init__(self, name):\n",
        "        self.name = name\n",
        "\n",
        "    def speak(self,word):\n",
        "        return \"Person \" + self.name + \" spoke\" + word\n",
        "\n",
        "class Employee(Person):\n",
        "    def __init__(self, name):\n",
        "        # Write your code here\n",
        "        Person.__init__(self,name)\n",
        "\n",
        "    def speak(self, word):\n",
        "        # Write your code here\n",
        "        return \"Employee \" + self.name + \" spoke\" + word\n",
        "\n",
        "employee = Employee(\"David\")\n",
        "print(employee.speak(\" hello\"))  # Expected output: \"Employee David spoke hello\""
      ],
      "metadata": {
        "id": "tJX8zVV4AC6V",
        "colab": {
          "base_uri": "https://localhost:8080/"
        },
        "outputId": "8678ace8-44eb-41f4-adfd-2fc252f6e7db"
      },
      "execution_count": 4,
      "outputs": [
        {
          "output_type": "stream",
          "name": "stdout",
          "text": [
            "Employee David spoke hello\n"
          ]
        }
      ]
    },
    {
      "cell_type": "code",
      "source": [
        "country_capital = {\n",
        "    \"japan\": \"tokyo\",\n",
        "    \"vietnam\": \"hanoi\",\n",
        "    \"france\": \"paris\"\n",
        "}\n",
        "\n",
        "# Write your code here\n",
        "\n",
        "for keys, value in country_capital.items():\n",
        "   print(keys + \" : \"+ value)\n"
      ],
      "metadata": {
        "colab": {
          "base_uri": "https://localhost:8080/"
        },
        "id": "s75XlevT3Niu",
        "outputId": "a688e6c2-c6ea-4399-cc5b-305c84ac804c"
      },
      "execution_count": 11,
      "outputs": [
        {
          "output_type": "stream",
          "name": "stdout",
          "text": [
            "japan : tokyo\n",
            "vietnam : hanoi\n",
            "france : paris\n"
          ]
        }
      ]
    },
    {
      "cell_type": "code",
      "source": [
        "import cmath\n",
        "def solve_equation(a, b, c):\n",
        "    # Write your code here\n",
        "    sol1=0\n",
        "    sol2=0\n",
        "    d = (b**2) - (4*a*c)\n",
        "    if d<0:\n",
        "      print (\"No solution\")\n",
        "    elif d == 0:\n",
        "      d = (b**2) - (4*a*c)\n",
        "      # find two solutions\n",
        "      sol1 = (-b-cmath.sqrt(d))/(2*a)\n",
        "      print('Equation has one solution {0}'.format(sol1))\n",
        "    elif d>0:\n",
        "      # find two solutions\n",
        "      sol1 = (-b-cmath.sqrt(d))/(2*a)\n",
        "      sol2 = (-b+cmath.sqrt(d))/(2*a)\n",
        "      print('Equation has two solutions {0} and {1}'.format(sol1,sol2))\n",
        "\n",
        "\n",
        "solve_equation(1,14,49)\n"
      ],
      "metadata": {
        "id": "KtfKpZFpDVt6",
        "outputId": "c0b2731f-047c-49df-c8a3-0dab74f7e951",
        "colab": {
          "base_uri": "https://localhost:8080/"
        }
      },
      "execution_count": 37,
      "outputs": [
        {
          "output_type": "stream",
          "name": "stdout",
          "text": [
            "Equation has one solution (-7+0j)\n"
          ]
        }
      ]
    }
  ]
}