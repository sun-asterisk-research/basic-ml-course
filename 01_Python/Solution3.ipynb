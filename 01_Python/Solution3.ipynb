{
  "nbformat": 4,
  "nbformat_minor": 0,
  "metadata": {
    "colab": {
      "provenance": [],
      "collapsed_sections": [],
      "authorship_tag": "ABX9TyN1kcMCPmxgGfv92922PeCJ",
      "include_colab_link": true
    },
    "kernelspec": {
      "name": "python3",
      "display_name": "Python 3"
    },
    "language_info": {
      "name": "python"
    }
  },
  "cells": [
    {
      "cell_type": "markdown",
      "metadata": {
        "id": "view-in-github",
        "colab_type": "text"
      },
      "source": [
        "<a href=\"https://colab.research.google.com/github/quadspark/basic-ml-course/blob/master/01_Python/Solution3.ipynb\" target=\"_parent\"><img src=\"https://colab.research.google.com/assets/colab-badge.svg\" alt=\"Open In Colab\"/></a>"
      ]
    },
    {
      "cell_type": "code",
      "execution_count": 3,
      "metadata": {
        "id": "kvaQ3nomzeD0"
      },
      "outputs": [],
      "source": [
        "def get_reverse(text):\n",
        "  text = \"\".join(reversed(text))\n",
        "    return text\n",
        "\n",
        "text = \"Kenya\"\n",
        "\n",
        "print(\"input = \", end=\" \")\n",
        "print (text)\n",
        "\n",
        "print(\"Output = \", end=\" \")\n",
        "print(reversed(text))\n",
        "  "
      ]
    }
  ]
}