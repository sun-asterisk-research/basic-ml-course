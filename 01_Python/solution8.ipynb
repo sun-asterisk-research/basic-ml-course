{
  "nbformat": 4,
  "nbformat_minor": 0,
  "metadata": {
    "colab": {
      "provenance": [],
      "authorship_tag": "ABX9TyM8NlkHsMRh3jE5JwozGL2e",
      "include_colab_link": true
    },
    "kernelspec": {
      "name": "python3",
      "display_name": "Python 3"
    },
    "language_info": {
      "name": "python"
    }
  },
  "cells": [
    {
      "cell_type": "markdown",
      "metadata": {
        "id": "view-in-github",
        "colab_type": "text"
      },
      "source": [
        "<a href=\"https://colab.research.google.com/github/quadspark/basic-ml-course/blob/master/01_Python/solution8.ipynb\" target=\"_parent\"><img src=\"https://colab.research.google.com/assets/colab-badge.svg\" alt=\"Open In Colab\"/></a>"
      ]
    },
    {
      "cell_type": "code",
      "execution_count": 2,
      "metadata": {
        "colab": {
          "base_uri": "https://localhost:8080/"
        },
        "id": "tPn6O-EuiBMl",
        "outputId": "08adddc7-1517-4879-ed22-7940210ade51"
      },
      "outputs": [
        {
          "output_type": "stream",
          "name": "stdout",
          "text": [
            "japan - tokyo\n",
            "vietnam - hanoi\n",
            "france - paris\n"
          ]
        }
      ],
      "source": [
        "country_capital = {\n",
        "    \"japan\": \"tokyo\",\n",
        "    \"vietnam\": \"hanoi\",\n",
        "    \"france\": \"paris\"\n",
        "}\n",
        "\n",
        "keys = country_capital.keys()\n",
        "\n",
        "for key in country_capital.keys():\n",
        "  print (key ,'-', country_capital[key])\n"
      ]
    }
  ]
}