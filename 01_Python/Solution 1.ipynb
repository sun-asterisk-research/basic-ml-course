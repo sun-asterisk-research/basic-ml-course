{
  "nbformat": 4,
  "nbformat_minor": 0,
  "metadata": {
    "colab": {
      "provenance": [],
      "collapsed_sections": [],
      "authorship_tag": "ABX9TyNBTnqse69z3wfF+EdOKbdw",
      "include_colab_link": true
    },
    "kernelspec": {
      "name": "python3",
      "display_name": "Python 3"
    },
    "language_info": {
      "name": "python"
    }
  },
  "cells": [
    {
      "cell_type": "markdown",
      "metadata": {
        "id": "view-in-github",
        "colab_type": "text"
      },
      "source": [
        "<a href=\"https://colab.research.google.com/github/MUTTA-ISIGI/basic-ml-course/blob/master/01_Python/Solution%201.ipynb\" target=\"_parent\"><img src=\"https://colab.research.google.com/assets/colab-badge.svg\" alt=\"Open In Colab\"/></a>"
      ]
    },
    {
      "cell_type": "markdown",
      "source": [
        "**Assignment 1**"
      ],
      "metadata": {
        "id": "LPPjzWNF4B71"
      }
    },
    {
      "cell_type": "code",
      "source": [
        "from logging import fatal\n",
        "def is_triangle(a,b,c):\n",
        " \n",
        "  if(a+b<=c) or (b+c<=a) or (c+a<=b):\n",
        "    return False\n",
        "  else:\n",
        "      return True\n",
        "      \n",
        "print(is_triangle(1, 2, 3)) \n",
        "print(is_triangle(2, 2, 3))"
      ],
      "metadata": {
        "id": "rJNkgAXo4Gbx",
        "colab": {
          "base_uri": "https://localhost:8080/"
        },
        "outputId": "2bc10d4b-2723-4b7d-87a4-4e15c921f1a4"
      },
      "execution_count": null,
      "outputs": [
        {
          "output_type": "stream",
          "name": "stdout",
          "text": [
            "False\n",
            "True\n"
          ]
        }
      ]
    },
    {
      "cell_type": "markdown",
      "source": [
        "**Assignment 2**"
      ],
      "metadata": {
        "id": "fZpV-e_Q4IME"
      }
    },
    {
      "cell_type": "code",
      "source": [
        "start,end =1,9\n",
        "for i in range(start,end+1):\n",
        "  if i%2==1:\n",
        "   print(i, end=\"\\n\")\n"
      ],
      "metadata": {
        "colab": {
          "base_uri": "https://localhost:8080/"
        },
        "id": "c-eioXIL4OGm",
        "outputId": "591fb3d9-23a1-48c8-a1c7-c98fb05932dd"
      },
      "execution_count": null,
      "outputs": [
        {
          "output_type": "stream",
          "name": "stdout",
          "text": [
            "1\n",
            "3\n",
            "5\n",
            "7\n",
            "9\n"
          ]
        }
      ]
    },
    {
      "cell_type": "markdown",
      "source": [
        "**Assignment 3**"
      ],
      "metadata": {
        "id": "jpqV7s2d6C29"
      }
    },
    {
      "cell_type": "code",
      "source": [
        "def get_reverse(text):\n",
        "  return text[::-1]\n",
        "mytext=get_reverse(\"kenya\")\n",
        "print(mytext)"
      ],
      "metadata": {
        "colab": {
          "base_uri": "https://localhost:8080/"
        },
        "id": "Zfj7pORm6JFT",
        "outputId": "efd5994e-d906-4e76-f61c-142e9c54e3ed"
      },
      "execution_count": null,
      "outputs": [
        {
          "output_type": "stream",
          "name": "stdout",
          "text": [
            "aynek\n"
          ]
        }
      ]
    },
    {
      "cell_type": "markdown",
      "source": [
        "**Assignment 4**"
      ],
      "metadata": {
        "id": "J2p_gFqr7PdS"
      }
    },
    {
      "cell_type": "code",
      "source": [
        "set1 = {10, 20, 30, 40, 50}\n",
        "set2 = {30, 40, 50, 60, 70}\n",
        "set3 = set()\n",
        "\n",
        "for x in set1:\n",
        "  if x not in set2:\n",
        "    set3.add(x) \n",
        "for y in set2:   \n",
        "  if y not in set1:\n",
        "    set3.add(y)\n",
        "print(set3)\n",
        "\n",
        "\n",
        "  "
      ],
      "metadata": {
        "id": "GSEK3jVa7UBa",
        "colab": {
          "base_uri": "https://localhost:8080/"
        },
        "outputId": "210200c9-770d-45d2-d98f-b654fdebb955"
      },
      "execution_count": null,
      "outputs": [
        {
          "output_type": "stream",
          "name": "stdout",
          "text": [
            "{10, 20, 70, 60}\n"
          ]
        }
      ]
    },
    {
      "cell_type": "markdown",
      "source": [
        "**Assignment 5**"
      ],
      "metadata": {
        "id": "8LmafvRK8JG2"
      }
    },
    {
      "cell_type": "code",
      "source": [
        "def remove_from_list(input_list,value):\n",
        "  while value in input_list:\n",
        "    input_list.remove(value)\n",
        "a = [10, 20, 10, 30, 40, 50, 10, 0]\n",
        "remove_from_list(a, 10)\n",
        "print(a)\n",
        "  \n"
      ],
      "metadata": {
        "id": "l0pvffw_8N1T",
        "colab": {
          "base_uri": "https://localhost:8080/"
        },
        "outputId": "15711d22-76f2-4169-a962-b1444e2165ad"
      },
      "execution_count": null,
      "outputs": [
        {
          "output_type": "stream",
          "name": "stdout",
          "text": [
            "[20, 30, 40, 50, 0]\n"
          ]
        }
      ]
    },
    {
      "cell_type": "markdown",
      "source": [
        "**Assignment 6**"
      ],
      "metadata": {
        "id": "A4p3YO2hC1hb"
      }
    },
    {
      "cell_type": "code",
      "source": [
        "# I'M UNABLE TO DETECT THE ERROR IN THIS CODE, KINDLY CHECK FOR ANY ERROR\n",
        "class Student:\n",
        "    def _init_(self, name, score):\n",
        "        self.name = name\n",
        "        self.score = score\n",
        "\n",
        "    def get_score(self):\n",
        "        return self.score\n",
        "      \n",
        "    \n",
        "    def describe(self):\n",
        "        return f\"{self.name} : {self.score}\"\n",
        "\n",
        "student = Student(\"John\", 85)\n",
        "print(student.get_score())  # Expected output: 85\n",
        "student.describe()  # Expected output: \"John: 85\"\n"
      ],
      "metadata": {
        "id": "nhlKIMUlC5qZ"
      },
      "execution_count": null,
      "outputs": []
    },
    {
      "cell_type": "markdown",
      "source": [
        "\\**Assignment 7**"
      ],
      "metadata": {
        "id": "wa3SWSVNELyd"
      }
    },
    {
      "cell_type": "code",
      "source": [
        "class Person:\n",
        "    def __init__(self, name):\n",
        "        self.name = name\n",
        "\n",
        "    def speak(self):\n",
        "        return \"Person \" + self.name + \" spoke something\"\n",
        "\n",
        "class Employee(Person):\n",
        "    def __init__(self, name):\n",
        "        super().__init__(name)\n",
        "        \n",
        "\n",
        "    def speak(self, word):\n",
        "        return \"Employee\" +\" \"  +self.name+ \" \" \"spoke something\" +\" \" +word\n",
        "        \n",
        "\n",
        "employee = Employee(\"David\")\n",
        "print(employee.speak(\"hello\"))"
      ],
      "metadata": {
        "colab": {
          "base_uri": "https://localhost:8080/"
        },
        "id": "lZutGNAHEPxN",
        "outputId": "ee608fbd-442c-48e2-b5a1-2a33f5b48065"
      },
      "execution_count": null,
      "outputs": [
        {
          "output_type": "stream",
          "name": "stdout",
          "text": [
            "Employee David spoke something hello\n"
          ]
        }
      ]
    },
    {
      "cell_type": "markdown",
      "source": [
        "**Assignment 8**"
      ],
      "metadata": {
        "id": "I4vfiPFIF3Eo"
      }
    },
    {
      "cell_type": "code",
      "source": [
        "country_capital = {\n",
        "    \"japan\": \"tokyo\",\n",
        "    \"vietnam\": \"hanoi\",\n",
        "    \"france\": \"paris\"\n",
        "}\n",
        "\n",
        "for key,value in country_capital.items():\n",
        "    print(key, \" - \", value)\n"
      ],
      "metadata": {
        "colab": {
          "base_uri": "https://localhost:8080/"
        },
        "id": "DprLItr8F7fg",
        "outputId": "062ba5fd-bb42-4ef5-bad4-0141a72cdd5a"
      },
      "execution_count": null,
      "outputs": [
        {
          "output_type": "stream",
          "name": "stdout",
          "text": [
            "japan  -  tokyo\n",
            "vietnam  -  hanoi\n",
            "france  -  paris\n"
          ]
        }
      ]
    },
    {
      "cell_type": "markdown",
      "source": [
        "**Assignment 9**"
      ],
      "metadata": {
        "id": "S3RE1s1RGy6g"
      }
    },
    {
      "cell_type": "code",
      "source": [
        "import math\n",
        "def solve_equation(a,b,c):\n",
        "  if a == 0:\n",
        "   print(\"Quadratic Equation values for 'a'cannot be zero\")\n",
        "  else: \n",
        "   discriminant_form = b*b-4*a*c\n",
        "   sqrt_value = math.sqrt(abs(discriminant_form))\n",
        "\n",
        "   if discriminant_form >0:\n",
        "     print(f\"Equation has two solutions {(-b + sqrt_value) / (2*a)} and {(-b -sqrt_value)/ (2*a)}\")\n",
        "\n",
        "   elif discriminant_form == 0:\n",
        "     print(f\"Equation has one solution {-b/(2*a)}\")\n",
        "   else:\n",
        "     print(\"no solution\")\n",
        "\n",
        "solve_equation(6,-1,-5)\n",
        "      \n",
        "\n",
        "\n",
        "\n"
      ],
      "metadata": {
        "colab": {
          "base_uri": "https://localhost:8080/"
        },
        "id": "AIFxHkhXGrcW",
        "outputId": "e9ba2b0a-442c-47d6-bcb6-0276a53aa40f"
      },
      "execution_count": null,
      "outputs": [
        {
          "output_type": "stream",
          "name": "stdout",
          "text": [
            "Equation has two solutions 1.0 and -0.8333333333333334\n"
          ]
        }
      ]
    }
  ]
}