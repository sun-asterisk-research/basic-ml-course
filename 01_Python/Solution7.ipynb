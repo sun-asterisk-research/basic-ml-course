{
  "nbformat": 4,
  "nbformat_minor": 0,
  "metadata": {
    "colab": {
      "provenance": [],
      "authorship_tag": "ABX9TyMOn9CuncfpPpQiKVkWnpGV",
      "include_colab_link": true
    },
    "kernelspec": {
      "name": "python3",
      "display_name": "Python 3"
    },
    "language_info": {
      "name": "python"
    }
  },
  "cells": [
    {
      "cell_type": "markdown",
      "metadata": {
        "id": "view-in-github",
        "colab_type": "text"
      },
      "source": [
        "<a href=\"https://colab.research.google.com/github/quadspark/basic-ml-course/blob/master/01_Python/Solution7.ipynb\" target=\"_parent\"><img src=\"https://colab.research.google.com/assets/colab-badge.svg\" alt=\"Open In Colab\"/></a>"
      ]
    },
    {
      "cell_type": "code",
      "execution_count": 14,
      "metadata": {
        "colab": {
          "base_uri": "https://localhost:8080/"
        },
        "id": "B9eXp4NieMYm",
        "outputId": "a81a8795-e908-4dd9-b052-c32a2c001170"
      },
      "outputs": [
        {
          "output_type": "stream",
          "name": "stdout",
          "text": [
            "employee David spoke  Hello\n"
          ]
        }
      ],
      "source": [
        "from typing_extensions import Self\n",
        "class Person:\n",
        "    def __init__(self, name):\n",
        "        self.name = name\n",
        "\n",
        "    def speak(self):\n",
        "        return \"Person \" + self.name + \" spoke something.\"\n",
        "\n",
        "class Employee(Person):\n",
        "    def __init__(self, name):\n",
        "      self.name = \"David \"\n",
        "\n",
        "    def speak(self, word):\n",
        "        self.word = \" Hello\"\n",
        "        return \"Employee \" + self.name + \"spoke \" + self.word\n",
        "\n",
        "employee = Employee(\"David\")\n",
        "print(employee.speak(\"hello\"))\n"
      ]
    }
  ]
}