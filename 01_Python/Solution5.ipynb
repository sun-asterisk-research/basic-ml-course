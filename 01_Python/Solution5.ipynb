{
  "nbformat": 4,
  "nbformat_minor": 0,
  "metadata": {
    "colab": {
      "provenance": [],
      "authorship_tag": "ABX9TyNl565c3i61EFWDra5FNCoF",
      "include_colab_link": true
    },
    "kernelspec": {
      "name": "python3",
      "display_name": "Python 3"
    },
    "language_info": {
      "name": "python"
    }
  },
  "cells": [
    {
      "cell_type": "markdown",
      "metadata": {
        "id": "view-in-github",
        "colab_type": "text"
      },
      "source": [
        "<a href=\"https://colab.research.google.com/github/quadspark/basic-ml-course/blob/master/01_Python/Solution5.ipynb\" target=\"_parent\"><img src=\"https://colab.research.google.com/assets/colab-badge.svg\" alt=\"Open In Colab\"/></a>"
      ]
    },
    {
      "cell_type": "code",
      "execution_count": 25,
      "metadata": {
        "colab": {
          "base_uri": "https://localhost:8080/"
        },
        "id": "eENbvsaK_wBr",
        "outputId": "9b968e19-a5e9-4323-f412-fa17c92cb24a"
      },
      "outputs": [
        {
          "output_type": "stream",
          "name": "stdout",
          "text": [
            "[20, 30, 40, 50, 0]\n"
          ]
        }
      ],
      "source": [
        "input_list = [10, 20, 10, 30, 40, 50, 10, 0]\n",
        ">>> list2= []\n",
        ">>> i = 0 \n",
        ">>> for i in range (len(input_list)):\n",
        "  if input_list[i] != 10:\n",
        "    list2.append(input_list[i])\n",
        ">>> list2\n",
        "\n",
        "final_list = list2.copy()\n",
        "\n",
        "print(final_list)\n"
      ]
    }
  ]
}