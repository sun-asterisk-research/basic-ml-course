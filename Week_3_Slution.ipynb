{
  "nbformat": 4,
  "nbformat_minor": 0,
  "metadata": {
    "colab": {
      "provenance": [],
      "authorship_tag": "ABX9TyPVTuGp70dN0l8Mko4mg7Rf",
      "include_colab_link": true
    },
    "kernelspec": {
      "name": "python3",
      "display_name": "Python 3"
    },
    "language_info": {
      "name": "python"
    }
  },
  "cells": [
    {
      "cell_type": "markdown",
      "metadata": {
        "id": "view-in-github",
        "colab_type": "text"
      },
      "source": [
        "<a href=\"https://colab.research.google.com/github/Timoh-Kingstar/basic-ml-course/blob/master/Week_3_Slution.ipynb\" target=\"_parent\"><img src=\"https://colab.research.google.com/assets/colab-badge.svg\" alt=\"Open In Colab\"/></a>"
      ]
    },
    {
      "cell_type": "code",
      "execution_count": null,
      "metadata": {
        "id": "yH7WyR7g8gwj"
      },
      "outputs": [],
      "source": [
        "import numpy as np"
      ]
    },
    {
      "cell_type": "code",
      "source": [
        "from sklearn.datasets import load_iris\n",
        "data = load_iris()\n",
        "X, Y = data.data, data.target"
      ],
      "metadata": {
        "id": "8bL5XXgA8t75"
      },
      "execution_count": null,
      "outputs": []
    },
    {
      "cell_type": "code",
      "source": [
        "Y"
      ],
      "metadata": {
        "colab": {
          "base_uri": "https://localhost:8080/"
        },
        "id": "6ErHH-fj8wXe",
        "outputId": "a5c8938c-e6fc-46c3-b7ba-e51d96e76eac"
      },
      "execution_count": null,
      "outputs": [
        {
          "output_type": "execute_result",
          "data": {
            "text/plain": [
              "array([0, 0, 0, 0, 0, 0, 0, 0, 0, 0, 0, 0, 0, 0, 0, 0, 0, 0, 0, 0, 0, 0,\n",
              "       0, 0, 0, 0, 0, 0, 0, 0, 0, 0, 0, 0, 0, 0, 0, 0, 0, 0, 0, 0, 0, 0,\n",
              "       0, 0, 0, 0, 0, 0, 1, 1, 1, 1, 1, 1, 1, 1, 1, 1, 1, 1, 1, 1, 1, 1,\n",
              "       1, 1, 1, 1, 1, 1, 1, 1, 1, 1, 1, 1, 1, 1, 1, 1, 1, 1, 1, 1, 1, 1,\n",
              "       1, 1, 1, 1, 1, 1, 1, 1, 1, 1, 1, 1, 2, 2, 2, 2, 2, 2, 2, 2, 2, 2,\n",
              "       2, 2, 2, 2, 2, 2, 2, 2, 2, 2, 2, 2, 2, 2, 2, 2, 2, 2, 2, 2, 2, 2,\n",
              "       2, 2, 2, 2, 2, 2, 2, 2, 2, 2, 2, 2, 2, 2, 2, 2, 2, 2])"
            ]
          },
          "metadata": {},
          "execution_count": 3
        }
      ]
    },
    {
      "cell_type": "code",
      "source": [
        "# only classify class 1 vs. class 2\n",
        "# Your code here\n",
        "idxs = Y > 0\n",
        "X = X[idxs, :]\n",
        "Y = Y[idxs]\n",
        "\n",
        "Y -= 1 #We need our label to be 0 and 1\n",
        "\n",
        "assert X.shape == (100, 4) #just to make sure"
      ],
      "metadata": {
        "id": "hYYQk91-9Sx0"
      },
      "execution_count": null,
      "outputs": []
    },
    {
      "cell_type": "code",
      "source": [
        "# Write your code here. \n",
        "x_means = np.mean(X, axis=0)\n",
        "x_stdev = np.std(X, axis=0)\n",
        "X = (X - x_means) / x_stdev"
      ],
      "metadata": {
        "id": "1_B7YpXv9eSL"
      },
      "execution_count": null,
      "outputs": []
    },
    {
      "cell_type": "code",
      "source": [
        "# Your code here\n",
        "X = np.hstack([np.ones((X.shape[0], 1)), X])\n",
        "\n",
        "# checking the shape of X\n",
        "assert X.shape == (100, 5)"
      ],
      "metadata": {
        "id": "XGXZDrDb-Bwt"
      },
      "execution_count": null,
      "outputs": []
    },
    {
      "cell_type": "code",
      "source": [
        "# Your code here\n",
        "weight = np.zeros((X.shape[1]))\n",
        "assert weight.shape == (5, )"
      ],
      "metadata": {
        "id": "yX98D0e8-a2p"
      },
      "execution_count": null,
      "outputs": []
    },
    {
      "cell_type": "code",
      "source": [
        "def sigmoid(z):\n",
        "    # Your code here\n",
        "    z = 1/ (1 + np.exp(-z))\n",
        "    return z"
      ],
      "metadata": {
        "id": "e0PFIHMk-uI_"
      },
      "execution_count": null,
      "outputs": []
    },
    {
      "cell_type": "code",
      "source": [
        "def accuracy(X, Y, weight):\n",
        "    '''\n",
        "    Evaluate the model, represented by `weight`, with data (X, Y).\n",
        "    \n",
        "    Input:\n",
        "        X:      data features\n",
        "        Y:      data labels\n",
        "        weight: model weights\n",
        "    Ouput:\n",
        "        Model accuracy on input data.\n",
        "    '''\n",
        "    # implement your code here. Below are only some suggestion. \n",
        "    # You don't necessary have to follow the exact step\n",
        "\n",
        "    #Step 1: get the model prediction\n",
        "  \n",
        "    #Step 2: Threshold the probability value to get the class. \n",
        "    \n",
        "    #Step 3: Compare your model predicted classes with the label y\n",
        "   \n",
        "\n",
        "    #step 4: calculate the accuracy using the formula above\n",
        "    probability = sigmoid(X @ weight)\n",
        "    \n",
        "    pred = probability > 0.5\n",
        "\n",
        "    pred = (pred == Y)\n",
        "    \n",
        "    return np.sum(pred) / len(pred)"
      ],
      "metadata": {
        "id": "YWXPJP4k_FOV"
      },
      "execution_count": null,
      "outputs": []
    },
    {
      "cell_type": "code",
      "source": [
        "for i in range(len(pred)):\n",
        "    if pred[i] == Y:"
      ],
      "metadata": {
        "colab": {
          "base_uri": "https://localhost:8080/",
          "height": 130
        },
        "id": "jguElKeb_pPA",
        "outputId": "fb95391d-26ff-46e8-deb1-1a0f6bab9346"
      },
      "execution_count": null,
      "outputs": [
        {
          "output_type": "error",
          "ename": "SyntaxError",
          "evalue": "ignored",
          "traceback": [
            "\u001b[0;36m  File \u001b[0;32m\"<ipython-input-11-3ef021484f8a>\"\u001b[0;36m, line \u001b[0;32m2\u001b[0m\n\u001b[0;31m    if pred[i] == Y:\u001b[0m\n\u001b[0m                    ^\u001b[0m\n\u001b[0;31mSyntaxError\u001b[0m\u001b[0;31m:\u001b[0m unexpected EOF while parsing\n"
          ]
        }
      ]
    },
    {
      "cell_type": "code",
      "source": [
        "#Don't change these\n",
        "# learning rate\n",
        "alpha = 1e-2\n",
        "# epochs\n",
        "epoch = 10000"
      ],
      "metadata": {
        "id": "tvj2rzQmAcwn"
      },
      "execution_count": null,
      "outputs": []
    },
    {
      "cell_type": "code",
      "source": [
        "# your code here\n",
        "for ep in range(epoch):\n",
        "    pred = sigmoid(X @ weight)\n",
        "    loss = -np.sum(Y * np.log(pred) + (1 - Y) * np.log(1 - pred)) / len(Y)\n",
        "    gradient = X.T @ (pred - Y) / len(pred)\n",
        "    weight -= alpha * gradient\n",
        "    acc = accuracy (X, Y, weight)\n",
        "    if ep % 1000 == 0: print(f\"Epoch {ep}:    Loss: {loss:8.05f}    Accuracy {acc*100:.03f}%\")"
      ],
      "metadata": {
        "colab": {
          "base_uri": "https://localhost:8080/"
        },
        "id": "yc5zHwQwAnqy",
        "outputId": "b31e808b-1d30-48a0-cdde-fc581f5d2eb0"
      },
      "execution_count": null,
      "outputs": [
        {
          "output_type": "stream",
          "name": "stdout",
          "text": [
            "Epoch 0:    Loss:  0.69315    Accuracy 90.000%\n",
            "Epoch 1000:    Loss:  0.20629    Accuracy 94.000%\n",
            "Epoch 2000:    Loss:  0.15382    Accuracy 95.000%\n",
            "Epoch 3000:    Loss:  0.13005    Accuracy 95.000%\n",
            "Epoch 4000:    Loss:  0.11631    Accuracy 96.000%\n",
            "Epoch 5000:    Loss:  0.10727    Accuracy 96.000%\n",
            "Epoch 6000:    Loss:  0.10084    Accuracy 96.000%\n",
            "Epoch 7000:    Loss:  0.09600    Accuracy 96.000%\n",
            "Epoch 8000:    Loss:  0.09221    Accuracy 96.000%\n",
            "Epoch 9000:    Loss:  0.08915    Accuracy 96.000%\n"
          ]
        }
      ]
    },
    {
      "cell_type": "code",
      "source": [
        "# just to double check\n",
        "assert np.allclose(weight, np.array([0.12047504, -0.44156746, -0.89309501, 2.965364, 3.3427994]))"
      ],
      "metadata": {
        "id": "ENTsDmxdA0hg"
      },
      "execution_count": null,
      "outputs": []
    },
    {
      "cell_type": "code",
      "source": [
        "# model accuracy\n",
        "accuracy(X, Y, weight)"
      ],
      "metadata": {
        "colab": {
          "base_uri": "https://localhost:8080/",
          "height": 183
        },
        "id": "ao8vsG-4A2qZ",
        "outputId": "367cf981-006f-4bce-de20-00f37421bc1b"
      },
      "execution_count": 1,
      "outputs": [
        {
          "output_type": "error",
          "ename": "NameError",
          "evalue": "ignored",
          "traceback": [
            "\u001b[0;31m---------------------------------------------------------------------------\u001b[0m",
            "\u001b[0;31mNameError\u001b[0m                                 Traceback (most recent call last)",
            "\u001b[0;32m<ipython-input-1-63a5c7cca582>\u001b[0m in \u001b[0;36m<module>\u001b[0;34m\u001b[0m\n\u001b[1;32m      1\u001b[0m \u001b[0;31m# model accuracy\u001b[0m\u001b[0;34m\u001b[0m\u001b[0;34m\u001b[0m\u001b[0;34m\u001b[0m\u001b[0m\n\u001b[0;32m----> 2\u001b[0;31m \u001b[0maccuracy\u001b[0m\u001b[0;34m(\u001b[0m\u001b[0mX\u001b[0m\u001b[0;34m,\u001b[0m \u001b[0mY\u001b[0m\u001b[0;34m,\u001b[0m \u001b[0mweight\u001b[0m\u001b[0;34m)\u001b[0m\u001b[0;34m\u001b[0m\u001b[0;34m\u001b[0m\u001b[0m\n\u001b[0m",
            "\u001b[0;31mNameError\u001b[0m: name 'accuracy' is not defined"
          ]
        }
      ]
    }
  ]
}