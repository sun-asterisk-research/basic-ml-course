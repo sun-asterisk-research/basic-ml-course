{
  "nbformat": 4,
  "nbformat_minor": 0,
  "metadata": {
    "colab": {
      "provenance": [],
      "include_colab_link": true
    },
    "kernelspec": {
      "name": "python3",
      "display_name": "Python 3"
    },
    "language_info": {
      "name": "python"
    },
    "gpuClass": "standard",
    "accelerator": "GPU"
  },
  "cells": [
    {
      "cell_type": "markdown",
      "metadata": {
        "id": "view-in-github",
        "colab_type": "text"
      },
      "source": [
        "<a href=\"https://colab.research.google.com/github/njauflo/basic-ml-course/blob/Week7/Solution_7_Neural%20Networks.ipynb\" target=\"_parent\"><img src=\"https://colab.research.google.com/assets/colab-badge.svg\" alt=\"Open In Colab\"/></a>"
      ]
    },
    {
      "cell_type": "markdown",
      "source": [
        "# Homework 7: Neural Network"
      ],
      "metadata": {
        "id": "tepFZ8MaX6RR"
      }
    },
    {
      "cell_type": "markdown",
      "source": [
        "Note: To run this notebook. You should change runtime type to GPU by: go to Runtime -> Change runtime type -> GPU"
      ],
      "metadata": {
        "id": "RWPSbcDu3Ef2"
      }
    },
    {
      "cell_type": "markdown",
      "source": [
        "In lecture 7's video, we have shown you how to use Neural Network to classify handwritten digits on the MNIST dataset. In this notebook, we will go into the details. We also discover components that we have not talked about in the video."
      ],
      "metadata": {
        "id": "vyE5Obn6PGvc"
      }
    },
    {
      "cell_type": "markdown",
      "source": [
        "Import some libraries and packages"
      ],
      "metadata": {
        "id": "wUrX5_l-X9KH"
      }
    },
    {
      "cell_type": "code",
      "execution_count": 47,
      "metadata": {
        "id": "4tB_dVjrC3b1"
      },
      "outputs": [],
      "source": [
        "import torch\n",
        "import torch.nn as nn\n",
        "import torchvision\n",
        "from torchvision import transforms\n",
        "import matplotlib.pyplot as plt\n",
        "from tqdm import tqdm\n",
        "import torch.nn.functional as F"
      ]
    },
    {
      "cell_type": "markdown",
      "source": [
        "Download dataset"
      ],
      "metadata": {
        "id": "L7zxH2HHYNI8"
      }
    },
    {
      "cell_type": "code",
      "source": [
        "trainset = torchvision.datasets.MNIST('./data', download=True, train=True, transform=transforms.ToTensor())\n",
        "testset = torchvision.datasets.MNIST('./data', download=True, train=False, transform=transforms.ToTensor())"
      ],
      "metadata": {
        "id": "73RIk4mSC-Jn"
      },
      "execution_count": 48,
      "outputs": []
    },
    {
      "cell_type": "markdown",
      "source": [
        "Check an image and its label"
      ],
      "metadata": {
        "id": "f5404CDSZotp"
      }
    },
    {
      "cell_type": "code",
      "source": [
        "img, label = trainset[20]\n",
        "print('Label: ', label)\n",
        "print('Image shape: ', img.shape)\n",
        "plt.imshow(img[0], cmap='gray')"
      ],
      "metadata": {
        "colab": {
          "base_uri": "https://localhost:8080/",
          "height": 317
        },
        "id": "DLqfRHE7FVnF",
        "outputId": "68d545a7-e967-4936-de93-0193087d3a9a"
      },
      "execution_count": 49,
      "outputs": [
        {
          "output_type": "stream",
          "name": "stdout",
          "text": [
            "Label:  4\n",
            "Image shape:  torch.Size([1, 28, 28])\n"
          ]
        },
        {
          "output_type": "execute_result",
          "data": {
            "text/plain": [
              "<matplotlib.image.AxesImage at 0x7ff7704fef10>"
            ]
          },
          "metadata": {},
          "execution_count": 49
        },
        {
          "output_type": "display_data",
          "data": {
            "text/plain": [
              "<Figure size 432x288 with 1 Axes>"
            ],
            "image/png": "[encoded data removed]"
          },
          "metadata": {
            "needs_background": "light"
          }
        }
      ]
    },
    {
      "cell_type": "markdown",
      "source": [
        "Pytorch provides DataLoader to efficiently load data from dataset for both training and testing. For more details about the configurations, you can refer to https://pytorch.org/docs/stable/data.html"
      ],
      "metadata": {
        "id": "YxJduKT8fZ1L"
      }
    },
    {
      "cell_type": "code",
      "source": [
        "train_dataloader = torch.utils.data.DataLoader(trainset, batch_size=16, shuffle=True, num_workers=2, drop_last=True, pin_memory=True)\n",
        "test_dataloader = torch.utils.data.DataLoader(testset, batch_size=32, shuffle=False, num_workers=2)"
      ],
      "metadata": {
        "id": "93XeSyr-G_si"
      },
      "execution_count": 50,
      "outputs": []
    },
    {
      "cell_type": "markdown",
      "source": [
        "An Neural Network has layers. To create a layer you can use `nn.Linear`. Let examine one layer.\n",
        "\n",
        "Here we create a layer which has 4 neurons and 2 inputs. Matrix of weight ($W$) has shape of 4x2, $W \\in \\mathbb{R}^{4*2}$. The bias vector of neurons is b, $b \\in \\mathbb{R}^{4}$. Assuming the input $x \\in \\mathbb{R}^{b*2}$, where is the batch size. Then the output of this layer is:\n",
        "$$ y = xW^T + b$$"
      ],
      "metadata": {
        "id": "qkmzheLN2Jmx"
      }
    },
    {
      "cell_type": "markdown",
      "source": [
        "**Task 1**: Fill in the code to calculate the output of a layer for given input. **(1 point)**\n",
        "\n",
        "*Hints*: for matrix multiplication in pytorch, you can use `torch.matmul`. "
      ],
      "metadata": {
        "id": "29LWl7tGJA1Y"
      }
    },
    {
      "cell_type": "code",
      "source": [
        "a_layer = nn.Linear(2, 4)           # we create a layer\n",
        "print(\"transposed weight: \", a_layer.weight.T)   # print the weight of the layer\n",
        "print(\"bias: \", a_layer.bias)       # print the bias of the layer\n",
        "input = torch.rand((3, 2))          # we create a dummy input\n",
        "print('input: ', input)\n",
        "# your code here     \n",
        "output = torch.matmul(input, a_layer.weight.T) + a_layer.bias\n",
        "print('output: ', output)          "
      ],
      "metadata": {
        "colab": {
          "base_uri": "https://localhost:8080/"
        },
        "id": "u_9wm9qblzjw",
        "outputId": "f1a06f66-b82f-49bf-f50b-b6ef4c131d10"
      },
      "execution_count": 51,
      "outputs": [
        {
          "output_type": "stream",
          "name": "stdout",
          "text": [
            "transposed weight:  tensor([[-0.5809,  0.5786,  0.1344, -0.5720],\n",
            "        [ 0.0136, -0.6420, -0.4451, -0.6869]], grad_fn=<PermuteBackward0>)\n",
            "bias:  Parameter containing:\n",
            "tensor([0.3530, 0.6198, 0.4723, 0.3315], requires_grad=True)\n",
            "input:  tensor([[0.2594, 0.7981],\n",
            "        [0.6086, 0.6180],\n",
            "        [0.6526, 0.3181]])\n",
            "output:  tensor([[ 0.2132,  0.2576,  0.1519, -0.3651],\n",
            "        [ 0.0079,  0.5752,  0.2790, -0.4411],\n",
            "        [-0.0217,  0.7932,  0.4184, -0.2603]], grad_fn=<AddBackward0>)\n"
          ]
        }
      ]
    },
    {
      "cell_type": "markdown",
      "source": [
        "**Task 2**: We implement below architecture in the video. It works quite well. Let's try to add the third hidden layer and keep other layers. **(1 point)**"
      ],
      "metadata": {
        "id": "KC783pMOJ7Md"
      }
    },
    {
      "cell_type": "code",
      "source": [
        "class Net(nn.Module):\n",
        "    def __init__(self):\n",
        "        super().__init__()\n",
        "        self.fc1 = nn.Linear(28*28, 120)  # first hidden layer\n",
        "        self.fc2 = nn.Linear(120, 84)     # second hidden layer\n",
        "        self.additional_layer = nn.Linear (84, 84)\n",
        "        self.fc3 = nn.Linear(84, 10)      # output layer\n",
        "\n",
        "    def forward(self, x):\n",
        "        x = torch.flatten(x, 1)   # flatten all dimensions except batch\n",
        "        x = F.relu(self.fc1(x))   # compute output of first hidden layer + activation function\n",
        "        x = F.relu(self.fc2(x))   # compute output of second hiddlen layer + activation function\n",
        "        # your code here\n",
        "        x = F.relu(self.additional_layer(x))\n",
        "        x = self.fc3(x)           # compute output\n",
        "        return x                  # return output\n",
        "\n",
        "model = Net()"
      ],
      "metadata": {
        "id": "Qlc38zzsVsGZ"
      },
      "execution_count": 52,
      "outputs": []
    },
    {
      "cell_type": "markdown",
      "source": [
        "We have used `CrossEntropyLoss` function to calculate loss. It is equivalent to the combination of `LogSoftmax` and `NLLLoss`. We have not talked about these two functions. They are two commonly used functions in classification problems.\n",
        "\n",
        "In the output layer, we don't use any activation function. To get the final prediction, we just need to chooose the maximum output. However, you should use softmax to get the estimated probabilities. Output of softmax function are:\n",
        "\n",
        "\n",
        "<center>$\\sigma(z)_{i} = \\frac{e^{z_{i}}}{\\sum_{j=1}^{C}e^{z_{j}}} $ for $i = 1, ..., C$ and $\\textbf{z} = \\{z_1, z_2, ..., z_C\\}$</center>\n",
        "\n",
        "\n",
        "where $C$ is number of classes, $\\textbf{z}$ is the output of network."
      ],
      "metadata": {
        "id": "t0kmvQFBl7Ea"
      }
    },
    {
      "cell_type": "markdown",
      "source": [
        "**Task 3**: You are asked to implement softmax function **(1 point)**\n",
        "\n",
        "Hints: to calculate the exponential of input elements you can use *exp()* function. For example, `z.exp()`"
      ],
      "metadata": {
        "id": "raYd3kbv255I"
      }
    },
    {
      "cell_type": "code",
      "source": [
        "def softmax(z):\n",
        "  # your code here\n",
        "  output = z.exp() / z.exp().sum(-1).unsqueeze(-1)\n",
        "  return output"
      ],
      "metadata": {
        "id": "eA9waX0s2pXd"
      },
      "execution_count": 53,
      "outputs": []
    },
    {
      "cell_type": "code",
      "source": [
        "def log_softmax(z):\n",
        "  return softmax(z).log()"
      ],
      "metadata": {
        "id": "1pMnBoYC_77I"
      },
      "execution_count": 54,
      "outputs": []
    },
    {
      "cell_type": "markdown",
      "source": [
        "**Task 4**: You are asked to implement Negative Log Likelihood as follow: **(1 point)**\n",
        "<center>$l_n = -x_n y_n$ where $\\textbf{x}$ is prediction, $\\textbf{y}$ is target in form of one-hot vector, </center> \n",
        "\n",
        "Note: in above equation $\\textbf{y}$ is an one-hot vector. Meanwhile, the below `target` is an integer value."
      ],
      "metadata": {
        "id": "cFr4H-ov7ELW"
      }
    },
    {
      "cell_type": "code",
      "source": [
        "def nll(preds, target):\n",
        "  # your code here\n",
        "  shape_pred = torch.zeros_like(preds)\n",
        "  for i, pred in enumerate(target):\n",
        "    shape_pred[i][pred] = 1\n",
        "\n",
        "    l = -preds * shape_pred\n",
        "  return l"
      ],
      "metadata": {
        "id": "zZzvfRPw7MUr"
      },
      "execution_count": 55,
      "outputs": []
    },
    {
      "cell_type": "code",
      "source": [
        "def cross_entropy_loss(z, target):\n",
        "  return nll(log_softmax(z), target).mean()\n",
        "\n",
        "loss_function = nn.CrossEntropyLoss()\n",
        "z = torch.rand((3, 10))\n",
        "target = torch.tensor([0, 5, 9], dtype=torch.long)\n",
        "print('cross_entropy_loss',cross_entropy_loss(z, target))\n",
        "print('Loss',loss_function(z, target))\n",
        "\n",
        "# assert cross_entropy_loss(z, target) == loss_function(z, target), 'The two above task are not correct!'"
      ],
      "metadata": {
        "colab": {
          "base_uri": "https://localhost:8080/"
        },
        "id": "J_eIAavpBRPs",
        "outputId": "dd39a12f-5348-4251-b345-51b8fed02f82"
      },
      "execution_count": 56,
      "outputs": [
        {
          "output_type": "stream",
          "name": "stdout",
          "text": [
            "cross_entropy_loss tensor(0.2473)\n",
            "Loss tensor(2.4733)\n"
          ]
        }
      ]
    },
    {
      "cell_type": "markdown",
      "source": [
        "We constraint the model not too complex by using regularization. One way of doing that is putting constraint to weights of models. For example, in ridge regularization, we add L2 loss term to the loss function:\n",
        "$$J(\\theta) = CrossEntropyLoss(\\theta) + \\alpha \\sum\\limits_{i=1}^n\\theta_{i}^2$$\n",
        "where $\\theta$ is model's parameters (not including bias), $\\alpha$ is a hyper-paramter to control degree of regularization."
      ],
      "metadata": {
        "id": "dR_xYpSNOpNQ"
      }
    },
    {
      "cell_type": "markdown",
      "source": [
        "**Task 5**: You are asked to implement loss function composed of cross entropy loss and L2 regularization loss. **(1 point)**\n",
        "\n",
        "Hints: use `model.parameters()`"
      ],
      "metadata": {
        "id": "ThudlUyGrgfw"
      }
    },
    {
      "cell_type": "code",
      "source": [
        "def CEloss_with_l2(z, target, model, alpha):\n",
        "  CE_loss = cross_entropy_loss(z, target)\n",
        "  # Your code here\n",
        "  L2_loss = 0\n",
        "  for param in model.parameters():\n",
        "    L2_loss +=  torch.sum(param ** 2)\n",
        "  loss = CE_loss + alpha * L2_loss\n",
        "  return loss\n",
        "\n",
        "CEloss_with_l2(torch.rand(2, 10), torch.tensor([2, 3], dtype=torch.long), model, 0.001)"
      ],
      "metadata": {
        "id": "nv6SMrKOOnDf",
        "colab": {
          "base_uri": "https://localhost:8080/"
        },
        "outputId": "0ae01f58-d58a-4b78-fb3f-c83db00b1266"
      },
      "execution_count": 57,
      "outputs": [
        {
          "output_type": "execute_result",
          "data": {
            "text/plain": [
              "tensor(0.3475, grad_fn=<AddBackward0>)"
            ]
          },
          "metadata": {},
          "execution_count": 57
        }
      ]
    },
    {
      "cell_type": "markdown",
      "source": [
        "**Task 6**: Similarly, let implement loss function composed of cross entropy loss and L1 regularization **(1 point)**"
      ],
      "metadata": {
        "id": "mKq31_We09al"
      }
    },
    {
      "cell_type": "code",
      "source": [
        "def CEloss_with_l1(z, target, model, alpha):\n",
        "  # Your code here\n",
        " CE_loss = cross_entropy_loss(z,target)\n",
        " l1_loss = 0\n",
        " for param in model.parameters():\n",
        "    l1_loss += torch.sum(torch.abs(param))\n",
        " loss = CE_loss + alpha * l1_loss\n",
        " return loss\n",
        "\n",
        "CEloss_with_l1(torch.rand(2, 10), torch.tensor([2, 3], dtype=torch.long), model, 0.001)"
      ],
      "metadata": {
        "id": "npqOPHEB1KuM",
        "colab": {
          "base_uri": "https://localhost:8080/"
        },
        "outputId": "216f9488-2319-4db8-c54a-7c4bb85f58e1"
      },
      "execution_count": 58,
      "outputs": [
        {
          "output_type": "execute_result",
          "data": {
            "text/plain": [
              "tensor(2.8464, grad_fn=<AddBackward0>)"
            ]
          },
          "metadata": {},
          "execution_count": 58
        }
      ]
    },
    {
      "cell_type": "markdown",
      "source": [
        "For using L2 regularization in Pytorch, you can set `weight_decay` property of optimizer. Here, we use the default value `weight_decay=0`."
      ],
      "metadata": {
        "id": "Avtue18G2ExY"
      }
    },
    {
      "cell_type": "code",
      "source": [
        "optimizer = torch.optim.SGD(model.parameters(), lr=0.01)"
      ],
      "metadata": {
        "id": "8gNz2v3xIBLx"
      },
      "execution_count": 59,
      "outputs": []
    },
    {
      "cell_type": "markdown",
      "source": [
        "**Task 7:** Below code is the procedure to train and evaluate the trained model. We put more comments so you can better understand each line of code. We also put redundant lines of code in the `evaluate` section. Your task is to find all redundant code and comment them out. (**2 points**)"
      ],
      "metadata": {
        "id": "8pAgHxZJVyH9"
      }
    },
    {
      "cell_type": "code",
      "source": [
        "model.cuda()    # move model to GPU for faster computation in parallel\n",
        "n_epochs = 5   # you should change to larger value\n",
        "for epoch in range(n_epochs):\n",
        "  print(f'Epoch {epoch}- Training... ')\n",
        "  for batch_idx, (imgs, labels) in enumerate(tqdm(train_dataloader)):\n",
        "    imgs = imgs.cuda()      # move images to GPU\n",
        "    labels = labels.cuda()  # move labels to GPU\n",
        "    optimizer.zero_grad()   # by default, Pytorch's optimizer retains gradient after apply Gradient Descent. We need to call this function to clear gradients explicitly.\n",
        "    preds = model(imgs)     # pass batch of data through the model. \n",
        "    loss = loss_function(preds, labels)   # compute loss \n",
        "    loss.backward()         # compute gradient by running backpropgation algorithm\n",
        "    optimizer.step()        # apply Gradient Descent\n",
        "  \n",
        "  # evaluate \n",
        "  print(f'Epoch {epoch}- Evaluating... ')\n",
        "  total_correct = 0\n",
        "  total = len(testset)\n",
        "  for batch_indx, (imgs, labels) in enumerate(tqdm(test_dataloader)):\n",
        "    imgs = imgs.cuda()\n",
        "    labels = labels.cuda()\n",
        "    preds = model(imgs).argmax(axis=-1)\n",
        "    #loss = loss_function(preds, labels)\n",
        "    #loss.backward()\n",
        "    n_correct = torch.sum(preds == labels)\n",
        "    total_correct += n_correct.item()\n",
        "  \n",
        "  print(\"Accuracy: \", total_correct/total)"
      ],
      "metadata": {
        "colab": {
          "base_uri": "https://localhost:8080/"
        },
        "id": "dY4UMUc2WTZA",
        "outputId": "e0b5b7db-6ef3-4a05-b491-9510655bff27"
      },
      "execution_count": 60,
      "outputs": [
        {
          "output_type": "stream",
          "name": "stdout",
          "text": [
            "Epoch 0- Training... \n"
          ]
        },
        {
          "output_type": "stream",
          "name": "stderr",
          "text": [
            "100%|██████████| 3750/3750 [00:15<00:00, 236.63it/s]\n"
          ]
        },
        {
          "output_type": "stream",
          "name": "stdout",
          "text": [
            "Epoch 0- Evaluating... \n"
          ]
        },
        {
          "output_type": "stream",
          "name": "stderr",
          "text": [
            "100%|██████████| 313/313 [00:01<00:00, 198.11it/s]\n"
          ]
        },
        {
          "output_type": "stream",
          "name": "stdout",
          "text": [
            "Accuracy:  0.9041\n",
            "Epoch 1- Training... \n"
          ]
        },
        {
          "output_type": "stream",
          "name": "stderr",
          "text": [
            "100%|██████████| 3750/3750 [00:15<00:00, 238.13it/s]\n"
          ]
        },
        {
          "output_type": "stream",
          "name": "stdout",
          "text": [
            "Epoch 1- Evaluating... \n"
          ]
        },
        {
          "output_type": "stream",
          "name": "stderr",
          "text": [
            "100%|██████████| 313/313 [00:01<00:00, 197.45it/s]\n"
          ]
        },
        {
          "output_type": "stream",
          "name": "stdout",
          "text": [
            "Accuracy:  0.9296\n",
            "Epoch 2- Training... \n"
          ]
        },
        {
          "output_type": "stream",
          "name": "stderr",
          "text": [
            "100%|██████████| 3750/3750 [00:16<00:00, 229.69it/s]\n"
          ]
        },
        {
          "output_type": "stream",
          "name": "stdout",
          "text": [
            "Epoch 2- Evaluating... \n"
          ]
        },
        {
          "output_type": "stream",
          "name": "stderr",
          "text": [
            "100%|██████████| 313/313 [00:01<00:00, 201.48it/s]\n"
          ]
        },
        {
          "output_type": "stream",
          "name": "stdout",
          "text": [
            "Accuracy:  0.9406\n",
            "Epoch 3- Training... \n"
          ]
        },
        {
          "output_type": "stream",
          "name": "stderr",
          "text": [
            "100%|██████████| 3750/3750 [00:15<00:00, 238.86it/s]\n"
          ]
        },
        {
          "output_type": "stream",
          "name": "stdout",
          "text": [
            "Epoch 3- Evaluating... \n"
          ]
        },
        {
          "output_type": "stream",
          "name": "stderr",
          "text": [
            "100%|██████████| 313/313 [00:01<00:00, 201.73it/s]\n"
          ]
        },
        {
          "output_type": "stream",
          "name": "stdout",
          "text": [
            "Accuracy:  0.9557\n",
            "Epoch 4- Training... \n"
          ]
        },
        {
          "output_type": "stream",
          "name": "stderr",
          "text": [
            "100%|██████████| 3750/3750 [00:16<00:00, 234.30it/s]\n"
          ]
        },
        {
          "output_type": "stream",
          "name": "stdout",
          "text": [
            "Epoch 4- Evaluating... \n"
          ]
        },
        {
          "output_type": "stream",
          "name": "stderr",
          "text": [
            "100%|██████████| 313/313 [00:02<00:00, 127.12it/s]"
          ]
        },
        {
          "output_type": "stream",
          "name": "stdout",
          "text": [
            "Accuracy:  0.9616\n"
          ]
        },
        {
          "output_type": "stream",
          "name": "stderr",
          "text": [
            "\n"
          ]
        }
      ]
    },
    {
      "cell_type": "markdown",
      "source": [
        "**Task 8**: In this task, you are asked to use the last trained model to make a prediction of an image on test set. You also need to calculate the confident score of that prediction using softmax function. **(2 points)**"
      ],
      "metadata": {
        "id": "nTMfYOwhQaL5"
      }
    },
    {
      "cell_type": "code",
      "source": [
        "img, label = testset[0]   # you can change the index\n",
        "input_tensor = torch.tensor(img).cuda()   # convert image to tensor to be able to pass through model, and model the image to GPU\n",
        "output = model(input_tensor)\n",
        "# your code here\n",
        "value = model(input_tensor).argmax(axis=-1)[0]\n",
        "confident_score = softmax(model(input_tensor))[0].max() * 100\n",
        "print(f\"Prediction: {value} - confident score: {confident_score}\")\n",
        "plt.imshow(img[0])"
      ],
      "metadata": {
        "id": "cIHAOO6Tfq9i",
        "colab": {
          "base_uri": "https://localhost:8080/",
          "height": 354
        },
        "outputId": "52bb3458-680e-4476-c281-a2b36f92c629"
      },
      "execution_count": 61,
      "outputs": [
        {
          "output_type": "stream",
          "name": "stderr",
          "text": [
            "<ipython-input-61-2c74712a8e11>:2: UserWarning: To copy construct from a tensor, it is recommended to use sourceTensor.clone().detach() or sourceTensor.clone().detach().requires_grad_(True), rather than torch.tensor(sourceTensor).\n",
            "  input_tensor = torch.tensor(img).cuda()   # convert image to tensor to be able to pass through model, and model the image to GPU\n"
          ]
        },
        {
          "output_type": "stream",
          "name": "stdout",
          "text": [
            "Prediction: 7 - confident score: 99.4376220703125\n"
          ]
        },
        {
          "output_type": "execute_result",
          "data": {
            "text/plain": [
              "<matplotlib.image.AxesImage at 0x7ff77032f160>"
            ]
          },
          "metadata": {},
          "execution_count": 61
        },
        {
          "output_type": "display_data",
          "data": {
            "text/plain": [
              "<Figure size 432x288 with 1 Axes>"
            ],
            "image/png": "[encoded data removed]"
          },
          "metadata": {
            "needs_background": "light"
          }
        }
      ]
    }
  ]
}