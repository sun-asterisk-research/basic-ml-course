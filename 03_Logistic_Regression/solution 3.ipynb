{
  "nbformat": 4,
  "nbformat_minor": 0,
  "metadata": {
    "colab": {
      "provenance": [],
      "collapsed_sections": [],
      "authorship_tag": "ABX9TyMr2ysTjS7AlJLZh5cU/hyr",
      "include_colab_link": true
    },
    "kernelspec": {
      "name": "python3",
      "display_name": "Python 3"
    },
    "language_info": {
      "name": "python"
    }
  },
  "cells": [
    {
      "cell_type": "markdown",
      "metadata": {
        "id": "view-in-github",
        "colab_type": "text"
      },
      "source": [
        "<a href=\"https://colab.research.google.com/github/MUTTA-ISIGI/basic-ml-course/blob/logistic/03_Logistic_Regression/solution%203.ipynb\" target=\"_parent\"><img src=\"https://colab.research.google.com/assets/colab-badge.svg\" alt=\"Open In Colab\"/></a>"
      ]
    },
    {
      "cell_type": "code",
      "execution_count": 21,
      "metadata": {
        "id": "qvszTznrbqo1"
      },
      "outputs": [],
      "source": [
        "import numpy as np\n",
        "import pandas as pd"
      ]
    },
    {
      "cell_type": "code",
      "source": [
        "from sklearn.datasets import load_iris\n",
        "data = load_iris()\n",
        "X, Y = data.data, data.target"
      ],
      "metadata": {
        "id": "XsMlJb-keFez"
      },
      "execution_count": 22,
      "outputs": []
    },
    {
      "cell_type": "code",
      "source": [
        "X.shape,Y.shape"
      ],
      "metadata": {
        "colab": {
          "base_uri": "https://localhost:8080/"
        },
        "id": "y8ZY8iSujlPG",
        "outputId": "6160a83e-aa08-4c94-b400-222076cf3503"
      },
      "execution_count": 23,
      "outputs": [
        {
          "output_type": "execute_result",
          "data": {
            "text/plain": [
              "((150, 4), (150,))"
            ]
          },
          "metadata": {},
          "execution_count": 23
        }
      ]
    },
    {
      "cell_type": "code",
      "source": [
        "print(Y)"
      ],
      "metadata": {
        "colab": {
          "base_uri": "https://localhost:8080/"
        },
        "id": "Dcfy6pMtmCpZ",
        "outputId": "a6038c38-db51-4d47-c962-84b5a38b8938"
      },
      "execution_count": 24,
      "outputs": [
        {
          "output_type": "stream",
          "name": "stdout",
          "text": [
            "[0 0 0 0 0 0 0 0 0 0 0 0 0 0 0 0 0 0 0 0 0 0 0 0 0 0 0 0 0 0 0 0 0 0 0 0 0\n",
            " 0 0 0 0 0 0 0 0 0 0 0 0 0 1 1 1 1 1 1 1 1 1 1 1 1 1 1 1 1 1 1 1 1 1 1 1 1\n",
            " 1 1 1 1 1 1 1 1 1 1 1 1 1 1 1 1 1 1 1 1 1 1 1 1 1 1 2 2 2 2 2 2 2 2 2 2 2\n",
            " 2 2 2 2 2 2 2 2 2 2 2 2 2 2 2 2 2 2 2 2 2 2 2 2 2 2 2 2 2 2 2 2 2 2 2 2 2\n",
            " 2 2]\n"
          ]
        }
      ]
    },
    {
      "cell_type": "code",
      "source": [
        "# only classify class 1 vs. class 2\n",
        "# Your code here\n",
        "\n",
        "\n",
        "X = X[50:150]\n",
        "Y = Y[50:150]\n",
        " \n",
        "\n",
        "print(X.shape)\n",
        "print(Y.shape)\n",
        "\n",
        "Y -= 1 #We need our label to be 0 and 1\n",
        "\n",
        "assert X.shape == (100, 4) #just to make sure"
      ],
      "metadata": {
        "id": "KDc3xQDNeLlB",
        "colab": {
          "base_uri": "https://localhost:8080/"
        },
        "outputId": "6fe23c0f-928a-4bd3-af84-edfdbd96803f"
      },
      "execution_count": 25,
      "outputs": [
        {
          "output_type": "stream",
          "name": "stdout",
          "text": [
            "(100, 4)\n",
            "(100,)\n"
          ]
        }
      ]
    },
    {
      "cell_type": "code",
      "source": [
        "print(Y)"
      ],
      "metadata": {
        "colab": {
          "base_uri": "https://localhost:8080/"
        },
        "id": "biGbPcmkmTkn",
        "outputId": "c1be2cc4-b837-4c76-d311-54c22fe80030"
      },
      "execution_count": 26,
      "outputs": [
        {
          "output_type": "stream",
          "name": "stdout",
          "text": [
            "[0 0 0 0 0 0 0 0 0 0 0 0 0 0 0 0 0 0 0 0 0 0 0 0 0 0 0 0 0 0 0 0 0 0 0 0 0\n",
            " 0 0 0 0 0 0 0 0 0 0 0 0 0 1 1 1 1 1 1 1 1 1 1 1 1 1 1 1 1 1 1 1 1 1 1 1 1\n",
            " 1 1 1 1 1 1 1 1 1 1 1 1 1 1 1 1 1 1 1 1 1 1 1 1 1 1]\n"
          ]
        }
      ]
    },
    {
      "cell_type": "code",
      "source": [
        "# Write your code here.\n",
        "\n",
        "x_means = np.mean(X, axis=0)\n",
        "x_stdevs = np.std(X, axis=0)\n",
        "X = (X - x_means) / x_stdevs\n",
        "\n",
        "# import math\n",
        "# def the_means(array):\n",
        "#   feature_sum = sum(array)\n",
        "#   return feature_sum/len(array)\n",
        "\n",
        "# def std_dev(array, mean):\n",
        "#   var  = 0\n",
        "#   for feature in array:\n",
        "#     var += ((feature - mean) ** 2)\n",
        "#   var /= len(array)\n",
        "#   std = math.sqrt(var)\n",
        "#   return std\n",
        "\n",
        "# def get_z_value(x,means,std_devs):\n",
        "#   z = np.array([(x[i] - means[i])/std_devs[i] for i in range(len(x))])\n",
        "\n",
        "  "
      ],
      "metadata": {
        "id": "p7M7lvU1iUXB"
      },
      "execution_count": 27,
      "outputs": []
    },
    {
      "cell_type": "code",
      "source": [
        "# Your code here\n",
        "X = np.hstack([np.ones([X.shape[0],1]), X])\n",
        "print(X.shape)\n",
        "\n",
        "\n",
        "# checking the shape of X\n",
        "assert X.shape == (100, 5)"
      ],
      "metadata": {
        "id": "zu5FfVng4jHf",
        "colab": {
          "base_uri": "https://localhost:8080/"
        },
        "outputId": "8e4378ff-12a3-402b-832f-de8bfe6e71be"
      },
      "execution_count": 28,
      "outputs": [
        {
          "output_type": "stream",
          "name": "stdout",
          "text": [
            "(100, 5)\n"
          ]
        }
      ]
    },
    {
      "cell_type": "code",
      "source": [
        "\n",
        "# Your code here\n",
        "weight = np.zeros((5,))\n",
        "print(weight)\n",
        "print(weight.shape)\n",
        "\n",
        "assert weight.shape == (5, )"
      ],
      "metadata": {
        "colab": {
          "base_uri": "https://localhost:8080/"
        },
        "id": "KVD8YIpr6qtx",
        "outputId": "e7d17231-97dd-400c-f45b-c60bc5c1a1e2"
      },
      "execution_count": 29,
      "outputs": [
        {
          "output_type": "stream",
          "name": "stdout",
          "text": [
            "[0. 0. 0. 0. 0.]\n",
            "(5,)\n"
          ]
        }
      ]
    },
    {
      "cell_type": "code",
      "source": [
        "import numpy as np\n",
        "\n",
        "def sigmoid(z):\n",
        "    # Your code here\n",
        "    sigmoid =  1.0 / (1.0 + np.exp(-z))\n",
        "    return sigmoid"
      ],
      "metadata": {
        "id": "qt47ExMfA44j"
      },
      "execution_count": 30,
      "outputs": []
    },
    {
      "cell_type": "code",
      "source": [
        "from sklearn.linear_model import LogisticRegression\n",
        "def accuracy(X, Y, weight):\n",
        "    '''\n",
        "    Evaluate the model, represented by `weight`, with data (X, Y).\n",
        "    \n",
        "    Input:\n",
        "        X:      data features\n",
        "        Y:      data labels\n",
        "        weight: model weights\n",
        "    Ouput:\n",
        "        Model accuracy on input data.\n",
        "    '''\n",
        "    # implement your code here. Below are only some suggestion. \n",
        "    # You don't necessary have to follow the exact step\n",
        "\n",
        "    #Step 1: get the model prediction\n",
        "\n",
        "    #Step 2: Threshold the probability value to get the class. \n",
        "\n",
        "    #Step 3: Compare your model predicted classes with the label y\n",
        "\n",
        "    #step 4: calculate the accuracy using the formula above\n",
        "   # Defining a function which takes true values of the sample and values predicted by the model  \n",
        "    datapoints = len(Y)\n",
        "    Y_predict = sigmoid(X@weight)\n",
        "    Y_predict = (Y_predict > 0.5).astype(int)\n",
        "    correctly_predicted = 0\n",
        "    # iterating over every label and checking it with the true sample  \n",
        "    for Y_value in range (len(Y_predict), len(Y)):  \n",
        "        if Y_predict[Y_value] == Y[Y_value]:  \n",
        "            correctly_predicted += 1  \n",
        "    # computing the accuracy score  \n",
        "    accuracy_score = correctly_predicted / len(Y)  \n",
        "    return accuracy_score  \n",
        "accuracy(X, Y, weight)"
      ],
      "metadata": {
        "id": "pFRPe2jrJxXh",
        "colab": {
          "base_uri": "https://localhost:8080/"
        },
        "outputId": "49d1e06e-14e9-41ea-91f0-99557c8647ca"
      },
      "execution_count": 31,
      "outputs": [
        {
          "output_type": "execute_result",
          "data": {
            "text/plain": [
              "0.0"
            ]
          },
          "metadata": {},
          "execution_count": 31
        }
      ]
    },
    {
      "cell_type": "code",
      "source": [
        "#Don't change these\n",
        "# learning rate\n",
        "alpha = 1e-2\n",
        "# epochs\n",
        "epoch = 10000"
      ],
      "metadata": {
        "id": "7d8hlWjs-VgV"
      },
      "execution_count": 32,
      "outputs": []
    },
    {
      "cell_type": "code",
      "source": [
        "# your code here\n",
        "\n",
        "for ep in range(epoch):\n",
        "      Y_predict =   sigmoid(X@weight)\n",
        "      cost_function = -np.sum(Y * np.log(Y_predict) + (1 - Y) * np.log(1 - Y_predict)) / Y_predict.size\n",
        "      m = Y_predict.size\n",
        "      gradient = 1/m * X.T @(Y_predict - Y)\n",
        "      weight = weight - alpha * gradient\n",
        "      #accuracy =  cost_function/ weight\n",
        "#print(accuracy)\n",
        "\n",
        "# just to double check\n",
        "assert np.allclose(weight, np.array([0.12047504, -0.44156746, -0.89309501, 2.965364, 3.3427994]))"
      ],
      "metadata": {
        "id": "xgAIN36u-Ynk"
      },
      "execution_count": 33,
      "outputs": []
    },
    {
      "cell_type": "code",
      "source": [
        "# model accuracy\n",
        "accuracy(X, Y, weight)"
      ],
      "metadata": {
        "colab": {
          "base_uri": "https://localhost:8080/"
        },
        "id": "xx8cmzUV_eEh",
        "outputId": "59a01ff0-8b0c-490c-9b56-edf0cdca0d10"
      },
      "execution_count": 34,
      "outputs": [
        {
          "output_type": "execute_result",
          "data": {
            "text/plain": [
              "0.0"
            ]
          },
          "metadata": {},
          "execution_count": 34
        }
      ]
    },
    {
      "cell_type": "code",
      "source": [
        "print('Weights:', weight)\n",
        "y = 1 / (1 + np.exp(-X @ weight))\n",
        "loss = -np.sum(Y * np.log(y) + (1 - Y) * np.log(1 - y)) / y.size\n",
        "print('Loss:', loss)\n",
        "print('Accuracy:', accuracy(X, Y, weight))"
      ],
      "metadata": {
        "colab": {
          "base_uri": "https://localhost:8080/"
        },
        "id": "d8uEABIb_kKH",
        "outputId": "c6244821-7816-4277-8724-ac7a7043dcda"
      },
      "execution_count": 35,
      "outputs": [
        {
          "output_type": "stream",
          "name": "stdout",
          "text": [
            "Weights: [ 0.12047504 -0.44156746 -0.89309501  2.965364    3.3427994 ]\n",
            "Loss: 0.08662719407135402\n",
            "Accuracy: 0.0\n"
          ]
        }
      ]
    },
    {
      "cell_type": "markdown",
      "source": [
        "I was unable to connect to the zoom lesson today. I'll contact my fellow friends for assistance. thank you."
      ],
      "metadata": {
        "id": "XNKtAkRis8P3"
      }
    }
  ]
}