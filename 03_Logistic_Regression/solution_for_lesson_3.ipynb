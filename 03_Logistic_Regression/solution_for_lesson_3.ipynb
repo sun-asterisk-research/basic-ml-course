{
  "nbformat": 4,
  "nbformat_minor": 0,
  "metadata": {
    "colab": {
      "provenance": [],
      "collapsed_sections": [],
      "authorship_tag": "ABX9TyOKGG9olHPnajQzFr647LSO",
      "include_colab_link": true
    },
    "kernelspec": {
      "name": "python3",
      "display_name": "Python 3"
    },
    "language_info": {
      "name": "python"
    }
  },
  "cells": [
    {
      "cell_type": "markdown",
      "metadata": {
        "id": "view-in-github",
        "colab_type": "text"
      },
      "source": [
        "<a href=\"https://colab.research.google.com/github/Jumaantony/basic-ml-course/blob/master/03_Logistic_Regression/solution_for_lesson_3.ipynb\" target=\"_parent\"><img src=\"https://colab.research.google.com/assets/colab-badge.svg\" alt=\"Open In Colab\"/></a>"
      ]
    },
    {
      "cell_type": "code",
      "execution_count": 3,
      "metadata": {
        "id": "0PqT20iYxHeu"
      },
      "outputs": [],
      "source": [
        "import numpy as np\n",
        "import pandas as pd\n",
        "\n",
        "from sklearn.datasets import load_iris\n",
        "data = load_iris()\n",
        "X, Y = data.data, data.target"
      ]
    },
    {
      "cell_type": "code",
      "source": [
        "X.shape,Y.shape"
      ],
      "metadata": {
        "id": "-DzUD4cHy4Ut"
      },
      "execution_count": null,
      "outputs": []
    },
    {
      "cell_type": "code",
      "source": [
        "print(Y)"
      ],
      "metadata": {
        "id": "TT-EA2-m8Kg9"
      },
      "execution_count": null,
      "outputs": []
    },
    {
      "cell_type": "code",
      "source": [
        "# Task 1: (1pt)\n",
        "# only classify class 1 vs. class 2\n",
        "# Your code here\n",
        "\n",
        "X = X[50:150]\n",
        "Y = Y[50:150]\n",
        " \n",
        "\n",
        "print(X.shape)\n",
        "print(Y.shape)\n",
        "\n",
        "Y -= 1 #We need our label to be 0 and 1\n",
        "\n",
        "assert X.shape == (100, 4) #just to make sure\n"
      ],
      "metadata": {
        "id": "DyPv9d2GyaJC"
      },
      "execution_count": null,
      "outputs": []
    },
    {
      "cell_type": "code",
      "source": [
        "print(Y)"
      ],
      "metadata": {
        "colab": {
          "base_uri": "https://localhost:8080/"
        },
        "id": "bcfRYIUD8gs9",
        "outputId": "341eae89-c724-4e72-8b60-380158297af9"
      },
      "execution_count": 6,
      "outputs": [
        {
          "output_type": "stream",
          "name": "stdout",
          "text": [
            "[0 0 0 0 0 0 0 0 0 0 0 0 0 0 0 0 0 0 0 0 0 0 0 0 0 0 0 0 0 0 0 0 0 0 0 0 0\n",
            " 0 0 0 0 0 0 0 0 0 0 0 0 0 1 1 1 1 1 1 1 1 1 1 1 1 1 1 1 1 1 1 1 1 1 1 1 1\n",
            " 1 1 1 1 1 1 1 1 1 1 1 1 1 1 1 1 1 1 1 1 1 1 1 1 1 1]\n"
          ]
        }
      ]
    },
    {
      "cell_type": "code",
      "source": [
        "# Task 2: Data normalization (1pt)\n",
        "# Write your code here. \n",
        "x_means = np.mean(X, axis = 0)\n",
        "x_stdevs = np.std(X, axis = 0)\n",
        "X = (X - x_means) / x_stdevs"
      ],
      "metadata": {
        "id": "LGTN0mXY8k2H"
      },
      "execution_count": 7,
      "outputs": []
    },
    {
      "cell_type": "code",
      "source": [
        "# Task 3: Construct the design matrix (1pt)\n",
        "# Your code here\n",
        "X = np.hstack([np.ones([X.shape[0],1]), X])\n",
        "print(X.shape)\n",
        "\n",
        "\n",
        "# checking the shape of X\n",
        "assert X.shape == (100, 5)"
      ],
      "metadata": {
        "id": "CtAVLxB59VZ9"
      },
      "execution_count": null,
      "outputs": []
    },
    {
      "cell_type": "code",
      "source": [
        "# Task 4: Model initialization (1pt)\n",
        "# Your code here\n",
        "# Your code here\n",
        "weight = np.zeros((5,))\n",
        "print(weight)\n",
        "print(weight.shape)\n",
        "\n",
        "assert weight.shape == (5, )"
      ],
      "metadata": {
        "id": "HT-Q8Kem-cAK"
      },
      "execution_count": null,
      "outputs": []
    },
    {
      "cell_type": "code",
      "source": [
        "# Task 5: Sigmoid function (1pt)\n",
        "import numpy as np\n",
        "\n",
        "def sigmoid(z):\n",
        "    # Your code here\n",
        "    sigmoid =  1.0 / (1.0 + np.exp(-z))\n",
        "    return sigmoid"
      ],
      "metadata": {
        "id": "LMPg3cpi-vWy"
      },
      "execution_count": 14,
      "outputs": []
    },
    {
      "cell_type": "code",
      "source": [
        "# Task 6: Define evaluation metrics (2pt)\n",
        "from sklearn.linear_model import LogisticRegression\n",
        "\n",
        "def accuracy(X, Y, weight):\n",
        "    '''\n",
        "    Evaluate the model, represented by `weight`, with data (X, Y).\n",
        "    \n",
        "    Input:\n",
        "        X:      data features\n",
        "        Y:      data labels\n",
        "        weight: model weights\n",
        "    Ouput:\n",
        "        Model accuracy on input data.\n",
        "    '''\n",
        "    # implement your code here. Below are only some suggestion. \n",
        "    # You don't necessary have to follow the exact step\n",
        "\n",
        "    #Step 1: get the model prediction\n",
        "\n",
        "    #Step 2: Threshold the probability value to get the class. \n",
        "\n",
        "    #Step 3: Compare your model predicted classes with the label y\n",
        "\n",
        "    #step 4: calculate the accuracy using the formula above\n",
        "   # Defining a function which takes true values of the sample and values predicted by the model  \n",
        "    datapoints = len(Y)\n",
        "    Y_predict = sigmoid(X@weight)\n",
        "    Y_predict = (Y_predict > 0.5).astype(int)\n",
        "    correctly_predicted = 0\n",
        "    # iterating over every label and checking it with the true sample  \n",
        "    for Y_value in range (len(Y_predict), len(Y)):  \n",
        "        if Y_predict[Y_value] == Y[Y_value]:  \n",
        "            correctly_predicted += 1  \n",
        "    # calculating accuracy\n",
        "    accuracy_score = correctly_predicted / len(Y)  \n",
        "    return accuracy_score"
      ],
      "metadata": {
        "id": "we-c8Xps_FKJ"
      },
      "execution_count": 15,
      "outputs": []
    },
    {
      "cell_type": "code",
      "source": [
        "# Hyperparameters\n",
        "#Don't change these\n",
        "# learning rate\n",
        "alpha = 1e-2\n",
        "# epochs\n",
        "epoch = 10000"
      ],
      "metadata": {
        "id": "FWK66UBv_mBL"
      },
      "execution_count": null,
      "outputs": []
    },
    {
      "cell_type": "code",
      "source": [
        "\n",
        "# Task 7: Train the model. (3pt)\n",
        "# your code here\n",
        "\n",
        "for ep in range(epoch):\n",
        "  y_predict = sigmoid(X@weight)\n",
        "  \n",
        "  loss = -np.sum(Y * np.log(y_predict) + (1 - Y) * np.log(1 - y_predict)) / y_predict.size \n",
        "  m = y_predict.size\n",
        "  gradient = (1 / m) * X.T @ (y_predict-Y)\n",
        "  weight = weight - alpha  * gradient\n"
      ],
      "metadata": {
        "id": "Ija6HGw2_rT5"
      },
      "execution_count": null,
      "outputs": []
    },
    {
      "cell_type": "code",
      "source": [
        "# just to double check\n",
        "assert np.allclose(weight, np.array([0.12047504, -0.44156746, -0.89309501, 2.965364, 3.3427994]))"
      ],
      "metadata": {
        "id": "sD8Rn6UeAcuB"
      },
      "execution_count": null,
      "outputs": []
    },
    {
      "cell_type": "code",
      "source": [
        "# model accuracy\n",
        "accuracy(X, Y, weight)"
      ],
      "metadata": {
        "id": "ut6HbcUQAp15"
      },
      "execution_count": null,
      "outputs": []
    }
  ]
}