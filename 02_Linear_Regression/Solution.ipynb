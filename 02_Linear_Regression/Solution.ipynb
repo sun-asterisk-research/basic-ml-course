{
  "nbformat": 4,
  "nbformat_minor": 0,
  "metadata": {
    "colab": {
      "provenance": [],
      "authorship_tag": "ABX9TyOoejih8kks2Am497zq9gOY",
      "include_colab_link": true
    },
    "kernelspec": {
      "name": "python3",
      "display_name": "Python 3"
    },
    "language_info": {
      "name": "python"
    }
  },
  "cells": [
    {
      "cell_type": "markdown",
      "metadata": {
        "id": "view-in-github",
        "colab_type": "text"
      },
      "source": [
        "<a href=\"https://colab.research.google.com/github/quadspark/basic-ml-course/blob/master/02_Linear_Regression/Solution.ipynb\" target=\"_parent\"><img src=\"https://colab.research.google.com/assets/colab-badge.svg\" alt=\"Open In Colab\"/></a>"
      ]
    },
    {
      "cell_type": "code",
      "execution_count": null,
      "metadata": {
        "id": "dtSGN4ub-Gu0"
      },
      "outputs": [],
      "source": [
        "import numpy as np\n",
        "import sklearn\n",
        "# we used the library sklearn here only to load the data\n",
        "\n",
        "# You dont have to care about matplotlib for now\n",
        "import matplotlib.pyplot as plt\n",
        "\n",
        "# load data from sklearn\n",
        "from sklearn.datasets import load_boston\n",
        "data = load_boston()\n",
        "\n",
        "print(data.keys())\n",
        "X= data.data\n",
        "y = data.target\n",
        "feature_names = data.feature_names\n",
        "print('data.data :{0}, data.target: {1}, num_features: {2}'.format(X.shape, y.shape, len(feature_names)))\n",
        "print('num_datapoints : {}'.format(X.shape[0]))\n",
        "\n",
        "# https://scipy-lectures.org/packages/scikit-learn/auto_examples/plot_boston_prediction.html\n",
        "def label_histogram():\n",
        "    plt.figure(figsize=(6, 5))\n",
        "    plt.hist(y)\n",
        "    plt.xlabel('price ($1000s)')\n",
        "    plt.ylabel('count')\n",
        "    plt.tight_layout()\n",
        "label_histogram()\n",
        "\n",
        "## PLOTING PRCIES AGAINST EACH FEATURE\n",
        "def price_single_feature_ploting(input_data, feature_names):\n",
        "    fig, axes = plt.subplots(5, 3, figsize = (15, 15))\n",
        "    plt.subplots_adjust(bottom=0.1, right=0.8, top=0.9)\n",
        "    for index, (ax, feature_name) in enumerate(zip(axes.flat[:-2],feature_names)): \n",
        "        ax.scatter(input_data[:, index], y)\n",
        "        ax.set(xlabel=feature_name, ylabel='Price')\n",
        "\n",
        "price_single_feature_ploting(X, feature_names)\n",
        "\n",
        "    \n",
        "    "
      ]
    },
    {
      "cell_type": "code",
      "source": [
        "def training(X, y):\n",
        "    \"\"\" find the coefficients and the intercept of the linear model which fit best to the dataset \n",
        "    X: is a the input matrix, which rows are examples and columns are features\n",
        "    y: the target vector, which has length equals to the number of total examples in the dataset\n",
        "    \n",
        "    return:\n",
        "    \n",
        "    coefficients : which is a vector, lenght equals to number of features  \n",
        "    intercept: a scalar (the bias)\"\"\"\n",
        "    from sklearn.linear_model import LinearRegression\n",
        "    import numpy as np \n",
        "\n",
        "    model = LinearRegression()\n",
        "    model.fit(X,y)\n",
        "    coefficients = model.coef_\n",
        "    intercept = model.intercept_\n",
        "\n",
        "    return coefficients ,intercept"
      ],
      "metadata": {
        "id": "vV6mxnnlW4OT"
      },
      "execution_count": 71,
      "outputs": []
    },
    {
      "cell_type": "code",
      "source": [
        "training(X,y)"
      ],
      "metadata": {
        "id": "MG0p4tleMhUh"
      },
      "execution_count": null,
      "outputs": []
    },
    {
      "cell_type": "code",
      "source": [
        "## your result should look like this (with a small error due to machine precision)\n",
        "coefficients, intercept = training(X, y)\n",
        "assert np.allclose(coefficients,\n",
        "                   np.array([-1.08011358e-01,  4.64204584e-02,  2.05586264e-02,  2.68673382e+00,\n",
        "                             -1.77666112e+01,  3.80986521e+00,  6.92224640e-04, -1.47556685e+00,\n",
        "                             3.06049479e-01, -1.23345939e-02, -9.52747232e-01,  9.31168327e-03,\n",
        "                             -5.24758378e-01]))\n",
        "assert np.allclose(intercept, 36.459488385090125)"
      ],
      "metadata": {
        "id": "qY2Q9ogTdiig"
      },
      "execution_count": 73,
      "outputs": []
    },
    {
      "cell_type": "code",
      "source": [
        "def prediction(X, coefficients, intercept):\n",
        "  \"\"\"compute y_predict: the price prediction of our model for your input houses \n",
        "    X: is a the input matrix(N houses) or a vector (1 houses) , with columns are features\n",
        "    coefficients and scalar: calculated above\n",
        "    \n",
        "    return:\n",
        "    y_predict: a vector or scalar (equal to number of houses)\n",
        "  \"\"\"\n",
        "  y_predict = X@coefficients + intercept\n",
        "  return y_predict"
      ],
      "metadata": {
        "id": "UzQypcRHXx-k"
      },
      "execution_count": 81,
      "outputs": []
    },
    {
      "cell_type": "code",
      "source": [
        "prediction(X, coefficients, intercept)"
      ],
      "metadata": {
        "id": "sbW_lLOUclgF"
      },
      "execution_count": null,
      "outputs": []
    },
    {
      "cell_type": "code",
      "source": [
        "from sklearn.metrics import mean_squared_error\n",
        "y_target = y\n",
        "def MSE(X, y_target, coefficients, intercept):\n",
        "    \"\"\"Calculate the mean square error of your model\n",
        "    X: is a the input matrix , which rows are examples and columns are features\n",
        "    y_target : a vector,contains the true housing prices for all houses in the dataset\n",
        "    coefficients and scalar: calculated above, used to compute y_predict\n",
        "    \n",
        "    return:\n",
        "    MSE: a scalar\"\"\"\n",
        "    \n",
        "    # compute y_predict: the price prediction of our model for all houses\n",
        "    #1 line of code\n",
        "    y_predict = X@coefficients + intercept\n",
        "    \n",
        "    # calculate MSE based on y_predict and y_target\n",
        "    assert len(y_predict) == len(y_target)\n",
        "    # 1 line of code\n",
        "    MSE = mean_squared_error(y_target, y_predict)\n",
        "\n",
        "    return MSE"
      ],
      "metadata": {
        "id": "E2ZsCY-Aa6Zp"
      },
      "execution_count": 83,
      "outputs": []
    },
    {
      "cell_type": "code",
      "source": [
        "## we expect your MSE on the housing dataset to look like this\n",
        "mse = MSE(X, y, coefficients, intercept)\n",
        "assert np.allclose(mse, 21.894831181729202)\n",
        "mse\n"
      ],
      "metadata": {
        "id": "qQzeSgLgbjL1"
      },
      "execution_count": null,
      "outputs": []
    },
    {
      "cell_type": "code",
      "source": [
        "## ploting to see our model\n",
        "def visualize_results(y_predict, y_target):\n",
        "    \"\"\" this function plot your y_predict and y_predict to see how closed they are\"\"\"\n",
        "    \n",
        "    plt.figure(figsize=(5, 4))\n",
        "    plt.scatter(y_target, y_predict)\n",
        "    plt.plot([0, 50], [0, 50], '--k')\n",
        "    plt.axis('tight')\n",
        "    plt.xlabel('True price ($1000s)')\n",
        "    plt.ylabel('Predicted price ($1000s)')\n",
        "    plt.tight_layout()"
      ],
      "metadata": {
        "id": "ABFD6WMmqmlI"
      },
      "execution_count": 85,
      "outputs": []
    },
    {
      "cell_type": "code",
      "source": [
        "# run this function to see your result\n",
        "visualize_results(prediction(X, coefficients, intercept), y)"
      ],
      "metadata": {
        "id": "ay7felU1qkgh"
      },
      "execution_count": null,
      "outputs": []
    }
  ]
}