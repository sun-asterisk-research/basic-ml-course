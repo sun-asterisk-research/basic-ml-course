{
  "nbformat": 4,
  "nbformat_minor": 0,
  "metadata": {
    "colab": {
      "provenance": [],
      "include_colab_link": true
    },
    "kernelspec": {
      "name": "python3",
      "display_name": "Python 3"
    },
    "language_info": {
      "name": "python"
    }
  },
  "cells": [
    {
      "cell_type": "markdown",
      "metadata": {
        "id": "view-in-github",
        "colab_type": "text"
      },
      "source": [
        "<a href=\"https://colab.research.google.com/github/vinhtq-2618/basic-ml-course/blob/lecture09/09_Computer_Vision/Simple_digit_classifier.ipynb\" target=\"_parent\"><img src=\"https://colab.research.google.com/assets/colab-badge.svg\" alt=\"Open In Colab\"/></a>"
      ]
    },
    {
      "cell_type": "markdown",
      "source": [
        "# Import necessary libraries"
      ],
      "metadata": {
        "id": "3WO5VVerisKW"
      }
    },
    {
      "cell_type": "code",
      "source": [
        "%matplotlib inline\n",
        "import matplotlib.pyplot as plt\n",
        "\n",
        "import numpy as np\n",
        "\n",
        "import copy\n",
        "\n",
        "from sklearn import metrics\n",
        "from sklearn.datasets import fetch_openml\n",
        "from sklearn.model_selection import train_test_split\n",
        "from sklearn.utils import check_random_state\n",
        "from sklearn.preprocessing import StandardScaler\n",
        "from sklearn.neural_network import MLPClassifier"
      ],
      "metadata": {
        "id": "_-Nr2HLzTf5F"
      },
      "execution_count": null,
      "outputs": []
    },
    {
      "cell_type": "markdown",
      "source": [
        "# Load dataset\n",
        "In this example, we will use MNIST dataset. Read more about it [here](http://yann.lecun.com/exdb/mnist/).\n",
        "\n",
        "The MNIST database of handwritten digits has a total of 70,000 examples, each example is a 28x28 grayscale image."
      ],
      "metadata": {
        "id": "mMzsL0KfSPuk"
      }
    },
    {
      "cell_type": "code",
      "source": [
        "X, y = fetch_openml(\"mnist_784\", version=1, return_X_y=True, as_frame=False)\n",
        "print(\"Number of samples:\", X.shape[0])\n",
        "print(\"Number of labels:\", y.shape[0])\n",
        "print(\"Number of features:\", X.shape[1])  # 784 = 28 * 28, since the image is flattened from matrix to a 1-D vector."
      ],
      "metadata": {
        "colab": {
          "base_uri": "https://localhost:8080/"
        },
        "id": "OWvcJ4kcSTZ0",
        "outputId": "6dbe477a-69d3-4b62-ec8e-855eb81c0327"
      },
      "execution_count": null,
      "outputs": [
        {
          "output_type": "stream",
          "name": "stdout",
          "text": [
            "Number of samples: 70000\n",
            "Number of labels: 70000\n",
            "Number of features: 784\n"
          ]
        }
      ]
    },
    {
      "cell_type": "code",
      "source": [
        "# Show a sample in dataset\n",
        "sample_idx = 2  # Feel free to change this number and rerun code cell to visualize other sample\n",
        "sample = X[sample_idx]\n",
        "sample_image = np.reshape(sample, (28, 28))\n",
        "label = y[sample_idx]\n",
        "\n",
        "plt.title(f\"Class: {label}\")\n",
        "plt.imshow(sample_image, cmap=\"gray\")\n",
        "plt.show()"
      ],
      "metadata": {
        "colab": {
          "base_uri": "https://localhost:8080/",
          "height": 281
        },
        "id": "h-dYPIFzTZub",
        "outputId": "fae6ba0e-a178-424e-db66-fd8e03371aa5"
      },
      "execution_count": null,
      "outputs": [
        {
          "output_type": "display_data",
          "data": {
            "text/plain": [
              "<Figure size 432x288 with 1 Axes>"
            ],
            "image/png": "[encoded data removed]"
          },
          "metadata": {
            "needs_background": "light"
          }
        }
      ]
    },
    {
      "cell_type": "markdown",
      "source": [
        "## Split dataset into train and test set"
      ],
      "metadata": {
        "id": "mxQ9-US3VlHL"
      }
    },
    {
      "cell_type": "code",
      "source": [
        "seed_num = 1337\n",
        "random_state = check_random_state(seed_num)  # For ensuring consistency between executions"
      ],
      "metadata": {
        "id": "wW-PoJLNUDGZ"
      },
      "execution_count": null,
      "outputs": []
    },
    {
      "cell_type": "code",
      "source": [
        "# Shuffle the dataset\n",
        "permutation = random_state.permutation(X.shape[0])\n",
        "X = X[permutation]\n",
        "y = y[permutation]"
      ],
      "metadata": {
        "id": "RS0ucd3HYMhA"
      },
      "execution_count": null,
      "outputs": []
    },
    {
      "cell_type": "code",
      "source": [
        "X_train, X_test, y_train, y_test = train_test_split(X, y, train_size=60000, test_size=10000, random_state=random_state)"
      ],
      "metadata": {
        "id": "DIc0R_HIYcbj"
      },
      "execution_count": null,
      "outputs": []
    },
    {
      "cell_type": "code",
      "source": [
        "sample_idx = 0  # Feel free to change this number and rerun code cell to visualize the example\n",
        "sample = X_train[sample_idx]\n",
        "sample_image = np.reshape(sample, (28, 28))\n",
        "label = y_train[sample_idx]\n",
        "\n",
        "plt.title(f\"Class: {label}\")\n",
        "plt.imshow(sample_image, cmap=\"gray\")\n",
        "plt.show()"
      ],
      "metadata": {
        "colab": {
          "base_uri": "https://localhost:8080/",
          "height": 281
        },
        "id": "duKTrkuiY-vQ",
        "outputId": "7d6e7d51-9831-4921-f08f-b8b26a848d84"
      },
      "execution_count": null,
      "outputs": [
        {
          "output_type": "display_data",
          "data": {
            "text/plain": [
              "<Figure size 432x288 with 1 Axes>"
            ],
            "image/png": "[encoded data removed]"
          },
          "metadata": {
            "needs_background": "light"
          }
        }
      ]
    },
    {
      "cell_type": "markdown",
      "source": [
        "# Normalize dataset"
      ],
      "metadata": {
        "id": "ZEBpEaJ8Y5jc"
      }
    },
    {
      "cell_type": "markdown",
      "source": [
        "We will use `StandardScaler` to normalize the features. Read more about it [here](https://scikit-learn.org/stable/modules/generated/sklearn.preprocessing.StandardScaler.html#sklearn.preprocessing.StandardScaler)."
      ],
      "metadata": {
        "id": "UR4VWfTGZPRm"
      }
    },
    {
      "cell_type": "code",
      "source": [
        "scaler = StandardScaler()\n",
        "X_train_normalized = scaler.fit_transform(X_train)\n",
        "X_test_normalized = scaler.transform(X_test)"
      ],
      "metadata": {
        "id": "hbX1fk-gYajF"
      },
      "execution_count": null,
      "outputs": []
    },
    {
      "cell_type": "markdown",
      "source": [
        "# Train a simple Multi-layer Perception classifier"
      ],
      "metadata": {
        "id": "qAU9fh_9adxF"
      }
    },
    {
      "cell_type": "markdown",
      "source": [
        "Read more about `MLPClassifier` [here](https://scikit-learn.org/stable/modules/generated/sklearn.neural_network.MLPClassifier.html)."
      ],
      "metadata": {
        "id": "oEf22PYtnOg0"
      }
    },
    {
      "cell_type": "code",
      "source": [
        "# Create a Multi-layer Perception classifier\n",
        "clf = MLPClassifier(\n",
        "    hidden_layer_sizes=(100, 50, 10),\n",
        "    random_state=random_state,\n",
        "    max_iter=300,\n",
        "    activation='relu',\n",
        "    solver='adam'\n",
        ")"
      ],
      "metadata": {
        "id": "B3Vz7lzBZfVt"
      },
      "execution_count": null,
      "outputs": []
    },
    {
      "cell_type": "code",
      "source": [
        "# Train the model with train set\n",
        "clf.fit(X_train_normalized, y_train)"
      ],
      "metadata": {
        "colab": {
          "base_uri": "https://localhost:8080/"
        },
        "id": "kX8zbclMbglL",
        "outputId": "1f32bef0-f6e9-4c1c-b87f-efb44b988d54"
      },
      "execution_count": null,
      "outputs": [
        {
          "output_type": "execute_result",
          "data": {
            "text/plain": [
              "MLPClassifier(hidden_layer_sizes=(100, 50, 10), max_iter=300,\n",
              "              random_state=RandomState(MT19937) at 0x7F56532628D0)"
            ]
          },
          "metadata": {},
          "execution_count": 10
        }
      ]
    },
    {
      "cell_type": "code",
      "source": [
        "# Predict the values on test set\n",
        "predictions = clf.predict(X_test_normalized)"
      ],
      "metadata": {
        "id": "ULGCarFicCiM"
      },
      "execution_count": null,
      "outputs": []
    },
    {
      "cell_type": "markdown",
      "source": [
        "## Visualize some predictions on test set"
      ],
      "metadata": {
        "id": "2ryZxf1WoOmY"
      }
    },
    {
      "cell_type": "code",
      "source": [
        "_, axes = plt.subplots(nrows=2, ncols=5, figsize=(10, 5))\n",
        "for row_idx, row in enumerate(axes):\n",
        "    for col, image, prediction, gt in zip(row, X_test[row_idx * 5:row_idx * 5 + 5], predictions[row_idx * 5:row_idx * 5 + 5], y_test[row_idx * 5:row_idx * 5 + 5]):\n",
        "        col.set_axis_off()\n",
        "        visualize_image = image.reshape(28, 28)\n",
        "        col.imshow(visualize_image, cmap=\"gray\")\n",
        "        col.set_title(f\"Pred: {prediction}. GT: {gt}\")"
      ],
      "metadata": {
        "colab": {
          "base_uri": "https://localhost:8080/",
          "height": 291
        },
        "id": "osU9UYq7cngD",
        "outputId": "0b857918-c655-4224-b58d-e110ef094489"
      },
      "execution_count": null,
      "outputs": [
        {
          "output_type": "display_data",
          "data": {
            "text/plain": [
              "<Figure size 720x360 with 10 Axes>"
            ],
            "image/png": "[encoded data removed]"
          },
          "metadata": {
            "needs_background": "light"
          }
        }
      ]
    },
    {
      "cell_type": "markdown",
      "source": [
        "# Model accuracy"
      ],
      "metadata": {
        "id": "bnaNLjUxoUTR"
      }
    },
    {
      "cell_type": "code",
      "source": [
        "print(f\"Mean accuracy:\", clf.score(X_test_normalized, y_test))"
      ],
      "metadata": {
        "colab": {
          "base_uri": "https://localhost:8080/"
        },
        "id": "-qB_PA24fi9u",
        "outputId": "80d13503-8f8c-408c-fa06-439d2e853390"
      },
      "execution_count": null,
      "outputs": [
        {
          "output_type": "stream",
          "name": "stdout",
          "text": [
            "Mean accuracy: 0.9742\n"
          ]
        }
      ]
    },
    {
      "cell_type": "code",
      "source": [
        "print(f\"Classification report for classifier {clf}:\")\n",
        "print(metrics.classification_report(y_test, predictions))"
      ],
      "metadata": {
        "colab": {
          "base_uri": "https://localhost:8080/"
        },
        "id": "WsD5PKzjfSCy",
        "outputId": "bc31768c-3867-4ae3-e3b4-644e64a41dcc"
      },
      "execution_count": null,
      "outputs": [
        {
          "output_type": "stream",
          "name": "stdout",
          "text": [
            "Classification report for classifier MLPClassifier(hidden_layer_sizes=(100, 50, 10), max_iter=300,\n",
            "              random_state=RandomState(MT19937) at 0x7F56532628D0):\n",
            "              precision    recall  f1-score   support\n",
            "\n",
            "           0       0.98      0.98      0.98       969\n",
            "           1       0.99      0.99      0.99      1100\n",
            "           2       0.97      0.97      0.97      1014\n",
            "           3       0.97      0.97      0.97      1044\n",
            "           4       0.96      0.97      0.97       972\n",
            "           5       0.98      0.97      0.97       886\n",
            "           6       0.98      0.98      0.98       970\n",
            "           7       0.98      0.97      0.98      1036\n",
            "           8       0.97      0.96      0.96       985\n",
            "           9       0.96      0.97      0.97      1024\n",
            "\n",
            "    accuracy                           0.97     10000\n",
            "   macro avg       0.97      0.97      0.97     10000\n",
            "weighted avg       0.97      0.97      0.97     10000\n",
            "\n"
          ]
        }
      ]
    }
  ]
}