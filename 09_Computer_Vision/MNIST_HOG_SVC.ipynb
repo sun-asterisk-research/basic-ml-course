{
  "nbformat": 4,
  "nbformat_minor": 0,
  "metadata": {
    "colab": {
      "provenance": [],
      "include_colab_link": true
    },
    "kernelspec": {
      "name": "python3",
      "display_name": "Python 3"
    },
    "language_info": {
      "name": "python"
    }
  },
  "cells": [
    {
      "cell_type": "markdown",
      "metadata": {
        "id": "view-in-github",
        "colab_type": "text"
      },
      "source": [
        "<a href=\"https://colab.research.google.com/github/vinhtq-2618/basic-ml-course/blob/lecture09/09_Computer_Vision/MNIST_HOG_SVC.ipynb\" target=\"_parent\"><img src=\"https://colab.research.google.com/assets/colab-badge.svg\" alt=\"Open In Colab\"/></a>"
      ]
    },
    {
      "cell_type": "markdown",
      "source": [
        "# Import necessary libraries"
      ],
      "metadata": {
        "id": "2SIjRX6eh9KG"
      }
    },
    {
      "cell_type": "code",
      "execution_count": null,
      "metadata": {
        "id": "NtKx6q_rZTPc"
      },
      "outputs": [],
      "source": [
        "%matplotlib inline\n",
        "import matplotlib.pyplot as plt\n",
        "\n",
        "import numpy as np\n",
        "\n",
        "import copy\n",
        "\n",
        "from sklearn import metrics\n",
        "from sklearn.datasets import fetch_openml\n",
        "from sklearn.model_selection import train_test_split\n",
        "from sklearn.utils import check_random_state\n",
        "from sklearn.preprocessing import StandardScaler\n",
        "from sklearn.svm import SVC\n",
        "from skimage.feature import hog"
      ]
    },
    {
      "cell_type": "markdown",
      "source": [
        "# Load dataset\n",
        "In this example, we will use MNIST dataset. Read more about it [here](http://yann.lecun.com/exdb/mnist/).\n",
        "\n",
        "The MNIST database of handwritten digits has a total of 70,000 examples, each example is a 28x28 grayscale image."
      ],
      "metadata": {
        "id": "pc7c_tFbh_2X"
      }
    },
    {
      "cell_type": "code",
      "source": [
        "X, y = fetch_openml(\"mnist_784\", version=1, return_X_y=True, as_frame=False)\n",
        "print(\"Number of samples:\", X.shape[0])\n",
        "print(\"Number of labels:\", y.shape[0])\n",
        "print(\"Number of features:\", X.shape[1])  # 784 = 28 * 28, since the image is flattened from matrix to a 1-D vector."
      ],
      "metadata": {
        "colab": {
          "base_uri": "https://localhost:8080/"
        },
        "id": "mdmF_7xCiBOu",
        "outputId": "6d5e9764-52df-44e1-9920-a76d36cb415d"
      },
      "execution_count": null,
      "outputs": [
        {
          "output_type": "stream",
          "name": "stdout",
          "text": [
            "Number of samples: 70000\n",
            "Number of labels: 70000\n",
            "Number of features: 784\n"
          ]
        }
      ]
    },
    {
      "cell_type": "code",
      "source": [
        "# Show a sample in dataset\n",
        "sample_idx = 1  # Feel free to change this number and rerun code cell to visualize other sample\n",
        "sample = X[sample_idx]\n",
        "sample_image = np.reshape(sample, (28, 28))\n",
        "label = y[sample_idx]\n",
        "\n",
        "plt.title(f\"Class: {label}\")\n",
        "plt.imshow(sample_image, cmap=\"gray\")\n",
        "plt.show()"
      ],
      "metadata": {
        "colab": {
          "base_uri": "https://localhost:8080/",
          "height": 281
        },
        "id": "PwD2ksX7iFAz",
        "outputId": "27e0e1a2-7172-4074-c45d-12cc8aef3b39"
      },
      "execution_count": null,
      "outputs": [
        {
          "output_type": "display_data",
          "data": {
            "text/plain": [
              "<Figure size 432x288 with 1 Axes>"
            ],
            "image/png": "[encoded data removed]"
          },
          "metadata": {
            "needs_background": "light"
          }
        }
      ]
    },
    {
      "cell_type": "markdown",
      "source": [
        "## Split dataset into train and test set"
      ],
      "metadata": {
        "id": "Wi_DfvmVjRWN"
      }
    },
    {
      "cell_type": "code",
      "source": [
        "seed_num = 1337\n",
        "random_state = check_random_state(seed_num)  # For ensuring consistency between executions"
      ],
      "metadata": {
        "id": "MdTotMPGjPox"
      },
      "execution_count": null,
      "outputs": []
    },
    {
      "cell_type": "code",
      "source": [
        "# Shuffle the dataset\n",
        "permutation = random_state.permutation(X.shape[0])\n",
        "X = X[permutation]\n",
        "y = y[permutation]"
      ],
      "metadata": {
        "id": "A9f0m0B6jUmZ"
      },
      "execution_count": null,
      "outputs": []
    },
    {
      "cell_type": "code",
      "source": [
        "X_train, X_test, y_train, y_test = train_test_split(X, y, train_size=60000, test_size=10000, random_state=random_state)"
      ],
      "metadata": {
        "id": "s-yHtf0cjVt2"
      },
      "execution_count": null,
      "outputs": []
    },
    {
      "cell_type": "code",
      "source": [
        "sample_idx = 0  # Feel free to change this number and rerun code cell to visualize the example\n",
        "sample = X_train[sample_idx]\n",
        "sample_image = np.reshape(sample, (28, 28))\n",
        "label = y_train[sample_idx]\n",
        "\n",
        "plt.title(f\"Class: {label}\")\n",
        "plt.imshow(sample_image, cmap=\"gray\")\n",
        "plt.show()"
      ],
      "metadata": {
        "colab": {
          "base_uri": "https://localhost:8080/",
          "height": 281
        },
        "id": "WQh9VRYYjW3C",
        "outputId": "a49e1654-d875-4d22-e9f6-721c01e0a7df"
      },
      "execution_count": null,
      "outputs": [
        {
          "output_type": "display_data",
          "data": {
            "text/plain": [
              "<Figure size 432x288 with 1 Axes>"
            ],
            "image/png": "[encoded data removed]"
          },
          "metadata": {
            "needs_background": "light"
          }
        }
      ]
    },
    {
      "cell_type": "markdown",
      "source": [
        "# Calculate HOG feature"
      ],
      "metadata": {
        "id": "D33SkgaYjYJP"
      }
    },
    {
      "cell_type": "code",
      "source": [
        "X_train_hog = []\n",
        "for x in X_train:\n",
        "    x_image = np.reshape(x, (28, 28))\n",
        "    hog_feature = hog(x_image)\n",
        "    X_train_hog.append(hog_feature)\n",
        "X_train_hog = np.array(X_train_hog)\n",
        "X_train_hog.shape"
      ],
      "metadata": {
        "colab": {
          "base_uri": "https://localhost:8080/"
        },
        "id": "MmdvRSCMjZMu",
        "outputId": "85308898-a38a-4b39-f784-323a35622381"
      },
      "execution_count": null,
      "outputs": [
        {
          "output_type": "execute_result",
          "data": {
            "text/plain": [
              "(60000, 81)"
            ]
          },
          "metadata": {},
          "execution_count": 8
        }
      ]
    },
    {
      "cell_type": "code",
      "source": [
        "X_test_hog = []\n",
        "for x in X_test:\n",
        "    x_image = np.reshape(x, (28, 28))\n",
        "    hog_feature = hog(x_image)\n",
        "    X_test_hog.append(hog_feature)\n",
        "X_test_hog = np.array(X_test_hog)\n",
        "X_test_hog.shape"
      ],
      "metadata": {
        "colab": {
          "base_uri": "https://localhost:8080/"
        },
        "id": "4rC8obaMjcrw",
        "outputId": "8455c1d0-7f18-4b2a-df86-edd63fefe0a7"
      },
      "execution_count": null,
      "outputs": [
        {
          "output_type": "execute_result",
          "data": {
            "text/plain": [
              "(10000, 81)"
            ]
          },
          "metadata": {},
          "execution_count": 9
        }
      ]
    },
    {
      "cell_type": "markdown",
      "source": [
        "# Normalize dataset\n",
        "\n",
        "We will use `StandardScaler` to normalize the features. Read more about it [here](https://scikit-learn.org/stable/modules/generated/sklearn.preprocessing.StandardScaler.html#sklearn.preprocessing.StandardScaler)."
      ],
      "metadata": {
        "id": "7xSh64bqjmh-"
      }
    },
    {
      "cell_type": "code",
      "source": [
        "scaler = StandardScaler()\n",
        "X_train_hog_normalized = scaler.fit_transform(X_train_hog)\n",
        "X_test_hog_normalized = scaler.transform(X_test_hog)"
      ],
      "metadata": {
        "id": "piCFxwqPjm5h"
      },
      "execution_count": null,
      "outputs": []
    },
    {
      "cell_type": "markdown",
      "source": [
        "# Train a simple SVM"
      ],
      "metadata": {
        "id": "B01NzVrmjpB_"
      }
    },
    {
      "cell_type": "code",
      "source": [
        "clf = SVC()"
      ],
      "metadata": {
        "id": "TXjH0I8jjq0T"
      },
      "execution_count": null,
      "outputs": []
    },
    {
      "cell_type": "code",
      "source": [
        "# Train the model with train set\n",
        "clf.fit(X_train_hog_normalized, y_train)"
      ],
      "metadata": {
        "colab": {
          "base_uri": "https://localhost:8080/"
        },
        "id": "2LqGtAJbj3GK",
        "outputId": "c0c40ac8-3602-4ba0-9ca1-27eee30b2b99"
      },
      "execution_count": null,
      "outputs": [
        {
          "output_type": "execute_result",
          "data": {
            "text/plain": [
              "SVC()"
            ]
          },
          "metadata": {},
          "execution_count": 12
        }
      ]
    },
    {
      "cell_type": "code",
      "source": [
        "# Predict the value on test set\n",
        "predictions = clf.predict(X_test_hog_normalized)"
      ],
      "metadata": {
        "id": "Q3z7GQ0Oj4us"
      },
      "execution_count": null,
      "outputs": []
    },
    {
      "cell_type": "code",
      "source": [
        "# Some predictions\n",
        "_, axes = plt.subplots(nrows=2, ncols=5, figsize=(10, 5))\n",
        "for row_idx, row in enumerate(axes):\n",
        "    for ax, image, prediction in zip(row, X_test[row_idx * 5:row_idx * 5 + 5], predictions[row_idx * 5:row_idx * 5 + 5]):\n",
        "        ax.set_axis_off()\n",
        "        visualize_image = image.reshape(28, 28)\n",
        "        ax.imshow(visualize_image, cmap=\"gray\")\n",
        "        ax.set_title(f\"Prediction: {prediction}\")"
      ],
      "metadata": {
        "colab": {
          "base_uri": "https://localhost:8080/",
          "height": 291
        },
        "id": "Cm7EMVSuj51T",
        "outputId": "e8040bc0-ba6d-476d-f921-a6b101925a56"
      },
      "execution_count": null,
      "outputs": [
        {
          "output_type": "display_data",
          "data": {
            "text/plain": [
              "<Figure size 720x360 with 10 Axes>"
            ],
            "image/png": "[encoded data removed]"
          },
          "metadata": {
            "needs_background": "light"
          }
        }
      ]
    },
    {
      "cell_type": "code",
      "source": [
        "# Incorrect predictions\n",
        "wrong_idxs = np.argwhere(predictions != y_test)\n",
        "_, axes = plt.subplots(nrows=2, ncols=5, figsize=(15, 5))\n",
        "for row_idx, row in enumerate(axes):\n",
        "    for ax, image, prediction, gt in zip(row, X_test[wrong_idxs[row_idx * 5:row_idx * 5 + 5]], predictions[wrong_idxs[row_idx * 5:row_idx * 5 + 5]], y_test[wrong_idxs[row_idx * 5:row_idx * 5 + 5]]):\n",
        "        ax.set_axis_off()\n",
        "        visualize_image = image.reshape(28, 28)\n",
        "        ax.imshow(visualize_image, cmap=\"gray\")\n",
        "        ax.set_title(f\"Prediction: {prediction.item()}, GT: {gt.item()}\")"
      ],
      "metadata": {
        "colab": {
          "base_uri": "https://localhost:8080/",
          "height": 319
        },
        "id": "Uo4CuqJU5I_O",
        "outputId": "aaebac23-cda0-4df2-9b31-ec25e3dd4bf9"
      },
      "execution_count": null,
      "outputs": [
        {
          "output_type": "display_data",
          "data": {
            "text/plain": [
              "<Figure size 1080x360 with 10 Axes>"
            ],
            "image/png": "[encoded data removed]"
          },
          "metadata": {
            "needs_background": "light"
          }
        }
      ]
    },
    {
      "cell_type": "code",
      "source": [
        "print(f\"Mean accuracy:\", clf.score(X_test_hog_normalized, y_test))"
      ],
      "metadata": {
        "colab": {
          "base_uri": "https://localhost:8080/"
        },
        "id": "-DPg1dl_j7EV",
        "outputId": "02727911-7027-45fe-e77c-8c3e2c052a78"
      },
      "execution_count": null,
      "outputs": [
        {
          "output_type": "stream",
          "name": "stdout",
          "text": [
            "Mean accuracy: 0.9737\n"
          ]
        }
      ]
    },
    {
      "cell_type": "code",
      "source": [
        "print(f\"Classification report for classifier {clf}:\")\n",
        "print(metrics.classification_report(y_test, predictions))"
      ],
      "metadata": {
        "colab": {
          "base_uri": "https://localhost:8080/"
        },
        "id": "RBChd73Cj8Cj",
        "outputId": "7afe79da-a0bc-4a7a-bd01-a58ced1b855c"
      },
      "execution_count": null,
      "outputs": [
        {
          "output_type": "stream",
          "name": "stdout",
          "text": [
            "Classification report for classifier SVC():\n",
            "              precision    recall  f1-score   support\n",
            "\n",
            "           0       0.99      0.99      0.99       969\n",
            "           1       0.99      0.99      0.99      1100\n",
            "           2       0.98      0.97      0.97      1014\n",
            "           3       0.97      0.96      0.97      1044\n",
            "           4       0.97      0.98      0.97       972\n",
            "           5       0.98      0.97      0.98       886\n",
            "           6       0.99      0.99      0.99       970\n",
            "           7       0.97      0.96      0.96      1036\n",
            "           8       0.95      0.96      0.96       985\n",
            "           9       0.96      0.96      0.96      1024\n",
            "\n",
            "    accuracy                           0.97     10000\n",
            "   macro avg       0.97      0.97      0.97     10000\n",
            "weighted avg       0.97      0.97      0.97     10000\n",
            "\n"
          ]
        }
      ]
    }
  ]
}