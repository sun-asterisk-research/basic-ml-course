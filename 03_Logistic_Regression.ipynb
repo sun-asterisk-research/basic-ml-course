{
  "nbformat": 4,
  "nbformat_minor": 0,
  "metadata": {
    "colab": {
      "provenance": [],
      "collapsed_sections": [],
      "authorship_tag": "ABX9TyPzbzLaNeThKOFD8Ath/NBp",
      "include_colab_link": true
    },
    "kernelspec": {
      "name": "python3",
      "display_name": "Python 3"
    },
    "language_info": {
      "name": "python"
    }
  },
  "cells": [
    {
      "cell_type": "markdown",
      "metadata": {
        "id": "view-in-github",
        "colab_type": "text"
      },
      "source": [
        "<a href=\"https://colab.research.google.com/github/Collinsngenokip/basic-ml-course/blob/master/03_Logistic_Regression.ipynb\" target=\"_parent\"><img src=\"https://colab.research.google.com/assets/colab-badge.svg\" alt=\"Open In Colab\"/></a>"
      ]
    },
    {
      "cell_type": "markdown",
      "source": [
        "# **Homework 3: Logistics Regression**"
      ],
      "metadata": {
        "id": "DXE6xcSqftx7"
      }
    },
    {
      "cell_type": "code",
      "source": [
        "import numpy as np"
      ],
      "metadata": {
        "id": "NONwK8l3f_Vr"
      },
      "execution_count": 79,
      "outputs": []
    },
    {
      "cell_type": "markdown",
      "source": [
        "## Load dataset"
      ],
      "metadata": {
        "id": "J1ysTCQ0gbsa"
      }
    },
    {
      "cell_type": "code",
      "source": [
        "from sklearn.datasets import load_iris\n",
        "data = load_iris()\n",
        "X, Y = data.data, data.target"
      ],
      "metadata": {
        "id": "aB7DPdcqgfIX"
      },
      "execution_count": 80,
      "outputs": []
    },
    {
      "cell_type": "markdown",
      "source": [
        "## Task 1: (1pt)\n",
        "Choose only the last 2 classes (class 1 and 2) from the dataset. You may refer to the code from the lecture video.\n",
        "\n",
        "Some numpy resource that might be useful\n",
        "\n",
        "Indexing in numpy: https://aman.ai/primers/numpy/#indexing\n",
        "\n",
        "Boolean mask: https://aman.ai/primers/numpy/#boolean-array-indexing"
      ],
      "metadata": {
        "id": "tn1BMXjNgmu0"
      }
    },
    {
      "cell_type": "code",
      "source": [
        "# only classify class 1 vs. class 2\n",
        "# Your code here\n",
        "def choose_class(X,Y):\n",
        "  idx = Y < 2\n",
        "  X = X[idx]\n",
        "  Y = Y[idx]\n",
        "  return X, Y\n",
        "X, Y = choose_class(X,Y)\n",
        "print(X.shape, Y.shape)"
      ],
      "metadata": {
        "id": "yEn2oOXQgoZl",
        "colab": {
          "base_uri": "https://localhost:8080/"
        },
        "outputId": "918898f7-73d9-4324-ba42-734ef8cf0cf9"
      },
      "execution_count": 81,
      "outputs": [
        {
          "output_type": "stream",
          "name": "stdout",
          "text": [
            "(100, 4) (100,)\n"
          ]
        }
      ]
    },
    {
      "cell_type": "markdown",
      "source": [
        "##Task 2: Data normalization (1pt)\n",
        "Implement z-score normalization.\n",
        "\n",
        "Remember: normalization is done per feature, not all at once. So you need to calculate the mean and standard deviation for each feature seperately."
      ],
      "metadata": {
        "id": "ZDuTvJ7bhIln"
      }
    },
    {
      "cell_type": "code",
      "source": [
        "import math\n",
        "def feature_means(array):\n",
        "  elements_sum = sum(array)\n",
        "  return elements_sum/len(array)\n",
        "\n",
        "def std_dev(array, mean):\n",
        "  var  = 0\n",
        "  for element in array:\n",
        "    var += ((element - mean) ** 2)\n",
        "  var /= len(array)\n",
        "  std = math.sqrt(var)\n",
        "  return std\n",
        "\n",
        "def get_z_value(x,means,std_devs):\n",
        "  z = np.array([(x[i] - means[i])/std_devs[i] for i in range(len(x))])\n",
        "  return"
      ],
      "metadata": {
        "id": "5OR0p296hPAi"
      },
      "execution_count": 82,
      "outputs": []
    },
    {
      "cell_type": "markdown",
      "source": [
        "##Task 3: Construct the design matrix (1pt)\n",
        "We need to add an extra column of 1 that represents the bias/intercept term\n",
        "\\begin{bmatrix}\n",
        "1 & x_{11} & x_{12} & \\dots\\\\\n",
        "1 & x_{21} & x_{22} & \\dots\\\\\n",
        "\\vdots  & \\vdots &\\vdots & \\vdots\\\\\n",
        "1 & x_{n1} & x_{n2} & \\dots\\\\\n",
        "\\end{bmatrix}\n",
        " \n",
        "Helpful function: https://numpy.org/doc/stable/reference/generated/numpy.hstack.html"
      ],
      "metadata": {
        "id": "EO4cMtLzhV_q"
      }
    },
    {
      "cell_type": "code",
      "source": [
        "# Your code here\n",
        "one_s = np.ones([X.shape[0],1])\n",
        "X = np.hstack((one_s,X))\n",
        "\n",
        "# checking the shape of X\n",
        "assert X.shape == (100, 5)"
      ],
      "metadata": {
        "id": "7vcBJVJzhbIj"
      },
      "execution_count": 83,
      "outputs": []
    },
    {
      "cell_type": "markdown",
      "source": [
        "##Task 4: Model initialization (1pt)\n",
        "Create parameters here. Initialize with zeros. Output should be a numpy array\n",
        "\n",
        "In case you forgot:\n",
        "  <mi>Y</mi>\n",
        "  <mo>=</mo>\n",
        "  <mi>&#x3C3;</mi>\n",
        "  <mo stretchy=\"false\">(</mo>\n",
        "  <mi>X</mi>\n",
        "  <mi>&#x3B8;</mi>\n",
        "  <mo stretchy=\"false\">)</mo>\n",
        "</math> ."
      ],
      "metadata": {
        "id": "t--jAIYihgg2"
      }
    },
    {
      "cell_type": "code",
      "source": [
        "# Your code here\n",
        "weight = np.zeros((5,))\n",
        "print (weight.shape)\n",
        "print(X.shape)\n",
        "print(weight)\n",
        "\n",
        "assert weight.shape == (5, )\n",
        "print((X @ weight).shape)"
      ],
      "metadata": {
        "id": "qy2-wsarhmAS",
        "colab": {
          "base_uri": "https://localhost:8080/"
        },
        "outputId": "54729cde-c411-4367-bc2b-1e1e021e8bd5"
      },
      "execution_count": 84,
      "outputs": [
        {
          "output_type": "stream",
          "name": "stdout",
          "text": [
            "(5,)\n",
            "(100, 5)\n",
            "[0. 0. 0. 0. 0.]\n",
            "(100,)\n"
          ]
        }
      ]
    },
    {
      "cell_type": "markdown",
      "source": [
        "##Task 5: Sigmoid function (1pt)\n",
        "Implement the sigmoid function. You should use np.exp for this"
      ],
      "metadata": {
        "id": "95Q65Np3hoxD"
      }
    },
    {
      "cell_type": "code",
      "source": [
        "def sigmoid(z):\n",
        "  sigmoid = 1 / (1 + np.exp(-z))\n",
        "  return sigmoid"
      ],
      "metadata": {
        "id": "H7rgazTxjcPy"
      },
      "execution_count": 71,
      "outputs": []
    },
    {
      "cell_type": "markdown",
      "source": [
        "##Task 6: Define evaluation metrics (2pt)\n",
        "Implement the accuracy score"
      ],
      "metadata": {
        "id": "NgbNmO4GkFyg"
      }
    },
    {
      "cell_type": "code",
      "source": [
        "from sklearn.linear_model import LogisticRegression\n",
        "def accuracy(X, Y, weight):\n",
        "    '''\n",
        "    Evaluate the model, represented by `weight`, with data (X, Y).\n",
        "    \n",
        "    Input:\n",
        "        X:      data features\n",
        "        Y:      data labels\n",
        "        weight: model weights\n",
        "    Ouput:\n",
        "        Model accuracy on input data.\n",
        "    '''\n",
        "    # implement your code here. Below are only some suggestion. \n",
        "    # You don't necessary have to follow the exact step\n",
        "\n",
        "    #Step 1: get the model prediction\n",
        "\n",
        "    #Step 2: Threshold the probability value to get the class. \n",
        "\n",
        "    #Step 3: Compare your model predicted classes with the label y\n",
        "\n",
        "    #step 4: calculate the accuracy using the formula above\n",
        "    datapoints = len(y)\n",
        "    y_predict = sigmoid(X@weight)\n",
        "         \n",
        "    y_predict = (y_predict > 2).astype(int)\n",
        "    y_correct = 0\n",
        "         \n",
        "    for y_value in range(len(y_predict),len(y)):\n",
        "        if y_predict[y_value] == y[y_value]:\n",
        "           y_correct += 1\n",
        "      \n",
        "    model_accuracy = y_correct / datapoints\n",
        "    return model_accuracy"
      ],
      "metadata": {
        "id": "SPyXsfI6kK55"
      },
      "execution_count": 85,
      "outputs": []
    },
    {
      "cell_type": "markdown",
      "source": [
        "##Hyperparameters"
      ],
      "metadata": {
        "id": "zIAygewrkOaZ"
      }
    },
    {
      "cell_type": "code",
      "source": [
        "#Don't change these\n",
        "# learning rate\n",
        "alpha = 1e-2\n",
        "# epochs\n",
        "epoch = 10000"
      ],
      "metadata": {
        "id": "v9Ry-eMCkTn4"
      },
      "execution_count": 86,
      "outputs": []
    },
    {
      "cell_type": "markdown",
      "source": [
        "##Task 7: Train the model. (3pt)\n",
        "Implement the model training loop:\n",
        "\n",
        "Calculate the model prediction\n",
        " "
      ],
      "metadata": {
        "id": "hVLLsN-IkZyw"
      }
    },
    {
      "cell_type": "code",
      "source": [
        "# your code here\n",
        "for ep in range(epoch):\n",
        "    ..."
      ],
      "metadata": {
        "id": "K7gBVqZwk04W"
      },
      "execution_count": 90,
      "outputs": []
    },
    {
      "cell_type": "code",
      "source": [
        "# just to double check\n",
        "assert np.allclose(weight, np.array([0.12047504, -0.44156746, -0.89309501, 2.965364, 3.3427994]))"
      ],
      "metadata": {
        "id": "GTWqV5Eyrbry"
      },
      "execution_count": null,
      "outputs": []
    },
    {
      "cell_type": "code",
      "source": [
        "# model accuracy\n",
        "accuracy(X, Y, weight)"
      ],
      "metadata": {
        "id": "QXzIa5DVrnRh"
      },
      "execution_count": null,
      "outputs": []
    }
  ]
}