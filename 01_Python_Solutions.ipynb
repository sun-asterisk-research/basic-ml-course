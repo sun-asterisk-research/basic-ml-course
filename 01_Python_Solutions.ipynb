{
  "nbformat": 4,
  "nbformat_minor": 0,
  "metadata": {
    "colab": {
      "provenance": [],
      "collapsed_sections": [],
      "authorship_tag": "ABX9TyPuGEFNlLQPVSqFVEM+KkLw",
      "include_colab_link": true
    },
    "kernelspec": {
      "name": "python3",
      "display_name": "Python 3"
    },
    "language_info": {
      "name": "python"
    }
  },
  "cells": [
    {
      "cell_type": "markdown",
      "metadata": {
        "id": "view-in-github",
        "colab_type": "text"
      },
      "source": [
        "<a href=\"https://colab.research.google.com/github/Collinsngenokip/basic-ml-course/blob/master/01_Python_Solutions.ipynb\" target=\"_parent\"><img src=\"https://colab.research.google.com/assets/colab-badge.svg\" alt=\"Open In Colab\"/></a>"
      ]
    },
    {
      "cell_type": "markdown",
      "source": [
        "1. Write a function is_triangle to check the validity of a triangle.\n",
        "This function should receive 3 parameters corresponding to the length of 3 edges.\n",
        "It should return boolean True if all 3 edges can form a triangle, else it returns False."
      ],
      "metadata": {
        "id": "xHpFQdDJg6kK"
      }
    },
    {
      "cell_type": "code",
      "execution_count": 2,
      "metadata": {
        "id": "Arh8k93pSfnM",
        "colab": {
          "base_uri": "https://localhost:8080/"
        },
        "outputId": "5a916a97-c7cc-49c2-a20f-3b24af9185c5"
      },
      "outputs": [
        {
          "output_type": "stream",
          "name": "stdout",
          "text": [
            "True\n",
            "False\n"
          ]
        }
      ],
      "source": [
        "def is_triangle(a, b, c): \n",
        "  #if else condition to check the edges\n",
        "    if (a + b <= c) or (a + c <= b) or (c + b <= a):\n",
        "        return True\n",
        "    else:\n",
        "        return False\n",
        "\n",
        "print(is_triangle(1, 2, 3))\n",
        "print(is_triangle(2, 2, 3))"
      ]
    },
    {
      "cell_type": "markdown",
      "source": [
        "2. Print odd numbers from 1 to 10 using for loop and range."
      ],
      "metadata": {
        "id": "t6IkbZJDhWGa"
      }
    },
    {
      "cell_type": "code",
      "source": [
        " \n",
        "# The odd number range\n",
        "for num in range(1, 10):\n",
        "     \n",
        "  if num % 2 != 0:\n",
        "      print(num)"
      ],
      "metadata": {
        "colab": {
          "base_uri": "https://localhost:8080/"
        },
        "id": "PMohnZGRYeL-",
        "outputId": "51b08c63-374e-4dee-bf98-f6eb350526cc"
      },
      "execution_count": 3,
      "outputs": [
        {
          "output_type": "stream",
          "name": "stdout",
          "text": [
            "1\n",
            "3\n",
            "5\n",
            "7\n",
            "9\n"
          ]
        }
      ]
    },
    {
      "cell_type": "markdown",
      "source": [
        "3. Write a function get_reverse that return a reversed string."
      ],
      "metadata": {
        "id": "2MW_kuu_mWBr"
      }
    },
    {
      "cell_type": "code",
      "source": [
        "# Function get_reverse to reverse a string\n",
        "def reverse(string):\n",
        "    string= \"\".join(reversed(string))\n",
        "    return string\n",
        "      \n",
        "t = \"Kenya\"\n",
        "  \n",
        "print(\"Input: \", end=\"\")\n",
        "print(t)\n",
        "  \n",
        "print(\"Output: \", end=\"\")\n",
        "print(reverse(t))"
      ],
      "metadata": {
        "colab": {
          "base_uri": "https://localhost:8080/"
        },
        "id": "GOjgIagiQU9j",
        "outputId": "fecbe894-f3cf-419d-ea6d-d28e08d00656"
      },
      "execution_count": 4,
      "outputs": [
        {
          "output_type": "stream",
          "name": "stdout",
          "text": [
            "Input: Kenya\n",
            "Output: ayneK\n"
          ]
        }
      ]
    },
    {
      "cell_type": "markdown",
      "source": [
        "4.Write a function that return a new set that contains elements that are either in set a or b but not both."
      ],
      "metadata": {
        "id": "_kGKm1QXjWx-"
      }
    },
    {
      "cell_type": "code",
      "source": [
        "set1 = {10, 20, 30, 40, 50}\n",
        "set2 = {30, 40, 50, 60, 70}\n",
        "print(set1 ^ set2)"
      ],
      "metadata": {
        "colab": {
          "base_uri": "https://localhost:8080/"
        },
        "id": "8jUdaqAAD_0m",
        "outputId": "175d4687-3425-44e4-ea07-6066ac69d2be"
      },
      "execution_count": 29,
      "outputs": [
        {
          "output_type": "stream",
          "name": "stdout",
          "text": [
            "{20, 70, 10, 60}\n"
          ]
        }
      ]
    },
    {
      "cell_type": "markdown",
      "source": [
        "5.Write a function remove_from_list that remove all occurrances of a value from a list."
      ],
      "metadata": {
        "id": "qZTAB9U1mg1L"
      }
    },
    {
      "cell_type": "code",
      "source": [
        "# Expected output: [20, 30, 40, 50, 0]\n",
        "def remove_from_list(input_list, value):\n",
        "  new = [i for i in input_list if i != value]\n",
        "  return new\n",
        "\n",
        "if 1 == 1:\n",
        "  input_list= [10, 20, 10, 30, 40, 50, 10, 0]\n",
        "  value = 10\n",
        "\n",
        "  new = remove_from_list(input_list, value)\n",
        "  print(new)"
      ],
      "metadata": {
        "colab": {
          "base_uri": "https://localhost:8080/"
        },
        "id": "7Feo1zmbwwwm",
        "outputId": "84ce5d91-e13c-4b30-e625-3d17a3fdac0f"
      },
      "execution_count": 17,
      "outputs": [
        {
          "output_type": "stream",
          "name": "stdout",
          "text": [
            "[20, 30, 40, 50, 0]\n"
          ]
        }
      ]
    },
    {
      "cell_type": "markdown",
      "source": [
        "6.Write code that assign name and score to the object.\n",
        "Write method get_score that return score attribute of the object.\n",
        "Write method describe that print <student name>: <student score>."
      ],
      "metadata": {
        "id": "5HOv0HoGnANg"
      }
    },
    {
      "cell_type": "code",
      "source": [
        "class Student:\n",
        "    def __init__(self, name, score):\n",
        "         self.studentName = name\n",
        "         self.studentScore = score\n",
        "\n",
        "    def get_score(self):\n",
        "         return self.studentScore\n",
        "    \n",
        "    def describe(self):\n",
        "        return self.studentName + \":\" +  str(self.studentScore)\n",
        "\n",
        "student = Student(\"John\", 85)\n",
        "print(student.get_score())\n",
        "student.describe()"
      ],
      "metadata": {
        "id": "idD8QDs8w2cs",
        "colab": {
          "base_uri": "https://localhost:8080/",
          "height": 53
        },
        "outputId": "2e0c763f-0cba-451e-9c31-12ce0b5013af"
      },
      "execution_count": 6,
      "outputs": [
        {
          "output_type": "stream",
          "name": "stdout",
          "text": [
            "85\n"
          ]
        },
        {
          "output_type": "execute_result",
          "data": {
            "text/plain": [
              "'John:85'"
            ],
            "application/vnd.google.colaboratory.intrinsic+json": {
              "type": "string"
            }
          },
          "metadata": {},
          "execution_count": 6
        }
      ]
    },
    {
      "cell_type": "markdown",
      "source": [
        "7. Complete the Employee class by:\n",
        "Write code that calls the __init__ method of the base class to initialize attributes.\n",
        "Write a speak method that receives a word as its parameter and outputs \"Employee <employee name> spoke <word>\""
      ],
      "metadata": {
        "id": "y7zmz3fcnIGO"
      }
    },
    {
      "cell_type": "code",
      "source": [
        "class Person:\n",
        "    def __init__(self, name):\n",
        "        self.name = name\n",
        "\n",
        "    def speak(self):\n",
        "        return \"Person \" + self.name + \" spoke something.\"\n",
        "\n",
        "class Employee(Person):\n",
        "    def __init__(self, name):\n",
        "        self.name = name\n",
        "        Person.__init__(self, name)\n",
        "\n",
        "    def speak(self, word):\n",
        "        return \"Employee \" + employee.name + \" spoke hello\"\n",
        "\n",
        "employee = Employee(\"David\")\n",
        "print(employee.speak(\"hello\"))  # Expected output: \"Employee David spoke hello\""
      ],
      "metadata": {
        "id": "kzjVgtB4nR9M",
        "colab": {
          "base_uri": "https://localhost:8080/"
        },
        "outputId": "36ef08b8-d0a9-4c45-a3ed-9d85624d5d8e"
      },
      "execution_count": 7,
      "outputs": [
        {
          "output_type": "stream",
          "name": "stdout",
          "text": [
            "Employee David spoke hello\n"
          ]
        }
      ]
    },
    {
      "cell_type": "markdown",
      "source": [
        "8. Print all the key-value pairs of a dictionary using for loop. Each line is a key-value pair."
      ],
      "metadata": {
        "id": "ZH0mXqqnmr67"
      }
    },
    {
      "cell_type": "code",
      "source": [
        "country_capital = {\n",
        "    \"japan\": \"tokyo\",\n",
        "    \"vietnam\": \"hanoi\",\n",
        "    \"france\": \"paris\"} \n",
        "for key in country_capital:\n",
        "     print(key + \" - \" + country_capital[key])"
      ],
      "metadata": {
        "id": "psks78dQyGqg",
        "colab": {
          "base_uri": "https://localhost:8080/"
        },
        "outputId": "6c38fb3b-6eef-48b8-e8c7-84acff257a03"
      },
      "execution_count": 37,
      "outputs": [
        {
          "output_type": "stream",
          "name": "stdout",
          "text": [
            "japan - tokyo\n",
            "vietnam - hanoi\n",
            "france - paris\n"
          ]
        }
      ]
    },
    {
      "cell_type": "markdown",
      "source": [
        "9.Write a function solve_equation to solve equation ax^2 + bx + c = 0. (1 pt)\n",
        "\n",
        "If equation has no solutions, print No solution.\n",
        "If equation has one solution, print Equation has one solution <x> (<x> is the value of the solution)\n",
        "If equation has two solutions, print Equation has two solutions <x1> and <x2> (<x1> and <x2> are the values of the solution)"
      ],
      "metadata": {
        "id": "YuWsNk9Fnao3"
      }
    },
    {
      "cell_type": "code",
      "source": [
        "import math\n",
        "\n",
        "a = int(input(\"Enter the coefficients of a: \"))\n",
        "b = int(input(\"Enter the coefficients of b: \"))\n",
        "c = int(input(\"Enter the coefficients of c: \"))\n",
        "\n",
        "d = b**2-4*a*c # discriminant\n",
        "\n",
        "if d < 0:\n",
        "    print (\"This equation has no real solution\")\n",
        "elif d == 0:\n",
        "    x = (-b+math.sqrt(b**2-4*a*c))/2*a\n",
        "    print (\"This equation has one solutions: \"), x\n",
        "else:\n",
        "    x1 = (-b+math.sqrt((b**2)-(4*(a*c))))/(2*a)\n",
        "    x2 = (-b-math.sqrt((b**2)-(4*(a*c))))/(2*a)\n",
        "    print (\"This equation has two solutions: \", x1, \" or\", x2)"
      ],
      "metadata": {
        "colab": {
          "base_uri": "https://localhost:8080/"
        },
        "id": "mM4Jq2YbwpAI",
        "outputId": "6f1ca830-0702-4292-aded-da6226d00dd4"
      },
      "execution_count": 36,
      "outputs": [
        {
          "output_type": "stream",
          "name": "stdout",
          "text": [
            "Enter the coefficients of a: 3\n",
            "Enter the coefficients of b: 6\n",
            "Enter the coefficients of c: 9\n",
            "This equation has no real solution\n"
          ]
        }
      ]
    }
  ]
}