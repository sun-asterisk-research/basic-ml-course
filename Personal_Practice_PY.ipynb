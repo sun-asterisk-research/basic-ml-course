{
  "cells": [
    {
      "cell_type": "markdown",
      "metadata": {
        "id": "view-in-github",
        "colab_type": "text"
      },
      "source": [
        "<a href=\"https://colab.research.google.com/github/TolleDennis/basic-ml-course/blob/master/Personal_Practice_PY.ipynb\" target=\"_parent\"><img src=\"https://colab.research.google.com/assets/colab-badge.svg\" alt=\"Open In Colab\"/></a>"
      ]
    },
    {
      "cell_type": "markdown",
      "metadata": {
        "id": "ki-JUpb2BCrZ"
      },
      "source": [
        "01 Practice\n",
        "\n",
        "This is a supplementary notebook for lecture 01 so that you can get used to Python. Try it on Google Colab and experiment with it by changing the values, as well as write some code as you like."
      ]
    },
    {
      "cell_type": "markdown",
      "metadata": {
        "id": "m9eUUv7SA2Tc"
      },
      "source": [
        "## Basic data types of Python"
      ]
    },
    {
      "cell_type": "markdown",
      "metadata": {
        "id": "trCs56XLCMvj"
      },
      "source": [
        "Python has several data types. Some of the basic ones are `int`, `float`, `bool`, `str`, `list`, etc."
      ]
    },
    {
      "cell_type": "code",
      "execution_count": null,
      "metadata": {
        "id": "igai543VAu4G"
      },
      "outputs": [],
      "source": [
        "a = 1  # int (Integer)\n",
        "b = 2.0  # float (Real number)\n",
        "c = True  # bool (Boolean)\n",
        "d = False  # also bool (Boolean)\n",
        "e = \"Hello World!\"  # str (String)\n",
        "f = [1, 2, 3, 4]  # list"
      ]
    },
    {
      "cell_type": "markdown",
      "metadata": {
        "id": "KoLm2IuTCHEQ"
      },
      "source": [
        "`type` will return the type of variable. Try put the name of the variable inside the parenthesis and run the code cell."
      ]
    },
    {
      "cell_type": "code",
      "execution_count": null,
      "metadata": {
        "colab": {
          "base_uri": "https://localhost:8080/"
        },
        "id": "2FvmFAVfB_q7",
        "outputId": "99c2c051-a05a-46f8-b279-a90e2c098031"
      },
      "outputs": [
        {
          "name": "stdout",
          "output_type": "stream",
          "text": [
            "<class 'bool'>\n"
          ]
        }
      ],
      "source": [
        "print(type(c))"
      ]
    },
    {
      "cell_type": "markdown",
      "metadata": {
        "id": "Eziml8wSMXZd"
      },
      "source": [
        "### String\n",
        "\n",
        "String is a sequence of characters."
      ]
    },
    {
      "cell_type": "code",
      "execution_count": null,
      "metadata": {
        "colab": {
          "base_uri": "https://localhost:8080/"
        },
        "id": "sQZ-77GnMcM-",
        "outputId": "2bf07d34-973b-41a0-effa-ccd5b1a62b83"
      },
      "outputs": [
        {
          "name": "stdout",
          "output_type": "stream",
          "text": [
            "Machine Learning Basic\n"
          ]
        }
      ],
      "source": [
        "text = \"Machine Learning Basic\"\n",
        "print(text)"
      ]
    },
    {
      "cell_type": "markdown",
      "metadata": {
        "id": "yvhNyJj_MjQW"
      },
      "source": [
        "To access a character in string using an index, you can use square brackets `[]`. Remember that index starts from `0`."
      ]
    },
    {
      "cell_type": "code",
      "execution_count": null,
      "metadata": {
        "colab": {
          "base_uri": "https://localhost:8080/"
        },
        "id": "hLFommpwMqYk",
        "outputId": "5234eae1-2777-433d-ea13-550d658e3111"
      },
      "outputs": [
        {
          "name": "stdout",
          "output_type": "stream",
          "text": [
            "L\n"
          ]
        }
      ],
      "source": [
        "print(text[8])"
      ]
    },
    {
      "cell_type": "markdown",
      "metadata": {
        "id": "iQnpmW-oMb-t"
      },
      "source": [
        "To get a substring, you can use slicing `[start:end]`. Remember that slicing is inclusive to it does not return the character at index `end`."
      ]
    },
    {
      "cell_type": "code",
      "execution_count": null,
      "metadata": {
        "colab": {
          "base_uri": "https://localhost:8080/"
        },
        "id": "aq0FNWzrNHmV",
        "outputId": "f1e048c7-a5ac-462e-e76b-7b38702a04e3"
      },
      "outputs": [
        {
          "name": "stdout",
          "output_type": "stream",
          "text": [
            "Learnin\n"
          ]
        }
      ],
      "source": [
        "print(text[8:15])"
      ]
    },
    {
      "cell_type": "markdown",
      "metadata": {
        "id": "OnzoKhukNP4t"
      },
      "source": [
        "Here are some operations with string."
      ]
    },
    {
      "cell_type": "code",
      "execution_count": null,
      "metadata": {
        "colab": {
          "base_uri": "https://localhost:8080/"
        },
        "id": "KgmCMhLYNSFC",
        "outputId": "ed46fa4e-9258-4325-8ec8-ae90091a504a"
      },
      "outputs": [
        {
          "name": "stdout",
          "output_type": "stream",
          "text": [
            "True\n"
          ]
        }
      ],
      "source": [
        "print(\"Learning\" in text)"
      ]
    },
    {
      "cell_type": "code",
      "execution_count": null,
      "metadata": {
        "colab": {
          "base_uri": "https://localhost:8080/"
        },
        "id": "f2o6hgbhN4Wy",
        "outputId": "d37cf976-3746-429f-add1-ca6e3a059fed"
      },
      "outputs": [
        {
          "name": "stdout",
          "output_type": "stream",
          "text": [
            "Length of string: 22\n"
          ]
        }
      ],
      "source": [
        "print(\"Length of string:\", len(text))"
      ]
    },
    {
      "cell_type": "code",
      "execution_count": null,
      "metadata": {
        "colab": {
          "base_uri": "https://localhost:8080/"
        },
        "id": "pbrtN2agN90F",
        "outputId": "befec4c1-4c94-47f7-a276-aa33594e9ba5"
      },
      "outputs": [
        {
          "name": "stdout",
          "output_type": "stream",
          "text": [
            "Machine Learning Basic by Sun-asterisk. The future is bright for the Kenyan tech industry\n"
          ]
        }
      ],
      "source": [
        "text2 = \"The future is bright for the Kenyan tech industry\"\n",
        "print(text + \" by Sun-asterisk. \" + text2)"
      ]
    },
    {
      "cell_type": "code",
      "execution_count": null,
      "metadata": {
        "colab": {
          "base_uri": "https://localhost:8080/"
        },
        "id": "r9tYt4QmNzWH",
        "outputId": "88ddcdad-af58-4308-bedc-f7bdf0eecba3"
      },
      "outputs": [
        {
          "name": "stdout",
          "output_type": "stream",
          "text": [
            "['The future is bright for the Kenyan tech industry']\n"
          ]
        }
      ],
      "source": [
        "print(text2.split(\",\"))"
      ]
    },
    {
      "cell_type": "code",
      "execution_count": null,
      "metadata": {
        "colab": {
          "base_uri": "https://localhost:8080/"
        },
        "id": "khLDinF_OHDI",
        "outputId": "e67efe0a-a6cf-4efd-dda0-62983c0223eb"
      },
      "outputs": [
        {
          "name": "stdout",
          "output_type": "stream",
          "text": [
            "Machine - Learning - Basic\n"
          ]
        }
      ],
      "source": [
        "print(\" - \".join(text.split(\" \")))"
      ]
    },
    {
      "cell_type": "markdown",
      "metadata": {
        "id": "l11ZAHiIO_T0"
      },
      "source": [
        "Try modifying a character in the string above and see what will happen."
      ]
    },
    {
      "cell_type": "code",
      "execution_count": null,
      "metadata": {
        "id": "v2EF3U8WPFT2",
        "outputId": "f353f264-e8c0-47a3-eab7-ecd87caca7aa"
      },
      "outputs": [
        {
          "data": {
            "text/plain": [
              "'25#23'"
            ]
          },
          "execution_count": 11,
          "metadata": {},
          "output_type": "execute_result"
        }
      ],
      "source": [
        "\"#\".join([\"25\",\"23\"])"
      ]
    },
    {
      "cell_type": "code",
      "execution_count": null,
      "metadata": {
        "id": "LoP61Pixo61P",
        "outputId": "09623f1e-1873-477d-d7b7-eac7afe61406"
      },
      "outputs": [
        {
          "data": {
            "text/plain": [
              "{10, 20, 60, 70}"
            ]
          },
          "execution_count": 12,
          "metadata": {},
          "output_type": "execute_result"
        }
      ],
      "source": [
        "set1 = {10, 20, 30, 40, 50}\n",
        "set2 = {30, 40, 50, 60, 70}\n",
        "set3 = set1^set2\n",
        "set3\n",
        "\n",
        "# def set_difference(a,b):\n",
        "#     return set1.symmetric_difference(set2)\n",
        "# set_difference(set1,set2)"
      ]
    },
    {
      "cell_type": "markdown",
      "metadata": {
        "id": "iyAVsY1ao61Q"
      },
      "source": [
        "### Lambda function"
      ]
    },
    {
      "cell_type": "code",
      "execution_count": null,
      "metadata": {
        "id": "DGRu4Gswo61R",
        "outputId": "25a5aaac-db6f-4bd6-8ef9-8f55f747f72e"
      },
      "outputs": [
        {
          "data": {
            "text/plain": [
              "82"
            ]
          },
          "execution_count": 13,
          "metadata": {},
          "output_type": "execute_result"
        }
      ],
      "source": [
        "func = lambda x : 3**x + 1\n",
        "func(4)"
      ]
    },
    {
      "cell_type": "code",
      "execution_count": null,
      "metadata": {
        "id": "4WShXfFuo61S",
        "outputId": "797d1c81-5a5e-426f-fcf2-24f85f2b013b"
      },
      "outputs": [
        {
          "data": {
            "text/plain": [
              "['Amanda Suzzane',\n",
              " 'Dennis Colle',\n",
              " 'James Smith',\n",
              " 'James Johnson',\n",
              " 'Maria Garcia',\n",
              " 'Maria Rodriguez',\n",
              " 'Michael Smith']"
            ]
          },
          "execution_count": 14,
          "metadata": {},
          "output_type": "execute_result"
        }
      ],
      "source": [
        "designers = [\"James Smith\",\"Michael Smith\",\"Dennis Colle\",\"Maria Garcia\",\"Maria Rodriguez\",\"Amanda Suzzane\",\"James Johnson\"]\n",
        "designers.sort (key = lambda name : name.split(\" \")[-2].lower())\n",
        "designers"
      ]
    },
    {
      "cell_type": "code",
      "execution_count": null,
      "metadata": {
        "id": "oRZ5cFk6o61S",
        "outputId": "ca964b31-f3f5-4f5a-cdb6-d8f97a12d339"
      },
      "outputs": [
        {
          "data": {
            "text/plain": [
              "['Dennis Colle',\n",
              " 'Maria Garcia',\n",
              " 'James Johnson',\n",
              " 'Maria Rodriguez',\n",
              " 'James Smith',\n",
              " 'Michael Smith',\n",
              " 'Amanda Suzzane']"
            ]
          },
          "execution_count": 15,
          "metadata": {},
          "output_type": "execute_result"
        }
      ],
      "source": [
        "designers.sort (key = lambda name : name.split(\" \")[-1].lower())\n",
        "designers"
      ]
    },
    {
      "cell_type": "code",
      "execution_count": null,
      "metadata": {
        "id": "FtKf-zyxo61T",
        "outputId": "6da7c87b-963f-48ad-acd8-e827b66e0f90"
      },
      "outputs": [
        {
          "data": {
            "text/plain": [
              "142"
            ]
          },
          "execution_count": 16,
          "metadata": {},
          "output_type": "execute_result"
        }
      ],
      "source": [
        "def quadratic_equation(a,b,c):\n",
        "    return lambda x : a * 4 ** x + b * x + c\n",
        "#quadratic_equation(2,3,5)(2)\n",
        "f = quadratic_equation(2,3,5)\n",
        "f(3)\n"
      ]
    },
    {
      "cell_type": "code",
      "execution_count": null,
      "metadata": {
        "id": "8DgXOkVpo61U",
        "outputId": "bd022c57-32dd-46f1-fa12-da69b83147cf"
      },
      "outputs": [
        {
          "data": {
            "text/plain": [
              "'Dennis Tolle'"
            ]
          },
          "execution_count": 17,
          "metadata": {},
          "output_type": "execute_result"
        }
      ],
      "source": [
        "full_name = lambda fname , sname : fname.strip().title() + \" \" + sname.strip().title()\n",
        "full_name (\"Dennis\", \"Tolle\")"
      ]
    },
    {
      "cell_type": "markdown",
      "metadata": {
        "id": "OFBhggjso61U"
      },
      "source": [
        "### MATH MODULE"
      ]
    },
    {
      "cell_type": "code",
      "execution_count": null,
      "metadata": {
        "id": "2LJ7NQYWo61U",
        "outputId": "48a46e44-0271-4ac2-ebc0-1adf9a433678"
      },
      "outputs": [
        {
          "data": {
            "text/plain": [
              "3.141592653589793"
            ]
          },
          "execution_count": 18,
          "metadata": {},
          "output_type": "execute_result"
        }
      ],
      "source": [
        "from math import radians\n",
        "radians(180)"
      ]
    },
    {
      "cell_type": "code",
      "execution_count": null,
      "metadata": {
        "id": "Fnr4F65fo61V",
        "outputId": "2cd7f7c3-972b-447a-af26-4b0145b3ed36"
      },
      "outputs": [
        {
          "data": {
            "text/plain": [
              "3.141592653589793"
            ]
          },
          "execution_count": 19,
          "metadata": {},
          "output_type": "execute_result"
        }
      ],
      "source": [
        "import math\n",
        "math.radians(180)"
      ]
    },
    {
      "cell_type": "markdown",
      "metadata": {
        "id": "HjYOZ_VPo61V"
      },
      "source": [
        "### DATETIME MODULE"
      ]
    },
    {
      "cell_type": "code",
      "execution_count": null,
      "metadata": {
        "id": "PVsQ2IIho61V",
        "outputId": "78281d31-aa56-41ac-c32e-17fc8e4e4e42"
      },
      "outputs": [
        {
          "name": "stdout",
          "output_type": "stream",
          "text": [
            "1989-05-23\n"
          ]
        }
      ],
      "source": [
        "import datetime\n",
        "dennis = datetime.date(1989,5,23)\n",
        "print(dennis)"
      ]
    },
    {
      "cell_type": "code",
      "execution_count": null,
      "metadata": {
        "id": "OESVU4t5o61W",
        "outputId": "b82cad78-b07f-4445-e043-e02914b26505"
      },
      "outputs": [
        {
          "data": {
            "text/plain": [
              "'Tuesday,May,05/23/89,1989'"
            ]
          },
          "execution_count": 21,
          "metadata": {},
          "output_type": "execute_result"
        }
      ],
      "source": [
        "dennis.strftime(\"%A,%B,%D,%Y\")"
      ]
    },
    {
      "cell_type": "code",
      "execution_count": null,
      "metadata": {
        "id": "yeKRHdpFo61W",
        "outputId": "e796f741-be94-472f-8b7f-0ecd5f5a3261"
      },
      "outputs": [
        {
          "name": "stdout",
          "output_type": "stream",
          "text": [
            "Dennis was born in the year Tuesday May 23 1989\n"
          ]
        }
      ],
      "source": [
        "DOB = \"Dennis was born in the year {:%A %B %d %Y}\"\n",
        "print(DOB.format(dennis))"
      ]
    },
    {
      "cell_type": "code",
      "execution_count": null,
      "metadata": {
        "id": "A17StJ5Ao61W",
        "outputId": "64631579-50d3-4210-b079-e7079f45c50a"
      },
      "outputs": [
        {
          "name": "stdout",
          "output_type": "stream",
          "text": [
            "Elijah was born on: 1993-04-17 12:30:20\n",
            "1993\n"
          ]
        }
      ],
      "source": [
        "DOB = datetime.date(1993,4,17)\n",
        "time = datetime.time(12,30,20)\n",
        "exact_dob = datetime.datetime(1993,4,17,12,30,20)\n",
        "print(\"Elijah was born on:\",exact_dob)\n",
        "print(exact_dob.year)"
      ]
    },
    {
      "cell_type": "code",
      "execution_count": null,
      "metadata": {
        "id": "k1zxc8y9o61X",
        "outputId": "c7866767-0d90-41ae-d531-0ef976353401"
      },
      "outputs": [
        {
          "name": "stdout",
          "output_type": "stream",
          "text": [
            "2022-10-20 14:22:13.158525\n"
          ]
        }
      ],
      "source": [
        "current_time = datetime.datetime.now()\n",
        "print(current_time)\n"
      ]
    },
    {
      "cell_type": "code",
      "execution_count": null,
      "metadata": {
        "id": "EgfbbDBto61X",
        "outputId": "9d972ce2-e4ad-4fa3-ac98-d86912e02fe9"
      },
      "outputs": [
        {
          "name": "stdout",
          "output_type": "stream",
          "text": [
            "1989-08-25 00:00:00\n"
          ]
        }
      ],
      "source": [
        "landed = \"25/8/1989\"\n",
        "der = datetime.datetime.strptime(landed, \"%d/%m/%Y\")\n",
        "print(der)"
      ]
    },
    {
      "cell_type": "code",
      "execution_count": null,
      "metadata": {
        "id": "p6AYZI1Oo61X",
        "outputId": "a2cb8f8e-4d76-4d3e-df63-90a6ec5422d6"
      },
      "outputs": [
        {
          "name": "stdout",
          "output_type": "stream",
          "text": [
            "10778 days, 1:51:53.170131\n"
          ]
        }
      ],
      "source": [
        "today = datetime.datetime.today()\n",
        "eli_dob = today - exact_dob\n",
        "print(eli_dob)"
      ]
    },
    {
      "cell_type": "code",
      "execution_count": null,
      "metadata": {
        "id": "eaiA3wUNo61X",
        "outputId": "590785c9-70f9-46dc-bffd-d31f99c5232b"
      },
      "outputs": [
        {
          "data": {
            "text/plain": [
              "datetime.date(2022, 7, 10)"
            ]
          },
          "execution_count": 27,
          "metadata": {},
          "output_type": "execute_result"
        }
      ],
      "source": [
        "Current_date = datetime.date(2022,10,18)\n",
        "Days = datetime.timedelta(100)\n",
        "previously = Current_date - Days\n",
        "previously"
      ]
    },
    {
      "cell_type": "code",
      "execution_count": null,
      "metadata": {
        "id": "57GO8x0Oo61Y",
        "outputId": "b039a691-7a90-4145-ffc5-9bcaaa51057d"
      },
      "outputs": [
        {
          "data": {
            "text/plain": [
              "'Sunday,July 10 2022'"
            ]
          },
          "execution_count": 28,
          "metadata": {},
          "output_type": "execute_result"
        }
      ],
      "source": [
        "previously.strftime(\"%A,%B %d %Y\")"
      ]
    },
    {
      "cell_type": "code",
      "execution_count": null,
      "metadata": {
        "id": "kDL1PJNqo61Y",
        "outputId": "3c2793d0-5fff-4cf7-afc7-6686ac83b684"
      },
      "outputs": [
        {
          "ename": "AttributeError",
          "evalue": "type object 'Person' has no attribute 'details'",
          "output_type": "error",
          "traceback": [
            "\u001b[0;31m---------------------------------------------------------------------------\u001b[0m",
            "\u001b[0;31mAttributeError\u001b[0m                            Traceback (most recent call last)",
            "Input \u001b[0;32mIn [30]\u001b[0m, in \u001b[0;36m<cell line: 11>\u001b[0;34m()\u001b[0m\n\u001b[1;32m      9\u001b[0m             \u001b[38;5;28;01mreturn\u001b[39;00m fname,sname,email,address,mob_no\n\u001b[1;32m     10\u001b[0m employee \u001b[38;5;241m=\u001b[39m Person(\u001b[38;5;124m\"\u001b[39m\u001b[38;5;124mDennis\u001b[39m\u001b[38;5;124m\"\u001b[39m,\u001b[38;5;124m\"\u001b[39m\u001b[38;5;124mTolle\u001b[39m\u001b[38;5;124m\"\u001b[39m,\u001b[38;5;124m\"\u001b[39m\u001b[38;5;124memail@yahoo.com\u001b[39m\u001b[38;5;124m\"\u001b[39m,\u001b[38;5;124m\"\u001b[39m\u001b[38;5;124m20895-00100\u001b[39m\u001b[38;5;124m\"\u001b[39m,\u001b[38;5;124m\"\u001b[39m\u001b[38;5;124m0718830879\u001b[39m\u001b[38;5;124m\"\u001b[39m)\n\u001b[0;32m---> 11\u001b[0m \u001b[38;5;28mprint\u001b[39m(\u001b[43mPerson\u001b[49m\u001b[38;5;241;43m.\u001b[39;49m\u001b[43mdetails\u001b[49m)\n",
            "\u001b[0;31mAttributeError\u001b[0m: type object 'Person' has no attribute 'details'"
          ]
        }
      ],
      "source": [
        "class Person:\n",
        "    def __init__(self,fname,sname,email,address,mob_no):\n",
        "        self.fname = fname\n",
        "        self.sname = sname\n",
        "        self.email = email\n",
        "        self.address = address\n",
        "        self.mob_no = mob_no\n",
        "        def details(self):\n",
        "            return fname,sname,email,address,mob_no\n",
        "employee = Person(\"Dennis\",\"Tolle\",\"email@yahoo.com\",\"20895-00100\",\"0718830879\")\n",
        "print(Person.details)"
      ]
    },
    {
      "cell_type": "code",
      "execution_count": null,
      "metadata": {
        "id": "ucfz_EG-o61Y",
        "outputId": "b2047a7e-7ab2-491c-aac3-88b8cba8f193"
      },
      "outputs": [
        {
          "name": "stdout",
          "output_type": "stream",
          "text": [
            "Gujarat - Gandhinagar\n",
            "Maharashtra - Mumbai\n",
            "Rajasthan - Jaipur\n",
            "Bihar - Patna\n"
          ]
        }
      ],
      "source": [
        "statesAndCapitals = {\n",
        "    'Gujarat': 'Gandhinagar',\n",
        "    'Maharashtra': 'Mumbai',\n",
        "    'Rajasthan': 'Jaipur',\n",
        "    'Bihar': 'Patna'\n",
        "}\n",
        "# for sta in statesAndCapitals:\n",
        "#     print(sta)\n",
        "for state,capital in statesAndCapitals.items():\n",
        "    print(state, \"-\" ,capital)\n",
        "# values = statesAndCapitals.values()\n",
        "# keys = statesAndCapitals.keys()\n",
        "# print(keys,values)"
      ]
    },
    {
      "cell_type": "markdown",
      "metadata": {
        "id": "l9ZqoCKhOPkE"
      },
      "source": [
        "### List\n",
        "\n",
        "List is a sequence of items. It is enclosed in square brackets `[]`."
      ]
    },
    {
      "cell_type": "code",
      "execution_count": null,
      "metadata": {
        "id": "to4WkTZjOtqG"
      },
      "outputs": [],
      "source": [
        "a = [1, 2, 3, 4, 5]"
      ]
    },
    {
      "cell_type": "code",
      "execution_count": null,
      "metadata": {
        "id": "L53rVsjMO5he",
        "outputId": "47e393a1-79a7-490f-e519-0ebe95da0d94"
      },
      "outputs": [
        {
          "name": "stdout",
          "output_type": "stream",
          "text": [
            "[1, 2, 3, 4, 5]\n"
          ]
        }
      ],
      "source": [
        "print(a)"
      ]
    },
    {
      "cell_type": "markdown",
      "metadata": {
        "id": "7PfEn8RAPVDl"
      },
      "source": [
        "Unlike string, you can freely modify a list."
      ]
    },
    {
      "cell_type": "code",
      "execution_count": null,
      "metadata": {
        "id": "vNu3XpkrPZPB",
        "outputId": "e0dabdd1-ebb1-4555-ae2a-bd3f577895fc"
      },
      "outputs": [
        {
          "name": "stdout",
          "output_type": "stream",
          "text": [
            "[4, 2, 3, 4, 5, 29, -2, 23, 56, 78]\n"
          ]
        }
      ],
      "source": [
        "a[0] = 4\n",
        "a.append(-2)\n",
        "a.extend([23,56,78])\n",
        "a.insert(5,29)\n",
        "print(a)"
      ]
    },
    {
      "cell_type": "markdown",
      "metadata": {
        "id": "Fmw9wNRHPqGO"
      },
      "source": [
        "Some operations with list"
      ]
    },
    {
      "cell_type": "code",
      "execution_count": null,
      "metadata": {
        "id": "E17kSC1NPh2_",
        "outputId": "6e95485c-ed47-47bc-93d8-a300f9c50962"
      },
      "outputs": [
        {
          "name": "stdout",
          "output_type": "stream",
          "text": [
            "[2, 3]\n"
          ]
        }
      ],
      "source": [
        "print(a[1:3])"
      ]
    },
    {
      "cell_type": "code",
      "execution_count": null,
      "metadata": {
        "id": "boPHn_fHPtnT",
        "outputId": "ccdb7c7a-4c6f-4e38-c564-79bcde1cf810"
      },
      "outputs": [
        {
          "name": "stdout",
          "output_type": "stream",
          "text": [
            "[-2, 2, 3, 4, 4, 5, 23, 29, 56, 78]\n"
          ]
        }
      ],
      "source": [
        "a.sort()\n",
        "print(a)"
      ]
    },
    {
      "cell_type": "code",
      "execution_count": null,
      "metadata": {
        "id": "EsQX1bafPw2T",
        "outputId": "83b8fdc2-1d67-461e-bc23-b6e77582c41a"
      },
      "outputs": [
        {
          "name": "stdout",
          "output_type": "stream",
          "text": [
            "10\n"
          ]
        }
      ],
      "source": [
        "print(len(a))"
      ]
    },
    {
      "cell_type": "code",
      "execution_count": null,
      "metadata": {
        "id": "5amXD2tXPzLt",
        "outputId": "1297cb46-089e-4e95-867a-5b3b8825d21c"
      },
      "outputs": [
        {
          "name": "stdout",
          "output_type": "stream",
          "text": [
            "[-2, 2, 3, 4, 4, 5, 23, 29, 78]\n"
          ]
        }
      ],
      "source": [
        "a.pop(-2)\n",
        "print(a)"
      ]
    },
    {
      "cell_type": "code",
      "execution_count": null,
      "metadata": {
        "id": "jd9XoftkP3IZ",
        "outputId": "5ff040ad-6915-441a-e8aa-366a58b62361"
      },
      "outputs": [
        {
          "name": "stdout",
          "output_type": "stream",
          "text": [
            "[-2, 2, 3, 4, 5, 23, 29, 78]\n"
          ]
        }
      ],
      "source": [
        "a.remove(4)\n",
        "print(a)"
      ]
    },
    {
      "cell_type": "markdown",
      "metadata": {
        "id": "3QkIATBdP7Ql"
      },
      "source": [
        "You can use list comprehension to generate a list."
      ]
    },
    {
      "cell_type": "code",
      "execution_count": null,
      "metadata": {
        "id": "YrASHLy2P-m1",
        "outputId": "70767e9b-c5f5-42d9-d81a-849f8d840c03"
      },
      "outputs": [
        {
          "name": "stdout",
          "output_type": "stream",
          "text": [
            "[3, 9, 15] [0, 10, 20, 30, 40, 50, 60, 70, 80, 90]\n"
          ]
        }
      ],
      "source": [
        "b = [i*3 for i in range(6) if i%2==1]\n",
        "c = [x*5 for x in range(0,20,2)] \n",
        "print(b,c)"
      ]
    },
    {
      "cell_type": "code",
      "execution_count": null,
      "metadata": {
        "id": "3rDszHaAo61c"
      },
      "outputs": [],
      "source": [
        "def is_triangle(a,b,c):\n",
        "    if (a + b <= c) or (a + c <= b) or (b + c <= a):\n",
        "        return False\n",
        "    else :\n",
        "        return True"
      ]
    },
    {
      "cell_type": "code",
      "execution_count": null,
      "metadata": {
        "id": "5w2dVglio61c",
        "outputId": "b96423f9-ced9-4e9f-9f13-8bbdd3fed31c"
      },
      "outputs": [
        {
          "name": "stdout",
          "output_type": "stream",
          "text": [
            "ayneK\n"
          ]
        }
      ],
      "source": [
        "def reverse(s):\n",
        "    return s[::-1]\n",
        "  \n",
        "s = \"Kenya\"\n",
        "print(reverse(s))\n"
      ]
    },
    {
      "cell_type": "code",
      "execution_count": null,
      "metadata": {
        "id": "8L9Rh9-So61c",
        "outputId": "694e7191-85a1-4c50-85d7-758e3a5fc06a"
      },
      "outputs": [
        {
          "data": {
            "text/plain": [
              "{10, 20, 60, 70}"
            ]
          },
          "execution_count": 43,
          "metadata": {},
          "output_type": "execute_result"
        }
      ],
      "source": [
        "set1 = {10, 20, 30, 40, 50}\n",
        "set2 = {30, 40, 50, 60, 70}\n",
        "def set_difference(a,b):\n",
        "    return set1.symmetric_difference(set2)\n",
        "set_difference(set1,set2)"
      ]
    },
    {
      "cell_type": "code",
      "execution_count": null,
      "metadata": {
        "id": "d5PHkzato61c",
        "outputId": "9cad80de-1e1e-46f9-c3bf-1b870c493671"
      },
      "outputs": [
        {
          "data": {
            "text/plain": [
              "[20, 30, 40, 50, 0]"
            ]
          },
          "execution_count": 44,
          "metadata": {},
          "output_type": "execute_result"
        }
      ],
      "source": [
        "def remove_from_list(input_list, value):\n",
        "    new = [i for i in input_list if i != value]\n",
        "    return new\n",
        "\n",
        "a = [10, 20, 10, 30, 40, 50, 10, 0]\n",
        "remove_from_list(a, 10)"
      ]
    },
    {
      "cell_type": "code",
      "execution_count": null,
      "metadata": {
        "id": "9UfYSuG-o61c",
        "outputId": "604e6484-ee1d-47a2-a000-a26fa58336fb"
      },
      "outputs": [
        {
          "data": {
            "text/plain": [
              "False"
            ]
          },
          "execution_count": 45,
          "metadata": {},
          "output_type": "execute_result"
        }
      ],
      "source": [
        "is_triangle(1,2,3)"
      ]
    },
    {
      "cell_type": "code",
      "execution_count": null,
      "metadata": {
        "id": "4iaLuIqJo61c",
        "outputId": "7233ea38-8954-41e4-ec0f-9edac2fd623c"
      },
      "outputs": [
        {
          "name": "stdout",
          "output_type": "stream",
          "text": [
            "1\n",
            "3\n",
            "5\n",
            "7\n",
            "9\n"
          ]
        }
      ],
      "source": [
        "for i in range(1,10):\n",
        "    if i%2==1:\n",
        "        print(i)"
      ]
    },
    {
      "cell_type": "markdown",
      "metadata": {
        "id": "FZpoCUlEQKWV"
      },
      "source": [
        "### Tuple\n",
        "\n",
        "Tuple is similar to a list but you cannot modify its value (similar to string). It can be optionally enclosed with parenthesis `()`."
      ]
    },
    {
      "cell_type": "code",
      "execution_count": null,
      "metadata": {
        "colab": {
          "base_uri": "https://localhost:8080/"
        },
        "id": "Aep6ilXbo61d",
        "outputId": "8a6e9439-1202-4fb4-f447-cedc11cde81b"
      },
      "outputs": [
        {
          "name": "stdout",
          "output_type": "stream",
          "text": [
            "()\n",
            "a\n",
            "('a', 'b', 'c')\n",
            "('a',)\n"
          ]
        }
      ],
      "source": [
        "empty_tup = ()\n",
        "txt1 = (\"a\")\n",
        "txt2 = (\"a\",\"b\",\"c\")\n",
        "txt3 = (\"a\",)\n",
        "print(empty_tup)\n",
        "print(txt1)\n",
        "print(txt2)\n",
        "print(txt3)"
      ]
    },
    {
      "cell_type": "code",
      "execution_count": null,
      "metadata": {
        "id": "vjwG204JQXSP",
        "outputId": "fe208b48-f0d4-4247-99f0-ca498f1766db"
      },
      "outputs": [
        {
          "name": "stdout",
          "output_type": "stream",
          "text": [
            "(1, 2, 3)\n",
            "(1, 2, 3)\n"
          ]
        }
      ],
      "source": [
        "x = (1, 2, 3)\n",
        "print(x)\n",
        "x = 1, 2, 3\n",
        "print(x)"
      ]
    },
    {
      "cell_type": "code",
      "execution_count": null,
      "metadata": {
        "colab": {
          "base_uri": "https://localhost:8080/"
        },
        "id": "7LsZJundP1TI",
        "outputId": "736cd229-b226-41a7-868c-6b98b8378fcd"
      },
      "outputs": [
        {
          "name": "stdout",
          "output_type": "stream",
          "text": [
            "(1,)\n",
            "(1, 2)\n",
            "(1, 2, 3)\n"
          ]
        }
      ],
      "source": [
        "txt1 = 1,\n",
        "txt2 = 1,2\n",
        "txt3 = 1,2,3\n",
        "print(txt1)\n",
        "print(txt2)\n",
        "print(txt3)\n"
      ]
    },
    {
      "cell_type": "markdown",
      "metadata": {
        "id": "QkIgNHcaQdPL"
      },
      "source": [
        "Trying to edit a tuple will generate an error."
      ]
    },
    {
      "cell_type": "code",
      "execution_count": null,
      "metadata": {
        "colab": {
          "base_uri": "https://localhost:8080/"
        },
        "id": "CxYSC3eOQqBJ",
        "outputId": "78c3c140-3206-4b22-9f12-1e1cd8b8833c"
      },
      "outputs": [
        {
          "name": "stdout",
          "output_type": "stream",
          "text": [
            "Dennis 23 Kitengela 18-10-2022\n"
          ]
        }
      ],
      "source": [
        "survey = (\"Dennis\",23,\"Kitengela\",\"18-10-2022\")\n",
        "date = survey[3]\n",
        "name = survey[0]\n",
        "age = survey[1]\n",
        "location = survey[2]\n",
        "print(name,age,location,date)"
      ]
    },
    {
      "cell_type": "code",
      "execution_count": null,
      "metadata": {
        "colab": {
          "base_uri": "https://localhost:8080/"
        },
        "id": "lbS5YjPATuq7",
        "outputId": "3683b10b-bffa-430e-acab-dee39bd6c860"
      },
      "outputs": [
        {
          "name": "stdout",
          "output_type": "stream",
          "text": [
            "Dennis 23 Kitengela 18-10-2022\n"
          ]
        }
      ],
      "source": [
        "survey = (\"Dennis\",23,\"Kitengela\",\"18-10-2022\")\n",
        "name,age,location,date, = survey\n",
        "print(name,age,location,date)"
      ]
    },
    {
      "cell_type": "code",
      "execution_count": null,
      "metadata": {
        "id": "6J5wVbX9QgO9",
        "outputId": "05e49b59-52a0-4fc4-949c-f311183cecbd"
      },
      "outputs": [
        {
          "ename": "TypeError",
          "evalue": "'tuple' object does not support item assignment",
          "output_type": "error",
          "traceback": [
            "\u001b[0;31m---------------------------------------------------------------------------\u001b[0m",
            "\u001b[0;31mTypeError\u001b[0m                                 Traceback (most recent call last)",
            "Input \u001b[0;32mIn [52]\u001b[0m, in \u001b[0;36m<cell line: 1>\u001b[0;34m()\u001b[0m\n\u001b[0;32m----> 1\u001b[0m x[\u001b[38;5;241m1\u001b[39m] \u001b[38;5;241m=\u001b[39m \u001b[38;5;241m6\u001b[39m\n",
            "\u001b[0;31mTypeError\u001b[0m: 'tuple' object does not support item assignment"
          ]
        }
      ],
      "source": [
        "x[1] = 6"
      ]
    },
    {
      "cell_type": "markdown",
      "metadata": {
        "id": "8DnrlqJ9QkSf"
      },
      "source": [
        "Anything that works with list also works with tuple, as long as it does not modify the content of tuple."
      ]
    },
    {
      "cell_type": "code",
      "execution_count": null,
      "metadata": {
        "id": "E5EwOpbHRoZw",
        "outputId": "a2ffcf20-9749-41f8-c377-b75e7d4677fc"
      },
      "outputs": [
        {
          "name": "stdout",
          "output_type": "stream",
          "text": [
            "3\n"
          ]
        }
      ],
      "source": [
        "print(len(x))"
      ]
    },
    {
      "cell_type": "markdown",
      "metadata": {
        "id": "aABk8NCxWIMQ"
      },
      "source": [
        "You can assign multiple variables using a tuple. This is called tuple unpacking. Remember that the number of variables must be the same as the number of values in the tuple."
      ]
    },
    {
      "cell_type": "code",
      "execution_count": null,
      "metadata": {
        "id": "aZ6HIYNyWVd1",
        "outputId": "56c23cb4-149c-4e8b-880c-b6a438caae67"
      },
      "outputs": [
        {
          "name": "stdout",
          "output_type": "stream",
          "text": [
            "1 2 3\n"
          ]
        }
      ],
      "source": [
        "x1, x2, x3 = x\n",
        "print(x1, x2, x3)"
      ]
    },
    {
      "cell_type": "markdown",
      "metadata": {
        "id": "5oIPRG51Rz6x"
      },
      "source": [
        "### Set\n",
        "\n",
        "Set is a special kind of list where all elements are unique and unordered. It is enclosed with curly brackets `{}`."
      ]
    },
    {
      "cell_type": "code",
      "execution_count": null,
      "metadata": {
        "id": "82rChB57STqN",
        "outputId": "68d2345a-4d02-471c-8e62-570c9821e73e"
      },
      "outputs": [
        {
          "name": "stdout",
          "output_type": "stream",
          "text": [
            "{0, 1, 2}\n"
          ]
        }
      ],
      "source": [
        "c = {0, 1, 2, 1, 2, 0, 2}\n",
        "print(c)"
      ]
    },
    {
      "cell_type": "code",
      "execution_count": null,
      "metadata": {
        "id": "NRkEDVqQo61e",
        "outputId": "1a8a346d-91c2-4c62-de8a-b3d6e7ef1753"
      },
      "outputs": [
        {
          "name": "stdout",
          "output_type": "stream",
          "text": [
            "{1, 2}\n",
            "{1, 2, 3, 4, 5, 6}\n",
            "{1, 2}\n",
            "{3, 4, 5, 6}\n"
          ]
        }
      ],
      "source": [
        "set1 = {1,2,3,4,5,6}\n",
        "set2 = {3,4,5,6}\n",
        "set3 = set1 - set2 #difference set1.difference(set2)\n",
        "set4 = set1 | set2 #union set1.union(set2)\n",
        "set5 = set1 ^ set2 #symet\n",
        "set6 = set1 & set2 #intersection set1.intersection(set2)\n",
        "print(set3)\n",
        "print(set4)\n",
        "print(set5)\n",
        "print(set6)\n"
      ]
    },
    {
      "cell_type": "markdown",
      "metadata": {
        "id": "OWblHIHMSk19"
      },
      "source": [
        "Since set is unordered, trying to access it using index will return an error."
      ]
    },
    {
      "cell_type": "code",
      "execution_count": null,
      "metadata": {
        "id": "QTtUpEYuSiGa",
        "outputId": "83f11438-27a6-4b7e-edf9-3e112663e5b6"
      },
      "outputs": [
        {
          "ename": "TypeError",
          "evalue": "'set' object is not subscriptable",
          "output_type": "error",
          "traceback": [
            "\u001b[0;31m---------------------------------------------------------------------------\u001b[0m",
            "\u001b[0;31mTypeError\u001b[0m                                 Traceback (most recent call last)",
            "Input \u001b[0;32mIn [57]\u001b[0m, in \u001b[0;36m<cell line: 1>\u001b[0;34m()\u001b[0m\n\u001b[0;32m----> 1\u001b[0m \u001b[38;5;28mprint\u001b[39m(\u001b[43mc\u001b[49m\u001b[43m[\u001b[49m\u001b[38;5;241;43m0\u001b[39;49m\u001b[43m]\u001b[49m)\n",
            "\u001b[0;31mTypeError\u001b[0m: 'set' object is not subscriptable"
          ]
        }
      ],
      "source": [
        "print(c[0])"
      ]
    },
    {
      "cell_type": "markdown",
      "metadata": {
        "id": "mzk497gHSsW3"
      },
      "source": [
        "Some operations with set:"
      ]
    },
    {
      "cell_type": "code",
      "execution_count": null,
      "metadata": {
        "id": "h0zEPrVCStz4",
        "outputId": "02b815d4-d975-415d-e09e-d7118338ea07"
      },
      "outputs": [
        {
          "name": "stdout",
          "output_type": "stream",
          "text": [
            "False\n"
          ]
        }
      ],
      "source": [
        "print(3 in c)"
      ]
    },
    {
      "cell_type": "code",
      "execution_count": null,
      "metadata": {
        "id": "m3D2aIrkSwe_",
        "outputId": "99697ed9-2dd1-457c-df56-52029c4d526b"
      },
      "outputs": [
        {
          "name": "stdout",
          "output_type": "stream",
          "text": [
            "Intersection of a and b {1, 2}\n",
            "Union of a and b {0, 1, 2, 3}\n",
            "Difference of a to b {0}\n"
          ]
        }
      ],
      "source": [
        "a = {0, 1, 2}\n",
        "b = {1, 2, 3}\n",
        "\n",
        "print(\"Intersection of a and b\", a & b)\n",
        "print(\"Union of a and b\", a | b)\n",
        "print(\"Difference of a to b\", a - b)"
      ]
    },
    {
      "cell_type": "markdown",
      "metadata": {
        "id": "IyMlK-ISTR8-"
      },
      "source": [
        "### Dictionary\n",
        "\n",
        "Dictionary is used to map a key to a value. It is also enclosed with curly brackets but with a colon between key and value."
      ]
    },
    {
      "cell_type": "code",
      "execution_count": null,
      "metadata": {
        "id": "8FZ4vhDZTcOP",
        "outputId": "ee01ae56-3dd2-4315-b473-4832484db13c"
      },
      "outputs": [
        {
          "name": "stdout",
          "output_type": "stream",
          "text": [
            "{'japan': 'tokyo', 'vietnam': 'hanoi', 'kenya': 'nairobi'}\n"
          ]
        }
      ],
      "source": [
        "d = {'japan': 'tokyo', 'vietnam': 'hanoi', 'kenya': 'nairobi'}\n",
        "print(d)"
      ]
    },
    {
      "cell_type": "code",
      "execution_count": null,
      "metadata": {
        "id": "F74EHjbWo61f",
        "outputId": "34b5747b-7db6-4f32-f482-cc418d8ac43b"
      },
      "outputs": [
        {
          "name": "stdout",
          "output_type": "stream",
          "text": [
            "23\n",
            "34\n",
            "55\n",
            "11\n",
            "66\n",
            "99\n"
          ]
        }
      ],
      "source": [
        "data = {'japan':23,\n",
        "    'tokyo':34,\n",
        "    'vietnam':55,\n",
        "    'hanoi':11,\n",
        "    'kenya':66,\n",
        "    'nairobi':99}\n",
        "\n",
        "for valu in data.values():\n",
        "    print(valu)"
      ]
    },
    {
      "cell_type": "code",
      "execution_count": null,
      "metadata": {
        "id": "SOEqpFKqo61f",
        "outputId": "0414264f-f033-4a3e-ecde-b69cf717a72f"
      },
      "outputs": [
        {
          "name": "stdout",
          "output_type": "stream",
          "text": [
            "japan- 23\n",
            "tokyo- 34\n",
            "vietnam- 55\n",
            "hanoi- 11\n",
            "kenya- 66\n",
            "nairobi- 99\n"
          ]
        }
      ],
      "source": [
        "data = {'japan':23,\n",
        "    'tokyo':34,\n",
        "    'vietnam':55,\n",
        "    'hanoi':11,\n",
        "    'kenya':66,\n",
        "    'nairobi':99}\n",
        "for country,city in data.items():\n",
        "    print(country + \"-\",city)"
      ]
    },
    {
      "cell_type": "markdown",
      "metadata": {
        "id": "v6cF4UJnToqF"
      },
      "source": [
        "Access the dictionary with key"
      ]
    },
    {
      "cell_type": "code",
      "execution_count": null,
      "metadata": {
        "id": "s_NyFH_9TrWW",
        "outputId": "2021f38d-e932-4bc3-b63a-f5d1596a1b05"
      },
      "outputs": [
        {
          "name": "stdout",
          "output_type": "stream",
          "text": [
            "tokyo\n"
          ]
        }
      ],
      "source": [
        "print(d[\"japan\"])"
      ]
    },
    {
      "cell_type": "markdown",
      "metadata": {
        "id": "MZznwZSmTu1t"
      },
      "source": [
        "If the key does not exist in the dictionary, Python will return an error."
      ]
    },
    {
      "cell_type": "code",
      "execution_count": null,
      "metadata": {
        "id": "yriH_n6hTzAT",
        "outputId": "e922aa2e-fab2-46f2-b435-ccc8e7521cce"
      },
      "outputs": [
        {
          "ename": "KeyError",
          "evalue": "'france'",
          "output_type": "error",
          "traceback": [
            "\u001b[0;31m---------------------------------------------------------------------------\u001b[0m",
            "\u001b[0;31mKeyError\u001b[0m                                  Traceback (most recent call last)",
            "Input \u001b[0;32mIn [64]\u001b[0m, in \u001b[0;36m<cell line: 1>\u001b[0;34m()\u001b[0m\n\u001b[0;32m----> 1\u001b[0m \u001b[38;5;28mprint\u001b[39m(\u001b[43md\u001b[49m\u001b[43m[\u001b[49m\u001b[38;5;124;43m\"\u001b[39;49m\u001b[38;5;124;43mfrance\u001b[39;49m\u001b[38;5;124;43m\"\u001b[39;49m\u001b[43m]\u001b[49m)\n",
            "\u001b[0;31mKeyError\u001b[0m: 'france'"
          ]
        }
      ],
      "source": [
        "print(d[\"france\"])"
      ]
    },
    {
      "cell_type": "markdown",
      "metadata": {
        "id": "_-vEVfVLT3md"
      },
      "source": [
        "Add an entry in dictionary with square brackets."
      ]
    },
    {
      "cell_type": "code",
      "execution_count": null,
      "metadata": {
        "id": "MCwsE6a9UAmg",
        "outputId": "1b4465b1-ffeb-4e0c-a00f-3d1667c27288"
      },
      "outputs": [
        {
          "name": "stdout",
          "output_type": "stream",
          "text": [
            "{'japan': 'tokyo', 'vietnam': 'hanoi', 'kenya': 'nairobi', 'france': 'tokyo'}\n"
          ]
        }
      ],
      "source": [
        "d[\"france\"] = \"tokyo\"\n",
        "print(d)"
      ]
    },
    {
      "cell_type": "markdown",
      "metadata": {
        "id": "QBalunujCon6"
      },
      "source": [
        "## Variable assignment\n",
        "\n",
        "In Python, data value is assigned to a variable with `=`. The following code cell with assign `1` to `x`."
      ]
    },
    {
      "cell_type": "code",
      "execution_count": null,
      "metadata": {
        "id": "mDBi1kqRCBsi",
        "outputId": "62864f42-f685-4b6e-afed-864e624670f1"
      },
      "outputs": [
        {
          "name": "stdout",
          "output_type": "stream",
          "text": [
            "1\n"
          ]
        }
      ],
      "source": [
        "x = 1\n",
        "print(x)"
      ]
    },
    {
      "cell_type": "markdown",
      "metadata": {
        "id": "CxGz7LI-C4V6"
      },
      "source": [
        "You can reassign the variable to something else, such as a string or a float number."
      ]
    },
    {
      "cell_type": "code",
      "execution_count": null,
      "metadata": {
        "id": "yjwsmobRC3zc",
        "outputId": "b5676501-d836-49a5-b6ee-9014ae1f427f"
      },
      "outputs": [
        {
          "name": "stdout",
          "output_type": "stream",
          "text": [
            "5.0\n",
            "Sun*\n"
          ]
        }
      ],
      "source": [
        "x = 5.0\n",
        "print(x)\n",
        "x = \"Sun*\"\n",
        "print(x)"
      ]
    },
    {
      "cell_type": "markdown",
      "metadata": {
        "id": "9xnSvjoSDPeE"
      },
      "source": [
        "You can also use a variable to assign value for another variable (including itself)."
      ]
    },
    {
      "cell_type": "code",
      "execution_count": null,
      "metadata": {
        "id": "8ysPBY3vDKwr",
        "outputId": "6a59b3e1-968e-4ab9-b327-ed74fe47ce8c"
      },
      "outputs": [
        {
          "name": "stdout",
          "output_type": "stream",
          "text": [
            "6\n"
          ]
        }
      ],
      "source": [
        "x = 5\n",
        "y = x + 1\n",
        "print(y)"
      ]
    },
    {
      "cell_type": "code",
      "execution_count": null,
      "metadata": {
        "id": "b-ldX4RrDXXd",
        "outputId": "56bef5a7-6fa2-4df9-8330-427111817c00"
      },
      "outputs": [
        {
          "name": "stdout",
          "output_type": "stream",
          "text": [
            "6\n"
          ]
        }
      ],
      "source": [
        "x = x + 1\n",
        "print(x)"
      ]
    },
    {
      "cell_type": "markdown",
      "metadata": {
        "id": "JFgUJQuaDhTA"
      },
      "source": [
        "## Conditionals and Loops"
      ]
    },
    {
      "cell_type": "markdown",
      "metadata": {
        "id": "O2an9QopDmag"
      },
      "source": [
        "### Conditionals\n",
        "\n",
        "In Python, we use `if` statement to declare conditional statement. A boolean expression, which returns `True` or `False`, is used to determine if a code block will be run.\n",
        "\n",
        "Try running the following code cell, then changing the value of `x` to some number and run the code cell again.\n",
        "\n",
        "Note: In Python, line indention indicates a code block. Therefore, remember to indent the line correctly. If you do not indent a code block evenly, Python will throw an error."
      ]
    },
    {
      "cell_type": "code",
      "execution_count": null,
      "metadata": {
        "id": "O9wiOuNhDZ-B",
        "outputId": "b59bb15f-3f74-4636-8229-9a0b4bac345d"
      },
      "outputs": [
        {
          "name": "stdout",
          "output_type": "stream",
          "text": [
            "Eligible for driving\n"
          ]
        }
      ],
      "source": [
        "age = 20\n",
        "if age >= 18:\n",
        "    print('Eligible for driving')\n",
        "else:\n",
        "    print('Not eligible for driving')"
      ]
    },
    {
      "cell_type": "markdown",
      "metadata": {
        "id": "M9LDRTvZFmUN"
      },
      "source": [
        "You can use as many `elif` as you want to create multiple branches for your `if` statement."
      ]
    },
    {
      "cell_type": "code",
      "execution_count": null,
      "metadata": {
        "id": "N6jc7g62E7PM",
        "outputId": "9335cb89-dcae-4593-d8d8-dfc66628f339"
      },
      "outputs": [
        {
          "name": "stdout",
          "output_type": "stream",
          "text": [
            "B+\n"
          ]
        }
      ],
      "source": [
        "grade = 80\n",
        "\n",
        "if grade >= 90:\n",
        "    print(\"A+\")\n",
        "elif grade >= 85:\n",
        "    print(\"A\")\n",
        "elif grade >= 80:\n",
        "    print(\"B+\")\n",
        "else:\n",
        "    print(\"B\")"
      ]
    },
    {
      "cell_type": "markdown",
      "metadata": {
        "id": "gEAqZgb8EhRe"
      },
      "source": [
        "Boolean expressions can be combined with `and`, `or` and `not`."
      ]
    },
    {
      "cell_type": "code",
      "execution_count": null,
      "metadata": {
        "id": "mLkalEyaEAIi"
      },
      "outputs": [],
      "source": [
        "status = 'drunk'\n",
        "if age >= 18 and status != 'drunk':\n",
        "    print('Eligible for driving')"
      ]
    },
    {
      "cell_type": "markdown",
      "metadata": {
        "id": "B_aTWmyvGDES"
      },
      "source": [
        "### Loops\n",
        "\n",
        "Loop is a way to repeat code. There are two types of loops: `while` and `for` loops."
      ]
    },
    {
      "cell_type": "markdown",
      "metadata": {
        "id": "hDfH3tQlGWK1"
      },
      "source": [
        "A `while` loop will run as long as the condition boolean expression return `True`.\n",
        "\n",
        "Note: a `while` loop can run indefinitely. Try removing the `age += 1` line and run the code cell. To stop it from running, click the Stop button or Runtime -> Interrupt Execution."
      ]
    },
    {
      "cell_type": "code",
      "execution_count": null,
      "metadata": {
        "id": "QOvE-f-OF1bd",
        "outputId": "6bf758eb-fa4d-4fc6-b2d7-093f887702fb"
      },
      "outputs": [
        {
          "name": "stdout",
          "output_type": "stream",
          "text": [
            "0\n",
            "1\n",
            "2\n",
            "3\n",
            "4\n",
            "5\n",
            "6\n",
            "7\n",
            "8\n"
          ]
        }
      ],
      "source": [
        "age = 0\n",
        "while age <= 8:\n",
        "    print(age)\n",
        "    age += 1"
      ]
    },
    {
      "cell_type": "code",
      "execution_count": null,
      "metadata": {
        "id": "Qgss0hzeo61i",
        "outputId": "bd09d7d4-926f-4c6a-94eb-d43836f6e0f8"
      },
      "outputs": [
        {
          "name": "stdout",
          "output_type": "stream",
          "text": [
            "input your password: \n",
            "password too short\n"
          ]
        }
      ],
      "source": [
        "name = input(\"input your password: \")\n",
        "\n",
        "if len(name) < 10:\n",
        "    print(\"password too short\")\n",
        "else:\n",
        "    print(\"strong password\")"
      ]
    },
    {
      "cell_type": "code",
      "execution_count": null,
      "metadata": {
        "id": "txtBKXFso61j",
        "outputId": "72a2b536-696f-44c9-96ac-322e453d2f43"
      },
      "outputs": [
        {
          "name": "stdout",
          "output_type": "stream",
          "text": [
            "Kindly input an number : \n"
          ]
        },
        {
          "ename": "ValueError",
          "evalue": "invalid literal for int() with base 10: ''",
          "output_type": "error",
          "traceback": [
            "\u001b[0;31m---------------------------------------------------------------------------\u001b[0m",
            "\u001b[0;31mValueError\u001b[0m                                Traceback (most recent call last)",
            "Input \u001b[0;32mIn [75]\u001b[0m, in \u001b[0;36m<cell line: 1>\u001b[0;34m()\u001b[0m\n\u001b[0;32m----> 1\u001b[0m odd \u001b[38;5;241m=\u001b[39m\u001b[38;5;28;43mint\u001b[39;49m\u001b[43m \u001b[49m\u001b[43m(\u001b[49m\u001b[38;5;28;43minput\u001b[39;49m\u001b[43m(\u001b[49m\u001b[38;5;124;43m\"\u001b[39;49m\u001b[38;5;124;43mKindly input an number : \u001b[39;49m\u001b[38;5;124;43m\"\u001b[39;49m\u001b[43m)\u001b[49m\u001b[43m)\u001b[49m\n\u001b[1;32m      2\u001b[0m \u001b[38;5;28;01mif\u001b[39;00m odd \u001b[38;5;241m%\u001b[39m \u001b[38;5;241m2\u001b[39m \u001b[38;5;241m==\u001b[39m \u001b[38;5;241m0\u001b[39m:\n\u001b[1;32m      3\u001b[0m     \u001b[38;5;28mprint\u001b[39m(\u001b[38;5;124m\"\u001b[39m\u001b[38;5;124meven number\u001b[39m\u001b[38;5;124m\"\u001b[39m)\n",
            "\u001b[0;31mValueError\u001b[0m: invalid literal for int() with base 10: ''"
          ]
        }
      ],
      "source": [
        "odd =int (input(\"Kindly input an number : \"))\n",
        "if odd % 2 == 0:\n",
        "    print(\"even number\")\n",
        "else:\n",
        "    print(\"odd number\")"
      ]
    },
    {
      "cell_type": "code",
      "execution_count": null,
      "metadata": {
        "id": "4VUtk3OGo61j",
        "outputId": "3a86bf8a-eca8-4d37-9fe3-ca98c81d692d"
      },
      "outputs": [
        {
          "name": "stdout",
          "output_type": "stream",
          "text": [
            "input on side of a triangle: \n"
          ]
        },
        {
          "ename": "ValueError",
          "evalue": "invalid literal for int() with base 10: ''",
          "output_type": "error",
          "traceback": [
            "\u001b[0;31m---------------------------------------------------------------------------\u001b[0m",
            "\u001b[0;31mValueError\u001b[0m                                Traceback (most recent call last)",
            "Input \u001b[0;32mIn [76]\u001b[0m, in \u001b[0;36m<cell line: 1>\u001b[0;34m()\u001b[0m\n\u001b[0;32m----> 1\u001b[0m a \u001b[38;5;241m=\u001b[39m \u001b[38;5;28;43mint\u001b[39;49m\u001b[43m(\u001b[49m\u001b[38;5;28;43minput\u001b[39;49m\u001b[43m(\u001b[49m\u001b[38;5;124;43m\"\u001b[39;49m\u001b[38;5;124;43minput on side of a triangle: \u001b[39;49m\u001b[38;5;124;43m\"\u001b[39;49m\u001b[43m)\u001b[49m\u001b[43m)\u001b[49m\n\u001b[1;32m      2\u001b[0m b \u001b[38;5;241m=\u001b[39m \u001b[38;5;28mint\u001b[39m(\u001b[38;5;28minput\u001b[39m(\u001b[38;5;124m\"\u001b[39m\u001b[38;5;124minput on side of a triangle: \u001b[39m\u001b[38;5;124m\"\u001b[39m))\n\u001b[1;32m      3\u001b[0m c \u001b[38;5;241m=\u001b[39m \u001b[38;5;28mint\u001b[39m(\u001b[38;5;28minput\u001b[39m(\u001b[38;5;124m\"\u001b[39m\u001b[38;5;124minput on side of a triangle: \u001b[39m\u001b[38;5;124m\"\u001b[39m))\n",
            "\u001b[0;31mValueError\u001b[0m: invalid literal for int() with base 10: ''"
          ]
        }
      ],
      "source": [
        "a = int(input(\"input on side of a triangle: \"))\n",
        "b = int(input(\"input on side of a triangle: \"))\n",
        "c = int(input(\"input on side of a triangle: \"))\n",
        "if a == b and b!=c:\n",
        "    print(\"its an isosless triangle\")\n",
        "elif a != b and b!=c:\n",
        "    print(\"Calene triangle\")\n",
        "else:\n",
        "    print(\"Equilateral Triangle\")"
      ]
    },
    {
      "cell_type": "markdown",
      "metadata": {
        "id": "QdXNwBhdHAxf"
      },
      "source": [
        "A `for` loop will create a variable, assign a value to it and increment it until it reaches the stop value. "
      ]
    },
    {
      "cell_type": "code",
      "execution_count": null,
      "metadata": {
        "id": "TV7aYPe8GjzF",
        "outputId": "43b0ad2d-16f3-4245-d9ed-124e6ec3392a"
      },
      "outputs": [
        {
          "name": "stdout",
          "output_type": "stream",
          "text": [
            "0\n",
            "1\n",
            "2\n",
            "3\n",
            "4\n",
            "5\n",
            "6\n",
            "7\n",
            "8\n"
          ]
        }
      ],
      "source": [
        "for age in range(9):  # range(19) = [0, 1, 2, ..., 8]\n",
        "    print(age)"
      ]
    },
    {
      "cell_type": "code",
      "execution_count": null,
      "metadata": {
        "id": "27e_62FsHhE-",
        "outputId": "8930058c-24a8-4c6d-f9f1-62630ecd663d"
      },
      "outputs": [
        {
          "name": "stdout",
          "output_type": "stream",
          "text": [
            "0\n",
            "2\n",
            "4\n",
            "6\n",
            "8\n"
          ]
        }
      ],
      "source": [
        "for age in range(0, 9, 2):  # [0, 2, 4, 6, 8]\n",
        "    print(age)"
      ]
    },
    {
      "cell_type": "markdown",
      "metadata": {
        "id": "UofsTMwGHzff"
      },
      "source": [
        "In a loop, you can use `break` statement to exit a loop. `break` will exit only the most innerloop."
      ]
    },
    {
      "cell_type": "code",
      "execution_count": null,
      "metadata": {
        "id": "tLpLTC8LHsB1",
        "outputId": "e0bf0e97-5df0-42ac-80d2-238b5dc49d11"
      },
      "outputs": [
        {
          "name": "stdout",
          "output_type": "stream",
          "text": [
            "0\n",
            "1\n",
            "2\n",
            "3\n",
            "4\n",
            "5\n"
          ]
        }
      ],
      "source": [
        "for age in range(9):\n",
        "    if age == 6:\n",
        "        break\n",
        "\n",
        "    print(age)"
      ]
    },
    {
      "cell_type": "markdown",
      "metadata": {
        "id": "5cqEyUZaIKEA"
      },
      "source": [
        "You can use `for` loop to iterate through a list/tuple/set."
      ]
    },
    {
      "cell_type": "code",
      "execution_count": null,
      "metadata": {
        "id": "eAqMZbXtH6eN",
        "outputId": "d25aee99-e014-477c-bcb9-798a2b98614f"
      },
      "outputs": [
        {
          "name": "stdout",
          "output_type": "stream",
          "text": [
            "Python\n",
            "is\n",
            "cool\n"
          ]
        }
      ],
      "source": [
        "for value in [\"Python\", \"is\", \"cool\"]:\n",
        "    print(value)"
      ]
    },
    {
      "cell_type": "markdown",
      "metadata": {
        "id": "kdr8DKGeIs9B"
      },
      "source": [
        "## Functions\n",
        "\n",
        "To avoid repeating lines of code, you can encapsulate them in a function and use it later."
      ]
    },
    {
      "cell_type": "code",
      "execution_count": null,
      "metadata": {
        "id": "6DYmrtGzIUyF",
        "outputId": "63ce6759-8966-4414-9d77-23c32faaf0be"
      },
      "outputs": [
        {
          "name": "stdout",
          "output_type": "stream",
          "text": [
            "3^3 =  27\n"
          ]
        }
      ],
      "source": [
        "def power(a, b):\n",
        "    # Calculate a^b\n",
        "    result = 1\n",
        "    for i in range(b):\n",
        "        result *= a\n",
        "    return result\n",
        "\n",
        "print(\"3^3 = \", power(3, 3))"
      ]
    },
    {
      "cell_type": "code",
      "execution_count": null,
      "metadata": {
        "id": "ZI8pfZ8uo61l",
        "outputId": "f1367946-8cc7-40d3-8ac6-c9527893fd27"
      },
      "outputs": [
        {
          "data": {
            "text/plain": [
              "113.09733552923254"
            ]
          },
          "execution_count": 82,
          "metadata": {},
          "output_type": "execute_result"
        }
      ],
      "source": [
        "import math\n",
        "def volume_sphere(r):\n",
        "    metho = 4/3 * math.pi * r **3\n",
        "    return metho\n",
        "volume_sphere(3)"
      ]
    },
    {
      "cell_type": "code",
      "execution_count": null,
      "metadata": {
        "id": "DsMc2h8ro61l",
        "outputId": "978a3c1c-ac47-4382-a3cf-48550224a565"
      },
      "outputs": [
        {
          "data": {
            "text/plain": [
              "195.5"
            ]
          },
          "execution_count": 83,
          "metadata": {},
          "output_type": "execute_result"
        }
      ],
      "source": [
        "def triangle_area(b,h):\n",
        "    meth = 1.0/2.0 * b * h\n",
        "    return meth\n",
        "triangle_area(23,17)"
      ]
    },
    {
      "cell_type": "markdown",
      "metadata": {
        "id": "PjlAh47TJx6K"
      },
      "source": [
        "Default parameters: you can assign a default value to a parameter. If the function is called and no value is passed to this parameter, the default value will be assigned to it."
      ]
    },
    {
      "cell_type": "code",
      "execution_count": null,
      "metadata": {
        "id": "mjB2MCWKJoBS",
        "outputId": "a4a15cc1-b3e2-470f-d693-3c6ced1dd0f0"
      },
      "outputs": [
        {
          "name": "stdout",
          "output_type": "stream",
          "text": [
            "Hello, my name is John\n"
          ]
        }
      ],
      "source": [
        "def say_hello(name=\"John\"):\n",
        "    print(\"Hello, my name is\", name)\n",
        "\n",
        "say_hello()"
      ]
    },
    {
      "cell_type": "code",
      "execution_count": null,
      "metadata": {
        "id": "SjgpBfuUo61m",
        "outputId": "1ad3aa1a-2cdd-476f-8308-1718fda3c76b"
      },
      "outputs": [
        {
          "data": {
            "text/plain": [
              "(16, 3)"
            ]
          },
          "execution_count": 85,
          "metadata": {},
          "output_type": "execute_result"
        }
      ],
      "source": [
        "def convert(inches = 0, feet = 0):\n",
        "    conv_inch = inches * 1\n",
        "    conv_feet = feet * 1\n",
        "    return conv_inch , conv_feet\n",
        "convert(inches=16,feet = 3)\n",
        "    "
      ]
    },
    {
      "cell_type": "markdown",
      "metadata": {
        "id": "ryea83RYKM1O"
      },
      "source": [
        "Named parameters: this will allow you to specify which argument will receive which value. It also allows you to mix the order of parameters when calling the function name."
      ]
    },
    {
      "cell_type": "code",
      "execution_count": null,
      "metadata": {
        "id": "hsEpcgfcKKYP",
        "outputId": "55e52109-62f8-437a-9127-1af50f644c1b"
      },
      "outputs": [
        {
          "name": "stdout",
          "output_type": "stream",
          "text": [
            "6^3 =  216\n"
          ]
        }
      ],
      "source": [
        "def power(a, b=1):\n",
        "    # Calculate a^b\n",
        "    result = 1\n",
        "    for i in range(b):\n",
        "        result *= a\n",
        "    return result\n",
        "\n",
        "print(\"6^3 = \", power(b=3, a=6))"
      ]
    },
    {
      "cell_type": "markdown",
      "metadata": {
        "id": "GGMZk5kwK3b5"
      },
      "source": [
        "## Importing\n",
        "\n",
        "In order to reuse a function/class from a different place, you will need to import it from another module. There are two ways to do it."
      ]
    },
    {
      "cell_type": "markdown",
      "metadata": {
        "id": "mRlYeO7tLDgh"
      },
      "source": [
        "The first one is to import the whole module. This will allow you to use all the functions and classes of that module."
      ]
    },
    {
      "cell_type": "code",
      "execution_count": null,
      "metadata": {
        "id": "LmLX1e_zKv7Q",
        "outputId": "4cfe2f58-f335-4911-cc61-912ab2c39953"
      },
      "outputs": [
        {
          "name": "stdout",
          "output_type": "stream",
          "text": [
            "2.449489742783178\n",
            "7\n"
          ]
        }
      ],
      "source": [
        "import math\n",
        "\n",
        "print(math.sqrt(6))\n",
        "print(math.ceil(6.3))"
      ]
    },
    {
      "cell_type": "markdown",
      "metadata": {
        "id": "EPOBG-YBLTT2"
      },
      "source": [
        "The second one is to use `from <module_name> import <function>` to import a specific function. This will allow you to use only that function."
      ]
    },
    {
      "cell_type": "code",
      "execution_count": null,
      "metadata": {
        "id": "Q50qck8KLSTO",
        "outputId": "644d6fee-4391-4de6-a64c-ec7ae4993170"
      },
      "outputs": [
        {
          "name": "stdout",
          "output_type": "stream",
          "text": [
            "['log_files.log', 'Personal Practice PY.ipynb', 'homework.md', '.ipynb_checkpoints', '.git', 'basic-ml-course']\n"
          ]
        }
      ],
      "source": [
        "from os import listdir\n",
        "\n",
        "print(listdir('.'))  # list all files in current working directory"
      ]
    },
    {
      "cell_type": "markdown",
      "metadata": {
        "id": "Xap8jrxdMJnt"
      },
      "source": [
        "This will return an error. The reason is that we only imported `listdir` from `os` module but not the whole `os` module."
      ]
    },
    {
      "cell_type": "code",
      "execution_count": null,
      "metadata": {
        "id": "6-gW0oo1LodD",
        "outputId": "780221ed-0702-4a37-80b9-eb2339cebc78"
      },
      "outputs": [
        {
          "ename": "NameError",
          "evalue": "name 'os' is not defined",
          "output_type": "error",
          "traceback": [
            "\u001b[0;31m---------------------------------------------------------------------------\u001b[0m",
            "\u001b[0;31mNameError\u001b[0m                                 Traceback (most recent call last)",
            "Input \u001b[0;32mIn [89]\u001b[0m, in \u001b[0;36m<cell line: 1>\u001b[0;34m()\u001b[0m\n\u001b[0;32m----> 1\u001b[0m \u001b[38;5;28mprint\u001b[39m(\u001b[43mos\u001b[49m\u001b[38;5;241m.\u001b[39mgetcwd())\n",
            "\u001b[0;31mNameError\u001b[0m: name 'os' is not defined"
          ]
        }
      ],
      "source": [
        "print(os.getcwd())"
      ]
    },
    {
      "cell_type": "markdown",
      "metadata": {
        "id": "IZ8k0gPYUWZ2"
      },
      "source": [
        "# Class\n",
        "\n",
        "Class is an important concept in Object Oriented Programming. It is used to define a blueprint for objects, including attributes and methods (or functions of object)."
      ]
    },
    {
      "cell_type": "code",
      "execution_count": null,
      "metadata": {
        "id": "jNuTdhKoUYQW",
        "outputId": "cbe7cc02-bcd2-4da7-fb0f-df16be0544f3"
      },
      "outputs": [
        {
          "name": "stdout",
          "output_type": "stream",
          "text": [
            "John Doe\n",
            "John Doe\n",
            "2\n"
          ]
        }
      ],
      "source": [
        "class Person:\n",
        "    time_accessed = 0\n",
        "\n",
        "    def __init__(self, first, last):\n",
        "        self.firstname = first\n",
        "        self.lastname = last\n",
        "    \n",
        "    def get_time_accessed(self):\n",
        "        return self.time_accessed\n",
        "    \n",
        "    def describe(self):\n",
        "        self.time_accessed += 1\n",
        "        return self.firstname + \" \" + self.lastname\n",
        "\n",
        "a = Person(\"John\", \"Doe\")\n",
        "print(a.describe())\n",
        "print(a.describe())\n",
        "print(a.get_time_accessed())"
      ]
    },
    {
      "cell_type": "markdown",
      "metadata": {
        "id": "pD5fmqztVQZI"
      },
      "source": [
        "A class can also inherit another class as its base."
      ]
    },
    {
      "cell_type": "code",
      "execution_count": null,
      "metadata": {
        "id": "cJHnkYAIVIGI",
        "outputId": "36125acf-d354-44f8-c813-08030d777746"
      },
      "outputs": [
        {
          "name": "stdout",
          "output_type": "stream",
          "text": [
            "1500\n",
            "Jason Mack\n",
            "1500\n",
            "3\n"
          ]
        }
      ],
      "source": [
        "class Employee(Person):\n",
        "    def __init__(self, firstname, lastname, salary):\n",
        "        Person.__init__(self, firstname, lastname)\n",
        "        self.salary = salary\n",
        "    \n",
        "    def get_salary(self):\n",
        "        self.time_accessed += 1\n",
        "        return self.salary\n",
        "\n",
        "b = Employee(\"Jason\", \"Mack\", 1500)\n",
        "print(b.get_salary())\n",
        "print(b.describe())\n",
        "print(b.get_salary())\n",
        "print(b.get_time_accessed())"
      ]
    },
    {
      "cell_type": "code",
      "execution_count": null,
      "metadata": {
        "id": "CJ7XCZnJDABF",
        "outputId": "59650108-e4c8-4d40-bfc7-201ab1e5e59f"
      },
      "outputs": [
        {
          "name": "stdout",
          "output_type": "stream",
          "text": [
            "This is a Black bird and a 3 year old\n",
            "This is a Black bird and a 3 year old\n"
          ]
        }
      ],
      "source": [
        "class Parrot:\n",
        "    def __init__(self,species,age):\n",
        "        self.species = species\n",
        "        self.age = age\n",
        "    def fet_details(Parrot):\n",
        "        return self.species,self.age\n",
        "duo = Parrot(\"Black\",3)\n",
        "duo1 = Parrot (\"White\",2)\n",
        "print(\"This is a {} bird and a {} year old\".format(duo.species,duo.age))\n",
        "print(f\"This is a {duo.species} bird and a {duo.age} year old\")\n"
      ]
    },
    {
      "cell_type": "code",
      "execution_count": null,
      "metadata": {
        "id": "F5qe4zseDABF",
        "outputId": "ae6717ba-5759-451d-f9e8-06781150029c"
      },
      "outputs": [
        {
          "name": "stdout",
          "output_type": "stream",
          "text": [
            "Ivan Wazome 56\n",
            "None\n",
            "Dennis\n"
          ]
        }
      ],
      "source": [
        "class Details:\n",
        "    name = \"Dennis\"\n",
        "    def __init__(self,name,sname,age):\n",
        "        self.name = name\n",
        "        self.sname = sname\n",
        "        self.age = age\n",
        "    def get_details(self):\n",
        "        print(self.name + \" \" + self.sname,self.age)\n",
        "emp_1 = Details(\"Ivan\",\"Wazome\",56)\n",
        "emp_2 = Details (\"Ivan\",\"Perisic\",64)\n",
        "print(emp_1.get_details())\n",
        "print(emp_1.__class__.name)\n",
        "    "
      ]
    },
    {
      "cell_type": "code",
      "execution_count": null,
      "metadata": {
        "id": "x1czXxVDDABG",
        "outputId": "98d1b3fe-8eae-4313-a967-6bd3b51d6f13"
      },
      "outputs": [
        {
          "name": "stdout",
          "output_type": "stream",
          "text": [
            "Blu sings 'Happy'\n",
            "Blu is now dancing\n"
          ]
        }
      ],
      "source": [
        "class Parrot:\n",
        "    \n",
        "    # instance attributes\n",
        "    def __init__(self, name, age):\n",
        "        self.name = name\n",
        "        self.age = age\n",
        "    \n",
        "    # instance method\n",
        "    def sing(self, song):\n",
        "        return \"{} sings {}\".format(self.name, song)\n",
        "\n",
        "    def dance(self):\n",
        "        return \"{} is now dancing\".format(self.name)\n",
        "\n",
        "# instantiate the object\n",
        "blu = Parrot(\"Blu\", 10)\n",
        "\n",
        "# call our instance methods\n",
        "print(blu.sing(\"'Happy'\"))\n",
        "print(blu.dance())"
      ]
    },
    {
      "cell_type": "code",
      "execution_count": null,
      "metadata": {
        "id": "M5kxDx6mDABG",
        "outputId": "52b88266-e04e-4d25-ef06-85d4de9faf16"
      },
      "outputs": [
        {
          "name": "stdout",
          "output_type": "stream",
          "text": [
            "Blu is a bird\n",
            "Woo is also a bird\n",
            "Blu is 10 years old\n",
            "Woo is 15 years old\n"
          ]
        }
      ],
      "source": [
        "class Parrot:\n",
        "\n",
        "    # class attribute\n",
        "    species = \"bird\"\n",
        "\n",
        "    # instance attribute\n",
        "    def __init__(self, name, age):\n",
        "        self.name = name\n",
        "        self.age = age\n",
        "        \n",
        "    def return_back(self,name,age):\n",
        "        return self.name,self.age\n",
        "        \n",
        "\n",
        "# instantiate the Parrot class\n",
        "blu = Parrot(\"Blu\", 10)\n",
        "woo = Parrot(\"Woo\", 15)\n",
        "\n",
        "# access the class attributes\n",
        "print(\"Blu is a {}\".format(blu.__class__.species))\n",
        "print(\"Woo is also a {}\".format(woo.__class__.species))\n",
        "\n",
        "# access the instance attributes\n",
        "print(\"{} is {} years old\".format( blu.name, blu.age))\n",
        "print(\"{} is {} years old\".format( woo.name, woo.age))\n"
      ]
    },
    {
      "cell_type": "code",
      "execution_count": null,
      "metadata": {
        "id": "ZFjMuk0HDABH",
        "outputId": "b29b4fd1-1216-4882-e89e-43f652d7d76c"
      },
      "outputs": [
        {
          "name": "stdout",
          "output_type": "stream",
          "text": [
            "Christiano Ronaldo has 14 assists this season for Man United\n",
            "Man United has a total of 34 goals this season for Man United\n"
          ]
        }
      ],
      "source": [
        "class Football:\n",
        "    def __init__(self,name,position,club):\n",
        "        self.name = name\n",
        "        self.position = position\n",
        "        self.club = club\n",
        "    def record(self,assists):\n",
        "        return(\"{} has {} assists this season for {}\".format(self.name,assists,self.club))\n",
        "    def goals (self,goals):\n",
        "          return(\"{} has a total of {} goals this season for {}\".format(self.club,goals,self.club))\n",
        "player = Football(\"Christiano Ronaldo\",\"Striker\",\"Man United\")\n",
        "print(player.record(\"14\"))\n",
        "print(player.goals(\"34\"))"
      ]
    },
    {
      "cell_type": "markdown",
      "metadata": {
        "id": "DVdgu5rdDABH"
      },
      "source": [
        "### LOGGING\n"
      ]
    },
    {
      "cell_type": "code",
      "execution_count": null,
      "metadata": {
        "id": "O9ob16ZRDABI"
      },
      "outputs": [],
      "source": [
        "import logging"
      ]
    },
    {
      "cell_type": "code",
      "execution_count": null,
      "metadata": {
        "id": "MhUuMIlLDABI"
      },
      "outputs": [],
      "source": [
        "#create a logger\n",
        "logging.basicConfig(level = logging.INFO,filename =\"log_files.log\",filemode = \"w\")\n",
        "\n",
        "logging.debug(\"debug\")\n",
        "logging.info(\"info\")\n",
        "logging.warning(\"warning\")\n",
        "logging.error(\"error\")\n",
        "logging.critical(\"critical\")"
      ]
    },
    {
      "cell_type": "code",
      "execution_count": null,
      "metadata": {
        "id": "64yZrVBqDABI"
      },
      "outputs": [],
      "source": [
        "x = 4 \n",
        "logging.info(f\"the value of {x} is standard\")"
      ]
    },
    {
      "cell_type": "code",
      "execution_count": null,
      "metadata": {
        "id": "9VmYvIvKDABJ"
      },
      "outputs": [],
      "source": [
        "try :\n",
        "    1/0\n",
        "except ZeroDivisionError as e:\n",
        "    logging.error(\"ZeroDivisionError\",exc_info = True)"
      ]
    },
    {
      "cell_type": "code",
      "execution_count": null,
      "metadata": {
        "id": "KOx8kJs-DABJ"
      },
      "outputs": [],
      "source": []
    },
    {
      "cell_type": "code",
      "execution_count": null,
      "metadata": {
        "id": "S9kIUkhWDABJ"
      },
      "outputs": [],
      "source": [
        "class Person:\n",
        "    def __init__"
      ]
    },
    {
      "cell_type": "markdown",
      "metadata": {
        "id": "tSVVQLI3XJqW"
      },
      "source": [
        "# Resources\n",
        "\n",
        "The above only covers some of the basics in Python. For more tutorials, I suggest checking [this official tutorial](https://docs.python.org/3.10/tutorial/index.html) and [Python documentation](https://docs.python.org/3.10/)."
      ]
    },
    {
      "cell_type": "code",
      "execution_count": null,
      "metadata": {
        "id": "wpRcVOvXDABK"
      },
      "outputs": [],
      "source": []
    },
    {
      "cell_type": "code",
      "execution_count": null,
      "metadata": {
        "id": "vFmXeKhWDABK"
      },
      "outputs": [],
      "source": []
    },
    {
      "cell_type": "code",
      "execution_count": null,
      "metadata": {
        "id": "HzXxb7qiDABK"
      },
      "outputs": [],
      "source": []
    },
    {
      "cell_type": "code",
      "execution_count": null,
      "metadata": {
        "id": "xYoZmGtxDABK"
      },
      "outputs": [],
      "source": []
    },
    {
      "cell_type": "code",
      "execution_count": null,
      "metadata": {
        "id": "6FVQT6-qDABL"
      },
      "outputs": [],
      "source": []
    },
    {
      "cell_type": "code",
      "execution_count": null,
      "metadata": {
        "id": "Mq3NKXeQDABL"
      },
      "outputs": [],
      "source": []
    }
  ],
  "metadata": {
    "colab": {
      "collapsed_sections": [],
      "provenance": [],
      "include_colab_link": true
    },
    "kernelspec": {
      "display_name": "Python 3 (ipykernel)",
      "language": "python",
      "name": "python3"
    },
    "language_info": {
      "codemirror_mode": {
        "name": "ipython",
        "version": 3
      },
      "file_extension": ".py",
      "mimetype": "text/x-python",
      "name": "python",
      "nbconvert_exporter": "python",
      "pygments_lexer": "ipython3",
      "version": "3.9.7"
    },
    "vscode": {
      "interpreter": {
        "hash": "916dbcbb3f70747c44a77c7bcd40155683ae19c65e1c03b4aa3499c5328201f1"
      }
    }
  },
  "nbformat": 4,
  "nbformat_minor": 0
}