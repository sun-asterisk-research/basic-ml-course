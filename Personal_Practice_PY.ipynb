{
  "cells": [
    {
      "cell_type": "markdown",
      "metadata": {
        "id": "view-in-github",
        "colab_type": "text"
      },
      "source": [
        "<a href=\"https://colab.research.google.com/github/TolleDennis/basic-ml-course/blob/master/Personal_Practice_PY.ipynb\" target=\"_parent\"><img src=\"https://colab.research.google.com/assets/colab-badge.svg\" alt=\"Open In Colab\"/></a>"
      ]
    },
    {
      "cell_type": "markdown",
      "metadata": {
        "id": "ki-JUpb2BCrZ"
      },
      "source": [
        "# Lecture 01 Practice\n",
        "\n",
        "This is a supplementary notebook for lecture 01 so that you can get used to Python. Try it on Google Colab and experiment with it by changing the values, as well as write some code as you like."
      ]
    },
    {
      "cell_type": "markdown",
      "metadata": {
        "id": "m9eUUv7SA2Tc"
      },
      "source": [
        "## Basic data types of Python"
      ]
    },
    {
      "cell_type": "markdown",
      "metadata": {
        "id": "trCs56XLCMvj"
      },
      "source": [
        "Python has several data types. Some of the basic ones are `int`, `float`, `bool`, `str`, `list`, etc."
      ]
    },
    {
      "cell_type": "code",
      "execution_count": 1,
      "metadata": {
        "id": "igai543VAu4G"
      },
      "outputs": [],
      "source": [
        "a = 1  # int (Integer)\n",
        "b = 2.0  # float (Real number)\n",
        "c = True  # bool (Boolean)\n",
        "d = False  # also bool (Boolean)\n",
        "e = \"Hello World!\"  # str (String)\n",
        "f = [1, 2, 3, 4]  # list"
      ]
    },
    {
      "cell_type": "markdown",
      "metadata": {
        "id": "KoLm2IuTCHEQ"
      },
      "source": [
        "`type` will return the type of variable. Try put the name of the variable inside the parenthesis and run the code cell."
      ]
    },
    {
      "cell_type": "code",
      "execution_count": 2,
      "metadata": {
        "id": "2FvmFAVfB_q7",
        "colab": {
          "base_uri": "https://localhost:8080/"
        },
        "outputId": "7b3ae64e-5b5e-41fa-b311-f754046421f1"
      },
      "outputs": [
        {
          "output_type": "stream",
          "name": "stdout",
          "text": [
            "<class 'bool'>\n"
          ]
        }
      ],
      "source": [
        "print(type(c))"
      ]
    },
    {
      "cell_type": "markdown",
      "metadata": {
        "id": "Eziml8wSMXZd"
      },
      "source": [
        "### String\n",
        "\n",
        "String is a sequence of characters."
      ]
    },
    {
      "cell_type": "code",
      "execution_count": 3,
      "metadata": {
        "id": "sQZ-77GnMcM-",
        "colab": {
          "base_uri": "https://localhost:8080/"
        },
        "outputId": "e51df091-9a40-4b6b-e646-7635f5717d68"
      },
      "outputs": [
        {
          "output_type": "stream",
          "name": "stdout",
          "text": [
            "Machine Learning Basic\n"
          ]
        }
      ],
      "source": [
        "text = \"Machine Learning Basic\"\n",
        "print(text)"
      ]
    },
    {
      "cell_type": "markdown",
      "metadata": {
        "id": "yvhNyJj_MjQW"
      },
      "source": [
        "To access a character in string using an index, you can use square brackets `[]`. Remember that index starts from `0`."
      ]
    },
    {
      "cell_type": "code",
      "execution_count": 4,
      "metadata": {
        "id": "hLFommpwMqYk",
        "colab": {
          "base_uri": "https://localhost:8080/"
        },
        "outputId": "f89cec6d-ae0d-4218-af48-437f9123886c"
      },
      "outputs": [
        {
          "output_type": "stream",
          "name": "stdout",
          "text": [
            "L\n"
          ]
        }
      ],
      "source": [
        "print(text[8])"
      ]
    },
    {
      "cell_type": "markdown",
      "metadata": {
        "id": "iQnpmW-oMb-t"
      },
      "source": [
        "To get a substring, you can use slicing `[start:end]`. Remember that slicing is inclusive to it does not return the character at index `end`."
      ]
    },
    {
      "cell_type": "code",
      "execution_count": 5,
      "metadata": {
        "id": "aq0FNWzrNHmV",
        "colab": {
          "base_uri": "https://localhost:8080/"
        },
        "outputId": "9779aae3-ca15-4447-c2b8-4adb2c834a8f"
      },
      "outputs": [
        {
          "output_type": "stream",
          "name": "stdout",
          "text": [
            "Learnin\n"
          ]
        }
      ],
      "source": [
        "print(text[8:15])"
      ]
    },
    {
      "cell_type": "markdown",
      "metadata": {
        "id": "OnzoKhukNP4t"
      },
      "source": [
        "Here are some operations with string."
      ]
    },
    {
      "cell_type": "code",
      "execution_count": 6,
      "metadata": {
        "id": "KgmCMhLYNSFC",
        "colab": {
          "base_uri": "https://localhost:8080/"
        },
        "outputId": "303e928d-331e-4d14-a17a-39064d7e4990"
      },
      "outputs": [
        {
          "output_type": "stream",
          "name": "stdout",
          "text": [
            "True\n"
          ]
        }
      ],
      "source": [
        "print(\"Learning\" in text)"
      ]
    },
    {
      "cell_type": "code",
      "execution_count": 7,
      "metadata": {
        "id": "f2o6hgbhN4Wy",
        "colab": {
          "base_uri": "https://localhost:8080/"
        },
        "outputId": "9843ee1f-ef7a-470e-c6e4-dfa8ff7f8642"
      },
      "outputs": [
        {
          "output_type": "stream",
          "name": "stdout",
          "text": [
            "Length of string: 22\n"
          ]
        }
      ],
      "source": [
        "print(\"Length of string:\", len(text))"
      ]
    },
    {
      "cell_type": "code",
      "execution_count": 10,
      "metadata": {
        "id": "pbrtN2agN90F",
        "colab": {
          "base_uri": "https://localhost:8080/"
        },
        "outputId": "3e2c9039-4e84-447d-ad77-4cd4eaff00ea"
      },
      "outputs": [
        {
          "output_type": "stream",
          "name": "stdout",
          "text": [
            "Machine Learning Basic by Sun-asterisk. The future is bright for the Kenyan tech industry\n"
          ]
        }
      ],
      "source": [
        "text2 = \"The future is bright for the Kenyan tech industry\"\n",
        "print(text + \" by Sun-asterisk. \" + text2)"
      ]
    },
    {
      "cell_type": "code",
      "execution_count": 16,
      "metadata": {
        "id": "3Aq3YrX8OC8Q",
        "colab": {
          "base_uri": "https://localhost:8080/"
        },
        "outputId": "b3691015-ea21-46e3-80b3-100f880b0451"
      },
      "outputs": [
        {
          "output_type": "stream",
          "name": "stdout",
          "text": [
            "hello,mr.dennis, how is the going with the course,awesome right\n",
            "HELLO,MR.DENNIS, HOW IS THE GOING WITH THE COURSE,AWESOME RIGHT\n",
            "Hello,mr.dennis, how is the going with the course,awesome right\n",
            "Hello,Mr.Dennis, How Is The Going With The Course,Awesome Right\n"
          ]
        }
      ],
      "source": [
        "\n",
        "text3= \"HELLO,MR.Dennis, How IS THE GOING WITH the course,AWESOME RIGHT\"\n",
        "print(text3.lower())\n",
        "print(text3.upper())\n",
        "print(text3.capitalize())\n",
        "print(text3.title())"
      ]
    },
    {
      "cell_type": "code",
      "execution_count": 18,
      "metadata": {
        "id": "r9tYt4QmNzWH",
        "colab": {
          "base_uri": "https://localhost:8080/"
        },
        "outputId": "4bc6697f-e748-47b5-947f-f7fe1a071905"
      },
      "outputs": [
        {
          "output_type": "stream",
          "name": "stdout",
          "text": [
            "['HELLO', 'MR.DENNIS HOW IS THE GOING', 'AWESOME RIGHT']\n",
            "['HELLO,MR.DENNIS', 'HOW', 'IS', 'THE', 'GOING,AWESOME', 'RIGHT']\n"
          ]
        }
      ],
      "source": [
        "print(text2.split(\",\"))\n",
        "print(text2.split(\" \"))"
      ]
    },
    {
      "cell_type": "code",
      "execution_count": 19,
      "metadata": {
        "id": "khLDinF_OHDI",
        "colab": {
          "base_uri": "https://localhost:8080/"
        },
        "outputId": "2d47fc96-d321-4e51-8fdc-04c591b99405"
      },
      "outputs": [
        {
          "output_type": "stream",
          "name": "stdout",
          "text": [
            "Machine-Learning-Basic\n"
          ]
        }
      ],
      "source": [
        "print(\"-\".join(text.split(\" \")))"
      ]
    },
    {
      "cell_type": "markdown",
      "metadata": {
        "id": "l11ZAHiIO_T0"
      },
      "source": [
        "Try modifying a character in the string above and see what will happen."
      ]
    },
    {
      "cell_type": "code",
      "execution_count": 20,
      "metadata": {
        "id": "v2EF3U8WPFT2",
        "colab": {
          "base_uri": "https://localhost:8080/",
          "height": 35
        },
        "outputId": "6eb00af2-55a5-4637-843a-5aee886bc6f6"
      },
      "outputs": [
        {
          "output_type": "execute_result",
          "data": {
            "text/plain": [
              "'25#23'"
            ],
            "application/vnd.google.colaboratory.intrinsic+json": {
              "type": "string"
            }
          },
          "metadata": {},
          "execution_count": 20
        }
      ],
      "source": [
        "\"#\".join([\"25\",\"23\"])"
      ]
    },
    {
      "cell_type": "code",
      "execution_count": 21,
      "metadata": {
        "colab": {
          "base_uri": "https://localhost:8080/"
        },
        "id": "8Un_aEvsrnft",
        "outputId": "66845d2c-3114-493b-fc6c-fbe85c2dc39d"
      },
      "outputs": [
        {
          "output_type": "execute_result",
          "data": {
            "text/plain": [
              "{10, 20, 60, 70}"
            ]
          },
          "metadata": {},
          "execution_count": 21
        }
      ],
      "source": [
        "set1 = {10, 20, 30, 40, 50}\n",
        "set2 = {30, 40, 50, 60, 70}\n",
        "set3 = set1^set2\n",
        "set3\n",
        "\n",
        "# def set_difference(a,b):\n",
        "#     return set1.symmetric_difference(set2)\n",
        "# set_difference(set1,set2)"
      ]
    },
    {
      "cell_type": "markdown",
      "metadata": {
        "id": "3EmTSSOqrnfu"
      },
      "source": [
        "### Lambda function"
      ]
    },
    {
      "cell_type": "code",
      "execution_count": 22,
      "metadata": {
        "colab": {
          "base_uri": "https://localhost:8080/"
        },
        "id": "MSLDpIEyrnfu",
        "outputId": "4d46cbb8-604b-4733-c36a-555bbddf2534"
      },
      "outputs": [
        {
          "output_type": "execute_result",
          "data": {
            "text/plain": [
              "82"
            ]
          },
          "metadata": {},
          "execution_count": 22
        }
      ],
      "source": [
        "func = lambda x : 3**x + 1\n",
        "func(4)"
      ]
    },
    {
      "cell_type": "code",
      "execution_count": 25,
      "metadata": {
        "colab": {
          "base_uri": "https://localhost:8080/"
        },
        "id": "Dv667EzJrnfv",
        "outputId": "358ecb6f-7f2d-4dc5-916b-5cb333ed6e2f"
      },
      "outputs": [
        {
          "output_type": "execute_result",
          "data": {
            "text/plain": [
              "['Amanda Suzzane',\n",
              " 'Dennis Tolle',\n",
              " 'James Smith',\n",
              " 'James Johnson',\n",
              " 'Maria Garcia',\n",
              " 'Maria Rodriguez',\n",
              " 'Michael Smith',\n",
              " 'Tran Quang Vinh']"
            ]
          },
          "metadata": {},
          "execution_count": 25
        }
      ],
      "source": [
        "designers = [\"James Smith\" ,\"Tran Quang Vinh\",\"Michael Smith\",\"Dennis Tolle\",\"Maria Garcia\",\"Maria Rodriguez\",\"Amanda Suzzane\",\"James Johnson\"]\n",
        "designers.sort (key = lambda name : name.split(\" \")[-2].lower())\n",
        "designers"
      ]
    },
    {
      "cell_type": "code",
      "execution_count": 27,
      "metadata": {
        "colab": {
          "base_uri": "https://localhost:8080/"
        },
        "id": "F-xxSGikrnfv",
        "outputId": "4df97c28-f147-4bff-c9a3-58d9444c6bcf"
      },
      "outputs": [
        {
          "output_type": "execute_result",
          "data": {
            "text/plain": [
              "['Maria Garcia',\n",
              " 'James Johnson',\n",
              " 'Maria Rodriguez',\n",
              " 'James Smith',\n",
              " 'Michael Smith',\n",
              " 'Amanda Suzzane',\n",
              " 'Dennis Tolle',\n",
              " 'Tran Quang Vinh']"
            ]
          },
          "metadata": {},
          "execution_count": 27
        }
      ],
      "source": [
        "designers.sort (key = lambda name : name.split(\" \")[-1].lower())\n",
        "designers"
      ]
    },
    {
      "cell_type": "code",
      "execution_count": 28,
      "metadata": {
        "colab": {
          "base_uri": "https://localhost:8080/"
        },
        "id": "QvJcwHyCrnfw",
        "outputId": "e71579dc-177f-4e71-f729-f336416671ef"
      },
      "outputs": [
        {
          "output_type": "execute_result",
          "data": {
            "text/plain": [
              "142"
            ]
          },
          "metadata": {},
          "execution_count": 28
        }
      ],
      "source": [
        "def quadratic_equation(a,b,c):\n",
        "    return lambda x : a * 4 ** x + b * x + c\n",
        "#quadratic_equation(2,3,5)(2)\n",
        "f = quadratic_equation(2,3,5)\n",
        "f(3)\n"
      ]
    },
    {
      "cell_type": "code",
      "execution_count": 29,
      "metadata": {
        "colab": {
          "base_uri": "https://localhost:8080/",
          "height": 35
        },
        "id": "9CLi2_n6rnfw",
        "outputId": "58716812-84a9-4930-b4fd-ee1795cfccf5"
      },
      "outputs": [
        {
          "output_type": "execute_result",
          "data": {
            "text/plain": [
              "'Dennis Tolle'"
            ],
            "application/vnd.google.colaboratory.intrinsic+json": {
              "type": "string"
            }
          },
          "metadata": {},
          "execution_count": 29
        }
      ],
      "source": [
        "full_name = lambda fname , sname : fname.strip().title() + \" \" + sname.strip().title()\n",
        "full_name (\"Dennis\", \"Tolle\")"
      ]
    },
    {
      "cell_type": "markdown",
      "metadata": {
        "id": "jIW33_U-rnfw"
      },
      "source": [
        "### MATH MODULE"
      ]
    },
    {
      "cell_type": "code",
      "execution_count": 30,
      "metadata": {
        "colab": {
          "base_uri": "https://localhost:8080/"
        },
        "id": "Zo-JerpIrnfx",
        "outputId": "9e62130a-2ab5-4ef6-8de5-94b73f6265fe"
      },
      "outputs": [
        {
          "output_type": "execute_result",
          "data": {
            "text/plain": [
              "3.141592653589793"
            ]
          },
          "metadata": {},
          "execution_count": 30
        }
      ],
      "source": [
        "from math import radians\n",
        "radians(180)"
      ]
    },
    {
      "cell_type": "code",
      "execution_count": 31,
      "metadata": {
        "colab": {
          "base_uri": "https://localhost:8080/"
        },
        "id": "OVJ6924krnfx",
        "outputId": "2f9b39d8-b51f-4eda-949a-d3acabe35376"
      },
      "outputs": [
        {
          "output_type": "execute_result",
          "data": {
            "text/plain": [
              "3.141592653589793"
            ]
          },
          "metadata": {},
          "execution_count": 31
        }
      ],
      "source": [
        "import math\n",
        "math.radians(180)"
      ]
    },
    {
      "cell_type": "markdown",
      "metadata": {
        "id": "OjORVeTGrnfx"
      },
      "source": [
        "### DATETIME MODULE"
      ]
    },
    {
      "cell_type": "code",
      "execution_count": 32,
      "metadata": {
        "colab": {
          "base_uri": "https://localhost:8080/"
        },
        "id": "oX9Nyn-irnfx",
        "outputId": "ce3aedac-9912-4e78-9a3f-48ce5155e39d"
      },
      "outputs": [
        {
          "output_type": "stream",
          "name": "stdout",
          "text": [
            "1989-05-23\n"
          ]
        }
      ],
      "source": [
        "import datetime\n",
        "dennis = datetime.date(1989,5,23)\n",
        "print(dennis)"
      ]
    },
    {
      "cell_type": "code",
      "execution_count": 33,
      "metadata": {
        "colab": {
          "base_uri": "https://localhost:8080/",
          "height": 35
        },
        "id": "a5p8GXwRrnfx",
        "outputId": "62b829df-af07-41f4-ab55-e4e051dda4a2"
      },
      "outputs": [
        {
          "output_type": "execute_result",
          "data": {
            "text/plain": [
              "'Tuesday,May,05/23/89,1989'"
            ],
            "application/vnd.google.colaboratory.intrinsic+json": {
              "type": "string"
            }
          },
          "metadata": {},
          "execution_count": 33
        }
      ],
      "source": [
        "dennis.strftime(\"%A,%B,%D,%Y\")"
      ]
    },
    {
      "cell_type": "code",
      "execution_count": 34,
      "metadata": {
        "colab": {
          "base_uri": "https://localhost:8080/"
        },
        "id": "gVr0P2mtrnfy",
        "outputId": "2ffab1be-6c6e-4f60-cd70-d1361b6b2140"
      },
      "outputs": [
        {
          "output_type": "stream",
          "name": "stdout",
          "text": [
            "Dennis was born in the year Tuesday May 23 1989\n"
          ]
        }
      ],
      "source": [
        "DOB = \"Dennis was born in the year {:%A %B %d %Y}\"\n",
        "print(DOB.format(dennis))"
      ]
    },
    {
      "cell_type": "code",
      "execution_count": 35,
      "metadata": {
        "colab": {
          "base_uri": "https://localhost:8080/"
        },
        "id": "sP10OSfRrnfy",
        "outputId": "ac5df6f0-eb02-402b-fd30-d59d618c946e"
      },
      "outputs": [
        {
          "output_type": "stream",
          "name": "stdout",
          "text": [
            "Elijah was born on: 1993-04-17 12:30:20\n",
            "1993\n"
          ]
        }
      ],
      "source": [
        "DOB = datetime.date(1993,4,17)\n",
        "time = datetime.time(12,30,20)\n",
        "exact_dob = datetime.datetime(1993,4,17,12,30,20)\n",
        "print(\"Elijah was born on:\",exact_dob)\n",
        "print(exact_dob.year)"
      ]
    },
    {
      "cell_type": "code",
      "execution_count": 36,
      "metadata": {
        "colab": {
          "base_uri": "https://localhost:8080/"
        },
        "id": "6RqrOPzornfy",
        "outputId": "5a6b94c3-d751-41a3-dfb3-af0e1873d7bc"
      },
      "outputs": [
        {
          "output_type": "stream",
          "name": "stdout",
          "text": [
            "2022-10-18 20:09:39.629538\n"
          ]
        }
      ],
      "source": [
        "current_time = datetime.datetime.now()\n",
        "print(current_time)\n"
      ]
    },
    {
      "cell_type": "code",
      "execution_count": 37,
      "metadata": {
        "colab": {
          "base_uri": "https://localhost:8080/"
        },
        "id": "FlGIyikprnfy",
        "outputId": "8b6c7281-6426-4f38-9374-7cbbc961cfb3"
      },
      "outputs": [
        {
          "output_type": "stream",
          "name": "stdout",
          "text": [
            "1989-08-25 00:00:00\n"
          ]
        }
      ],
      "source": [
        "landed = \"25/8/1989\"\n",
        "der = datetime.datetime.strptime(landed, \"%d/%m/%Y\")\n",
        "print(der)"
      ]
    },
    {
      "cell_type": "code",
      "execution_count": 38,
      "metadata": {
        "colab": {
          "base_uri": "https://localhost:8080/"
        },
        "id": "2pFZGQkxrnfy",
        "outputId": "c097b551-b197-4982-9560-4722ebfa7240"
      },
      "outputs": [
        {
          "output_type": "stream",
          "name": "stdout",
          "text": [
            "10776 days, 7:39:29.524799\n"
          ]
        }
      ],
      "source": [
        "today = datetime.datetime.today()\n",
        "eli_dob = today - exact_dob\n",
        "print(eli_dob)"
      ]
    },
    {
      "cell_type": "code",
      "execution_count": 39,
      "metadata": {
        "colab": {
          "base_uri": "https://localhost:8080/"
        },
        "id": "lwgjjQNrrnfz",
        "outputId": "8cc37c94-523f-4cc4-e16b-e8267aee4eec"
      },
      "outputs": [
        {
          "output_type": "execute_result",
          "data": {
            "text/plain": [
              "datetime.date(2022, 7, 10)"
            ]
          },
          "metadata": {},
          "execution_count": 39
        }
      ],
      "source": [
        "Current_date = datetime.date(2022,10,18)\n",
        "Days = datetime.timedelta(100)\n",
        "previously = Current_date - Days\n",
        "previously"
      ]
    },
    {
      "cell_type": "code",
      "execution_count": 40,
      "metadata": {
        "colab": {
          "base_uri": "https://localhost:8080/",
          "height": 35
        },
        "id": "X4_4S75Zrnfz",
        "outputId": "4fbff291-13ef-4035-cbf9-841deb71a8a3"
      },
      "outputs": [
        {
          "output_type": "execute_result",
          "data": {
            "text/plain": [
              "'Sunday,July 10 2022'"
            ],
            "application/vnd.google.colaboratory.intrinsic+json": {
              "type": "string"
            }
          },
          "metadata": {},
          "execution_count": 40
        }
      ],
      "source": [
        "previously.strftime(\"%A,%B %d %Y\")"
      ]
    },
    {
      "cell_type": "code",
      "execution_count": 50,
      "metadata": {
        "colab": {
          "base_uri": "https://localhost:8080/",
          "height": 35
        },
        "id": "LUDutNdxrnfz",
        "outputId": "c0921d3b-a54f-4f66-81a4-dd922bc6628c"
      },
      "outputs": [
        {
          "output_type": "execute_result",
          "data": {
            "text/plain": [
              "'20895-00100'"
            ],
            "application/vnd.google.colaboratory.intrinsic+json": {
              "type": "string"
            }
          },
          "metadata": {},
          "execution_count": 50
        }
      ],
      "source": [
        "class Person:\n",
        "    def __init__(self,fname,sname,email,address,mob_no):\n",
        "        self.fname = fname\n",
        "        self.sname = sname\n",
        "        self.email = email\n",
        "        self.address = address\n",
        "        self.mob_no = mob_no\n",
        "        def details(self):\n",
        "            return fname,sname,email,address,mob_no\n",
        "employee = Person(\"Dennis\",\"Tolle\",\"email@yahoo.com\",\"20895-00100\",\"0718830879\")\n",
        "employee.address"
      ]
    },
    {
      "cell_type": "code",
      "execution_count": 58,
      "metadata": {
        "colab": {
          "base_uri": "https://localhost:8080/"
        },
        "id": "Do62Ktk_rnfz",
        "outputId": "e39ec3c9-b1bb-45c7-cc31-13606b11198b"
      },
      "outputs": [
        {
          "output_type": "stream",
          "name": "stdout",
          "text": [
            "Gujarat\n",
            "xxxxxxxxxxx\n",
            "Maharashtra\n",
            "xxxxxxxxxxx\n",
            "Rajasthan\n",
            "xxxxxxxxxxx\n",
            "Bihar\n",
            "xxxxxxxxxxx\n",
            "Gujarat - Gandhinagar\n",
            "Maharashtra - Mumbai\n",
            "Rajasthan - Jaipur\n",
            "Bihar - Patna\n",
            "**********\n",
            "dict_keys(['Gujarat', 'Maharashtra', 'Rajasthan', 'Bihar']) dict_values(['Gandhinagar', 'Mumbai', 'Jaipur', 'Patna'])\n"
          ]
        }
      ],
      "source": [
        "statesAndCapitals = {\n",
        "    'Gujarat': 'Gandhinagar',\n",
        "    'Maharashtra': 'Mumbai',\n",
        "    'Rajasthan': 'Jaipur',\n",
        "    'Bihar': 'Patna'\n",
        "}\n",
        "for sta in statesAndCapitals:\n",
        "     print(sta)\n",
        "     print(\"xxxxxxxxxxx\")\n",
        "for state,capital in statesAndCapitals.items():\n",
        "    print(state, \"-\" ,capital)\n",
        "print(\"**********\")\n",
        "values = statesAndCapitals.values()\n",
        "keys = statesAndCapitals.keys()\n",
        "print(keys,values)"
      ]
    },
    {
      "cell_type": "markdown",
      "metadata": {
        "id": "l9ZqoCKhOPkE"
      },
      "source": [
        "### List\n",
        "\n",
        "List is a sequence of items. It is enclosed in square brackets `[]`."
      ]
    },
    {
      "cell_type": "code",
      "execution_count": 59,
      "metadata": {
        "id": "to4WkTZjOtqG"
      },
      "outputs": [],
      "source": [
        "a = [1, 2, 3, 4, 5]"
      ]
    },
    {
      "cell_type": "code",
      "execution_count": 60,
      "metadata": {
        "id": "L53rVsjMO5he",
        "colab": {
          "base_uri": "https://localhost:8080/"
        },
        "outputId": "a4734f49-6811-4ca9-a9b7-247c1cc531e8"
      },
      "outputs": [
        {
          "output_type": "stream",
          "name": "stdout",
          "text": [
            "[1, 2, 3, 4, 5]\n"
          ]
        }
      ],
      "source": [
        "print(a)"
      ]
    },
    {
      "cell_type": "markdown",
      "metadata": {
        "id": "7PfEn8RAPVDl"
      },
      "source": [
        "Unlike string, you can freely modify a list."
      ]
    },
    {
      "cell_type": "code",
      "execution_count": 61,
      "metadata": {
        "id": "vNu3XpkrPZPB",
        "colab": {
          "base_uri": "https://localhost:8080/"
        },
        "outputId": "d33dde99-80ee-4dad-b20f-bde9f1bb091f"
      },
      "outputs": [
        {
          "output_type": "stream",
          "name": "stdout",
          "text": [
            "[4, 2, 3, 4, 5, 29, -2, 23, 56, 78]\n"
          ]
        }
      ],
      "source": [
        "a[0] = 4\n",
        "a.append(-2)\n",
        "a.extend([23,56,78])\n",
        "a.insert(5,29)\n",
        "print(a)"
      ]
    },
    {
      "cell_type": "markdown",
      "metadata": {
        "id": "Fmw9wNRHPqGO"
      },
      "source": [
        "Some operations with list"
      ]
    },
    {
      "cell_type": "code",
      "execution_count": 86,
      "metadata": {
        "colab": {
          "base_uri": "https://localhost:8080/"
        },
        "id": "pVwi8KhErnf3",
        "outputId": "979ff4bd-89c5-4187-bff3-99db4e0ddc7f"
      },
      "outputs": [
        {
          "output_type": "execute_result",
          "data": {
            "text/plain": [
              "False"
            ]
          },
          "metadata": {},
          "execution_count": 86
        }
      ],
      "source": [
        "is_triangle(1,2,3)"
      ]
    },
    {
      "cell_type": "code",
      "execution_count": 63,
      "metadata": {
        "id": "boPHn_fHPtnT",
        "colab": {
          "base_uri": "https://localhost:8080/"
        },
        "outputId": "e4fc5c60-1716-4995-c21b-ab0426e66880"
      },
      "outputs": [
        {
          "output_type": "stream",
          "name": "stdout",
          "text": [
            "[-2, 2, 3, 4, 4, 5, 23, 29, 56, 78]\n"
          ]
        }
      ],
      "source": [
        "a.sort()\n",
        "print(a)"
      ]
    },
    {
      "cell_type": "code",
      "execution_count": 87,
      "metadata": {
        "id": "E17kSC1NPh2_",
        "colab": {
          "base_uri": "https://localhost:8080/"
        },
        "outputId": "5500fdef-a5d5-4d26-d3bf-d7cb54dfe761"
      },
      "outputs": [
        {
          "output_type": "stream",
          "name": "stdout",
          "text": [
            "[20, 10]\n"
          ]
        }
      ],
      "source": [
        "print(a[1:3])"
      ]
    },
    {
      "cell_type": "code",
      "execution_count": 88,
      "metadata": {
        "id": "EsQX1bafPw2T",
        "colab": {
          "base_uri": "https://localhost:8080/"
        },
        "outputId": "7d824d25-808c-4422-d4d9-22b0c0ba37a0"
      },
      "outputs": [
        {
          "output_type": "stream",
          "name": "stdout",
          "text": [
            "8\n"
          ]
        }
      ],
      "source": [
        "print(len(a))"
      ]
    },
    {
      "cell_type": "code",
      "execution_count": 89,
      "metadata": {
        "id": "5amXD2tXPzLt",
        "colab": {
          "base_uri": "https://localhost:8080/"
        },
        "outputId": "2720cc42-e6cb-4172-bdc2-894c61315339"
      },
      "outputs": [
        {
          "output_type": "stream",
          "name": "stdout",
          "text": [
            "[10, 20, 10, 30, 40, 50, 0]\n"
          ]
        }
      ],
      "source": [
        "a.pop(-2)\n",
        "print(a)"
      ]
    },
    {
      "cell_type": "code",
      "execution_count": 92,
      "metadata": {
        "id": "jd9XoftkP3IZ",
        "colab": {
          "base_uri": "https://localhost:8080/",
          "height": 183
        },
        "outputId": "56e8fb0c-923c-4ae9-b230-8211ee27c4be"
      },
      "outputs": [
        {
          "output_type": "error",
          "ename": "ValueError",
          "evalue": "ignored",
          "traceback": [
            "\u001b[0;31m---------------------------------------------------------------------------\u001b[0m",
            "\u001b[0;31mValueError\u001b[0m                                Traceback (most recent call last)",
            "\u001b[0;32m<ipython-input-92-9dd235e35942>\u001b[0m in \u001b[0;36m<module>\u001b[0;34m\u001b[0m\n\u001b[0;32m----> 1\u001b[0;31m \u001b[0ma\u001b[0m\u001b[0;34m.\u001b[0m\u001b[0mremove\u001b[0m\u001b[0;34m(\u001b[0m\u001b[0;36m40\u001b[0m\u001b[0;34m)\u001b[0m\u001b[0;34m\u001b[0m\u001b[0;34m\u001b[0m\u001b[0m\n\u001b[0m\u001b[1;32m      2\u001b[0m \u001b[0mprint\u001b[0m\u001b[0;34m(\u001b[0m\u001b[0ma\u001b[0m\u001b[0;34m)\u001b[0m\u001b[0;34m\u001b[0m\u001b[0;34m\u001b[0m\u001b[0m\n",
            "\u001b[0;31mValueError\u001b[0m: list.remove(x): x not in list"
          ]
        }
      ],
      "source": [
        "a.remove(40)\n",
        "print(a)"
      ]
    },
    {
      "cell_type": "markdown",
      "metadata": {
        "id": "3QkIATBdP7Ql"
      },
      "source": [
        "You can use list comprehension to generate a list."
      ]
    },
    {
      "cell_type": "code",
      "execution_count": 93,
      "metadata": {
        "id": "YrASHLy2P-m1",
        "colab": {
          "base_uri": "https://localhost:8080/"
        },
        "outputId": "c791c8ca-4441-4941-f043-defb9d29c1b4"
      },
      "outputs": [
        {
          "output_type": "stream",
          "name": "stdout",
          "text": [
            "[3, 9, 15]\n",
            "[0, 10, 20, 30, 40, 50, 60, 70, 80, 90]\n",
            "[10, 20, 30, 40]\n",
            "[0, 10, 20, 30, 40]\n"
          ]
        }
      ],
      "source": [
        "b = [i*3 for i in range(6) if i%2==1]\n",
        "c = [x*5 for x in range(0,20,2)] \n",
        "print(b)\n",
        "print(c)\n",
        "print(c[1:5])\n",
        "print(c[:-5])"
      ]
    },
    {
      "cell_type": "code",
      "execution_count": 94,
      "metadata": {
        "id": "8rD8Do4Grnf2"
      },
      "outputs": [],
      "source": [
        "def is_triangle(a,b,c):\n",
        "    if (a + b <= c) or (a + c <= b) or (b + c <= a):\n",
        "        return False\n",
        "    else :\n",
        "        return True"
      ]
    },
    {
      "cell_type": "code",
      "execution_count": 96,
      "metadata": {
        "colab": {
          "base_uri": "https://localhost:8080/"
        },
        "id": "ppmMmFcqrngA",
        "outputId": "1ffa396f-bb92-4ada-8062-be1e8e06594a"
      },
      "outputs": [
        {
          "output_type": "stream",
          "name": "stdout",
          "text": [
            "input on side of a triangle: 2\n",
            "input on side of a triangle: 3\n",
            "input on side of a triangle: 1\n",
            "Scalene triangle\n"
          ]
        }
      ],
      "source": [
        "a = int(input(\"input on side of a triangle: \"))\n",
        "b = int(input(\"input on side of a triangle: \"))\n",
        "c = int(input(\"input on side of a triangle: \"))\n",
        "if a==b and b!=c and c!=a:\n",
        "    print(\"its an isosless triangle\")\n",
        "elif a!=b and b!=c and a!=c:\n",
        "    print(\"Scalene triangle\")\n",
        "else:\n",
        "    print(\"Equilateral Triangle\")"
      ]
    },
    {
      "cell_type": "code",
      "execution_count": 97,
      "metadata": {
        "colab": {
          "base_uri": "https://localhost:8080/"
        },
        "id": "-2zsXScSrnf2",
        "outputId": "7556a51c-1b51-4540-c517-2ff85b5e1afa"
      },
      "outputs": [
        {
          "output_type": "stream",
          "name": "stdout",
          "text": [
            "ayneK\n"
          ]
        }
      ],
      "source": [
        "def reverse(s):\n",
        "    return s[::-1]\n",
        "  \n",
        "s = \"Kenya\"\n",
        "print(reverse(s))\n"
      ]
    },
    {
      "cell_type": "code",
      "source": [
        "def reverse(s):\n",
        "    return s[::-1]\n",
        "  \n",
        "s = \"Kenya and Japan partnership on developing AI\"\n",
        "print(reverse(s))"
      ],
      "metadata": {
        "colab": {
          "base_uri": "https://localhost:8080/"
        },
        "id": "Xe3s5fI9xofr",
        "outputId": "1b37df32-1b46-4581-bb4c-a1142b8a11a5"
      },
      "execution_count": 98,
      "outputs": [
        {
          "output_type": "stream",
          "name": "stdout",
          "text": [
            "IA gnipoleved no pihsrentrap napaJ dna ayneK\n"
          ]
        }
      ]
    },
    {
      "cell_type": "code",
      "execution_count": 99,
      "metadata": {
        "colab": {
          "base_uri": "https://localhost:8080/"
        },
        "id": "hpwJXJ-Wrnf3",
        "outputId": "13406a9e-6161-45e6-fabd-478ecd156e6c"
      },
      "outputs": [
        {
          "output_type": "execute_result",
          "data": {
            "text/plain": [
              "[20, 30, 40, 50, 0]"
            ]
          },
          "metadata": {},
          "execution_count": 99
        }
      ],
      "source": [
        "def remove_from_list(input_list, value):\n",
        "    new = [i for i in input_list if i != value]\n",
        "    return new\n",
        "\n",
        "a = [10, 20, 10, 30, 40, 50, 10, 0]\n",
        "remove_from_list(a, 10)"
      ]
    },
    {
      "cell_type": "code",
      "execution_count": 100,
      "metadata": {
        "colab": {
          "base_uri": "https://localhost:8080/"
        },
        "id": "aIkAWP_2rnf3",
        "outputId": "c421f53f-d96e-4b12-b216-7b9f483ce082"
      },
      "outputs": [
        {
          "output_type": "stream",
          "name": "stdout",
          "text": [
            "1\n",
            "3\n",
            "5\n",
            "7\n",
            "9\n"
          ]
        }
      ],
      "source": [
        "for i in range(1,10):\n",
        "    if i%2==1:\n",
        "        print(i)"
      ]
    },
    {
      "cell_type": "markdown",
      "metadata": {
        "id": "FZpoCUlEQKWV"
      },
      "source": [
        "### Tuple\n",
        "\n",
        "Tuple is similar to a list but you cannot modify its value (similar to string). It can be optionally enclosed with parenthesis `()`."
      ]
    },
    {
      "cell_type": "code",
      "execution_count": 100,
      "metadata": {
        "id": "htIoPsdkrnf4"
      },
      "outputs": [],
      "source": []
    },
    {
      "cell_type": "code",
      "execution_count": 101,
      "metadata": {
        "id": "vjwG204JQXSP",
        "colab": {
          "base_uri": "https://localhost:8080/"
        },
        "outputId": "9961ad8b-c5a6-4fae-8e7f-241de4595ef6"
      },
      "outputs": [
        {
          "output_type": "stream",
          "name": "stdout",
          "text": [
            "(1, 2, 3)\n",
            "(1, 2, 3)\n"
          ]
        }
      ],
      "source": [
        "x = (1, 2, 3)\n",
        "print(x)\n",
        "x = 1, 2, 3\n",
        "print(x)"
      ]
    },
    {
      "cell_type": "markdown",
      "metadata": {
        "id": "QkIgNHcaQdPL"
      },
      "source": [
        "Trying to edit a tuple will generate an error."
      ]
    },
    {
      "cell_type": "code",
      "execution_count": 102,
      "metadata": {
        "id": "6J5wVbX9QgO9",
        "colab": {
          "base_uri": "https://localhost:8080/",
          "height": 165
        },
        "outputId": "07e1ef7f-316f-492f-9db0-74cab94784e9"
      },
      "outputs": [
        {
          "output_type": "error",
          "ename": "TypeError",
          "evalue": "ignored",
          "traceback": [
            "\u001b[0;31m---------------------------------------------------------------------------\u001b[0m",
            "\u001b[0;31mTypeError\u001b[0m                                 Traceback (most recent call last)",
            "\u001b[0;32m<ipython-input-102-2eb0c4610ca7>\u001b[0m in \u001b[0;36m<module>\u001b[0;34m\u001b[0m\n\u001b[0;32m----> 1\u001b[0;31m \u001b[0mx\u001b[0m\u001b[0;34m[\u001b[0m\u001b[0;36m1\u001b[0m\u001b[0;34m]\u001b[0m \u001b[0;34m=\u001b[0m \u001b[0;36m6\u001b[0m\u001b[0;34m\u001b[0m\u001b[0;34m\u001b[0m\u001b[0m\n\u001b[0m",
            "\u001b[0;31mTypeError\u001b[0m: 'tuple' object does not support item assignment"
          ]
        }
      ],
      "source": [
        "x[1] = 6"
      ]
    },
    {
      "cell_type": "markdown",
      "metadata": {
        "id": "8DnrlqJ9QkSf"
      },
      "source": [
        "Anything that works with list also works with tuple, as long as it does not modify the content of tuple."
      ]
    },
    {
      "cell_type": "code",
      "execution_count": 103,
      "metadata": {
        "id": "E5EwOpbHRoZw",
        "colab": {
          "base_uri": "https://localhost:8080/"
        },
        "outputId": "08300b63-d63c-443c-a229-918c19579262"
      },
      "outputs": [
        {
          "output_type": "stream",
          "name": "stdout",
          "text": [
            "3\n"
          ]
        }
      ],
      "source": [
        "print(len(x))"
      ]
    },
    {
      "cell_type": "markdown",
      "metadata": {
        "id": "aABk8NCxWIMQ"
      },
      "source": [
        "You can assign multiple variables using a tuple. This is called tuple unpacking. Remember that the number of variables must be the same as the number of values in the tuple."
      ]
    },
    {
      "cell_type": "code",
      "execution_count": 104,
      "metadata": {
        "id": "aZ6HIYNyWVd1",
        "colab": {
          "base_uri": "https://localhost:8080/"
        },
        "outputId": "6581c35f-acdf-4665-b592-9583cc66f53c"
      },
      "outputs": [
        {
          "output_type": "stream",
          "name": "stdout",
          "text": [
            "1 2 3\n"
          ]
        }
      ],
      "source": [
        "x1, x2, x3 = x\n",
        "print(x1, x2, x3)"
      ]
    },
    {
      "cell_type": "markdown",
      "metadata": {
        "id": "5oIPRG51Rz6x"
      },
      "source": [
        "### Set\n",
        "\n",
        "Set is a special kind of list where all elements are unique and unordered. It is enclosed with curly brackets `{}`."
      ]
    },
    {
      "cell_type": "code",
      "execution_count": 105,
      "metadata": {
        "id": "82rChB57STqN",
        "colab": {
          "base_uri": "https://localhost:8080/"
        },
        "outputId": "4854fbb1-4443-4026-9861-bbd2cb552c3e"
      },
      "outputs": [
        {
          "output_type": "stream",
          "name": "stdout",
          "text": [
            "{0, 1, 2}\n"
          ]
        }
      ],
      "source": [
        "c = {0, 1, 2, 1, 2, 0, 2}\n",
        "print(c)"
      ]
    },
    {
      "cell_type": "code",
      "execution_count": 106,
      "metadata": {
        "colab": {
          "base_uri": "https://localhost:8080/"
        },
        "id": "Mv8fuh3qrnf3",
        "outputId": "8823e7d1-946c-4796-d9fa-8e23d3426cbd"
      },
      "outputs": [
        {
          "output_type": "execute_result",
          "data": {
            "text/plain": [
              "{10, 20, 60, 70}"
            ]
          },
          "metadata": {},
          "execution_count": 106
        }
      ],
      "source": [
        "set1 = {10, 20, 30, 40, 50}\n",
        "set2 = {30, 40, 50, 60, 70}\n",
        "def set_difference(a,b):\n",
        "    return set1.symmetric_difference(set2)\n",
        "set_difference(set1,set2)"
      ]
    },
    {
      "cell_type": "code",
      "execution_count": 107,
      "metadata": {
        "colab": {
          "base_uri": "https://localhost:8080/"
        },
        "id": "cFTPQymvrnf5",
        "outputId": "4d1afba6-6690-4e6a-e820-d64f65481cd4"
      },
      "outputs": [
        {
          "output_type": "stream",
          "name": "stdout",
          "text": [
            "{1, 2}\n",
            "{1, 2, 3, 4, 5, 6}\n",
            "{1, 2}\n",
            "{3, 4, 5, 6}\n"
          ]
        }
      ],
      "source": [
        "set1 = {1,2,3,4,5,6}\n",
        "set2 = {3,4,5,6}\n",
        "set3 = set1 - set2 #difference set1.difference(set2)\n",
        "set4 = set1 | set2 #union set1.union(set2)\n",
        "set5 = set1 ^ set2 #symet\n",
        "set6 = set1 & set2 #intersection set1.intersection(set2)\n",
        "print(set3)\n",
        "print(set4)\n",
        "print(set5)\n",
        "print(set6)\n"
      ]
    },
    {
      "cell_type": "markdown",
      "metadata": {
        "id": "OWblHIHMSk19"
      },
      "source": [
        "Since set is unordered, trying to access it using index will return an error."
      ]
    },
    {
      "cell_type": "code",
      "execution_count": 108,
      "metadata": {
        "id": "QTtUpEYuSiGa",
        "colab": {
          "base_uri": "https://localhost:8080/",
          "height": 165
        },
        "outputId": "eef5ab04-0cb5-4774-c927-641d32d27f40"
      },
      "outputs": [
        {
          "output_type": "error",
          "ename": "TypeError",
          "evalue": "ignored",
          "traceback": [
            "\u001b[0;31m---------------------------------------------------------------------------\u001b[0m",
            "\u001b[0;31mTypeError\u001b[0m                                 Traceback (most recent call last)",
            "\u001b[0;32m<ipython-input-108-a49675ce07e5>\u001b[0m in \u001b[0;36m<module>\u001b[0;34m\u001b[0m\n\u001b[0;32m----> 1\u001b[0;31m \u001b[0mprint\u001b[0m\u001b[0;34m(\u001b[0m\u001b[0mc\u001b[0m\u001b[0;34m[\u001b[0m\u001b[0;36m0\u001b[0m\u001b[0;34m]\u001b[0m\u001b[0;34m)\u001b[0m\u001b[0;34m\u001b[0m\u001b[0;34m\u001b[0m\u001b[0m\n\u001b[0m",
            "\u001b[0;31mTypeError\u001b[0m: 'set' object is not subscriptable"
          ]
        }
      ],
      "source": [
        "print(c[0])"
      ]
    },
    {
      "cell_type": "markdown",
      "metadata": {
        "id": "mzk497gHSsW3"
      },
      "source": [
        "Some operations with set:"
      ]
    },
    {
      "cell_type": "code",
      "execution_count": 109,
      "metadata": {
        "id": "h0zEPrVCStz4",
        "colab": {
          "base_uri": "https://localhost:8080/"
        },
        "outputId": "9efc7b68-0f66-43a9-b21b-82915ffa716f"
      },
      "outputs": [
        {
          "output_type": "stream",
          "name": "stdout",
          "text": [
            "False\n"
          ]
        }
      ],
      "source": [
        "print(3 in c)"
      ]
    },
    {
      "cell_type": "code",
      "execution_count": 110,
      "metadata": {
        "id": "m3D2aIrkSwe_",
        "colab": {
          "base_uri": "https://localhost:8080/"
        },
        "outputId": "c4e0ef72-82c5-4ac4-dd53-fa45244fffa6"
      },
      "outputs": [
        {
          "output_type": "stream",
          "name": "stdout",
          "text": [
            "Intersection of a and b {1, 2}\n",
            "Union of a and b {0, 1, 2, 3}\n",
            "Difference of a to b {0}\n"
          ]
        }
      ],
      "source": [
        "a = {0, 1, 2}\n",
        "b = {1, 2, 3}\n",
        "\n",
        "print(\"Intersection of a and b\", a & b)\n",
        "print(\"Union of a and b\", a | b)\n",
        "print(\"Difference of a to b\", a - b)"
      ]
    },
    {
      "cell_type": "markdown",
      "metadata": {
        "id": "IyMlK-ISTR8-"
      },
      "source": [
        "### Dictionary\n",
        "\n",
        "Dictionary is used to map a key to a value. It is also enclosed with curly brackets but with a colon between key and value."
      ]
    },
    {
      "cell_type": "code",
      "execution_count": 111,
      "metadata": {
        "id": "8FZ4vhDZTcOP",
        "colab": {
          "base_uri": "https://localhost:8080/"
        },
        "outputId": "4bb5abcf-8f9a-4c79-f9fb-8fc2c1bac4af"
      },
      "outputs": [
        {
          "output_type": "stream",
          "name": "stdout",
          "text": [
            "{'japan': 'tokyo', 'vietnam': 'hanoi', 'kenya': 'nairobi'}\n"
          ]
        }
      ],
      "source": [
        "d = {'japan': 'tokyo', 'vietnam': 'hanoi', 'kenya': 'nairobi'}\n",
        "print(d)"
      ]
    },
    {
      "cell_type": "code",
      "execution_count": 112,
      "metadata": {
        "colab": {
          "base_uri": "https://localhost:8080/"
        },
        "id": "mshDqWc7rnf6",
        "outputId": "fe2ed927-f99f-493f-c7af-7be60248f2c7"
      },
      "outputs": [
        {
          "output_type": "stream",
          "name": "stdout",
          "text": [
            "23\n",
            "34\n",
            "55\n",
            "11\n",
            "66\n",
            "99\n"
          ]
        }
      ],
      "source": [
        "data = {'japan':23,\n",
        "    'tokyo':34,\n",
        "    'vietnam':55,\n",
        "    'hanoi':11,\n",
        "    'kenya':66,\n",
        "    'nairobi':99}\n",
        "\n",
        "for valu in data.values():\n",
        "    print(valu)"
      ]
    },
    {
      "cell_type": "code",
      "execution_count": 113,
      "metadata": {
        "colab": {
          "base_uri": "https://localhost:8080/"
        },
        "id": "fDQsTIlernf6",
        "outputId": "938f3199-6d83-4838-c7db-e63ed1ad8596"
      },
      "outputs": [
        {
          "output_type": "stream",
          "name": "stdout",
          "text": [
            "japan- 23\n",
            "tokyo- 34\n",
            "vietnam- 55\n",
            "hanoi- 11\n",
            "kenya- 66\n",
            "nairobi- 99\n"
          ]
        }
      ],
      "source": [
        "data = {'japan':23,\n",
        "    'tokyo':34,\n",
        "    'vietnam':55,\n",
        "    'hanoi':11,\n",
        "    'kenya':66,\n",
        "    'nairobi':99}\n",
        "for country,city in data.items():\n",
        "    print(country + \"-\",city)"
      ]
    },
    {
      "cell_type": "markdown",
      "metadata": {
        "id": "v6cF4UJnToqF"
      },
      "source": [
        "Access the dictionary with key"
      ]
    },
    {
      "cell_type": "code",
      "execution_count": 114,
      "metadata": {
        "id": "s_NyFH_9TrWW",
        "colab": {
          "base_uri": "https://localhost:8080/"
        },
        "outputId": "d166d726-e782-447b-919d-243afb484702"
      },
      "outputs": [
        {
          "output_type": "stream",
          "name": "stdout",
          "text": [
            "tokyo\n"
          ]
        }
      ],
      "source": [
        "print(d[\"japan\"])"
      ]
    },
    {
      "cell_type": "markdown",
      "metadata": {
        "id": "MZznwZSmTu1t"
      },
      "source": [
        "If the key does not exist in the dictionary, Python will return an error."
      ]
    },
    {
      "cell_type": "code",
      "execution_count": 115,
      "metadata": {
        "id": "yriH_n6hTzAT",
        "colab": {
          "base_uri": "https://localhost:8080/",
          "height": 165
        },
        "outputId": "44c874bd-e75c-4be4-c334-f7eebc3dabc4"
      },
      "outputs": [
        {
          "output_type": "error",
          "ename": "KeyError",
          "evalue": "ignored",
          "traceback": [
            "\u001b[0;31m---------------------------------------------------------------------------\u001b[0m",
            "\u001b[0;31mKeyError\u001b[0m                                  Traceback (most recent call last)",
            "\u001b[0;32m<ipython-input-115-772625cdc0e8>\u001b[0m in \u001b[0;36m<module>\u001b[0;34m\u001b[0m\n\u001b[0;32m----> 1\u001b[0;31m \u001b[0mprint\u001b[0m\u001b[0;34m(\u001b[0m\u001b[0md\u001b[0m\u001b[0;34m[\u001b[0m\u001b[0;34m\"france\"\u001b[0m\u001b[0;34m]\u001b[0m\u001b[0;34m)\u001b[0m\u001b[0;34m\u001b[0m\u001b[0;34m\u001b[0m\u001b[0m\n\u001b[0m",
            "\u001b[0;31mKeyError\u001b[0m: 'france'"
          ]
        }
      ],
      "source": [
        "print(d[\"france\"])"
      ]
    },
    {
      "cell_type": "markdown",
      "metadata": {
        "id": "_-vEVfVLT3md"
      },
      "source": [
        "Add an entry in dictionary with square brackets."
      ]
    },
    {
      "cell_type": "code",
      "execution_count": 116,
      "metadata": {
        "id": "MCwsE6a9UAmg",
        "colab": {
          "base_uri": "https://localhost:8080/"
        },
        "outputId": "361b9be6-6216-49f4-b262-e7516ee79406"
      },
      "outputs": [
        {
          "output_type": "stream",
          "name": "stdout",
          "text": [
            "{'japan': 'tokyo', 'vietnam': 'hanoi', 'kenya': 'nairobi', 'france': 'tokyo'}\n"
          ]
        }
      ],
      "source": [
        "d[\"france\"] = \"tokyo\"\n",
        "print(d)"
      ]
    },
    {
      "cell_type": "markdown",
      "metadata": {
        "id": "QBalunujCon6"
      },
      "source": [
        "## Variable assignment\n",
        "\n",
        "In Python, data value is assigned to a variable with `=`. The following code cell with assign `1` to `x`."
      ]
    },
    {
      "cell_type": "code",
      "execution_count": 117,
      "metadata": {
        "id": "mDBi1kqRCBsi",
        "colab": {
          "base_uri": "https://localhost:8080/"
        },
        "outputId": "01e4bdd3-847c-4163-afb3-fd5d32ee1f76"
      },
      "outputs": [
        {
          "output_type": "stream",
          "name": "stdout",
          "text": [
            "1\n"
          ]
        }
      ],
      "source": [
        "x = 1\n",
        "print(x)"
      ]
    },
    {
      "cell_type": "markdown",
      "metadata": {
        "id": "CxGz7LI-C4V6"
      },
      "source": [
        "You can reassign the variable to something else, such as a string or a float number."
      ]
    },
    {
      "cell_type": "code",
      "execution_count": 118,
      "metadata": {
        "id": "yjwsmobRC3zc",
        "colab": {
          "base_uri": "https://localhost:8080/"
        },
        "outputId": "b9b7c1fa-40bb-4285-b854-38f87aea53ce"
      },
      "outputs": [
        {
          "output_type": "stream",
          "name": "stdout",
          "text": [
            "5.0\n",
            "Sun*\n"
          ]
        }
      ],
      "source": [
        "x = 5.0\n",
        "print(x)\n",
        "x = \"Sun*\"\n",
        "print(x)"
      ]
    },
    {
      "cell_type": "markdown",
      "metadata": {
        "id": "9xnSvjoSDPeE"
      },
      "source": [
        "You can also use a variable to assign value for another variable (including itself)."
      ]
    },
    {
      "cell_type": "code",
      "execution_count": 119,
      "metadata": {
        "id": "8ysPBY3vDKwr",
        "colab": {
          "base_uri": "https://localhost:8080/"
        },
        "outputId": "cb4de11e-81f3-4d9c-865f-4419bea720f5"
      },
      "outputs": [
        {
          "output_type": "stream",
          "name": "stdout",
          "text": [
            "6\n"
          ]
        }
      ],
      "source": [
        "x = 5\n",
        "y = x + 1\n",
        "print(y)"
      ]
    },
    {
      "cell_type": "code",
      "execution_count": 120,
      "metadata": {
        "id": "b-ldX4RrDXXd",
        "colab": {
          "base_uri": "https://localhost:8080/"
        },
        "outputId": "13651db1-a4e6-4ea7-b543-8067148acd72"
      },
      "outputs": [
        {
          "output_type": "stream",
          "name": "stdout",
          "text": [
            "6\n"
          ]
        }
      ],
      "source": [
        "x = x + 1\n",
        "print(x)"
      ]
    },
    {
      "cell_type": "markdown",
      "metadata": {
        "id": "JFgUJQuaDhTA"
      },
      "source": [
        "## Conditionals and Loops"
      ]
    },
    {
      "cell_type": "markdown",
      "metadata": {
        "id": "O2an9QopDmag"
      },
      "source": [
        "### Conditionals\n",
        "\n",
        "In Python, we use `if` statement to declare conditional statement. A boolean expression, which returns `True` or `False`, is used to determine if a code block will be run.\n",
        "\n",
        "Try running the following code cell, then changing the value of `x` to some number and run the code cell again.\n",
        "\n",
        "Note: In Python, line indention indicates a code block. Therefore, remember to indent the line correctly. If you do not indent a code block evenly, Python will throw an error."
      ]
    },
    {
      "cell_type": "code",
      "execution_count": 121,
      "metadata": {
        "id": "O9wiOuNhDZ-B",
        "colab": {
          "base_uri": "https://localhost:8080/"
        },
        "outputId": "480e49d8-5efa-49b1-940d-eea5aeca5c7c"
      },
      "outputs": [
        {
          "output_type": "stream",
          "name": "stdout",
          "text": [
            "Eligible for driving\n"
          ]
        }
      ],
      "source": [
        "age = 20\n",
        "if age >= 18:\n",
        "    print('Eligible for driving')\n",
        "else:\n",
        "    print('Not eligible for driving')"
      ]
    },
    {
      "cell_type": "markdown",
      "metadata": {
        "id": "M9LDRTvZFmUN"
      },
      "source": [
        "You can use as many `elif` as you want to create multiple branches for your `if` statement."
      ]
    },
    {
      "cell_type": "code",
      "execution_count": 122,
      "metadata": {
        "id": "N6jc7g62E7PM",
        "colab": {
          "base_uri": "https://localhost:8080/"
        },
        "outputId": "1d9595dd-33a2-4d0e-9cfa-2e5e0a64773f"
      },
      "outputs": [
        {
          "output_type": "stream",
          "name": "stdout",
          "text": [
            "B+\n"
          ]
        }
      ],
      "source": [
        "grade = 80\n",
        "\n",
        "if grade >= 90:\n",
        "    print(\"A+\")\n",
        "elif grade >= 85:\n",
        "    print(\"A\")\n",
        "elif grade >= 80:\n",
        "    print(\"B+\")\n",
        "else:\n",
        "    print(\"B\")"
      ]
    },
    {
      "cell_type": "markdown",
      "metadata": {
        "id": "gEAqZgb8EhRe"
      },
      "source": [
        "Boolean expressions can be combined with `and`, `or` and `not`."
      ]
    },
    {
      "cell_type": "code",
      "execution_count": 123,
      "metadata": {
        "id": "mLkalEyaEAIi"
      },
      "outputs": [],
      "source": [
        "status = 'drunk'\n",
        "if age >= 18 and status != 'drunk':\n",
        "    print('Eligible for driving')"
      ]
    },
    {
      "cell_type": "markdown",
      "metadata": {
        "id": "B_aTWmyvGDES"
      },
      "source": [
        "### Loops\n",
        "\n",
        "Loop is a way to repeat code. There are two types of loops: `while` and `for` loops."
      ]
    },
    {
      "cell_type": "markdown",
      "metadata": {
        "id": "hDfH3tQlGWK1"
      },
      "source": [
        "A `while` loop will run as long as the condition boolean expression return `True`.\n",
        "\n",
        "Note: a `while` loop can run indefinitely. Try removing the `age += 1` line and run the code cell. To stop it from running, click the Stop button or Runtime -> Interrupt Execution."
      ]
    },
    {
      "cell_type": "code",
      "execution_count": 124,
      "metadata": {
        "id": "QOvE-f-OF1bd",
        "colab": {
          "base_uri": "https://localhost:8080/"
        },
        "outputId": "ca4ff56a-e1fb-4864-dee7-73fcf5d1620d"
      },
      "outputs": [
        {
          "output_type": "stream",
          "name": "stdout",
          "text": [
            "0\n",
            "1\n",
            "2\n",
            "3\n",
            "4\n",
            "5\n",
            "6\n",
            "7\n",
            "8\n"
          ]
        }
      ],
      "source": [
        "age = 0\n",
        "while age <= 8:\n",
        "    print(age)\n",
        "    age += 1"
      ]
    },
    {
      "cell_type": "code",
      "execution_count": 125,
      "metadata": {
        "colab": {
          "base_uri": "https://localhost:8080/"
        },
        "id": "J2IJjHncrnf_",
        "outputId": "9610e8e2-b583-46fc-ec3c-effe99a0e42c"
      },
      "outputs": [
        {
          "output_type": "stream",
          "name": "stdout",
          "text": [
            "input your password: \n",
            "password too short\n"
          ]
        }
      ],
      "source": [
        "name = input(\"input your password: \")\n",
        "\n",
        "if len(name) < 10:\n",
        "    print(\"password too short\")\n",
        "else:\n",
        "    print(\"strong password\")"
      ]
    },
    {
      "cell_type": "code",
      "execution_count": 128,
      "metadata": {
        "colab": {
          "base_uri": "https://localhost:8080/"
        },
        "id": "PzbX5Ak4rnf_",
        "outputId": "2f76e93d-37de-4686-e766-3a730b582cd4"
      },
      "outputs": [
        {
          "output_type": "stream",
          "name": "stdout",
          "text": [
            "Kindly input a number : 3\n",
            "odd number\n"
          ]
        }
      ],
      "source": [
        "odd =int (input(\"Kindly input a number : \"))\n",
        "if odd % 2 == 0:\n",
        "    print(\"even number\")\n",
        "else:\n",
        "    print(\"odd number\")"
      ]
    },
    {
      "cell_type": "markdown",
      "metadata": {
        "id": "QdXNwBhdHAxf"
      },
      "source": [
        "A `for` loop will create a variable, assign a value to it and increment it until it reaches the stop value. "
      ]
    },
    {
      "cell_type": "code",
      "execution_count": 129,
      "metadata": {
        "id": "TV7aYPe8GjzF",
        "colab": {
          "base_uri": "https://localhost:8080/"
        },
        "outputId": "268a13e7-042c-4995-f3cf-db4239031bf6"
      },
      "outputs": [
        {
          "output_type": "stream",
          "name": "stdout",
          "text": [
            "0\n",
            "1\n",
            "2\n",
            "3\n",
            "4\n",
            "5\n",
            "6\n",
            "7\n",
            "8\n"
          ]
        }
      ],
      "source": [
        "for age in range(9):  # range(19) = [0, 1, 2, ..., 8]\n",
        "    print(age)"
      ]
    },
    {
      "cell_type": "code",
      "execution_count": 130,
      "metadata": {
        "id": "27e_62FsHhE-",
        "colab": {
          "base_uri": "https://localhost:8080/"
        },
        "outputId": "1da9d4a9-48a0-4e9f-f73a-435ea6d1107b"
      },
      "outputs": [
        {
          "output_type": "stream",
          "name": "stdout",
          "text": [
            "0\n",
            "2\n",
            "4\n",
            "6\n",
            "8\n"
          ]
        }
      ],
      "source": [
        "for age in range(0, 9, 2):  # [0, 2, 4, 6, 8]\n",
        "    print(age)"
      ]
    },
    {
      "cell_type": "markdown",
      "metadata": {
        "id": "UofsTMwGHzff"
      },
      "source": [
        "In a loop, you can use `break` statement to exit a loop. `break` will exit only the most innerloop."
      ]
    },
    {
      "cell_type": "code",
      "execution_count": 131,
      "metadata": {
        "id": "tLpLTC8LHsB1",
        "colab": {
          "base_uri": "https://localhost:8080/"
        },
        "outputId": "058b071f-5643-4779-83db-e68169c14d18"
      },
      "outputs": [
        {
          "output_type": "stream",
          "name": "stdout",
          "text": [
            "0\n",
            "1\n",
            "2\n",
            "3\n",
            "4\n",
            "5\n"
          ]
        }
      ],
      "source": [
        "for age in range(9):\n",
        "    if age == 6:\n",
        "        break\n",
        "\n",
        "    print(age)"
      ]
    },
    {
      "cell_type": "markdown",
      "metadata": {
        "id": "5cqEyUZaIKEA"
      },
      "source": [
        "You can use `for` loop to iterate through a list/tuple/set."
      ]
    },
    {
      "cell_type": "code",
      "execution_count": 132,
      "metadata": {
        "id": "eAqMZbXtH6eN",
        "colab": {
          "base_uri": "https://localhost:8080/"
        },
        "outputId": "729a39a4-b7ba-4dc8-80fc-c8f52f315551"
      },
      "outputs": [
        {
          "output_type": "stream",
          "name": "stdout",
          "text": [
            "Python\n",
            "is\n",
            "cool\n"
          ]
        }
      ],
      "source": [
        "for value in [\"Python\", \"is\", \"cool\"]:\n",
        "    print(value)"
      ]
    },
    {
      "cell_type": "markdown",
      "metadata": {
        "id": "kdr8DKGeIs9B"
      },
      "source": [
        "## Functions\n",
        "\n",
        "To avoid repeating lines of code, you can encapsulate them in a function and use it later."
      ]
    },
    {
      "cell_type": "code",
      "execution_count": 133,
      "metadata": {
        "id": "6DYmrtGzIUyF",
        "colab": {
          "base_uri": "https://localhost:8080/"
        },
        "outputId": "7583eced-ca49-4576-a6b5-d2cf6efa983d"
      },
      "outputs": [
        {
          "output_type": "stream",
          "name": "stdout",
          "text": [
            "3^3 =  27\n"
          ]
        }
      ],
      "source": [
        "def power(a, b):\n",
        "    # Calculate a^b\n",
        "    result = 1\n",
        "    for i in range(b):\n",
        "        result *= a\n",
        "    return result\n",
        "\n",
        "print(\"3^3 = \", power(3, 3))"
      ]
    },
    {
      "cell_type": "code",
      "execution_count": 134,
      "metadata": {
        "colab": {
          "base_uri": "https://localhost:8080/"
        },
        "id": "dn3xInb5rngC",
        "outputId": "ab78c70c-c91d-4a95-f95e-dd6a5d73b305"
      },
      "outputs": [
        {
          "output_type": "execute_result",
          "data": {
            "text/plain": [
              "113.09733552923254"
            ]
          },
          "metadata": {},
          "execution_count": 134
        }
      ],
      "source": [
        "import math\n",
        "def volume_sphere(r):\n",
        "    metho = 4/3 * math.pi * r **3\n",
        "    return metho\n",
        "volume_sphere(3)"
      ]
    },
    {
      "cell_type": "code",
      "execution_count": 135,
      "metadata": {
        "colab": {
          "base_uri": "https://localhost:8080/"
        },
        "id": "rQC7BdzkrngC",
        "outputId": "be201ba9-c461-4177-859a-fc38f7df32b8"
      },
      "outputs": [
        {
          "output_type": "execute_result",
          "data": {
            "text/plain": [
              "195.5"
            ]
          },
          "metadata": {},
          "execution_count": 135
        }
      ],
      "source": [
        "def triangle_area(b,h):\n",
        "    meth = 1.0/2.0 * b * h\n",
        "    return meth\n",
        "triangle_area(23,17)"
      ]
    },
    {
      "cell_type": "markdown",
      "metadata": {
        "id": "PjlAh47TJx6K"
      },
      "source": [
        "Default parameters: you can assign a default value to a parameter. If the function is called and no value is passed to this parameter, the default value will be assigned to it."
      ]
    },
    {
      "cell_type": "code",
      "execution_count": 136,
      "metadata": {
        "id": "mjB2MCWKJoBS",
        "colab": {
          "base_uri": "https://localhost:8080/"
        },
        "outputId": "7ba434fe-95c2-43fb-d07f-fbedfb82115d"
      },
      "outputs": [
        {
          "output_type": "stream",
          "name": "stdout",
          "text": [
            "Hello, my name is John\n"
          ]
        }
      ],
      "source": [
        "def say_hello(name=\"John\"):\n",
        "    print(\"Hello, my name is\", name)\n",
        "\n",
        "say_hello()"
      ]
    },
    {
      "cell_type": "code",
      "execution_count": 137,
      "metadata": {
        "colab": {
          "base_uri": "https://localhost:8080/"
        },
        "id": "HZZklwfdrngD",
        "outputId": "2a3b6d74-ccbb-457a-e3fa-ed6990917a88"
      },
      "outputs": [
        {
          "output_type": "execute_result",
          "data": {
            "text/plain": [
              "(16, 3)"
            ]
          },
          "metadata": {},
          "execution_count": 137
        }
      ],
      "source": [
        "def convert(inches = 0, feet = 0):\n",
        "    conv_inch = inches * 1\n",
        "    conv_feet = feet * 1\n",
        "    return conv_inch , conv_feet\n",
        "convert(inches=16,feet = 3)\n",
        "    "
      ]
    },
    {
      "cell_type": "markdown",
      "metadata": {
        "id": "ryea83RYKM1O"
      },
      "source": [
        "Named parameters: this will allow you to specify which argument will receive which value. It also allows you to mix the order of parameters when calling the function name."
      ]
    },
    {
      "cell_type": "code",
      "execution_count": 138,
      "metadata": {
        "id": "hsEpcgfcKKYP",
        "colab": {
          "base_uri": "https://localhost:8080/"
        },
        "outputId": "e58aef42-6c07-4e3c-b661-ec167307753d"
      },
      "outputs": [
        {
          "output_type": "stream",
          "name": "stdout",
          "text": [
            "6^3 =  216\n"
          ]
        }
      ],
      "source": [
        "def power(a, b=1):\n",
        "    # Calculate a^b\n",
        "    result = 1\n",
        "    for i in range(b):\n",
        "        result *= a\n",
        "    return result\n",
        "\n",
        "print(\"6^3 = \", power(b=3, a=6))"
      ]
    },
    {
      "cell_type": "markdown",
      "metadata": {
        "id": "GGMZk5kwK3b5"
      },
      "source": [
        "## Importing\n",
        "\n",
        "In order to reuse a function/class from a different place, you will need to import it from another module. There are two ways to do it."
      ]
    },
    {
      "cell_type": "markdown",
      "metadata": {
        "id": "mRlYeO7tLDgh"
      },
      "source": [
        "The first one is to import the whole module. This will allow you to use all the functions and classes of that module."
      ]
    },
    {
      "cell_type": "code",
      "execution_count": 139,
      "metadata": {
        "id": "LmLX1e_zKv7Q",
        "colab": {
          "base_uri": "https://localhost:8080/"
        },
        "outputId": "e372a16b-1571-41cf-9cb9-961251be3d70"
      },
      "outputs": [
        {
          "output_type": "stream",
          "name": "stdout",
          "text": [
            "2.449489742783178\n",
            "7\n"
          ]
        }
      ],
      "source": [
        "import math\n",
        "\n",
        "print(math.sqrt(6))\n",
        "print(math.ceil(6.3))"
      ]
    },
    {
      "cell_type": "markdown",
      "metadata": {
        "id": "EPOBG-YBLTT2"
      },
      "source": [
        "The second one is to use `from <module_name> import <function>` to import a specific function. This will allow you to use only that function."
      ]
    },
    {
      "cell_type": "code",
      "execution_count": 140,
      "metadata": {
        "id": "Q50qck8KLSTO",
        "colab": {
          "base_uri": "https://localhost:8080/"
        },
        "outputId": "cb891364-d09a-4dbd-eb0e-9f14b002c887"
      },
      "outputs": [
        {
          "output_type": "stream",
          "name": "stdout",
          "text": [
            "['.config', 'sample_data']\n"
          ]
        }
      ],
      "source": [
        "from os import listdir\n",
        "\n",
        "print(listdir('.'))  # list all files in current working directory"
      ]
    },
    {
      "cell_type": "markdown",
      "metadata": {
        "id": "Xap8jrxdMJnt"
      },
      "source": [
        "This will return an error. The reason is that we only imported `listdir` from `os` module but not the whole `os` module."
      ]
    },
    {
      "cell_type": "code",
      "execution_count": 141,
      "metadata": {
        "id": "6-gW0oo1LodD",
        "colab": {
          "base_uri": "https://localhost:8080/",
          "height": 165
        },
        "outputId": "64f91b34-e1fb-476a-d94c-47b1631d8bb2"
      },
      "outputs": [
        {
          "output_type": "error",
          "ename": "NameError",
          "evalue": "ignored",
          "traceback": [
            "\u001b[0;31m---------------------------------------------------------------------------\u001b[0m",
            "\u001b[0;31mNameError\u001b[0m                                 Traceback (most recent call last)",
            "\u001b[0;32m<ipython-input-141-efacdae2ab0b>\u001b[0m in \u001b[0;36m<module>\u001b[0;34m\u001b[0m\n\u001b[0;32m----> 1\u001b[0;31m \u001b[0mprint\u001b[0m\u001b[0;34m(\u001b[0m\u001b[0mos\u001b[0m\u001b[0;34m.\u001b[0m\u001b[0mgetcwd\u001b[0m\u001b[0;34m(\u001b[0m\u001b[0;34m)\u001b[0m\u001b[0;34m)\u001b[0m\u001b[0;34m\u001b[0m\u001b[0;34m\u001b[0m\u001b[0m\n\u001b[0m",
            "\u001b[0;31mNameError\u001b[0m: name 'os' is not defined"
          ]
        }
      ],
      "source": [
        "print(os.getcwd())"
      ]
    },
    {
      "cell_type": "markdown",
      "metadata": {
        "id": "IZ8k0gPYUWZ2"
      },
      "source": [
        "# Class\n",
        "\n",
        "Class is an important concept in Object Oriented Programming. It is used to define a blueprint for objects, including attributes and methods (or functions of object)."
      ]
    },
    {
      "cell_type": "code",
      "execution_count": 142,
      "metadata": {
        "id": "jNuTdhKoUYQW",
        "colab": {
          "base_uri": "https://localhost:8080/"
        },
        "outputId": "4135da5f-7953-497c-9b51-7b9f62563764"
      },
      "outputs": [
        {
          "output_type": "stream",
          "name": "stdout",
          "text": [
            "John Doe\n",
            "John Doe\n",
            "2\n"
          ]
        }
      ],
      "source": [
        "class Person:\n",
        "    time_accessed = 0\n",
        "\n",
        "    def __init__(self, first, last):\n",
        "        self.firstname = first\n",
        "        self.lastname = last\n",
        "    \n",
        "    def get_time_accessed(self):\n",
        "        return self.time_accessed\n",
        "    \n",
        "    def describe(self):\n",
        "        self.time_accessed += 1\n",
        "        return self.firstname + \" \" + self.lastname\n",
        "\n",
        "a = Person(\"John\", \"Doe\")\n",
        "print(a.describe())\n",
        "print(a.describe())\n",
        "print(a.get_time_accessed())"
      ]
    },
    {
      "cell_type": "markdown",
      "metadata": {
        "id": "pD5fmqztVQZI"
      },
      "source": [
        "A class can also inherit another class as its base."
      ]
    },
    {
      "cell_type": "code",
      "execution_count": 143,
      "metadata": {
        "id": "cJHnkYAIVIGI",
        "colab": {
          "base_uri": "https://localhost:8080/"
        },
        "outputId": "0055101f-fd45-4311-b3a4-5662e8134e01"
      },
      "outputs": [
        {
          "output_type": "stream",
          "name": "stdout",
          "text": [
            "1500\n",
            "Jason Mack\n",
            "1500\n",
            "3\n"
          ]
        }
      ],
      "source": [
        "class Employee(Person):\n",
        "    def __init__(self, firstname, lastname, salary):\n",
        "        Person.__init__(self, firstname, lastname)\n",
        "        self.salary = salary\n",
        "    \n",
        "    def get_salary(self):\n",
        "        self.time_accessed += 1\n",
        "        return self.salary\n",
        "\n",
        "b = Employee(\"Jason\", \"Mack\", 1500)\n",
        "print(b.get_salary())\n",
        "print(b.describe())\n",
        "print(b.get_salary())\n",
        "print(b.get_time_accessed())"
      ]
    },
    {
      "cell_type": "code",
      "source": [
        "der = \"Mr. Arnold\"\n",
        "amount = 2000\n",
        "frot = f\"Hi {der} your monthly pay of kshs.{amount} and is due tomorrow\"\n",
        "print(frot)\n",
        "frot = \"Hi %s your monthly pay of kshs.%s and is due tomorrow\"%(der,amount)\n",
        "frot.format((der,amount))"
      ],
      "metadata": {
        "colab": {
          "base_uri": "https://localhost:8080/",
          "height": 53
        },
        "id": "WzonWCyB1yEK",
        "outputId": "77f0a18f-c64e-4a14-bebd-dafe0ad8ce70"
      },
      "execution_count": 144,
      "outputs": [
        {
          "output_type": "stream",
          "name": "stdout",
          "text": [
            "Hi Mr. Arnold your monthly pay of kshs.2000 and is due tomorrow\n"
          ]
        },
        {
          "output_type": "execute_result",
          "data": {
            "text/plain": [
              "'Hi Mr. Arnold your monthly pay of kshs.2000 and is due tomorrow'"
            ],
            "application/vnd.google.colaboratory.intrinsic+json": {
              "type": "string"
            }
          },
          "metadata": {},
          "execution_count": 144
        }
      ]
    },
    {
      "cell_type": "code",
      "source": [
        "frot.replace(\"Hi\",\"Hello\")"
      ],
      "metadata": {
        "colab": {
          "base_uri": "https://localhost:8080/",
          "height": 35
        },
        "id": "-sTEi3hv2H4O",
        "outputId": "de9b59ca-40b3-471f-da98-302741b46efb"
      },
      "execution_count": 145,
      "outputs": [
        {
          "output_type": "execute_result",
          "data": {
            "text/plain": [
              "'Hello Mr. Arnold your monthly pay of kshs.2000 and is due tomorrow'"
            ],
            "application/vnd.google.colaboratory.intrinsic+json": {
              "type": "string"
            }
          },
          "metadata": {},
          "execution_count": 145
        }
      ]
    },
    {
      "cell_type": "code",
      "source": [
        "front = [34,56,78,78,90,4,56,40,34,23,31]\n",
        "print(type(front))\n",
        "front.index(31)\n",
        "front.append(45)\n",
        "front.extend([45,78])\n",
        "front.insert(4,\"Dennis\")\n",
        "front\n"
      ],
      "metadata": {
        "colab": {
          "base_uri": "https://localhost:8080/"
        },
        "id": "M-dKU6Kv2a-c",
        "outputId": "b729f2cd-c444-44fb-ba66-165b8e00a004"
      },
      "execution_count": 148,
      "outputs": [
        {
          "output_type": "stream",
          "name": "stdout",
          "text": [
            "<class 'list'>\n"
          ]
        },
        {
          "output_type": "execute_result",
          "data": {
            "text/plain": [
              "[34, 56, 78, 78, 'Dennis', 90, 4, 56, 40, 34, 23, 31, 45, 45, 78]"
            ]
          },
          "metadata": {},
          "execution_count": 148
        }
      ]
    },
    {
      "cell_type": "markdown",
      "metadata": {
        "id": "tSVVQLI3XJqW"
      },
      "source": [
        "# Resources\n",
        "\n",
        "The above only covers some of the basics in Python. For more tutorials, I suggest checking [this official tutorial](https://docs.python.org/3.10/tutorial/index.html) and [Python documentation](https://docs.python.org/3.10/)."
      ]
    },
    {
      "cell_type": "code",
      "source": [
        "\" \".join([\"Tim\",\"Luke\"])"
      ],
      "metadata": {
        "colab": {
          "base_uri": "https://localhost:8080/",
          "height": 35
        },
        "id": "wyLYsdkK2rFV",
        "outputId": "cb04561e-5fd3-4495-87e2-197580d676b4"
      },
      "execution_count": 149,
      "outputs": [
        {
          "output_type": "execute_result",
          "data": {
            "text/plain": [
              "'Tim Luke'"
            ],
            "application/vnd.google.colaboratory.intrinsic+json": {
              "type": "string"
            }
          },
          "metadata": {},
          "execution_count": 149
        }
      ]
    },
    {
      "cell_type": "code",
      "source": [
        "word = 'reviver'\n",
        "p = (word.find(word[::-1]) + 1)\n",
        "print(p) # True"
      ],
      "metadata": {
        "colab": {
          "base_uri": "https://localhost:8080/"
        },
        "id": "8hjltEY62NlW",
        "outputId": "3938d0bb-f3f5-4ff2-84c1-212b97797865"
      },
      "execution_count": 146,
      "outputs": [
        {
          "output_type": "stream",
          "name": "stdout",
          "text": [
            "1\n"
          ]
        }
      ]
    },
    {
      "cell_type": "code",
      "source": [
        "print(front[0:12:2])\n",
        "first,*d,last = front\n",
        "print(first)\n",
        "print(last)"
      ],
      "metadata": {
        "colab": {
          "base_uri": "https://localhost:8080/"
        },
        "id": "9oLoHG8Z22T9",
        "outputId": "4ef650f2-3609-4191-c8c3-9d7e5e25e3a0"
      },
      "execution_count": 150,
      "outputs": [
        {
          "output_type": "stream",
          "name": "stdout",
          "text": [
            "[34, 78, 'Dennis', 4, 40, 23]\n",
            "34\n",
            "78\n"
          ]
        }
      ]
    },
    {
      "cell_type": "code",
      "source": [
        "df = [[1,6,8,3],[4,9,2,1]]\n",
        "for row in range(len(df)):\n",
        "    for col in range(len(df[0])):\n",
        "        print(df[row][col])"
      ],
      "metadata": {
        "colab": {
          "base_uri": "https://localhost:8080/"
        },
        "id": "7-MzIMab22gs",
        "outputId": "1ae7ec13-0529-4ec2-a5cf-ef4bc4c53be2"
      },
      "execution_count": 151,
      "outputs": [
        {
          "output_type": "stream",
          "name": "stdout",
          "text": [
            "1\n",
            "6\n",
            "8\n",
            "3\n",
            "4\n",
            "9\n",
            "2\n",
            "1\n"
          ]
        }
      ]
    },
    {
      "cell_type": "code",
      "source": [
        "df = [[1,6,8,3],[4,9,2,1],[4,7,3,0]]\n",
        "[sum(pair) for pair in zip([1,6,8,3],[4,9,2,1],[4,7,3,0])]"
      ],
      "metadata": {
        "colab": {
          "base_uri": "https://localhost:8080/"
        },
        "id": "mV8t_3Kd22rZ",
        "outputId": "bf2d0e2c-362f-4735-a735-5ba2f58b850a"
      },
      "execution_count": 152,
      "outputs": [
        {
          "output_type": "execute_result",
          "data": {
            "text/plain": [
              "[9, 22, 13, 4]"
            ]
          },
          "metadata": {},
          "execution_count": 152
        }
      ]
    },
    {
      "cell_type": "code",
      "source": [
        "[df[row][col]for row in range(len(df))for col in range(len(df[0]))]"
      ],
      "metadata": {
        "colab": {
          "base_uri": "https://localhost:8080/"
        },
        "id": "j4mApnGa2209",
        "outputId": "3301cbb5-b68e-40a6-9c65-55582f8c4403"
      },
      "execution_count": 153,
      "outputs": [
        {
          "output_type": "execute_result",
          "data": {
            "text/plain": [
              "[1, 6, 8, 3, 4, 9, 2, 1, 4, 7, 3, 0]"
            ]
          },
          "metadata": {},
          "execution_count": 153
        }
      ]
    },
    {
      "cell_type": "code",
      "source": [
        "df.sort(reverse=True)\n",
        "df"
      ],
      "metadata": {
        "colab": {
          "base_uri": "https://localhost:8080/"
        },
        "id": "ZV7vEeTEzBiy",
        "outputId": "b56089f5-aa09-48a5-f7c6-e2044220c43a"
      },
      "execution_count": 156,
      "outputs": [
        {
          "output_type": "execute_result",
          "data": {
            "text/plain": [
              "[[4, 9, 2, 1], [4, 7, 3, 0], [1, 6, 8, 3]]"
            ]
          },
          "metadata": {},
          "execution_count": 156
        }
      ]
    },
    {
      "cell_type": "code",
      "source": [
        "mList = [63, 21, 30, 14, 35, 26, 77, 18, 49, 10]\n",
        "first,*d,last = mList\n",
        "print(first) #63\n",
        "print(last) #10"
      ],
      "metadata": {
        "colab": {
          "base_uri": "https://localhost:8080/"
        },
        "id": "FFyKGFyz3gah",
        "outputId": "3dfe6048-29f7-4cfa-e499-52f3f065a90a"
      },
      "execution_count": 157,
      "outputs": [
        {
          "output_type": "stream",
          "name": "stdout",
          "text": [
            "63\n",
            "10\n"
          ]
        }
      ]
    },
    {
      "cell_type": "code",
      "source": [],
      "metadata": {
        "id": "EafTMXl44Cqb"
      },
      "execution_count": null,
      "outputs": []
    },
    {
      "cell_type": "code",
      "source": [
        "matrix = [[1,2,3], [4,5,6], [7,8,9]]\n",
        "matrix[2][0] # 7 --> Grab first first of the third item in the matrix object"
      ],
      "metadata": {
        "colab": {
          "base_uri": "https://localhost:8080/"
        },
        "id": "c0ympOmA4JG5",
        "outputId": "5e9ef395-06c3-407a-e62b-8ee262b38b88"
      },
      "execution_count": 158,
      "outputs": [
        {
          "output_type": "execute_result",
          "data": {
            "text/plain": [
              "7"
            ]
          },
          "metadata": {},
          "execution_count": 158
        }
      ]
    },
    {
      "cell_type": "code",
      "source": [
        "for der in range(len(matrix)):\n",
        "    for col in range (len(matrix[0])):\n",
        "        print(matrix[der][col])"
      ],
      "metadata": {
        "colab": {
          "base_uri": "https://localhost:8080/"
        },
        "id": "ICACciaW4KKm",
        "outputId": "f95c5085-aa37-43fb-8c5b-14a87f1bc317"
      },
      "execution_count": 159,
      "outputs": [
        {
          "output_type": "stream",
          "name": "stdout",
          "text": [
            "1\n",
            "2\n",
            "3\n",
            "4\n",
            "5\n",
            "6\n",
            "7\n",
            "8\n",
            "9\n"
          ]
        }
      ]
    },
    {
      "cell_type": "code",
      "source": [
        "b = [i for i in [4,7,9,8,3] if i > 6]\n",
        "b"
      ],
      "metadata": {
        "colab": {
          "base_uri": "https://localhost:8080/"
        },
        "id": "G2VVLO8n4QVN",
        "outputId": "0ce1c403-720f-49c3-e74c-20c972a10b14"
      },
      "execution_count": 160,
      "outputs": [
        {
          "output_type": "execute_result",
          "data": {
            "text/plain": [
              "[7, 9, 8]"
            ]
          },
          "metadata": {},
          "execution_count": 160
        }
      ]
    },
    {
      "cell_type": "code",
      "source": [
        "b = [i *2 for i in [4,7,9,8,3]]\n",
        "b"
      ],
      "metadata": {
        "colab": {
          "base_uri": "https://localhost:8080/"
        },
        "id": "KHNfK2DI4We5",
        "outputId": "fa627a65-ed58-4343-c445-9c60e83eac6d"
      },
      "execution_count": 161,
      "outputs": [
        {
          "output_type": "execute_result",
          "data": {
            "text/plain": [
              "[8, 14, 18, 16, 6]"
            ]
          },
          "metadata": {},
          "execution_count": 161
        }
      ]
    },
    {
      "cell_type": "code",
      "source": [
        "der = \"Anthony\"\n",
        "dert = \"Caleb\"\n",
        "derri = \"The new manager %s %s has been looking for you\" %(der,dert)\n",
        "# derri\n",
        "dery = \"The new manager {} {} I haS been looking for you\".format(der,dert)\n",
        "print(derri)\n",
        "print(dery)"
      ],
      "metadata": {
        "colab": {
          "base_uri": "https://localhost:8080/"
        },
        "id": "61y6b3Py4Whu",
        "outputId": "3da5f650-82cb-4e3d-b719-454cc4992199"
      },
      "execution_count": 165,
      "outputs": [
        {
          "output_type": "stream",
          "name": "stdout",
          "text": [
            "The new manager Anthony Caleb has been looking for you\n",
            "The new manager Anthony Caleb I haS been looking for you\n"
          ]
        }
      ]
    },
    {
      "cell_type": "code",
      "source": [
        "sorted_list = sorted([\n",
        "    {\"Name\" : \"Wanjiku\",\"Age\" : 82},\n",
        "    {\"Name\" : \"Alice\",\"Age\" : 72},\n",
        "    {\"Name\" : \"Carol\",\"Age\" : 52},\n",
        "    {\"Name\" : \"Sebastian\",\"Age\" : 32}\n",
        "    ],\n",
        "    key = lambda el : el[\"Age\"])\n",
        "sorted_list"
      ],
      "metadata": {
        "colab": {
          "base_uri": "https://localhost:8080/"
        },
        "id": "qV7j7AbI4WkA",
        "outputId": "2c82a0fc-9069-42b5-9749-e5d4e644b17f"
      },
      "execution_count": 166,
      "outputs": [
        {
          "output_type": "execute_result",
          "data": {
            "text/plain": [
              "[{'Name': 'Sebastian', 'Age': 32},\n",
              " {'Name': 'Carol', 'Age': 52},\n",
              " {'Name': 'Alice', 'Age': 72},\n",
              " {'Name': 'Wanjiku', 'Age': 82}]"
            ]
          },
          "metadata": {},
          "execution_count": 166
        }
      ]
    },
    {
      "cell_type": "code",
      "source": [
        "mine = dict ([[\"Name\", \"Dennis\"],[\"Age\",32]])\n",
        "mine"
      ],
      "metadata": {
        "colab": {
          "base_uri": "https://localhost:8080/"
        },
        "id": "KxrpzigP4WmS",
        "outputId": "478ba437-c0b5-47e4-ea0e-ae3470826666"
      },
      "execution_count": 167,
      "outputs": [
        {
          "output_type": "execute_result",
          "data": {
            "text/plain": [
              "{'Name': 'Dennis', 'Age': 32}"
            ]
          },
          "metadata": {},
          "execution_count": 167
        }
      ]
    },
    {
      "cell_type": "code",
      "source": [
        "mine = dict (zip([\"Name\", \"Age\"],[\"Dennis\",32]))\n",
        "mine"
      ],
      "metadata": {
        "colab": {
          "base_uri": "https://localhost:8080/"
        },
        "id": "PTX_ZZJB4WpR",
        "outputId": "4dd11f18-6ba5-4be9-e127-e201ebf819ba"
      },
      "execution_count": 168,
      "outputs": [
        {
          "output_type": "execute_result",
          "data": {
            "text/plain": [
              "{'Name': 'Dennis', 'Age': 32}"
            ]
          },
          "metadata": {},
          "execution_count": 168
        }
      ]
    },
    {
      "cell_type": "code",
      "source": [],
      "metadata": {
        "id": "do8Diyy64WsZ"
      },
      "execution_count": null,
      "outputs": []
    },
    {
      "cell_type": "code",
      "source": [],
      "metadata": {
        "id": "Pw1GTIYb4Wur"
      },
      "execution_count": null,
      "outputs": []
    },
    {
      "cell_type": "code",
      "source": [],
      "metadata": {
        "id": "DvGiKXAk4W0Y"
      },
      "execution_count": null,
      "outputs": []
    },
    {
      "cell_type": "code",
      "source": [],
      "metadata": {
        "id": "l5ePYiwq4W2H"
      },
      "execution_count": null,
      "outputs": []
    },
    {
      "cell_type": "code",
      "source": [],
      "metadata": {
        "id": "Ojuh75M84W5A"
      },
      "execution_count": null,
      "outputs": []
    }
  ],
  "metadata": {
    "colab": {
      "collapsed_sections": [],
      "provenance": [],
      "include_colab_link": true
    },
    "kernelspec": {
      "display_name": "Python 3 (ipykernel)",
      "language": "python",
      "name": "python3"
    },
    "language_info": {
      "codemirror_mode": {
        "name": "ipython",
        "version": 3
      },
      "file_extension": ".py",
      "mimetype": "text/x-python",
      "name": "python",
      "nbconvert_exporter": "python",
      "pygments_lexer": "ipython3",
      "version": "3.9.7"
    },
    "vscode": {
      "interpreter": {
        "hash": "a7a76e3493cd1b0fbd2ab0f836f3a03cc927105fb88a452c4356420be379e2b5"
      }
    }
  },
  "nbformat": 4,
  "nbformat_minor": 0
}