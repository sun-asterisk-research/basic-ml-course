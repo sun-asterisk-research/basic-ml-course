{
  "cells": [
    {
      "cell_type": "markdown",
      "metadata": {
        "id": "view-in-github",
        "colab_type": "text"
      },
      "source": [
        "<a href=\"https://colab.research.google.com/github/TolleDennis/basic-ml-course/blob/master/Personal_Practice_PY.ipynb\" target=\"_parent\"><img src=\"https://colab.research.google.com/assets/colab-badge.svg\" alt=\"Open In Colab\"/></a>"
      ]
    },
    {
      "cell_type": "markdown",
      "metadata": {
        "id": "ki-JUpb2BCrZ"
      },
      "source": [
        "01 Practice\n",
        "\n",
        "This is a supplementary notebook for lecture 01 so that you can get used to Python. Try it on Google Colab and experiment with it by changing the values, as well as write some code as you like."
      ]
    },
    {
      "cell_type": "markdown",
      "metadata": {
        "id": "m9eUUv7SA2Tc"
      },
      "source": [
        "## Basic data types of Python"
      ]
    },
    {
      "cell_type": "markdown",
      "metadata": {
        "id": "trCs56XLCMvj"
      },
      "source": [
        "Python has several data types. Some of the basic ones are `int`, `float`, `bool`, `str`, `list`, etc."
      ]
    },
    {
      "cell_type": "code",
      "execution_count": 212,
      "metadata": {
        "id": "igai543VAu4G"
      },
      "outputs": [],
      "source": [
        "a = 1  # int (Integer)\n",
        "b = 2.0  # float (Real number)\n",
        "c = True  # bool (Boolean)\n",
        "d = False  # also bool (Boolean)\n",
        "e = \"Hello World!\"  # str (String)\n",
        "f = [1, 2, 3, 4]  # list"
      ]
    },
    {
      "cell_type": "markdown",
      "metadata": {
        "id": "KoLm2IuTCHEQ"
      },
      "source": [
        "`type` will return the type of variable. Try put the name of the variable inside the parenthesis and run the code cell."
      ]
    },
    {
      "cell_type": "code",
      "execution_count": 213,
      "metadata": {
        "id": "2FvmFAVfB_q7",
        "colab": {
          "base_uri": "https://localhost:8080/"
        },
        "outputId": "d865acb3-d1a1-410d-a6fd-4b71fb094014"
      },
      "outputs": [
        {
          "output_type": "stream",
          "name": "stdout",
          "text": [
            "<class 'bool'>\n"
          ]
        }
      ],
      "source": [
        "print(type(c))"
      ]
    },
    {
      "cell_type": "markdown",
      "metadata": {
        "id": "Eziml8wSMXZd"
      },
      "source": [
        "### String\n",
        "\n",
        "String is a sequence of characters."
      ]
    },
    {
      "cell_type": "code",
      "execution_count": 214,
      "metadata": {
        "id": "sQZ-77GnMcM-",
        "colab": {
          "base_uri": "https://localhost:8080/"
        },
        "outputId": "fc75c1a2-fa0c-4947-d8d9-2f48f6c49b44"
      },
      "outputs": [
        {
          "output_type": "stream",
          "name": "stdout",
          "text": [
            "Machine Learning Basic\n"
          ]
        }
      ],
      "source": [
        "text = \"Machine Learning Basic\"\n",
        "print(text)"
      ]
    },
    {
      "cell_type": "markdown",
      "metadata": {
        "id": "yvhNyJj_MjQW"
      },
      "source": [
        "To access a character in string using an index, you can use square brackets `[]`. Remember that index starts from `0`."
      ]
    },
    {
      "cell_type": "code",
      "execution_count": 215,
      "metadata": {
        "id": "hLFommpwMqYk",
        "colab": {
          "base_uri": "https://localhost:8080/"
        },
        "outputId": "ade2140b-b5fa-4560-af39-97378284192c"
      },
      "outputs": [
        {
          "output_type": "stream",
          "name": "stdout",
          "text": [
            "L\n"
          ]
        }
      ],
      "source": [
        "print(text[8])"
      ]
    },
    {
      "cell_type": "markdown",
      "metadata": {
        "id": "iQnpmW-oMb-t"
      },
      "source": [
        "To get a substring, you can use slicing `[start:end]`. Remember that slicing is inclusive to it does not return the character at index `end`."
      ]
    },
    {
      "cell_type": "code",
      "execution_count": 216,
      "metadata": {
        "id": "aq0FNWzrNHmV",
        "colab": {
          "base_uri": "https://localhost:8080/"
        },
        "outputId": "bb779db8-85d1-4208-ff48-a048d058d8d8"
      },
      "outputs": [
        {
          "output_type": "stream",
          "name": "stdout",
          "text": [
            "Learnin\n"
          ]
        }
      ],
      "source": [
        "print(text[8:15])"
      ]
    },
    {
      "cell_type": "markdown",
      "metadata": {
        "id": "OnzoKhukNP4t"
      },
      "source": [
        "Here are some operations with string."
      ]
    },
    {
      "cell_type": "code",
      "execution_count": 217,
      "metadata": {
        "id": "KgmCMhLYNSFC",
        "colab": {
          "base_uri": "https://localhost:8080/"
        },
        "outputId": "b27f3a64-ae8d-4f3c-84f5-803b26994ccd"
      },
      "outputs": [
        {
          "output_type": "stream",
          "name": "stdout",
          "text": [
            "True\n"
          ]
        }
      ],
      "source": [
        "print(\"Learning\" in text)"
      ]
    },
    {
      "cell_type": "code",
      "execution_count": 218,
      "metadata": {
        "id": "f2o6hgbhN4Wy",
        "colab": {
          "base_uri": "https://localhost:8080/"
        },
        "outputId": "65612b7b-6f52-45b7-b99d-55a521d2fa09"
      },
      "outputs": [
        {
          "output_type": "stream",
          "name": "stdout",
          "text": [
            "Length of string: 22\n"
          ]
        }
      ],
      "source": [
        "print(\"Length of string:\", len(text))"
      ]
    },
    {
      "cell_type": "code",
      "execution_count": 219,
      "metadata": {
        "id": "pbrtN2agN90F",
        "colab": {
          "base_uri": "https://localhost:8080/"
        },
        "outputId": "1fa63aa8-3ba3-47ff-f558-fc275b32b93a"
      },
      "outputs": [
        {
          "output_type": "stream",
          "name": "stdout",
          "text": [
            "Machine Learning Basic by Sun-asterisk. The future is bright for the Kenyan tech industry\n"
          ]
        }
      ],
      "source": [
        "text2 = \"The future is bright for the Kenyan tech industry\"\n",
        "print(text + \" by Sun-asterisk. \" + text2)"
      ]
    },
    {
      "cell_type": "code",
      "execution_count": 220,
      "metadata": {
        "id": "r9tYt4QmNzWH",
        "colab": {
          "base_uri": "https://localhost:8080/"
        },
        "outputId": "b5019892-5d0d-4e5a-eb77-7c65fc502847"
      },
      "outputs": [
        {
          "output_type": "stream",
          "name": "stdout",
          "text": [
            "['The future is bright for the Kenyan tech industry']\n"
          ]
        }
      ],
      "source": [
        "print(text2.split(\",\"))"
      ]
    },
    {
      "cell_type": "code",
      "execution_count": 221,
      "metadata": {
        "id": "khLDinF_OHDI",
        "outputId": "f2c2e769-c82e-4485-c101-841edee51da8",
        "colab": {
          "base_uri": "https://localhost:8080/"
        }
      },
      "outputs": [
        {
          "output_type": "stream",
          "name": "stdout",
          "text": [
            "Machine - Learning - Basic\n"
          ]
        }
      ],
      "source": [
        "print(\" - \".join(text.split(\" \")))"
      ]
    },
    {
      "cell_type": "markdown",
      "metadata": {
        "id": "l11ZAHiIO_T0"
      },
      "source": [
        "Try modifying a character in the string above and see what will happen."
      ]
    },
    {
      "cell_type": "code",
      "execution_count": 222,
      "metadata": {
        "id": "v2EF3U8WPFT2",
        "outputId": "764760be-18b3-4db8-cf46-16cfea0051b0",
        "colab": {
          "base_uri": "https://localhost:8080/",
          "height": 35
        }
      },
      "outputs": [
        {
          "output_type": "execute_result",
          "data": {
            "text/plain": [
              "'25#23'"
            ],
            "application/vnd.google.colaboratory.intrinsic+json": {
              "type": "string"
            }
          },
          "metadata": {},
          "execution_count": 222
        }
      ],
      "source": [
        "\"#\".join([\"25\",\"23\"])"
      ]
    },
    {
      "cell_type": "code",
      "execution_count": 223,
      "metadata": {
        "id": "LoP61Pixo61P",
        "outputId": "f3077f67-52a6-4b89-ab7c-795012e76487",
        "colab": {
          "base_uri": "https://localhost:8080/"
        }
      },
      "outputs": [
        {
          "output_type": "execute_result",
          "data": {
            "text/plain": [
              "{10, 20, 60, 70}"
            ]
          },
          "metadata": {},
          "execution_count": 223
        }
      ],
      "source": [
        "set1 = {10, 20, 30, 40, 50}\n",
        "set2 = {30, 40, 50, 60, 70}\n",
        "set3 = set1^set2\n",
        "set3\n",
        "\n",
        "# def set_difference(a,b):\n",
        "#     return set1.symmetric_difference(set2)\n",
        "# set_difference(set1,set2)"
      ]
    },
    {
      "cell_type": "markdown",
      "metadata": {
        "id": "iyAVsY1ao61Q"
      },
      "source": [
        "### Lambda function"
      ]
    },
    {
      "cell_type": "code",
      "execution_count": 224,
      "metadata": {
        "id": "DGRu4Gswo61R",
        "outputId": "2f865c38-ba65-4d61-b073-4bdd94356f1d",
        "colab": {
          "base_uri": "https://localhost:8080/"
        }
      },
      "outputs": [
        {
          "output_type": "execute_result",
          "data": {
            "text/plain": [
              "82"
            ]
          },
          "metadata": {},
          "execution_count": 224
        }
      ],
      "source": [
        "func = lambda x : 3**x + 1\n",
        "func(4)"
      ]
    },
    {
      "cell_type": "code",
      "execution_count": 225,
      "metadata": {
        "id": "4WShXfFuo61S",
        "outputId": "d9c65f86-03d6-4327-d079-88a11628beeb",
        "colab": {
          "base_uri": "https://localhost:8080/"
        }
      },
      "outputs": [
        {
          "output_type": "execute_result",
          "data": {
            "text/plain": [
              "['Amanda Suzzane',\n",
              " 'Dennis Colle',\n",
              " 'James Smith',\n",
              " 'James Johnson',\n",
              " 'Maria Garcia',\n",
              " 'Maria Rodriguez',\n",
              " 'Michael Smith']"
            ]
          },
          "metadata": {},
          "execution_count": 225
        }
      ],
      "source": [
        "designers = [\"James Smith\",\"Michael Smith\",\"Dennis Colle\",\"Maria Garcia\",\"Maria Rodriguez\",\"Amanda Suzzane\",\"James Johnson\"]\n",
        "designers.sort (key = lambda name : name.split(\" \")[-2].lower())\n",
        "designers"
      ]
    },
    {
      "cell_type": "code",
      "execution_count": 226,
      "metadata": {
        "id": "oRZ5cFk6o61S",
        "outputId": "48c59491-a27c-4be8-b386-48cf0bbb2147",
        "colab": {
          "base_uri": "https://localhost:8080/"
        }
      },
      "outputs": [
        {
          "output_type": "execute_result",
          "data": {
            "text/plain": [
              "['Dennis Colle',\n",
              " 'Maria Garcia',\n",
              " 'James Johnson',\n",
              " 'Maria Rodriguez',\n",
              " 'James Smith',\n",
              " 'Michael Smith',\n",
              " 'Amanda Suzzane']"
            ]
          },
          "metadata": {},
          "execution_count": 226
        }
      ],
      "source": [
        "designers.sort (key = lambda name : name.split(\" \")[-1].lower())\n",
        "designers"
      ]
    },
    {
      "cell_type": "code",
      "execution_count": 227,
      "metadata": {
        "id": "FtKf-zyxo61T",
        "outputId": "035e2b39-9fe8-44d3-e604-419a022b0915",
        "colab": {
          "base_uri": "https://localhost:8080/"
        }
      },
      "outputs": [
        {
          "output_type": "execute_result",
          "data": {
            "text/plain": [
              "142"
            ]
          },
          "metadata": {},
          "execution_count": 227
        }
      ],
      "source": [
        "def quadratic_equation(a,b,c):\n",
        "    return lambda x : a * 4 ** x + b * x + c\n",
        "#quadratic_equation(2,3,5)(2)\n",
        "f = quadratic_equation(2,3,5)\n",
        "f(3)\n"
      ]
    },
    {
      "cell_type": "code",
      "execution_count": 228,
      "metadata": {
        "id": "8DgXOkVpo61U",
        "outputId": "26eacecc-13ef-4038-ee0d-30839d28fba7",
        "colab": {
          "base_uri": "https://localhost:8080/",
          "height": 35
        }
      },
      "outputs": [
        {
          "output_type": "execute_result",
          "data": {
            "text/plain": [
              "'Dennis Tolle'"
            ],
            "application/vnd.google.colaboratory.intrinsic+json": {
              "type": "string"
            }
          },
          "metadata": {},
          "execution_count": 228
        }
      ],
      "source": [
        "full_name = lambda fname , sname : fname.strip().title() + \" \" + sname.strip().title()\n",
        "full_name (\"Dennis\", \"Tolle\")"
      ]
    },
    {
      "cell_type": "markdown",
      "metadata": {
        "id": "OFBhggjso61U"
      },
      "source": [
        "### MATH MODULE"
      ]
    },
    {
      "cell_type": "code",
      "execution_count": 229,
      "metadata": {
        "id": "2LJ7NQYWo61U",
        "outputId": "98fdca7b-d931-4c72-b418-3a030ed60afc",
        "colab": {
          "base_uri": "https://localhost:8080/"
        }
      },
      "outputs": [
        {
          "output_type": "execute_result",
          "data": {
            "text/plain": [
              "3.141592653589793"
            ]
          },
          "metadata": {},
          "execution_count": 229
        }
      ],
      "source": [
        "from math import radians\n",
        "radians(180)"
      ]
    },
    {
      "cell_type": "code",
      "execution_count": 230,
      "metadata": {
        "id": "Fnr4F65fo61V",
        "outputId": "404bfb99-35c6-4eac-da0b-b07c314d5f3f",
        "colab": {
          "base_uri": "https://localhost:8080/"
        }
      },
      "outputs": [
        {
          "output_type": "execute_result",
          "data": {
            "text/plain": [
              "3.141592653589793"
            ]
          },
          "metadata": {},
          "execution_count": 230
        }
      ],
      "source": [
        "import math\n",
        "math.radians(180)"
      ]
    },
    {
      "cell_type": "markdown",
      "metadata": {
        "id": "HjYOZ_VPo61V"
      },
      "source": [
        "### DATETIME MODULE"
      ]
    },
    {
      "cell_type": "code",
      "execution_count": 231,
      "metadata": {
        "id": "PVsQ2IIho61V",
        "outputId": "99550665-b7a8-4717-8d2b-b6d0bb97e51a",
        "colab": {
          "base_uri": "https://localhost:8080/"
        }
      },
      "outputs": [
        {
          "output_type": "stream",
          "name": "stdout",
          "text": [
            "1989-05-23\n"
          ]
        }
      ],
      "source": [
        "import datetime\n",
        "dennis = datetime.date(1989,5,23)\n",
        "print(dennis)"
      ]
    },
    {
      "cell_type": "code",
      "execution_count": 232,
      "metadata": {
        "id": "OESVU4t5o61W",
        "outputId": "589f4386-501e-4173-fbe7-8a998144863c",
        "colab": {
          "base_uri": "https://localhost:8080/",
          "height": 35
        }
      },
      "outputs": [
        {
          "output_type": "execute_result",
          "data": {
            "text/plain": [
              "'Tuesday,May,05/23/89,1989'"
            ],
            "application/vnd.google.colaboratory.intrinsic+json": {
              "type": "string"
            }
          },
          "metadata": {},
          "execution_count": 232
        }
      ],
      "source": [
        "dennis.strftime(\"%A,%B,%D,%Y\")"
      ]
    },
    {
      "cell_type": "code",
      "execution_count": 233,
      "metadata": {
        "id": "yeKRHdpFo61W",
        "outputId": "4832c867-f20a-4bf4-d30e-b9506a6b3194",
        "colab": {
          "base_uri": "https://localhost:8080/"
        }
      },
      "outputs": [
        {
          "output_type": "stream",
          "name": "stdout",
          "text": [
            "Dennis was born in the year Tuesday May 23 1989\n"
          ]
        }
      ],
      "source": [
        "DOB = \"Dennis was born in the year {:%A %B %d %Y}\"\n",
        "print(DOB.format(dennis))"
      ]
    },
    {
      "cell_type": "code",
      "execution_count": 234,
      "metadata": {
        "id": "A17StJ5Ao61W",
        "outputId": "9eaf0d12-6e75-4679-ece2-69d424d5f37e",
        "colab": {
          "base_uri": "https://localhost:8080/"
        }
      },
      "outputs": [
        {
          "output_type": "stream",
          "name": "stdout",
          "text": [
            "Elijah was born on: 1993-04-17 12:30:20\n",
            "1993\n"
          ]
        }
      ],
      "source": [
        "DOB = datetime.date(1993,4,17)\n",
        "time = datetime.time(12,30,20)\n",
        "exact_dob = datetime.datetime(1993,4,17,12,30,20)\n",
        "print(\"Elijah was born on:\",exact_dob)\n",
        "print(exact_dob.year)"
      ]
    },
    {
      "cell_type": "code",
      "execution_count": 235,
      "metadata": {
        "id": "k1zxc8y9o61X",
        "outputId": "d57b451b-2cea-480f-e271-b3e934a09563",
        "colab": {
          "base_uri": "https://localhost:8080/"
        }
      },
      "outputs": [
        {
          "output_type": "stream",
          "name": "stdout",
          "text": [
            "2022-10-19 04:25:24.477153\n"
          ]
        }
      ],
      "source": [
        "current_time = datetime.datetime.now()\n",
        "print(current_time)\n"
      ]
    },
    {
      "cell_type": "code",
      "execution_count": 236,
      "metadata": {
        "id": "EgfbbDBto61X",
        "outputId": "44c76c1f-708c-49f7-e394-bb796c6782b0",
        "colab": {
          "base_uri": "https://localhost:8080/"
        }
      },
      "outputs": [
        {
          "output_type": "stream",
          "name": "stdout",
          "text": [
            "1989-08-25 00:00:00\n"
          ]
        }
      ],
      "source": [
        "landed = \"25/8/1989\"\n",
        "der = datetime.datetime.strptime(landed, \"%d/%m/%Y\")\n",
        "print(der)"
      ]
    },
    {
      "cell_type": "code",
      "execution_count": 237,
      "metadata": {
        "id": "p6AYZI1Oo61X",
        "outputId": "3733c8ad-1ebe-4de7-d84c-e5091a21ab73",
        "colab": {
          "base_uri": "https://localhost:8080/"
        }
      },
      "outputs": [
        {
          "output_type": "stream",
          "name": "stdout",
          "text": [
            "10776 days, 15:55:04.506033\n"
          ]
        }
      ],
      "source": [
        "today = datetime.datetime.today()\n",
        "eli_dob = today - exact_dob\n",
        "print(eli_dob)"
      ]
    },
    {
      "cell_type": "code",
      "execution_count": 238,
      "metadata": {
        "id": "eaiA3wUNo61X",
        "outputId": "eb861830-acdb-4d38-bf89-1de87d0f8e3f",
        "colab": {
          "base_uri": "https://localhost:8080/"
        }
      },
      "outputs": [
        {
          "output_type": "execute_result",
          "data": {
            "text/plain": [
              "datetime.date(2022, 7, 10)"
            ]
          },
          "metadata": {},
          "execution_count": 238
        }
      ],
      "source": [
        "Current_date = datetime.date(2022,10,18)\n",
        "Days = datetime.timedelta(100)\n",
        "previously = Current_date - Days\n",
        "previously"
      ]
    },
    {
      "cell_type": "code",
      "execution_count": 239,
      "metadata": {
        "id": "57GO8x0Oo61Y",
        "outputId": "3f765481-ef8f-48c7-e4a6-d5815e91e54d",
        "colab": {
          "base_uri": "https://localhost:8080/",
          "height": 35
        }
      },
      "outputs": [
        {
          "output_type": "execute_result",
          "data": {
            "text/plain": [
              "'Sunday,July 10 2022'"
            ],
            "application/vnd.google.colaboratory.intrinsic+json": {
              "type": "string"
            }
          },
          "metadata": {},
          "execution_count": 239
        }
      ],
      "source": [
        "previously.strftime(\"%A,%B %d %Y\")"
      ]
    },
    {
      "cell_type": "code",
      "execution_count": 240,
      "metadata": {
        "id": "kDL1PJNqo61Y",
        "outputId": "4c40eb16-10ce-4505-e55c-ae20d03c4387",
        "colab": {
          "base_uri": "https://localhost:8080/"
        }
      },
      "outputs": [
        {
          "output_type": "stream",
          "name": "stdout",
          "text": [
            "Dennis\n"
          ]
        }
      ],
      "source": [
        "class Person:\n",
        "    def __init__(self,fname,sname,email,address,mob_no):\n",
        "        self.fname = fname\n",
        "        self.sname = sname\n",
        "        self.email = email\n",
        "        self.address = address\n",
        "        self.mob_no = mob_no\n",
        "        def details(self):\n",
        "            return fname,sname,email,address,mob_no\n",
        "employee = Person(\"Dennis\",\"Tolle\",\"email@yahoo.com\",\"20895-00100\",\"0718830879\")\n",
        "print(employee.fname)"
      ]
    },
    {
      "cell_type": "code",
      "execution_count": 241,
      "metadata": {
        "id": "ucfz_EG-o61Y",
        "outputId": "fe7b1e7d-8cc9-4065-f144-584e972c045f",
        "colab": {
          "base_uri": "https://localhost:8080/"
        }
      },
      "outputs": [
        {
          "output_type": "stream",
          "name": "stdout",
          "text": [
            "Gujarat - Gandhinagar\n",
            "Maharashtra - Mumbai\n",
            "Rajasthan - Jaipur\n",
            "Bihar - Patna\n"
          ]
        }
      ],
      "source": [
        "statesAndCapitals = {\n",
        "    'Gujarat': 'Gandhinagar',\n",
        "    'Maharashtra': 'Mumbai',\n",
        "    'Rajasthan': 'Jaipur',\n",
        "    'Bihar': 'Patna'\n",
        "}\n",
        "# for sta in statesAndCapitals:\n",
        "#     print(sta)\n",
        "for state,capital in statesAndCapitals.items():\n",
        "    print(state, \"-\" ,capital)\n",
        "# values = statesAndCapitals.values()\n",
        "# keys = statesAndCapitals.keys()\n",
        "# print(keys,values)"
      ]
    },
    {
      "cell_type": "markdown",
      "metadata": {
        "id": "l9ZqoCKhOPkE"
      },
      "source": [
        "### List\n",
        "\n",
        "List is a sequence of items. It is enclosed in square brackets `[]`."
      ]
    },
    {
      "cell_type": "code",
      "execution_count": 242,
      "metadata": {
        "id": "to4WkTZjOtqG"
      },
      "outputs": [],
      "source": [
        "a = [1, 2, 3, 4, 5]"
      ]
    },
    {
      "cell_type": "code",
      "execution_count": 243,
      "metadata": {
        "id": "L53rVsjMO5he",
        "outputId": "7407d7d2-0c81-4378-c4c6-7638bcac4e83",
        "colab": {
          "base_uri": "https://localhost:8080/"
        }
      },
      "outputs": [
        {
          "output_type": "stream",
          "name": "stdout",
          "text": [
            "[1, 2, 3, 4, 5]\n"
          ]
        }
      ],
      "source": [
        "print(a)"
      ]
    },
    {
      "cell_type": "markdown",
      "metadata": {
        "id": "7PfEn8RAPVDl"
      },
      "source": [
        "Unlike string, you can freely modify a list."
      ]
    },
    {
      "cell_type": "code",
      "execution_count": 244,
      "metadata": {
        "id": "vNu3XpkrPZPB",
        "outputId": "39b34936-8e00-4f75-ef10-4b2ea276d08a",
        "colab": {
          "base_uri": "https://localhost:8080/"
        }
      },
      "outputs": [
        {
          "output_type": "stream",
          "name": "stdout",
          "text": [
            "[4, 2, 3, 4, 5, 29, -2, 23, 56, 78]\n"
          ]
        }
      ],
      "source": [
        "a[0] = 4\n",
        "a.append(-2)\n",
        "a.extend([23,56,78])\n",
        "a.insert(5,29)\n",
        "print(a)"
      ]
    },
    {
      "cell_type": "markdown",
      "metadata": {
        "id": "Fmw9wNRHPqGO"
      },
      "source": [
        "Some operations with list"
      ]
    },
    {
      "cell_type": "code",
      "execution_count": 245,
      "metadata": {
        "id": "E17kSC1NPh2_",
        "outputId": "34502645-27ed-409f-9057-3f00f363f38e",
        "colab": {
          "base_uri": "https://localhost:8080/"
        }
      },
      "outputs": [
        {
          "output_type": "stream",
          "name": "stdout",
          "text": [
            "[2, 3]\n"
          ]
        }
      ],
      "source": [
        "print(a[1:3])"
      ]
    },
    {
      "cell_type": "code",
      "execution_count": 246,
      "metadata": {
        "id": "boPHn_fHPtnT",
        "outputId": "4dc616e9-fbae-496a-d715-d70da5019d5d",
        "colab": {
          "base_uri": "https://localhost:8080/"
        }
      },
      "outputs": [
        {
          "output_type": "stream",
          "name": "stdout",
          "text": [
            "[-2, 2, 3, 4, 4, 5, 23, 29, 56, 78]\n"
          ]
        }
      ],
      "source": [
        "a.sort()\n",
        "print(a)"
      ]
    },
    {
      "cell_type": "code",
      "execution_count": 247,
      "metadata": {
        "id": "EsQX1bafPw2T",
        "outputId": "b70a98d0-27ab-42f4-9d78-0d8ad9c2b709",
        "colab": {
          "base_uri": "https://localhost:8080/"
        }
      },
      "outputs": [
        {
          "output_type": "stream",
          "name": "stdout",
          "text": [
            "10\n"
          ]
        }
      ],
      "source": [
        "print(len(a))"
      ]
    },
    {
      "cell_type": "code",
      "execution_count": 248,
      "metadata": {
        "id": "5amXD2tXPzLt",
        "outputId": "f0d719b4-ab8d-43e1-ecd2-e80e18b8925a",
        "colab": {
          "base_uri": "https://localhost:8080/"
        }
      },
      "outputs": [
        {
          "output_type": "stream",
          "name": "stdout",
          "text": [
            "[-2, 2, 3, 4, 4, 5, 23, 29, 78]\n"
          ]
        }
      ],
      "source": [
        "a.pop(-2)\n",
        "print(a)"
      ]
    },
    {
      "cell_type": "code",
      "execution_count": 249,
      "metadata": {
        "id": "jd9XoftkP3IZ",
        "outputId": "0607371a-4c7e-4993-e386-53d71f74de11",
        "colab": {
          "base_uri": "https://localhost:8080/"
        }
      },
      "outputs": [
        {
          "output_type": "stream",
          "name": "stdout",
          "text": [
            "[-2, 2, 3, 4, 5, 23, 29, 78]\n"
          ]
        }
      ],
      "source": [
        "a.remove(4)\n",
        "print(a)"
      ]
    },
    {
      "cell_type": "markdown",
      "metadata": {
        "id": "3QkIATBdP7Ql"
      },
      "source": [
        "You can use list comprehension to generate a list."
      ]
    },
    {
      "cell_type": "code",
      "execution_count": 250,
      "metadata": {
        "id": "YrASHLy2P-m1",
        "outputId": "73d4effd-ebd9-40eb-99d0-d6ab1713facd",
        "colab": {
          "base_uri": "https://localhost:8080/"
        }
      },
      "outputs": [
        {
          "output_type": "stream",
          "name": "stdout",
          "text": [
            "[3, 9, 15] [0, 10, 20, 30, 40, 50, 60, 70, 80, 90]\n"
          ]
        }
      ],
      "source": [
        "b = [i*3 for i in range(6) if i%2==1]\n",
        "c = [x*5 for x in range(0,20,2)] \n",
        "print(b,c)"
      ]
    },
    {
      "cell_type": "code",
      "execution_count": 251,
      "metadata": {
        "id": "3rDszHaAo61c"
      },
      "outputs": [],
      "source": [
        "def is_triangle(a,b,c):\n",
        "    if (a + b <= c) or (a + c <= b) or (b + c <= a):\n",
        "        return False\n",
        "    else :\n",
        "        return True"
      ]
    },
    {
      "cell_type": "code",
      "execution_count": 252,
      "metadata": {
        "id": "5w2dVglio61c",
        "outputId": "0fd5f0fa-72f2-4247-e184-1fdf79c51f25",
        "colab": {
          "base_uri": "https://localhost:8080/"
        }
      },
      "outputs": [
        {
          "output_type": "stream",
          "name": "stdout",
          "text": [
            "ayneK\n"
          ]
        }
      ],
      "source": [
        "def reverse(s):\n",
        "    return s[::-1]\n",
        "  \n",
        "s = \"Kenya\"\n",
        "print(reverse(s))\n"
      ]
    },
    {
      "cell_type": "code",
      "execution_count": 253,
      "metadata": {
        "id": "8L9Rh9-So61c",
        "outputId": "97bc24bc-5bb8-4aa8-ab50-13f62cc39d6b",
        "colab": {
          "base_uri": "https://localhost:8080/"
        }
      },
      "outputs": [
        {
          "output_type": "execute_result",
          "data": {
            "text/plain": [
              "{10, 20, 60, 70}"
            ]
          },
          "metadata": {},
          "execution_count": 253
        }
      ],
      "source": [
        "set1 = {10, 20, 30, 40, 50}\n",
        "set2 = {30, 40, 50, 60, 70}\n",
        "def set_difference(a,b):\n",
        "    return set1.symmetric_difference(set2)\n",
        "set_difference(set1,set2)"
      ]
    },
    {
      "cell_type": "code",
      "execution_count": 254,
      "metadata": {
        "id": "d5PHkzato61c",
        "outputId": "99b99ef9-ef19-42d1-eca4-da07279971dd",
        "colab": {
          "base_uri": "https://localhost:8080/"
        }
      },
      "outputs": [
        {
          "output_type": "execute_result",
          "data": {
            "text/plain": [
              "[20, 30, 40, 50, 0]"
            ]
          },
          "metadata": {},
          "execution_count": 254
        }
      ],
      "source": [
        "def remove_from_list(input_list, value):\n",
        "    new = [i for i in input_list if i != value]\n",
        "    return new\n",
        "\n",
        "a = [10, 20, 10, 30, 40, 50, 10, 0]\n",
        "remove_from_list(a, 10)"
      ]
    },
    {
      "cell_type": "code",
      "execution_count": 255,
      "metadata": {
        "id": "9UfYSuG-o61c",
        "outputId": "741fcab2-96ec-468c-d5f2-bd0d061af9c0",
        "colab": {
          "base_uri": "https://localhost:8080/"
        }
      },
      "outputs": [
        {
          "output_type": "execute_result",
          "data": {
            "text/plain": [
              "False"
            ]
          },
          "metadata": {},
          "execution_count": 255
        }
      ],
      "source": [
        "is_triangle(1,2,3)"
      ]
    },
    {
      "cell_type": "code",
      "execution_count": 256,
      "metadata": {
        "id": "4iaLuIqJo61c",
        "outputId": "d9f12964-21f5-4ab5-cedb-1f2bbd7b83da",
        "colab": {
          "base_uri": "https://localhost:8080/"
        }
      },
      "outputs": [
        {
          "output_type": "stream",
          "name": "stdout",
          "text": [
            "1\n",
            "3\n",
            "5\n",
            "7\n",
            "9\n"
          ]
        }
      ],
      "source": [
        "for i in range(1,10):\n",
        "    if i%2==1:\n",
        "        print(i)"
      ]
    },
    {
      "cell_type": "markdown",
      "metadata": {
        "id": "FZpoCUlEQKWV"
      },
      "source": [
        "### Tuple\n",
        "\n",
        "Tuple is similar to a list but you cannot modify its value (similar to string). It can be optionally enclosed with parenthesis `()`."
      ]
    },
    {
      "cell_type": "code",
      "execution_count": 257,
      "metadata": {
        "id": "Aep6ilXbo61d",
        "colab": {
          "base_uri": "https://localhost:8080/"
        },
        "outputId": "8bd3d95e-a95d-4c67-8b76-5210dd324cbc"
      },
      "outputs": [
        {
          "output_type": "stream",
          "name": "stdout",
          "text": [
            "()\n",
            "a\n",
            "('a', 'b', 'c')\n",
            "('a',)\n"
          ]
        }
      ],
      "source": [
        "empty_tup = ()\n",
        "txt1 = (\"a\")\n",
        "txt2 = (\"a\",\"b\",\"c\")\n",
        "txt3 = (\"a\",)\n",
        "print(empty_tup)\n",
        "print(txt1)\n",
        "print(txt2)\n",
        "print(txt3)"
      ]
    },
    {
      "cell_type": "code",
      "execution_count": 258,
      "metadata": {
        "id": "vjwG204JQXSP",
        "colab": {
          "base_uri": "https://localhost:8080/"
        },
        "outputId": "3f03878a-a2de-47f8-977e-585f6e32a64f"
      },
      "outputs": [
        {
          "output_type": "stream",
          "name": "stdout",
          "text": [
            "(1, 2, 3)\n",
            "(1, 2, 3)\n"
          ]
        }
      ],
      "source": [
        "x = (1, 2, 3)\n",
        "print(x)\n",
        "x = 1, 2, 3\n",
        "print(x)"
      ]
    },
    {
      "cell_type": "code",
      "source": [
        "txt1 = 1,\n",
        "txt2 = 1,2\n",
        "txt3 = 1,2,3\n",
        "print(txt1)\n",
        "print(txt2)\n",
        "print(txt3)\n"
      ],
      "metadata": {
        "colab": {
          "base_uri": "https://localhost:8080/"
        },
        "id": "7LsZJundP1TI",
        "outputId": "bcdfbd96-cb78-40fd-bfe1-237bfed48e92"
      },
      "execution_count": 259,
      "outputs": [
        {
          "output_type": "stream",
          "name": "stdout",
          "text": [
            "(1,)\n",
            "(1, 2)\n",
            "(1, 2, 3)\n"
          ]
        }
      ]
    },
    {
      "cell_type": "markdown",
      "metadata": {
        "id": "QkIgNHcaQdPL"
      },
      "source": [
        "Trying to edit a tuple will generate an error."
      ]
    },
    {
      "cell_type": "code",
      "source": [
        "survey = (\"Dennis\",23,\"Kitengela\",\"18-10-2022\")\n",
        "date = survey[3]\n",
        "name = survey[0]\n",
        "age = survey[1]\n",
        "location = survey[2]\n",
        "print(name,age,location,date)"
      ],
      "metadata": {
        "colab": {
          "base_uri": "https://localhost:8080/"
        },
        "id": "CxYSC3eOQqBJ",
        "outputId": "0dad0d04-7bc6-4733-8be5-875a5980bca9"
      },
      "execution_count": 260,
      "outputs": [
        {
          "output_type": "stream",
          "name": "stdout",
          "text": [
            "Dennis 23 Kitengela 18-10-2022\n"
          ]
        }
      ]
    },
    {
      "cell_type": "code",
      "source": [
        "survey = (\"Dennis\",23,\"Kitengela\",\"18-10-2022\")\n",
        "name,age,location,date, = survey\n",
        "print(name,age,location,date)"
      ],
      "metadata": {
        "colab": {
          "base_uri": "https://localhost:8080/"
        },
        "id": "lbS5YjPATuq7",
        "outputId": "b2031444-5a40-44dc-87b7-86cb39be8470"
      },
      "execution_count": 261,
      "outputs": [
        {
          "output_type": "stream",
          "name": "stdout",
          "text": [
            "Dennis 23 Kitengela 18-10-2022\n"
          ]
        }
      ]
    },
    {
      "cell_type": "code",
      "execution_count": 262,
      "metadata": {
        "id": "6J5wVbX9QgO9",
        "colab": {
          "base_uri": "https://localhost:8080/"
        },
        "outputId": "229b989a-e53d-4683-817e-f4ec4cd51b48"
      },
      "outputs": [
        {
          "output_type": "stream",
          "name": "stdout",
          "text": [
            "[1, 6, 3, 7, 9]\n"
          ]
        }
      ],
      "source": [
        "x = [1,5,3,7,9]\n",
        "x[1] = 6\n",
        "print(x)"
      ]
    },
    {
      "cell_type": "markdown",
      "metadata": {
        "id": "8DnrlqJ9QkSf"
      },
      "source": [
        "Anything that works with list also works with tuple, as long as it does not modify the content of tuple."
      ]
    },
    {
      "cell_type": "code",
      "execution_count": 263,
      "metadata": {
        "id": "E5EwOpbHRoZw",
        "colab": {
          "base_uri": "https://localhost:8080/"
        },
        "outputId": "63180471-24fe-4631-f6e4-eef244776a17"
      },
      "outputs": [
        {
          "output_type": "stream",
          "name": "stdout",
          "text": [
            "5\n"
          ]
        }
      ],
      "source": [
        "print(len(x))"
      ]
    },
    {
      "cell_type": "markdown",
      "metadata": {
        "id": "aABk8NCxWIMQ"
      },
      "source": [
        "You can assign multiple variables using a tuple. This is called tuple unpacking. Remember that the number of variables must be the same as the number of values in the tuple."
      ]
    },
    {
      "cell_type": "code",
      "execution_count": 264,
      "metadata": {
        "id": "aZ6HIYNyWVd1",
        "colab": {
          "base_uri": "https://localhost:8080/"
        },
        "outputId": "18b4cfba-3956-4a5c-bc4a-8684938e2323"
      },
      "outputs": [
        {
          "output_type": "stream",
          "name": "stdout",
          "text": [
            "1 6 3 7 9\n"
          ]
        }
      ],
      "source": [
        "x1, x2, x3, x4, x5 = x\n",
        "print(x1, x2, x3,x4,x5)"
      ]
    },
    {
      "cell_type": "markdown",
      "metadata": {
        "id": "5oIPRG51Rz6x"
      },
      "source": [
        "### Set\n",
        "\n",
        "Set is a special kind of list where all elements are unique and unordered. It is enclosed with curly brackets `{}`."
      ]
    },
    {
      "cell_type": "code",
      "execution_count": 265,
      "metadata": {
        "id": "82rChB57STqN",
        "colab": {
          "base_uri": "https://localhost:8080/"
        },
        "outputId": "4bed98bb-4e6d-4fcb-8864-d8c58209c8b6"
      },
      "outputs": [
        {
          "output_type": "stream",
          "name": "stdout",
          "text": [
            "{0, 1, 2}\n"
          ]
        }
      ],
      "source": [
        "c = {0, 1, 2, 1, 2, 0, 2}\n",
        "print(c)"
      ]
    },
    {
      "cell_type": "code",
      "execution_count": 266,
      "metadata": {
        "id": "NRkEDVqQo61e",
        "outputId": "fde193d0-fd5c-4c69-ae6c-b3f629fd9754",
        "colab": {
          "base_uri": "https://localhost:8080/"
        }
      },
      "outputs": [
        {
          "output_type": "stream",
          "name": "stdout",
          "text": [
            "{1, 2}\n",
            "{1, 2, 3, 4, 5, 6}\n",
            "{1, 2}\n",
            "{3, 4, 5, 6}\n"
          ]
        }
      ],
      "source": [
        "set1 = {1,2,3,4,5,6}\n",
        "set2 = {3,4,5,6}\n",
        "set3 = set1 - set2 #difference set1.difference(set2)\n",
        "set4 = set1 | set2 #union set1.union(set2)\n",
        "set5 = set1 ^ set2 #symet\n",
        "set6 = set1 & set2 #intersection set1.intersection(set2)\n",
        "print(set3)\n",
        "print(set4)\n",
        "print(set5)\n",
        "print(set6)\n"
      ]
    },
    {
      "cell_type": "markdown",
      "metadata": {
        "id": "OWblHIHMSk19"
      },
      "source": [
        "Since set is unordered, trying to access it using index will return an error."
      ]
    },
    {
      "cell_type": "code",
      "execution_count": 267,
      "metadata": {
        "id": "QTtUpEYuSiGa",
        "colab": {
          "base_uri": "https://localhost:8080/"
        },
        "outputId": "64557787-bb6a-4288-cd54-6cbdb817fd98"
      },
      "outputs": [
        {
          "output_type": "stream",
          "name": "stdout",
          "text": [
            "dennis\n"
          ]
        }
      ],
      "source": [
        "c= (\"dennis\",23,1989)\n",
        "print(c[0])"
      ]
    },
    {
      "cell_type": "markdown",
      "metadata": {
        "id": "mzk497gHSsW3"
      },
      "source": [
        "Some operations with set:"
      ]
    },
    {
      "cell_type": "code",
      "execution_count": 268,
      "metadata": {
        "id": "h0zEPrVCStz4",
        "colab": {
          "base_uri": "https://localhost:8080/"
        },
        "outputId": "ef0a24d1-f670-44bd-b0a2-08c4b05223fd"
      },
      "outputs": [
        {
          "output_type": "stream",
          "name": "stdout",
          "text": [
            "False\n"
          ]
        }
      ],
      "source": [
        "print(3 in c)"
      ]
    },
    {
      "cell_type": "code",
      "execution_count": 269,
      "metadata": {
        "id": "m3D2aIrkSwe_",
        "colab": {
          "base_uri": "https://localhost:8080/"
        },
        "outputId": "ed71ddb0-9814-4224-9531-bbea9e641d19"
      },
      "outputs": [
        {
          "output_type": "stream",
          "name": "stdout",
          "text": [
            "Intersection of a and b {1, 2}\n",
            "Union of a and b {0, 1, 2, 3}\n",
            "Difference of a to b {0}\n"
          ]
        }
      ],
      "source": [
        "a = {0, 1, 2}\n",
        "b = {1, 2, 3}\n",
        "\n",
        "print(\"Intersection of a and b\", a & b)\n",
        "print(\"Union of a and b\", a | b)\n",
        "print(\"Difference of a to b\", a - b)"
      ]
    },
    {
      "cell_type": "markdown",
      "metadata": {
        "id": "IyMlK-ISTR8-"
      },
      "source": [
        "### Dictionary\n",
        "\n",
        "Dictionary is used to map a key to a value. It is also enclosed with curly brackets but with a colon between key and value."
      ]
    },
    {
      "cell_type": "code",
      "execution_count": 270,
      "metadata": {
        "id": "8FZ4vhDZTcOP",
        "colab": {
          "base_uri": "https://localhost:8080/"
        },
        "outputId": "a0638a57-97a9-45b7-8e3c-d29b70e50062"
      },
      "outputs": [
        {
          "output_type": "stream",
          "name": "stdout",
          "text": [
            "{'japan': 'tokyo', 'vietnam': 'hanoi', 'kenya': 'nairobi'}\n"
          ]
        }
      ],
      "source": [
        "d = {'japan': 'tokyo', 'vietnam': 'hanoi', 'kenya': 'nairobi'}\n",
        "print(d)"
      ]
    },
    {
      "cell_type": "code",
      "execution_count": 271,
      "metadata": {
        "id": "F74EHjbWo61f",
        "outputId": "113b4482-fbd0-4b06-f91f-0a49d739eac0",
        "colab": {
          "base_uri": "https://localhost:8080/"
        }
      },
      "outputs": [
        {
          "output_type": "stream",
          "name": "stdout",
          "text": [
            "23\n",
            "34\n",
            "55\n",
            "11\n",
            "66\n",
            "99\n"
          ]
        }
      ],
      "source": [
        "data = {'japan':23,\n",
        "    'tokyo':34,\n",
        "    'vietnam':55,\n",
        "    'hanoi':11,\n",
        "    'kenya':66,\n",
        "    'nairobi':99}\n",
        "\n",
        "for valu in data.values():\n",
        "    print(valu)"
      ]
    },
    {
      "cell_type": "code",
      "execution_count": 272,
      "metadata": {
        "id": "SOEqpFKqo61f",
        "outputId": "b6f8095e-7fbe-4af6-bc7c-2bbe4828efa9",
        "colab": {
          "base_uri": "https://localhost:8080/"
        }
      },
      "outputs": [
        {
          "output_type": "stream",
          "name": "stdout",
          "text": [
            "japan- 23\n",
            "tokyo- 34\n",
            "vietnam- 55\n",
            "hanoi- 11\n",
            "kenya- 66\n",
            "nairobi- 99\n"
          ]
        }
      ],
      "source": [
        "data = {'japan':23,\n",
        "    'tokyo':34,\n",
        "    'vietnam':55,\n",
        "    'hanoi':11,\n",
        "    'kenya':66,\n",
        "    'nairobi':99}\n",
        "for country,city in data.items():\n",
        "    print(country + \"-\",city)"
      ]
    },
    {
      "cell_type": "markdown",
      "metadata": {
        "id": "v6cF4UJnToqF"
      },
      "source": [
        "Access the dictionary with key"
      ]
    },
    {
      "cell_type": "code",
      "execution_count": 273,
      "metadata": {
        "id": "s_NyFH_9TrWW",
        "colab": {
          "base_uri": "https://localhost:8080/"
        },
        "outputId": "c01fc818-c57d-4505-ad1c-1c0134d01b75"
      },
      "outputs": [
        {
          "output_type": "stream",
          "name": "stdout",
          "text": [
            "tokyo\n"
          ]
        }
      ],
      "source": [
        "\n",
        "print(d[\"japan\"])"
      ]
    },
    {
      "cell_type": "markdown",
      "metadata": {
        "id": "MZznwZSmTu1t"
      },
      "source": [
        "If the key does not exist in the dictionary, Python will return an error."
      ]
    },
    {
      "cell_type": "code",
      "execution_count": 277,
      "metadata": {
        "id": "yriH_n6hTzAT",
        "colab": {
          "base_uri": "https://localhost:8080/",
          "height": 165
        },
        "outputId": "1edf3b8b-2d2b-41f3-e141-46cfa78ebf70"
      },
      "outputs": [
        {
          "output_type": "error",
          "ename": "KeyError",
          "evalue": "ignored",
          "traceback": [
            "\u001b[0;31m---------------------------------------------------------------------------\u001b[0m",
            "\u001b[0;31mKeyError\u001b[0m                                  Traceback (most recent call last)",
            "\u001b[0;32m<ipython-input-277-772625cdc0e8>\u001b[0m in \u001b[0;36m<module>\u001b[0;34m\u001b[0m\n\u001b[0;32m----> 1\u001b[0;31m \u001b[0mprint\u001b[0m\u001b[0;34m(\u001b[0m\u001b[0md\u001b[0m\u001b[0;34m[\u001b[0m\u001b[0;34m\"france\"\u001b[0m\u001b[0;34m]\u001b[0m\u001b[0;34m)\u001b[0m\u001b[0;34m\u001b[0m\u001b[0;34m\u001b[0m\u001b[0m\n\u001b[0m",
            "\u001b[0;31mKeyError\u001b[0m: 'france'"
          ]
        }
      ],
      "source": [
        "print(d[\"france\"])"
      ]
    },
    {
      "cell_type": "markdown",
      "metadata": {
        "id": "_-vEVfVLT3md"
      },
      "source": [
        "Add an entry in dictionary with square brackets."
      ]
    },
    {
      "cell_type": "code",
      "execution_count": 278,
      "metadata": {
        "id": "MCwsE6a9UAmg",
        "colab": {
          "base_uri": "https://localhost:8080/"
        },
        "outputId": "db610abc-b3e9-48c4-c298-0d13b1046e54"
      },
      "outputs": [
        {
          "output_type": "stream",
          "name": "stdout",
          "text": [
            "{'japan': 'tokyo', 'vietnam': 'hanoi', 'kenya': 'nairobi', 'france': 'tokyo'}\n"
          ]
        }
      ],
      "source": [
        "d[\"france\"] = \"tokyo\"\n",
        "print(d)"
      ]
    },
    {
      "cell_type": "markdown",
      "metadata": {
        "id": "QBalunujCon6"
      },
      "source": [
        "## Variable assignment\n",
        "\n",
        "In Python, data value is assigned to a variable with `=`. The following code cell with assign `1` to `x`."
      ]
    },
    {
      "cell_type": "code",
      "execution_count": 279,
      "metadata": {
        "id": "mDBi1kqRCBsi",
        "colab": {
          "base_uri": "https://localhost:8080/"
        },
        "outputId": "e80f4383-673b-4ea7-e176-22a3cff83e6a"
      },
      "outputs": [
        {
          "output_type": "stream",
          "name": "stdout",
          "text": [
            "1\n"
          ]
        }
      ],
      "source": [
        "x = 1\n",
        "print(x)"
      ]
    },
    {
      "cell_type": "markdown",
      "metadata": {
        "id": "CxGz7LI-C4V6"
      },
      "source": [
        "You can reassign the variable to something else, such as a string or a float number."
      ]
    },
    {
      "cell_type": "code",
      "execution_count": 280,
      "metadata": {
        "id": "yjwsmobRC3zc",
        "colab": {
          "base_uri": "https://localhost:8080/"
        },
        "outputId": "c32c67c6-2d5b-4f0e-9418-3e6ce56eab08"
      },
      "outputs": [
        {
          "output_type": "stream",
          "name": "stdout",
          "text": [
            "5.0\n",
            "Sun*\n"
          ]
        }
      ],
      "source": [
        "x = 5.0\n",
        "print(x)\n",
        "x = \"Sun*\"\n",
        "print(x)"
      ]
    },
    {
      "cell_type": "markdown",
      "metadata": {
        "id": "9xnSvjoSDPeE"
      },
      "source": [
        "You can also use a variable to assign value for another variable (including itself)."
      ]
    },
    {
      "cell_type": "code",
      "execution_count": 281,
      "metadata": {
        "id": "8ysPBY3vDKwr",
        "colab": {
          "base_uri": "https://localhost:8080/"
        },
        "outputId": "fc0ca4cd-b3ac-4cbd-b8ed-fd4d411658b0"
      },
      "outputs": [
        {
          "output_type": "stream",
          "name": "stdout",
          "text": [
            "6\n"
          ]
        }
      ],
      "source": [
        "x = 5\n",
        "y = x + 1\n",
        "print(y)"
      ]
    },
    {
      "cell_type": "code",
      "execution_count": 282,
      "metadata": {
        "id": "b-ldX4RrDXXd",
        "colab": {
          "base_uri": "https://localhost:8080/"
        },
        "outputId": "0931e32d-25bc-4a91-ce64-a5ecdf917fba"
      },
      "outputs": [
        {
          "output_type": "stream",
          "name": "stdout",
          "text": [
            "6\n"
          ]
        }
      ],
      "source": [
        "x = x + 1\n",
        "print(x)"
      ]
    },
    {
      "cell_type": "markdown",
      "metadata": {
        "id": "JFgUJQuaDhTA"
      },
      "source": [
        "## Conditionals and Loops"
      ]
    },
    {
      "cell_type": "markdown",
      "metadata": {
        "id": "O2an9QopDmag"
      },
      "source": [
        "### Conditionals\n",
        "\n",
        "In Python, we use `if` statement to declare conditional statement. A boolean expression, which returns `True` or `False`, is used to determine if a code block will be run.\n",
        "\n",
        "Try running the following code cell, then changing the value of `x` to some number and run the code cell again.\n",
        "\n",
        "Note: In Python, line indention indicates a code block. Therefore, remember to indent the line correctly. If you do not indent a code block evenly, Python will throw an error."
      ]
    },
    {
      "cell_type": "code",
      "execution_count": 283,
      "metadata": {
        "id": "O9wiOuNhDZ-B",
        "colab": {
          "base_uri": "https://localhost:8080/"
        },
        "outputId": "00a63e15-a13a-4dfe-c0ef-de9d47b7cc03"
      },
      "outputs": [
        {
          "output_type": "stream",
          "name": "stdout",
          "text": [
            "Eligible for driving\n"
          ]
        }
      ],
      "source": [
        "age = 20\n",
        "if age >= 18:\n",
        "    print('Eligible for driving')\n",
        "else:\n",
        "    print('Not eligible for driving')"
      ]
    },
    {
      "cell_type": "markdown",
      "metadata": {
        "id": "M9LDRTvZFmUN"
      },
      "source": [
        "You can use as many `elif` as you want to create multiple branches for your `if` statement."
      ]
    },
    {
      "cell_type": "code",
      "execution_count": 284,
      "metadata": {
        "id": "N6jc7g62E7PM",
        "colab": {
          "base_uri": "https://localhost:8080/"
        },
        "outputId": "b82a437b-20d0-4cb9-a984-a0c3d9cb0578"
      },
      "outputs": [
        {
          "output_type": "stream",
          "name": "stdout",
          "text": [
            "B+\n"
          ]
        }
      ],
      "source": [
        "grade = 80\n",
        "\n",
        "if grade >= 90:\n",
        "    print(\"A+\")\n",
        "elif grade >= 85:\n",
        "    print(\"A\")\n",
        "elif grade >= 80:\n",
        "    print(\"B+\")\n",
        "else:\n",
        "    print(\"B\")"
      ]
    },
    {
      "cell_type": "markdown",
      "metadata": {
        "id": "gEAqZgb8EhRe"
      },
      "source": [
        "Boolean expressions can be combined with `and`, `or` and `not`."
      ]
    },
    {
      "cell_type": "code",
      "execution_count": 285,
      "metadata": {
        "id": "mLkalEyaEAIi"
      },
      "outputs": [],
      "source": [
        "status = 'drunk'\n",
        "if age >= 18 and status != 'drunk':\n",
        "    print('Eligible for driving')"
      ]
    },
    {
      "cell_type": "markdown",
      "metadata": {
        "id": "B_aTWmyvGDES"
      },
      "source": [
        "### Loops\n",
        "\n",
        "Loop is a way to repeat code. There are two types of loops: `while` and `for` loops."
      ]
    },
    {
      "cell_type": "markdown",
      "metadata": {
        "id": "hDfH3tQlGWK1"
      },
      "source": [
        "A `while` loop will run as long as the condition boolean expression return `True`.\n",
        "\n",
        "Note: a `while` loop can run indefinitely. Try removing the `age += 1` line and run the code cell. To stop it from running, click the Stop button or Runtime -> Interrupt Execution."
      ]
    },
    {
      "cell_type": "code",
      "execution_count": 286,
      "metadata": {
        "id": "QOvE-f-OF1bd",
        "colab": {
          "base_uri": "https://localhost:8080/"
        },
        "outputId": "4dc74954-69c6-4542-b526-d4d8cb8ae9b6"
      },
      "outputs": [
        {
          "output_type": "stream",
          "name": "stdout",
          "text": [
            "0\n",
            "1\n",
            "2\n",
            "3\n",
            "4\n",
            "5\n",
            "6\n",
            "7\n",
            "8\n"
          ]
        }
      ],
      "source": [
        "age = 0\n",
        "while age <= 8:\n",
        "    print(age)\n",
        "    age += 1"
      ]
    },
    {
      "cell_type": "code",
      "execution_count": 287,
      "metadata": {
        "id": "Qgss0hzeo61i",
        "outputId": "6dfb6106-9dc1-4726-c24c-f64ea9f6eee6",
        "colab": {
          "base_uri": "https://localhost:8080/"
        }
      },
      "outputs": [
        {
          "output_type": "stream",
          "name": "stdout",
          "text": [
            "input your password: 23\n",
            "password too short\n"
          ]
        }
      ],
      "source": [
        "name = input(\"input your password: \")\n",
        "\n",
        "if len(name) < 10:\n",
        "    print(\"password too short\")\n",
        "else:\n",
        "    print(\"strong password\")"
      ]
    },
    {
      "cell_type": "code",
      "execution_count": 288,
      "metadata": {
        "id": "txtBKXFso61j",
        "outputId": "10e23d2c-003b-4d03-cd64-aaddc4b6eef6",
        "colab": {
          "base_uri": "https://localhost:8080/"
        }
      },
      "outputs": [
        {
          "output_type": "stream",
          "name": "stdout",
          "text": [
            "Kindly input an number : 23\n",
            "odd number\n"
          ]
        }
      ],
      "source": [
        "odd =int (input(\"Kindly input an number : \"))\n",
        "if odd % 2 == 0:\n",
        "    print(\"even number\")\n",
        "else:\n",
        "    print(\"odd number\")"
      ]
    },
    {
      "cell_type": "code",
      "execution_count": 301,
      "metadata": {
        "id": "4VUtk3OGo61j",
        "outputId": "a221c2df-8e27-4ebe-b493-82ce711cd75b",
        "colab": {
          "base_uri": "https://localhost:8080/"
        }
      },
      "outputs": [
        {
          "output_type": "stream",
          "name": "stdout",
          "text": [
            "input on side of a triangle: 12\n",
            "input on side of a triangle: 13\n",
            "input on side of a triangle: 17\n",
            "Scalene triangle\n"
          ]
        }
      ],
      "source": [
        "a = int(input(\"input on side of a triangle: \"))\n",
        "b = int(input(\"input on side of a triangle: \"))\n",
        "c = int(input(\"input on side of a triangle: \"))\n",
        "if a == b and b!=c:\n",
        "    print(\"its an isosless triangle\")\n",
        "elif a != b and b!=c:\n",
        "    print(\"Scalene triangle\")\n",
        "else:\n",
        "    print(\"Equilateral Triangle\")"
      ]
    },
    {
      "cell_type": "markdown",
      "metadata": {
        "id": "QdXNwBhdHAxf"
      },
      "source": [
        "A `for` loop will create a variable, assign a value to it and increment it until it reaches the stop value. "
      ]
    },
    {
      "cell_type": "code",
      "execution_count": 302,
      "metadata": {
        "id": "TV7aYPe8GjzF",
        "colab": {
          "base_uri": "https://localhost:8080/"
        },
        "outputId": "09c7af1c-1a1a-4ac4-d506-62abfadc3c80"
      },
      "outputs": [
        {
          "output_type": "stream",
          "name": "stdout",
          "text": [
            "0\n",
            "1\n",
            "2\n",
            "3\n",
            "4\n",
            "5\n",
            "6\n",
            "7\n",
            "8\n"
          ]
        }
      ],
      "source": [
        "for age in range(9):  # range(19) = [0, 1, 2, ..., 8]\n",
        "    print(age)"
      ]
    },
    {
      "cell_type": "code",
      "execution_count": 303,
      "metadata": {
        "id": "27e_62FsHhE-",
        "colab": {
          "base_uri": "https://localhost:8080/"
        },
        "outputId": "e61b2f37-6926-4a56-c305-76a74b19db79"
      },
      "outputs": [
        {
          "output_type": "stream",
          "name": "stdout",
          "text": [
            "0\n",
            "2\n",
            "4\n",
            "6\n",
            "8\n"
          ]
        }
      ],
      "source": [
        "for age in range(0, 9, 2):  # [0, 2, 4, 6, 8]\n",
        "    print(age)"
      ]
    },
    {
      "cell_type": "markdown",
      "metadata": {
        "id": "UofsTMwGHzff"
      },
      "source": [
        "In a loop, you can use `break` statement to exit a loop. `break` will exit only the most innerloop."
      ]
    },
    {
      "cell_type": "code",
      "execution_count": 304,
      "metadata": {
        "id": "tLpLTC8LHsB1",
        "colab": {
          "base_uri": "https://localhost:8080/"
        },
        "outputId": "2da11fd9-9740-46f3-cf74-809cb9dd003b"
      },
      "outputs": [
        {
          "output_type": "stream",
          "name": "stdout",
          "text": [
            "0\n",
            "1\n",
            "2\n",
            "3\n",
            "4\n",
            "5\n"
          ]
        }
      ],
      "source": [
        "for age in range(9):\n",
        "    if age == 6:\n",
        "        break\n",
        "\n",
        "    print(age)"
      ]
    },
    {
      "cell_type": "markdown",
      "metadata": {
        "id": "5cqEyUZaIKEA"
      },
      "source": [
        "You can use `for` loop to iterate through a list/tuple/set."
      ]
    },
    {
      "cell_type": "code",
      "execution_count": 305,
      "metadata": {
        "id": "eAqMZbXtH6eN",
        "colab": {
          "base_uri": "https://localhost:8080/"
        },
        "outputId": "8d1d3964-bc3d-4d10-c66d-344da0f96815"
      },
      "outputs": [
        {
          "output_type": "stream",
          "name": "stdout",
          "text": [
            "Python\n",
            "is\n",
            "cool\n"
          ]
        }
      ],
      "source": [
        "for value in [\"Python\", \"is\", \"cool\"]:\n",
        "    print(value)"
      ]
    },
    {
      "cell_type": "markdown",
      "metadata": {
        "id": "kdr8DKGeIs9B"
      },
      "source": [
        "## Functions\n",
        "\n",
        "To avoid repeating lines of code, you can encapsulate them in a function and use it later."
      ]
    },
    {
      "cell_type": "code",
      "execution_count": 306,
      "metadata": {
        "id": "6DYmrtGzIUyF",
        "colab": {
          "base_uri": "https://localhost:8080/"
        },
        "outputId": "711dc4e2-4d79-4151-a929-e9e736ba6725"
      },
      "outputs": [
        {
          "output_type": "stream",
          "name": "stdout",
          "text": [
            "3^3 =  27\n"
          ]
        }
      ],
      "source": [
        "def power(a, b):\n",
        "    # Calculate a^b\n",
        "    result = 1\n",
        "    for i in range(b):\n",
        "        result *= a\n",
        "    return result\n",
        "\n",
        "print(\"3^3 = \", power(3, 3))"
      ]
    },
    {
      "cell_type": "code",
      "execution_count": 307,
      "metadata": {
        "id": "ZI8pfZ8uo61l",
        "outputId": "3420821f-d3dc-44a1-e9fa-15235a623867",
        "colab": {
          "base_uri": "https://localhost:8080/"
        }
      },
      "outputs": [
        {
          "output_type": "execute_result",
          "data": {
            "text/plain": [
              "113.09733552923254"
            ]
          },
          "metadata": {},
          "execution_count": 307
        }
      ],
      "source": [
        "import math\n",
        "def volume_sphere(r):\n",
        "    metho = 4/3 * math.pi * r **3\n",
        "    return metho\n",
        "volume_sphere(3)"
      ]
    },
    {
      "cell_type": "code",
      "execution_count": 308,
      "metadata": {
        "id": "DsMc2h8ro61l",
        "outputId": "cd0a1a0b-e64d-47e5-decb-b69bda8a0e79",
        "colab": {
          "base_uri": "https://localhost:8080/"
        }
      },
      "outputs": [
        {
          "output_type": "execute_result",
          "data": {
            "text/plain": [
              "195.5"
            ]
          },
          "metadata": {},
          "execution_count": 308
        }
      ],
      "source": [
        "def triangle_area(b,h):\n",
        "    meth = 1.0/2.0 * b * h\n",
        "    return meth\n",
        "triangle_area(23,17)"
      ]
    },
    {
      "cell_type": "markdown",
      "metadata": {
        "id": "PjlAh47TJx6K"
      },
      "source": [
        "Default parameters: you can assign a default value to a parameter. If the function is called and no value is passed to this parameter, the default value will be assigned to it."
      ]
    },
    {
      "cell_type": "code",
      "execution_count": 309,
      "metadata": {
        "id": "mjB2MCWKJoBS",
        "outputId": "85d90831-cd01-4067-a36e-23b216b4b6fb",
        "colab": {
          "base_uri": "https://localhost:8080/"
        }
      },
      "outputs": [
        {
          "output_type": "stream",
          "name": "stdout",
          "text": [
            "Hello, my name is John\n"
          ]
        }
      ],
      "source": [
        "def say_hello(name=\"John\"):\n",
        "    print(\"Hello, my name is\", name)\n",
        "\n",
        "say_hello()"
      ]
    },
    {
      "cell_type": "code",
      "execution_count": 310,
      "metadata": {
        "id": "SjgpBfuUo61m",
        "outputId": "ab368a4f-df5d-48b8-a1ab-d43626b63de4",
        "colab": {
          "base_uri": "https://localhost:8080/"
        }
      },
      "outputs": [
        {
          "output_type": "execute_result",
          "data": {
            "text/plain": [
              "(16, 3)"
            ]
          },
          "metadata": {},
          "execution_count": 310
        }
      ],
      "source": [
        "def convert(inches = 0, feet = 0):\n",
        "    conv_inch = inches * 1\n",
        "    conv_feet = feet * 1\n",
        "    return conv_inch , conv_feet\n",
        "convert(inches=16,feet = 3)\n",
        "    "
      ]
    },
    {
      "cell_type": "markdown",
      "metadata": {
        "id": "ryea83RYKM1O"
      },
      "source": [
        "Named parameters: this will allow you to specify which argument will receive which value. It also allows you to mix the order of parameters when calling the function name."
      ]
    },
    {
      "cell_type": "code",
      "execution_count": 311,
      "metadata": {
        "id": "hsEpcgfcKKYP",
        "colab": {
          "base_uri": "https://localhost:8080/"
        },
        "outputId": "34c4662e-3d8b-4a3b-94b8-97c426ad0221"
      },
      "outputs": [
        {
          "output_type": "stream",
          "name": "stdout",
          "text": [
            "6^3 =  216\n"
          ]
        }
      ],
      "source": [
        "def power(a, b=1):\n",
        "    # Calculate a^b\n",
        "    result = 1\n",
        "    for i in range(b):\n",
        "        result *= a\n",
        "    return result\n",
        "\n",
        "print(\"6^3 = \", power(b=3, a=6))"
      ]
    },
    {
      "cell_type": "markdown",
      "metadata": {
        "id": "GGMZk5kwK3b5"
      },
      "source": [
        "## Importing\n",
        "\n",
        "In order to reuse a function/class from a different place, you will need to import it from another module. There are two ways to do it."
      ]
    },
    {
      "cell_type": "markdown",
      "metadata": {
        "id": "mRlYeO7tLDgh"
      },
      "source": [
        "The first one is to import the whole module. This will allow you to use all the functions and classes of that module."
      ]
    },
    {
      "cell_type": "code",
      "execution_count": 312,
      "metadata": {
        "id": "LmLX1e_zKv7Q",
        "colab": {
          "base_uri": "https://localhost:8080/"
        },
        "outputId": "8b7ac33b-8c6a-4574-df06-9002706dcd3f"
      },
      "outputs": [
        {
          "output_type": "stream",
          "name": "stdout",
          "text": [
            "2.449489742783178\n",
            "7\n"
          ]
        }
      ],
      "source": [
        "import math\n",
        "\n",
        "print(math.sqrt(6))\n",
        "print(math.ceil(6.3))"
      ]
    },
    {
      "cell_type": "markdown",
      "metadata": {
        "id": "EPOBG-YBLTT2"
      },
      "source": [
        "The second one is to use `from <module_name> import <function>` to import a specific function. This will allow you to use only that function."
      ]
    },
    {
      "cell_type": "code",
      "execution_count": 313,
      "metadata": {
        "id": "Q50qck8KLSTO",
        "colab": {
          "base_uri": "https://localhost:8080/"
        },
        "outputId": "6bab618c-eae8-493d-b09e-9a2639242047"
      },
      "outputs": [
        {
          "output_type": "stream",
          "name": "stdout",
          "text": [
            "['.config', 'sample_data']\n"
          ]
        }
      ],
      "source": [
        "from os import listdir\n",
        "\n",
        "print(listdir('.'))  # list all files in current working directory"
      ]
    },
    {
      "cell_type": "markdown",
      "metadata": {
        "id": "Xap8jrxdMJnt"
      },
      "source": [
        "This will return an error. The reason is that we only imported `listdir` from `os` module but not the whole `os` module."
      ]
    },
    {
      "cell_type": "code",
      "execution_count": 314,
      "metadata": {
        "id": "6-gW0oo1LodD",
        "colab": {
          "base_uri": "https://localhost:8080/",
          "height": 165
        },
        "outputId": "aae6239c-87e6-4e20-a413-c8579b81e8ea"
      },
      "outputs": [
        {
          "output_type": "error",
          "ename": "NameError",
          "evalue": "ignored",
          "traceback": [
            "\u001b[0;31m---------------------------------------------------------------------------\u001b[0m",
            "\u001b[0;31mNameError\u001b[0m                                 Traceback (most recent call last)",
            "\u001b[0;32m<ipython-input-314-efacdae2ab0b>\u001b[0m in \u001b[0;36m<module>\u001b[0;34m\u001b[0m\n\u001b[0;32m----> 1\u001b[0;31m \u001b[0mprint\u001b[0m\u001b[0;34m(\u001b[0m\u001b[0mos\u001b[0m\u001b[0;34m.\u001b[0m\u001b[0mgetcwd\u001b[0m\u001b[0;34m(\u001b[0m\u001b[0;34m)\u001b[0m\u001b[0;34m)\u001b[0m\u001b[0;34m\u001b[0m\u001b[0;34m\u001b[0m\u001b[0m\n\u001b[0m",
            "\u001b[0;31mNameError\u001b[0m: name 'os' is not defined"
          ]
        }
      ],
      "source": [
        "print(os.getcwd())"
      ]
    },
    {
      "cell_type": "markdown",
      "metadata": {
        "id": "IZ8k0gPYUWZ2"
      },
      "source": [
        "# Class\n",
        "\n",
        "Class is an important concept in Object Oriented Programming. It is used to define a blueprint for objects, including attributes and methods (or functions of object)."
      ]
    },
    {
      "cell_type": "code",
      "execution_count": 315,
      "metadata": {
        "id": "jNuTdhKoUYQW",
        "colab": {
          "base_uri": "https://localhost:8080/"
        },
        "outputId": "8dbbf0e8-5e83-459a-87ab-962e178863d1"
      },
      "outputs": [
        {
          "output_type": "stream",
          "name": "stdout",
          "text": [
            "John Doe\n",
            "John Doe\n",
            "2\n"
          ]
        }
      ],
      "source": [
        "class Person:\n",
        "    time_accessed = 0\n",
        "\n",
        "    def __init__(self, first, last):\n",
        "        self.firstname = first\n",
        "        self.lastname = last\n",
        "    \n",
        "    def get_time_accessed(self):\n",
        "        return self.time_accessed\n",
        "    \n",
        "    def describe(self):\n",
        "        self.time_accessed += 1\n",
        "        return self.firstname + \" \" + self.lastname\n",
        "\n",
        "a = Person(\"John\", \"Doe\")\n",
        "print(a.describe())\n",
        "print(a.describe())\n",
        "print(a.get_time_accessed())"
      ]
    },
    {
      "cell_type": "markdown",
      "metadata": {
        "id": "pD5fmqztVQZI"
      },
      "source": [
        "A class can also inherit another class as its base."
      ]
    },
    {
      "cell_type": "code",
      "execution_count": 319,
      "metadata": {
        "id": "cJHnkYAIVIGI",
        "colab": {
          "base_uri": "https://localhost:8080/"
        },
        "outputId": "d16f9cfd-bb4b-4b38-da95-2a4824558259"
      },
      "outputs": [
        {
          "output_type": "stream",
          "name": "stdout",
          "text": [
            "1500\n",
            "Jason Mack\n",
            "2\n"
          ]
        }
      ],
      "source": [
        "class Employee(Person):\n",
        "    def __init__(self, firstname, lastname, salary):\n",
        "        Person.__init__(self, firstname, lastname)\n",
        "        self.salary = salary\n",
        "        self.firstname = firstname\n",
        "    \n",
        "    def get_salary(self):\n",
        "        self.time_accessed += 1\n",
        "        return self.salary\n",
        "\n",
        "b = Employee(\"Jason\", \"Mack\", 1500)\n",
        "print(b.get_salary())\n",
        "print(b.describe())\n",
        "print(b.get_time_accessed())"
      ]
    },
    {
      "cell_type": "markdown",
      "metadata": {
        "id": "tSVVQLI3XJqW"
      },
      "source": [
        "# Resources\n",
        "\n",
        "The above only covers some of the basics in Python. For more tutorials, I suggest checking [this official tutorial](https://docs.python.org/3.10/tutorial/index.html) and [Python documentation](https://docs.python.org/3.10/)."
      ]
    }
  ],
  "metadata": {
    "colab": {
      "collapsed_sections": [],
      "provenance": [],
      "include_colab_link": true
    },
    "kernelspec": {
      "display_name": "Python 3 (ipykernel)",
      "language": "python",
      "name": "python3"
    },
    "language_info": {
      "codemirror_mode": {
        "name": "ipython",
        "version": 3
      },
      "file_extension": ".py",
      "mimetype": "text/x-python",
      "name": "python",
      "nbconvert_exporter": "python",
      "pygments_lexer": "ipython3",
      "version": "3.9.7"
    },
    "vscode": {
      "interpreter": {
        "hash": "a7a76e3493cd1b0fbd2ab0f836f3a03cc927105fb88a452c4356420be379e2b5"
      }
    }
  },
  "nbformat": 4,
  "nbformat_minor": 0
}