{
  "nbformat": 4,
  "nbformat_minor": 0,
  "metadata": {
    "colab": {
      "provenance": [],
      "toc_visible": true,
      "authorship_tag": "ABX9TyPxTVvMfLxO60yVARvKY6eu",
      "include_colab_link": true
    },
    "kernelspec": {
      "name": "python3",
      "display_name": "Python 3"
    },
    "language_info": {
      "name": "python"
    }
  },
  "cells": [
    {
      "cell_type": "markdown",
      "metadata": {
        "id": "view-in-github",
        "colab_type": "text"
      },
      "source": [
        "<a href=\"https://colab.research.google.com/github/10-menachi/basic-ml-course/blob/master/Lesson_01_Python_homework.ipynb\" target=\"_parent\"><img src=\"https://colab.research.google.com/assets/colab-badge.svg\" alt=\"Open In Colab\"/></a>"
      ]
    },
    {
      "cell_type": "code",
      "execution_count": null,
      "metadata": {
        "colab": {
          "base_uri": "https://localhost:8080/"
        },
        "id": "DKuLRTDzeBNC",
        "outputId": "24c003b2-5613-45ea-9a76-18891d437099"
      },
      "outputs": [
        {
          "output_type": "stream",
          "name": "stdout",
          "text": [
            "False\n",
            "False\n"
          ]
        }
      ],
      "source": [
        "#@title checks the validity of triangle coordinates\n",
        "def is_triangle(a, b, c):\n",
        "  return (a^2) + (b^2) == (c^2)\n",
        "\n",
        "print(is_triangle(1, 2, 3))\n",
        "print(is_triangle(2, 2, 3))"
      ]
    },
    {
      "cell_type": "code",
      "source": [
        "#@title prints odd numbers between 1 and 10\n",
        "for i in range(1, 11):\n",
        "  if i % 2 != 0:\n",
        "    print(i)"
      ],
      "metadata": {
        "colab": {
          "base_uri": "https://localhost:8080/"
        },
        "id": "oOPuPyW0hd2O",
        "outputId": "56674401-814b-40f2-bbd4-dca6c153be74"
      },
      "execution_count": null,
      "outputs": [
        {
          "output_type": "stream",
          "name": "stdout",
          "text": [
            "1\n",
            "3\n",
            "5\n",
            "7\n",
            "9\n"
          ]
        }
      ]
    },
    {
      "cell_type": "code",
      "source": [
        "#@title reverses a string\n",
        "def get_reverse(test):\n",
        "  return test[::-1]\n",
        "print(get_reverse(\"chris\"))"
      ],
      "metadata": {
        "colab": {
          "base_uri": "https://localhost:8080/"
        },
        "id": "nFoGtApaiKgZ",
        "outputId": "9f4a0b21-e355-4f3e-f670-540b61bc9009"
      },
      "execution_count": null,
      "outputs": [
        {
          "output_type": "stream",
          "name": "stdout",
          "text": [
            "sirhc\n"
          ]
        }
      ]
    },
    {
      "cell_type": "code",
      "source": [
        "#@title returns a set with elements that are in sets a and b but not both\n",
        "def remove_duplicates(a, b):\n",
        "  for item in a:\n",
        "    if item in b:\n",
        "      b.discard(item)\n",
        "    else:\n",
        "      b.add(item)\n",
        "  print(b)\n",
        "set1 = {10, 20, 30, 40, 50}\n",
        "set2 = {30, 40, 50, 60, 70}\n",
        "remove_duplicates(set1, set2)"
      ],
      "metadata": {
        "colab": {
          "base_uri": "https://localhost:8080/"
        },
        "id": "hHliPG1btJUK",
        "outputId": "fe5daad6-222d-4f42-af53-c704ce654755"
      },
      "execution_count": null,
      "outputs": [
        {
          "output_type": "stream",
          "name": "stdout",
          "text": [
            "{70, 10, 20, 60}\n"
          ]
        }
      ]
    },
    {
      "cell_type": "code",
      "source": [
        "#@title removes all occurrences of a value from a list\n",
        "def remove_from_list(the_list, the_value):\n",
        "  for item in the_list:\n",
        "    if item == the_value:\n",
        "      the_list.remove(item)\n",
        "a = [10, 20, 10, 30, 40, 50, 10, 0]\n",
        "remove_from_list(a, 10)\n",
        "print(a)"
      ],
      "metadata": {
        "colab": {
          "base_uri": "https://localhost:8080/"
        },
        "id": "gnxqteV4wlS1",
        "outputId": "3c15543d-01c6-4958-d1e3-661c76c7b95b"
      },
      "execution_count": null,
      "outputs": [
        {
          "output_type": "stream",
          "name": "stdout",
          "text": [
            "[20, 30, 40, 50, 0]\n"
          ]
        }
      ]
    },
    {
      "cell_type": "code",
      "source": [
        "#@title Student class completion\n",
        "class Student:\n",
        "    def __init__(self, name, score):\n",
        "        # Write your code here\n",
        "        self.name = name\n",
        "        self.score = score\n",
        "\n",
        "    def get_score(self):\n",
        "        # Write your code here\n",
        "        return self.score\n",
        "    \n",
        "    def describe(self):\n",
        "        # Write your code here\n",
        "        print(f\"{self.name}: {self.score}\")\n",
        "\n",
        "student = Student(\"John\", 85)\n",
        "print(student.get_score())  # Expected output: 85\n",
        "student.describe()  # Expected output: \"John: 85\""
      ],
      "metadata": {
        "colab": {
          "base_uri": "https://localhost:8080/"
        },
        "id": "q0OnWvqGyWYI",
        "outputId": "5f9d2c04-fcb1-4b62-9a52-7e1af9870753"
      },
      "execution_count": null,
      "outputs": [
        {
          "output_type": "stream",
          "name": "stdout",
          "text": [
            "85\n",
            "John: 85\n"
          ]
        }
      ]
    },
    {
      "cell_type": "code",
      "source": [
        "#@title Employee class completion\n",
        "class Person:\n",
        "    def __init__(self, name):\n",
        "        self.name = name\n",
        "\n",
        "    def speak(self):\n",
        "        return \"Person \" + self.name + \" spoke something.\"\n",
        "\n",
        "class Employee(Person):\n",
        "    def __init__(self, name):\n",
        "        # Write your code here\n",
        "        self.name = name\n",
        "\n",
        "    def speak(self, word):\n",
        "        # Write your code here\n",
        "        return f\"Employee {self.name} spoke {word}\"\n",
        "\n",
        "employee = Employee(\"David\")\n",
        "print(employee.speak(\"hello\"))  # Expected output: \"Employee David spoke hello\""
      ],
      "metadata": {
        "colab": {
          "base_uri": "https://localhost:8080/"
        },
        "id": "M-_HbpXVyWjh",
        "outputId": "b1b643e4-949c-409b-e487-f9f367b090e3"
      },
      "execution_count": null,
      "outputs": [
        {
          "output_type": "stream",
          "name": "stdout",
          "text": [
            "Employee David spoke hello\n"
          ]
        }
      ]
    },
    {
      "cell_type": "code",
      "source": [
        "#@title print all key value pairs of a dictionary\n",
        "country_capital = {\n",
        "    \"japan\": \"tokyo\",\n",
        "    \"vietnam\": \"hanoi\",\n",
        "    \"france\": \"paris\"\n",
        "}\n",
        "\n",
        "# Write your code here.\n",
        "for country, capital in country_capital.items():\n",
        "  if capital:\n",
        "    print(f\"{country}: {capital}\")\n",
        "\n",
        "# Expected output:\n",
        "\"\"\"\n",
        "japan - tokyo\n",
        "vietnam - hanoi\n",
        "france - paris\n",
        "\"\"\""
      ],
      "metadata": {
        "colab": {
          "base_uri": "https://localhost:8080/",
          "height": 87
        },
        "id": "H6TA-OpU5PdX",
        "outputId": "af10b492-3647-4c0d-e89f-d07f6b12a9ae"
      },
      "execution_count": null,
      "outputs": [
        {
          "output_type": "stream",
          "name": "stdout",
          "text": [
            "japan: tokyo\n",
            "vietnam: hanoi\n",
            "france: paris\n"
          ]
        },
        {
          "output_type": "execute_result",
          "data": {
            "text/plain": [
              "'\\njapan - tokyo\\nvietnam - hanoi\\nfrance - paris\\n'"
            ],
            "application/vnd.google.colaboratory.intrinsic+json": {
              "type": "string"
            }
          },
          "metadata": {},
          "execution_count": 9
        }
      ]
    },
    {
      "cell_type": "code",
      "source": [
        "#@title solving the equation ax^2 + bx + c = 0. (1 pt)\n",
        "def solve_equation(a, b, c):\n",
        "    # Write your code here\n",
        "    pass"
      ],
      "metadata": {
        "id": "61y-KZVJ7pbL"
      },
      "execution_count": null,
      "outputs": []
    }
  ]
}