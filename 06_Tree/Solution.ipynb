{
  "nbformat": 4,
  "nbformat_minor": 0,
  "metadata": {
    "colab": {
      "provenance": [],
      "include_colab_link": true
    },
    "kernelspec": {
      "name": "python3",
      "display_name": "Python 3"
    },
    "language_info": {
      "name": "python"
    }
  },
  "cells": [
    {
      "cell_type": "markdown",
      "metadata": {
        "id": "view-in-github",
        "colab_type": "text"
      },
      "source": [
        "<a href=\"https://colab.research.google.com/github/dancankimutai/basic-ml-course/blob/tree/06_Tree/Solution.ipynb\" target=\"_parent\"><img src=\"https://colab.research.google.com/assets/colab-badge.svg\" alt=\"Open In Colab\"/></a>"
      ]
    },
    {
      "cell_type": "markdown",
      "source": [
        "# Homework 6: Decision tree & Random forest\n",
        "\n",
        "Good news! We don't have to implement anything from scratch today!\n",
        "\n",
        "To make things easier, make a copy of this notebook and do the exercise in there.\n",
        "\n",
        "Implement everywhere that has ..."
      ],
      "metadata": {
        "id": "JhpQ0Psh6CYr"
      }
    },
    {
      "cell_type": "code",
      "source": [
        "import pandas as pd\n",
        "import numpy as np \n",
        "import matplotlib.pyplot as plt\n",
        "from sklearn.datasets import fetch_california_housing"
      ],
      "metadata": {
        "id": "SDV_S_yM5lIP"
      },
      "execution_count": 1,
      "outputs": []
    },
    {
      "cell_type": "code",
      "execution_count": 2,
      "metadata": {
        "id": "jgWYc7Im5kiN",
        "outputId": "e1626667-769b-468c-9709-964487b4d39c",
        "colab": {
          "base_uri": "https://localhost:8080/"
        }
      },
      "outputs": [
        {
          "output_type": "stream",
          "name": "stdout",
          "text": [
            "(20640, 8) (20640,)\n"
          ]
        }
      ],
      "source": [
        "# Load the data\n",
        "data = fetch_california_housing()\n",
        "X, y = data.data, data.target\n",
        "feature_names = data.feature_names\n",
        "print(X.shape, y.shape)"
      ]
    },
    {
      "cell_type": "markdown",
      "source": [
        "## Task 1 (1pt)\n",
        "\n",
        "* Split the data into a training and validation set with 80%/20% distribution\n",
        "* Use [train_test_split](https://scikit-learn.org/stable/modules/generated/sklearn.model_selection.train_test_split.html) function from sklearn for this. Remember to set the `random_state` parameter to 0 \n",
        "\n",
        "\n"
      ],
      "metadata": {
        "id": "4__JnyX_8Cxn"
      }
    },
    {
      "cell_type": "code",
      "source": [
        "from sklearn.model_selection import train_test_split\n",
        "X_train, X_valid, y_train, y_valid =train_test_split(X, y, test_size=0.2, random_state=0)"
      ],
      "metadata": {
        "id": "_C-xPZOe7Qm5"
      },
      "execution_count": 5,
      "outputs": []
    },
    {
      "cell_type": "markdown",
      "source": [
        "## Task 2 (1 pt)\n",
        "Train a decision tree model to predict house price. Remember to use the training set `X_train` to train the model\n",
        "* Train a model with `max_depth=1`. Remember to set the `random_state=0` \n",
        "* Visualize the tree you just trained. You can refer to the code from the lecture video. \n",
        "* Which feature was used to split the data (choose 1 and write you answer in a comment below the code\n",
        "    * `MedInc`\n",
        "    * `AveRooms`\n",
        "    * `AveBedrms`\n",
        "    * `HouseAge`"
      ],
      "metadata": {
        "id": "AZsxbOnH97Y3"
      }
    },
    {
      "cell_type": "code",
      "source": [
        "from sklearn.tree import DecisionTreeRegressor, export_graphviz\n",
        "# for visualization\n",
        "import graphviz\n"
      ],
      "metadata": {
        "id": "ETFCCvHA-V4d"
      },
      "execution_count": 6,
      "outputs": []
    },
    {
      "cell_type": "code",
      "source": [
        "# Initialize the decision tree class and train the decision tree\n",
        "tree = DecisionTreeRegressor(max_depth=1, random_state=0)\n",
        "tree.fit(X_train, y_train)\n",
        "\n",
        "# Visualize the tree\n",
        "dot = export_graphviz(tree,feature_names=feature_names,\n",
        "                                class_names=data.target_names)\n",
        "graph = graphviz.Source(dot)\n",
        "graph"
      ],
      "metadata": {
        "id": "Z2iwlEYR9xPo",
        "outputId": "e4873c11-9243-4cad-92b3-6008b53a9ac9",
        "colab": {
          "base_uri": "https://localhost:8080/",
          "height": 241
        }
      },
      "execution_count": 13,
      "outputs": [
        {
          "output_type": "execute_result",
          "data": {
            "text/plain": [
              "<graphviz.files.Source at 0x7ff8938e25e0>"
            ],
            "image/svg+xml": "<?xml version=\"1.0\" encoding=\"UTF-8\" standalone=\"no\"?>\n<!DOCTYPE svg PUBLIC \"-//W3C//DTD SVG 1.1//EN\"\n \"http://www.w3.org/Graphics/SVG/1.1/DTD/svg11.dtd\">\n<!-- Generated by graphviz version 2.40.1 (20161225.0304)\n -->\n<!-- Title: Tree Pages: 1 -->\n<svg width=\"348pt\" height=\"165pt\"\n viewBox=\"0.00 0.00 348.00 165.00\" xmlns=\"http://www.w3.org/2000/svg\" xmlns:xlink=\"http://www.w3.org/1999/xlink\">\n<g id=\"graph0\" class=\"graph\" transform=\"scale(1 1) rotate(0) translate(4 161)\">\n<title>Tree</title>\n<polygon fill=\"#ffffff\" stroke=\"transparent\" points=\"-4,4 -4,-161 344,-161 344,4 -4,4\"/>\n<!-- 0 -->\n<g id=\"node1\" class=\"node\">\n<title>0</title>\n<polygon fill=\"none\" stroke=\"#000000\" points=\"250,-157 89,-157 89,-89 250,-89 250,-157\"/>\n<text text-anchor=\"middle\" x=\"169.5\" y=\"-141.8\" font-family=\"Helvetica,sans-Serif\" font-size=\"14.00\" fill=\"#000000\">MedInc &lt;= 5.029</text>\n<text text-anchor=\"middle\" x=\"169.5\" y=\"-126.8\" font-family=\"Helvetica,sans-Serif\" font-size=\"14.00\" fill=\"#000000\">squared_error = 1.338</text>\n<text text-anchor=\"middle\" x=\"169.5\" y=\"-111.8\" font-family=\"Helvetica,sans-Serif\" font-size=\"14.00\" fill=\"#000000\">samples = 16512</text>\n<text text-anchor=\"middle\" x=\"169.5\" y=\"-96.8\" font-family=\"Helvetica,sans-Serif\" font-size=\"14.00\" fill=\"#000000\">value = 2.072</text>\n</g>\n<!-- 1 -->\n<g id=\"node2\" class=\"node\">\n<title>1</title>\n<polygon fill=\"none\" stroke=\"#000000\" points=\"161,-53 0,-53 0,0 161,0 161,-53\"/>\n<text text-anchor=\"middle\" x=\"80.5\" y=\"-37.8\" font-family=\"Helvetica,sans-Serif\" font-size=\"14.00\" fill=\"#000000\">squared_error = 0.833</text>\n<text text-anchor=\"middle\" x=\"80.5\" y=\"-22.8\" font-family=\"Helvetica,sans-Serif\" font-size=\"14.00\" fill=\"#000000\">samples = 12979</text>\n<text text-anchor=\"middle\" x=\"80.5\" y=\"-7.8\" font-family=\"Helvetica,sans-Serif\" font-size=\"14.00\" fill=\"#000000\">value = 1.733</text>\n</g>\n<!-- 0&#45;&gt;1 -->\n<g id=\"edge1\" class=\"edge\">\n<title>0&#45;&gt;1</title>\n<path fill=\"none\" stroke=\"#000000\" d=\"M138.1219,-88.9777C129.6766,-79.8207 120.5389,-69.9129 112.0825,-60.744\"/>\n<polygon fill=\"#000000\" stroke=\"#000000\" points=\"114.5221,-58.2266 105.1696,-53.2485 109.3764,-62.9723 114.5221,-58.2266\"/>\n<text text-anchor=\"middle\" x=\"104.1596\" y=\"-74.5281\" font-family=\"Helvetica,sans-Serif\" font-size=\"14.00\" fill=\"#000000\">True</text>\n</g>\n<!-- 2 -->\n<g id=\"node3\" class=\"node\">\n<title>2</title>\n<polygon fill=\"none\" stroke=\"#000000\" points=\"340,-53 179,-53 179,0 340,0 340,-53\"/>\n<text text-anchor=\"middle\" x=\"259.5\" y=\"-37.8\" font-family=\"Helvetica,sans-Serif\" font-size=\"14.00\" fill=\"#000000\">squared_error = 1.218</text>\n<text text-anchor=\"middle\" x=\"259.5\" y=\"-22.8\" font-family=\"Helvetica,sans-Serif\" font-size=\"14.00\" fill=\"#000000\">samples = 3533</text>\n<text text-anchor=\"middle\" x=\"259.5\" y=\"-7.8\" font-family=\"Helvetica,sans-Serif\" font-size=\"14.00\" fill=\"#000000\">value = 3.319</text>\n</g>\n<!-- 0&#45;&gt;2 -->\n<g id=\"edge2\" class=\"edge\">\n<title>0&#45;&gt;2</title>\n<path fill=\"none\" stroke=\"#000000\" d=\"M201.2306,-88.9777C209.7708,-79.8207 219.0113,-69.9129 227.5626,-60.744\"/>\n<polygon fill=\"#000000\" stroke=\"#000000\" points=\"230.2923,-62.9488 234.5532,-53.2485 225.1731,-58.1744 230.2923,-62.9488\"/>\n<text text-anchor=\"middle\" x=\"235.424\" y=\"-74.5333\" font-family=\"Helvetica,sans-Serif\" font-size=\"14.00\" fill=\"#000000\">False</text>\n</g>\n</g>\n</svg>\n"
          },
          "metadata": {},
          "execution_count": 13
        }
      ]
    },
    {
      "cell_type": "markdown",
      "source": [
        "## Task 3 (2pt)\n",
        "* Train a decision tree with `max_depth=3`.\n",
        "* Don't forget `random_state=0`\n",
        "* Print the mean square error on the validation set.\n",
        "* What is the mean square error you just calculate.\n",
        " Write you answer in the comment below the code.\n"
      ],
      "metadata": {
        "id": "VKKSFfc1BZNT"
      }
    },
    {
      "cell_type": "code",
      "source": [
        "from sklearn.metrics import mean_squared_error\n",
        "# Train the model\n",
        "tree = DecisionTreeRegressor(max_depth=3, random_state=0)\n",
        "tree.fit(X_train, y_train)\n",
        "y_pred = tree.predict(X_valid)\n",
        "mse = mean_squared_error(y_valid, y_pred)\n",
        "# Print the mean squared error\n",
        "print(mse)\n",
        "\n",
        "# What's the mean squared error you just calculate: 0.6533119456700849"
      ],
      "metadata": {
        "id": "7XIzWfHXAdaP",
        "outputId": "bd52c472-aefa-4998-f3d9-c2b0e3756c44",
        "colab": {
          "base_uri": "https://localhost:8080/"
        }
      },
      "execution_count": 15,
      "outputs": [
        {
          "output_type": "stream",
          "name": "stdout",
          "text": [
            "0.6533119456700849\n"
          ]
        }
      ]
    },
    {
      "cell_type": "markdown",
      "source": [
        "## Task 4 (2pt)\n",
        "Tune the `max_depth` parameter of the model\n",
        "* Try different values for `max_depth`: `[5, 6, 7, 8, 9, 10, 11, 12]`\n",
        "* Don't forget `random_state=0`\n",
        "* Print out the mean square error for each value of `max_depth`\n",
        "* What is the best value for `max_depth`? Write you answer in the comment below the code."
      ],
      "metadata": {
        "id": "vUpkklmCDpkB"
      }
    },
    {
      "cell_type": "code",
      "source": [
        "# Your code here\n",
        "for depth in [5, 6, 7, 8, 9, 10, 11, 12]:\n",
        "    tree = DecisionTreeRegressor(max_depth=depth, random_state=0)\n",
        "    tree.fit(X_train, y_train)\n",
        "    y_pred = tree.predict(X_valid)\n",
        "\n",
        "    # mean squared error on the validation set\n",
        "    mse = mean_squared_error(y_valid, y_pred)\n",
        "    print(\"max_depth =\", depth, \": Mean squared error on validation set:\", mse)\n",
        "\n",
        "# What's the best max_depth: 9"
      ],
      "metadata": {
        "id": "aWy1Jy5dDR83",
        "outputId": "a851772e-9db2-40a5-d455-e4cc6a8adfb0",
        "colab": {
          "base_uri": "https://localhost:8080/"
        }
      },
      "execution_count": 16,
      "outputs": [
        {
          "output_type": "stream",
          "name": "stdout",
          "text": [
            "max_depth = 5 : Mean squared error on validation set: 0.5401962207714344\n",
            "max_depth = 6 : Mean squared error on validation set: 0.4984109265539033\n",
            "max_depth = 7 : Mean squared error on validation set: 0.4596987909870867\n",
            "max_depth = 8 : Mean squared error on validation set: 0.44604575226916726\n",
            "max_depth = 9 : Mean squared error on validation set: 0.4313636207268005\n",
            "max_depth = 10 : Mean squared error on validation set: 0.4470239650247865\n",
            "max_depth = 11 : Mean squared error on validation set: 0.444291361570811\n",
            "max_depth = 12 : Mean squared error on validation set: 0.45049079652055624\n"
          ]
        }
      ]
    },
    {
      "cell_type": "markdown",
      "source": [
        "## Task 5 (1pt)\n",
        "Let's switch to random forest\n",
        "\n",
        "Train a random forest model with\n",
        "* n_estimators=20\n",
        "* random_state=0\n",
        "\n",
        "What is the mean square error on the validation set? Write you answer in the comment below the code"
      ],
      "metadata": {
        "id": "QYKcXabRF51e"
      }
    },
    {
      "cell_type": "code",
      "source": [
        "from sklearn.ensemble import RandomForestRegressor"
      ],
      "metadata": {
        "id": "IzvkkR8jEZWZ"
      },
      "execution_count": 18,
      "outputs": []
    },
    {
      "cell_type": "code",
      "source": [
        "# Your code here\n",
        "model = RandomForestRegressor(n_estimators=20, random_state=0)\n",
        "model.fit(X_train, y_train)\n",
        "y_pred = model.predict(X_valid)\n",
        "mse = mean_squared_error(y_valid, y_pred)\n",
        "print(\"Mean squared error on validation set:\", mse)\n",
        "\n",
        "#The mean square error on the validation set 0.26946775214546204"
      ],
      "metadata": {
        "id": "BgAZx5dhGxfI",
        "outputId": "9f5624d8-1860-4446-94f6-bed5215be4be",
        "colab": {
          "base_uri": "https://localhost:8080/"
        }
      },
      "execution_count": 19,
      "outputs": [
        {
          "output_type": "stream",
          "name": "stdout",
          "text": [
            "Mean squared error on validation set: 0.26946775214546204\n"
          ]
        }
      ]
    },
    {
      "cell_type": "markdown",
      "source": [
        "## Task 6 (2pt)\n",
        "Tune different hyperparameter of random forest\n",
        "* `random_state=0`\n",
        "* Try different values for `max_features`: `[0.5, 'sqrt', 'log2']`\n",
        "* For each of these values for `max_features`, try different values of `n_estimators` from 10 to 100 (with step size 10): i.e `[10, 20, 30, ...]` \n",
        "* Optionally set `n_jobs=-1` to train faster"
      ],
      "metadata": {
        "id": "4VX2PLb2H1rL"
      }
    },
    {
      "cell_type": "code",
      "source": [
        "# Your code here \n",
        "random_state = 0\n",
        "\n",
        "\n",
        "for max_features in [0.5, \"sqrt\", \"log2\"]:\n",
        "    # Loop over different values of n_estimators\n",
        "    for n_estimators in range(10, 100, 10):\n",
        "        # Train model with max_features and n_estimators\n",
        "        model = RandomForestRegressor(max_features=max_features, n_estimators=n_estimators, random_state=random_state, n_jobs=-1)\n",
        "        model.fit(X_train, y_train)\n",
        "\n",
        "        # Predict the labels on the validation set\n",
        "        y_pred = model.predict(X_valid)\n",
        "\n",
        "        # MSE on the validation set\n",
        "        mse = mean_squared_error(y_valid, y_pred)\n",
        "        print(\"max_features =\", max_features, \"n_estimators =\", n_estimators, \": Mean squared error on validation set:\", mse)"
      ],
      "metadata": {
        "id": "-XKDGYOFJcew",
        "outputId": "352b3cbd-a851-4912-9e4f-07b7dc8136c4",
        "colab": {
          "base_uri": "https://localhost:8080/"
        }
      },
      "execution_count": 20,
      "outputs": [
        {
          "output_type": "stream",
          "name": "stdout",
          "text": [
            "max_features = 0.5 n_estimators = 10 : Mean squared error on validation set: 0.25966064932921845\n",
            "max_features = 0.5 n_estimators = 20 : Mean squared error on validation set: 0.24784799447654277\n",
            "max_features = 0.5 n_estimators = 30 : Mean squared error on validation set: 0.24380492287185682\n",
            "max_features = 0.5 n_estimators = 40 : Mean squared error on validation set: 0.24228319218753216\n",
            "max_features = 0.5 n_estimators = 50 : Mean squared error on validation set: 0.2438575547463115\n",
            "max_features = 0.5 n_estimators = 60 : Mean squared error on validation set: 0.24374536907814756\n",
            "max_features = 0.5 n_estimators = 70 : Mean squared error on validation set: 0.24391113043279594\n",
            "max_features = 0.5 n_estimators = 80 : Mean squared error on validation set: 0.2430250307468788\n",
            "max_features = 0.5 n_estimators = 90 : Mean squared error on validation set: 0.24359083948811636\n",
            "max_features = sqrt n_estimators = 10 : Mean squared error on validation set: 0.2687218406388496\n",
            "max_features = sqrt n_estimators = 20 : Mean squared error on validation set: 0.2509829266968086\n",
            "max_features = sqrt n_estimators = 30 : Mean squared error on validation set: 0.2415806768970444\n",
            "max_features = sqrt n_estimators = 40 : Mean squared error on validation set: 0.24086060925250521\n",
            "max_features = sqrt n_estimators = 50 : Mean squared error on validation set: 0.24096952927388107\n",
            "max_features = sqrt n_estimators = 60 : Mean squared error on validation set: 0.24210296853589675\n",
            "max_features = sqrt n_estimators = 70 : Mean squared error on validation set: 0.24033645997163744\n",
            "max_features = sqrt n_estimators = 80 : Mean squared error on validation set: 0.23936068547184122\n",
            "max_features = sqrt n_estimators = 90 : Mean squared error on validation set: 0.238958875847417\n",
            "max_features = log2 n_estimators = 10 : Mean squared error on validation set: 0.26910208324310775\n",
            "max_features = log2 n_estimators = 20 : Mean squared error on validation set: 0.25556837549477573\n",
            "max_features = log2 n_estimators = 30 : Mean squared error on validation set: 0.24879607064867762\n",
            "max_features = log2 n_estimators = 40 : Mean squared error on validation set: 0.24624790193037058\n",
            "max_features = log2 n_estimators = 50 : Mean squared error on validation set: 0.24175007027485698\n",
            "max_features = log2 n_estimators = 60 : Mean squared error on validation set: 0.23846651999852\n",
            "max_features = log2 n_estimators = 70 : Mean squared error on validation set: 0.2369565127974524\n",
            "max_features = log2 n_estimators = 80 : Mean squared error on validation set: 0.23726131008485504\n",
            "max_features = log2 n_estimators = 90 : Mean squared error on validation set: 0.23712220951653065\n"
          ]
        }
      ]
    },
    {
      "cell_type": "markdown",
      "source": [
        "## Task 7 (1pt)\n",
        "\n",
        "Extract feature importance of the model\n",
        "Train a random forest model with:\n",
        "* `n_estimators=10`\n",
        "* `max_dept=15`\n",
        "* `random_state=0`\n",
        "\n",
        "Get the feature importance attribute of the model. You can use the `feature_importances_` attibute \n",
        "\n",
        "What is the most important feature? write your answer in a comment in the code cell below."
      ],
      "metadata": {
        "id": "-M5fPzEvLfRL"
      }
    },
    {
      "cell_type": "code",
      "source": [
        "# Train your model\n",
        "model = RandomForestRegressor(n_estimators=10, max_depth=15, random_state=0)\n",
        "model.fit(X_train, y_train)\n",
        "\n",
        "\n",
        "# Get feature importance\n",
        "feature_importances = model.feature_importances_\n",
        "\n",
        "# Print the feature importance\n",
        "print(np.round(feature_importances, 3))"
      ],
      "metadata": {
        "id": "MLD-XuzuKOBS",
        "outputId": "1510d0ff-749d-4fb1-b097-fdd5e7905227",
        "colab": {
          "base_uri": "https://localhost:8080/"
        }
      },
      "execution_count": 21,
      "outputs": [
        {
          "output_type": "stream",
          "name": "stdout",
          "text": [
            "[0.541 0.054 0.045 0.029 0.031 0.135 0.083 0.082]\n"
          ]
        }
      ]
    },
    {
      "cell_type": "code",
      "source": [
        "df_importances = pd.DataFrame()\n",
        "df_importances['feature'] = feature_names\n",
        "df_importances['importance'] = feature_importances\n",
        "df_importances.sort_values(by='importance', inplace=True)\n",
        "\n",
        "plt.barh(range(df_importances.shape[0]), df_importances.importance)\n",
        "plt.yticks(range(df_importances.shape[0]), df_importances.feature)\n",
        "\n",
        "plt.show()\n",
        "\n",
        "#The most important feature: \n"
      ],
      "metadata": {
        "id": "sE1h5YOgMKQM",
        "outputId": "4981ef09-e585-4b16-88f3-03b9e5a1f7d9",
        "colab": {
          "base_uri": "https://localhost:8080/",
          "height": 265
        }
      },
      "execution_count": 22,
      "outputs": [
        {
          "output_type": "display_data",
          "data": {
            "text/plain": [
              "<Figure size 432x288 with 1 Axes>"
            ],
            "image/png": "[encoded data removed]"
          },
          "metadata": {
            "needs_background": "light"
          }
        }
      ]
    },
    {
      "cell_type": "code",
      "source": [],
      "metadata": {
        "id": "aLPbBYD7NYt0"
      },
      "execution_count": null,
      "outputs": []
    }
  ]
}