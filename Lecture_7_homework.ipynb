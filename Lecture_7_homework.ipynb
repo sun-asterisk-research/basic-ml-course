{
  "nbformat": 4,
  "nbformat_minor": 0,
  "metadata": {
    "colab": {
      "provenance": [],
      "include_colab_link": true
    },
    "kernelspec": {
      "name": "python3",
      "display_name": "Python 3"
    },
    "language_info": {
      "name": "python"
    },
    "gpuClass": "standard",
    "accelerator": "GPU"
  },
  "cells": [
    {
      "cell_type": "markdown",
      "metadata": {
        "id": "view-in-github",
        "colab_type": "text"
      },
      "source": [
        "<a href=\"https://colab.research.google.com/github/MUTTA-ISIGI/basic-ml-course/blob/week7/Lecture_7_homework.ipynb\" target=\"_parent\"><img src=\"https://colab.research.google.com/assets/colab-badge.svg\" alt=\"Open In Colab\"/></a>"
      ]
    },
    {
      "cell_type": "markdown",
      "source": [
        "# Homework 7: Neural Network"
      ],
      "metadata": {
        "id": "tepFZ8MaX6RR"
      }
    },
    {
      "cell_type": "markdown",
      "source": [
        "Note: To run this notebook. You should change runtime type to GPU by: go to Runtime -> Change runtime type -> GPU"
      ],
      "metadata": {
        "id": "RWPSbcDu3Ef2"
      }
    },
    {
      "cell_type": "markdown",
      "source": [
        "In lecture 7's video, we have shown you how to use Neural Network to classify handwritten digits on the MNIST dataset. In this notebook, we will go into the details. We also discover components that we have not talked about in the video."
      ],
      "metadata": {
        "id": "vyE5Obn6PGvc"
      }
    },
    {
      "cell_type": "markdown",
      "source": [
        "Import some libraries and packages"
      ],
      "metadata": {
        "id": "wUrX5_l-X9KH"
      }
    },
    {
      "cell_type": "code",
      "execution_count": 16,
      "metadata": {
        "id": "4tB_dVjrC3b1"
      },
      "outputs": [],
      "source": [
        "import torch\n",
        "import torch.nn as nn\n",
        "import torchvision\n",
        "from torchvision import transforms\n",
        "import matplotlib.pyplot as plt\n",
        "from tqdm import tqdm\n",
        "import torch.nn.functional as F"
      ]
    },
    {
      "cell_type": "markdown",
      "source": [
        "Download dataset"
      ],
      "metadata": {
        "id": "L7zxH2HHYNI8"
      }
    },
    {
      "cell_type": "code",
      "source": [
        "trainset = torchvision.datasets.MNIST('./data', download=True, train=True, transform=transforms.ToTensor())\n",
        "testset = torchvision.datasets.MNIST('./data', download=True, train=False, transform=transforms.ToTensor())"
      ],
      "metadata": {
        "id": "73RIk4mSC-Jn"
      },
      "execution_count": 17,
      "outputs": []
    },
    {
      "cell_type": "markdown",
      "source": [
        "Check an image and its label"
      ],
      "metadata": {
        "id": "f5404CDSZotp"
      }
    },
    {
      "cell_type": "code",
      "source": [
        "img, label = trainset[20]\n",
        "print('Label: ', label)\n",
        "print('Image shape: ', img.shape)\n",
        "plt.imshow(img[0], cmap='gray')"
      ],
      "metadata": {
        "colab": {
          "base_uri": "https://localhost:8080/",
          "height": 320
        },
        "id": "DLqfRHE7FVnF",
        "outputId": "b6f8a7fc-8636-402c-bac9-47c40e8ad5f6"
      },
      "execution_count": 18,
      "outputs": [
        {
          "output_type": "stream",
          "name": "stdout",
          "text": [
            "Label:  4\n",
            "Image shape:  torch.Size([1, 28, 28])\n"
          ]
        },
        {
          "output_type": "execute_result",
          "data": {
            "text/plain": [
              "<matplotlib.image.AxesImage at 0x7f46a8549670>"
            ]
          },
          "metadata": {},
          "execution_count": 18
        },
        {
          "output_type": "display_data",
          "data": {
            "text/plain": [
              "<Figure size 432x288 with 1 Axes>"
            ],
            "image/png": "[encoded data removed]"
          },
          "metadata": {
            "needs_background": "light"
          }
        }
      ]
    },
    {
      "cell_type": "markdown",
      "source": [
        "Pytorch provides DataLoader to efficiently load data from dataset for both training and testing. For more details about the configurations, you can refer to https://pytorch.org/docs/stable/data.html"
      ],
      "metadata": {
        "id": "YxJduKT8fZ1L"
      }
    },
    {
      "cell_type": "code",
      "source": [
        "train_dataloader = torch.utils.data.DataLoader(trainset, batch_size=16, shuffle=True, num_workers=2, drop_last=True, pin_memory=True)\n",
        "test_dataloader = torch.utils.data.DataLoader(testset, batch_size=32, shuffle=False, num_workers=2)"
      ],
      "metadata": {
        "id": "93XeSyr-G_si"
      },
      "execution_count": 19,
      "outputs": []
    },
    {
      "cell_type": "markdown",
      "source": [
        "An Neural Network has layers. To create a layer you can use `nn.Linear`. Let examine one layer.\n",
        "\n",
        "Here we create a layer which has 4 neurons and 2 inputs. Matrix of weight ($W$) has shape of 4x2, $W \\in \\mathbb{R}^{4*2}$. The bias vector of neurons is b, $b \\in \\mathbb{R}^{4}$. Assuming the input $x \\in \\mathbb{R}^{b*2}$, where is the batch size. Then the output of this layer is:\n",
        "$$ y = xW^T + b$$"
      ],
      "metadata": {
        "id": "qkmzheLN2Jmx"
      }
    },
    {
      "cell_type": "markdown",
      "source": [
        "**Task 1**: Fill in the code to calculate the output of a layer for given input. **(1 point)**\n",
        "\n",
        "*Hints*: for matrix multiplication in pytorch, you can use `torch.matmul`. "
      ],
      "metadata": {
        "id": "29LWl7tGJA1Y"
      }
    },
    {
      "cell_type": "code",
      "source": [
        "a_layer = nn.Linear(2, 4)           # we create a layer\n",
        "print(\"transposed weight: \", a_layer.weight.T)   # print the weight of the layer\n",
        "print(\"bias: \", a_layer.bias)       # print the bias of the layer\n",
        "input = torch.rand((3, 2))          # we create a dummy input\n",
        "print('input: ', input)\n",
        "# your code here      \n",
        "output = torch.matmul(input,a_layer.weight.T) + a_layer.bias  \n",
        "print('output: ', output)          "
      ],
      "metadata": {
        "colab": {
          "base_uri": "https://localhost:8080/"
        },
        "id": "u_9wm9qblzjw",
        "outputId": "2b387917-faf1-45bf-8e6f-0d07e2f95313"
      },
      "execution_count": 20,
      "outputs": [
        {
          "output_type": "stream",
          "name": "stdout",
          "text": [
            "transposed weight:  tensor([[ 0.5169,  0.2431, -0.3284,  0.0759],\n",
            "        [ 0.6366,  0.0088,  0.5739, -0.0514]], grad_fn=<PermuteBackward0>)\n",
            "bias:  Parameter containing:\n",
            "tensor([0.4494, 0.0237, 0.3430, 0.0590], requires_grad=True)\n",
            "input:  tensor([[0.8187, 0.5134],\n",
            "        [0.8609, 0.3208],\n",
            "        [0.9887, 0.0354]])\n",
            "output:  tensor([[1.1995, 0.2272, 0.3688, 0.0948],\n",
            "        [1.0986, 0.2358, 0.2443, 0.1079],\n",
            "        [0.9830, 0.2643, 0.0386, 0.1323]], grad_fn=<AddBackward0>)\n"
          ]
        }
      ]
    },
    {
      "cell_type": "markdown",
      "source": [
        "**Task 2**: We implement below architecture in the video. It works quite well. Let's try to add the third hidden layer and keep other layers. **(1 point)**"
      ],
      "metadata": {
        "id": "KC783pMOJ7Md"
      }
    },
    {
      "cell_type": "code",
      "source": [
        "class Net(nn.Module):\n",
        "    def __init__(self):\n",
        "        super().__init__()\n",
        "        self.fc1 = nn.Linear(28*28, 120)  # first hidden layer\n",
        "        self.fc2 = nn.Linear(120, 84)     # second hidden layer\n",
        "        # your code here\n",
        "        self.additional_layer = nn.Linear(84,84)\n",
        "        self.fc3 = nn.Linear(84, 10)      # output layer\n",
        "\n",
        "    def forward(self, x):\n",
        "        x = torch.flatten(x, 1)   # flatten all dimensions except batch\n",
        "        x = F.relu(self.fc1(x))   # compute output of first hidden layer + activation function\n",
        "        x = F.relu(self.fc2(x))   # compute output of second hiddlen layer + activation function\n",
        "        # your code here\n",
        "        x = F.relu(self.additional_layer(x))\n",
        "        x = self.fc3(x)           # compute output\n",
        "        return x                  # return output\n",
        "\n",
        "model = Net()"
      ],
      "metadata": {
        "id": "Qlc38zzsVsGZ"
      },
      "execution_count": 21,
      "outputs": []
    },
    {
      "cell_type": "markdown",
      "source": [
        "We have used `CrossEntropyLoss` function to calculate loss. It is equivalent to the combination of `LogSoftmax` and `NLLLoss`. We have not talked about these two functions. They are two commonly used functions in classification problems.\n",
        "\n",
        "In the output layer, we don't use any activation function. To get the final prediction, we just need to chooose the maximum output. However, you should use softmax to get the estimated probabilities. Output of softmax function are:\n",
        "\n",
        "\n",
        "<center>$\\sigma(z)_{i} = \\frac{e^{z_{i}}}{\\sum_{j=1}^{C}e^{z_{j}}} $ for $i = 1, ..., C$ and $\\textbf{z} = \\{z_1, z_2, ..., z_C\\}$</center>\n",
        "\n",
        "\n",
        "where $C$ is number of classes, $\\textbf{z}$ is the output of network."
      ],
      "metadata": {
        "id": "t0kmvQFBl7Ea"
      }
    },
    {
      "cell_type": "markdown",
      "source": [
        "**Task 3**: You are asked to implement softmax function **(1 point)**\n",
        "\n",
        "Hints: to calculate the exponential of input elements you can use *exp()* function. For example, `z.exp()`"
      ],
      "metadata": {
        "id": "raYd3kbv255I"
      }
    },
    {
      "cell_type": "code",
      "source": [
        "def softmax(z):\n",
        "  # your code here\n",
        "  output = z.exp() / z.exp().sum(-1).unsqueeze(-1)\n",
        "  return output"
      ],
      "metadata": {
        "id": "eA9waX0s2pXd"
      },
      "execution_count": 22,
      "outputs": []
    },
    {
      "cell_type": "code",
      "source": [
        "def log_softmax(z):\n",
        "  return softmax(z).log()"
      ],
      "metadata": {
        "id": "1pMnBoYC_77I"
      },
      "execution_count": 23,
      "outputs": []
    },
    {
      "cell_type": "markdown",
      "source": [
        "**Task 4**: You are asked to implement Negative Log Likelihood as follow: **(1 point)**\n",
        "<center>$l_n = -x_n y_n$ where $\\textbf{x}$ is prediction, $\\textbf{y}$ is target in form of one-hot vector, </center> \n",
        "\n",
        "Note: in above equation $\\textbf{y}$ is an one-hot vector. Meanwhile, the below `target` is an integer value."
      ],
      "metadata": {
        "id": "cFr4H-ov7ELW"
      }
    },
    {
      "cell_type": "code",
      "source": [
        "def nll(preds, target):\n",
        "  # your code here\n",
        "  l = shape_pred = torch.zeros_like(preds)\n",
        "  for i in range(target.size()[0]):\n",
        "    shape_pred[i][target[i]] = 1\n",
        "\n",
        "  l = -preds * shape_pred\n",
        "  \n",
        "  return l"
      ],
      "metadata": {
        "id": "zZzvfRPw7MUr"
      },
      "execution_count": 24,
      "outputs": []
    },
    {
      "cell_type": "code",
      "source": [
        "def cross_entropy_loss(z, target):\n",
        "  return nll(log_softmax(z), target).mean()\n",
        "\n",
        "loss_function = nn.CrossEntropyLoss()\n",
        "z = torch.rand((3, 10))\n",
        "target = torch.tensor([0, 5, 9], dtype=torch.long)\n",
        "print(cross_entropy_loss(z, target))\n",
        "print(loss_function(z, target))\n",
        "\n",
        "# assert cross_entropy_loss(z, target) == loss_function(z, target), 'The two above task are not correct!'"
      ],
      "metadata": {
        "colab": {
          "base_uri": "https://localhost:8080/"
        },
        "id": "J_eIAavpBRPs",
        "outputId": "26632241-d49e-4f60-d653-c641d792fc22"
      },
      "execution_count": 25,
      "outputs": [
        {
          "output_type": "stream",
          "name": "stdout",
          "text": [
            "tensor(0.2225)\n",
            "tensor(2.2251)\n"
          ]
        }
      ]
    },
    {
      "cell_type": "markdown",
      "source": [
        "We constraint the model not too complex by using regularization. One way of doing that is putting constraint to weights of models. For example, in ridge regularization, we add L2 loss term to the loss function:\n",
        "$$J(\\theta) = CrossEntropyLoss(\\theta) + \\alpha \\sum\\limits_{i=1}^n\\theta_{i}^2$$\n",
        "where $\\theta$ is model's parameters (not including bias), $\\alpha$ is a hyper-paramter to control degree of regularization."
      ],
      "metadata": {
        "id": "dR_xYpSNOpNQ"
      }
    },
    {
      "cell_type": "markdown",
      "source": [
        "**Task 5**: You are asked to implement loss function composed of cross entropy loss and L2 regularization loss. **(1 point)**\n",
        "\n",
        "Hints: use `model.parameters()`"
      ],
      "metadata": {
        "id": "ThudlUyGrgfw"
      }
    },
    {
      "cell_type": "code",
      "source": [
        "def CEloss_with_l2(z, target, model, alpha):\n",
        "  CE_loss = cross_entropy_loss(z, target)\n",
        "  # Your code here\n",
        "  L2_loss = 0\n",
        "  for param in model.parameters():\n",
        "    L2_loss +=  torch.sum(param ** 2)\n",
        "  loss = CE_loss + alpha * L2_loss\n",
        "\n",
        "\n",
        "  return loss\n",
        "\n",
        "CEloss_with_l2(torch.rand(2, 10), torch.tensor([2, 3], dtype=torch.long), model, 0.001)"
      ],
      "metadata": {
        "id": "nv6SMrKOOnDf",
        "colab": {
          "base_uri": "https://localhost:8080/"
        },
        "outputId": "4bdd017b-784c-4f13-ba0f-ff9ae6af049e"
      },
      "execution_count": 26,
      "outputs": [
        {
          "output_type": "execute_result",
          "data": {
            "text/plain": [
              "tensor(0.3149, grad_fn=<AddBackward0>)"
            ]
          },
          "metadata": {},
          "execution_count": 26
        }
      ]
    },
    {
      "cell_type": "markdown",
      "source": [
        "**Task 6**: Similarly, let implement loss function composed of cross entropy loss and L1 regularization **(1 point)**"
      ],
      "metadata": {
        "id": "mKq31_We09al"
      }
    },
    {
      "cell_type": "code",
      "source": [
        "def CEloss_with_l1(z, target, model, alpha):\n",
        "  # Your code here\n",
        "  CE_loss = cross_entropy_loss(z,target)\n",
        "  L1_loss = 0\n",
        "  for param in model.parameters():\n",
        "    L1_loss += torch.sum(torch.abs(param))\n",
        "  loss = CE_loss + alpha * L1_loss\n",
        "  return loss\n",
        "\n",
        "CEloss_with_l1(torch.rand(2, 10), torch.tensor([2, 3], dtype=torch.long), model, 0.001)"
      ],
      "metadata": {
        "id": "npqOPHEB1KuM",
        "colab": {
          "base_uri": "https://localhost:8080/"
        },
        "outputId": "3ab7ea50-b8bb-421c-ec8e-882fc2031223"
      },
      "execution_count": 27,
      "outputs": [
        {
          "output_type": "execute_result",
          "data": {
            "text/plain": [
              "tensor(2.8102, grad_fn=<AddBackward0>)"
            ]
          },
          "metadata": {},
          "execution_count": 27
        }
      ]
    },
    {
      "cell_type": "markdown",
      "source": [
        "For using L2 regularization in Pytorch, you can set `weight_decay` property of optimizer. Here, we use the default value `weight_decay=0`."
      ],
      "metadata": {
        "id": "Avtue18G2ExY"
      }
    },
    {
      "cell_type": "code",
      "source": [
        "optimizer = torch.optim.SGD(model.parameters(), lr=0.01)"
      ],
      "metadata": {
        "id": "8gNz2v3xIBLx"
      },
      "execution_count": 28,
      "outputs": []
    },
    {
      "cell_type": "code",
      "source": [],
      "metadata": {
        "id": "Okhy-yQhQOXb"
      },
      "execution_count": 28,
      "outputs": []
    },
    {
      "cell_type": "markdown",
      "source": [
        "**Task 7:** Below code is the procedure to train and evaluate the trained model. We put more comments so you can better understand each line of code. We also put redundant lines of code in the `evaluate` section. Your task is to find all redundant code and comment them out. (**2 points**)"
      ],
      "metadata": {
        "id": "8pAgHxZJVyH9"
      }
    },
    {
      "cell_type": "code",
      "source": [
        "model.cuda()    # move model to GPU for faster computation in parallel\n",
        "n_epochs = 10    # you should change to larger value\n",
        "for epoch in range(n_epochs):\n",
        "  print(f'Epoch {epoch}- Training... ')\n",
        "  for batch_idx, (imgs, labels) in enumerate(tqdm(train_dataloader)):\n",
        "    imgs = imgs.cuda()      # move images to GPU\n",
        "    labels = labels.cuda()  # move labels to GPU\n",
        "    optimizer.zero_grad()   # by default, Pytorch's optimizer retains gradient after apply Gradient Descent. We need to call this function to clear gradients explicitly.\n",
        "    preds = model(imgs)     # pass batch of data through the model. \n",
        "    loss = loss_function(preds, labels)   # compute loss \n",
        "    loss.backward()         # compute gradient by running backpropgation algorithm\n",
        "    optimizer.step()        # apply Gradient Descent\n",
        "  \n",
        "  # evaluate \n",
        "  print(f'Epoch {epoch}- Evaluating... ')\n",
        "  total_correct = 0\n",
        "  total = len(testset)\n",
        "  for batch_indx, (imgs, labels) in enumerate(tqdm(test_dataloader)):\n",
        "    imgs = imgs.cuda()\n",
        "    labels = labels.cuda()\n",
        "    preds = model(imgs).argmax(axis=-1)\n",
        "    #loss = loss_function(preds, labels)\n",
        "    #loss.backward()\n",
        "    n_correct = torch.sum(preds == labels)\n",
        "    total_correct += n_correct.item()\n",
        "  \n",
        "  print(\"Accuracy: \", total_correct/total)"
      ],
      "metadata": {
        "colab": {
          "base_uri": "https://localhost:8080/"
        },
        "id": "dY4UMUc2WTZA",
        "outputId": "47f25601-0fb1-46af-eba6-c62dbb36cfc7"
      },
      "execution_count": 31,
      "outputs": [
        {
          "output_type": "stream",
          "name": "stdout",
          "text": [
            "Epoch 0- Training... \n"
          ]
        },
        {
          "output_type": "stream",
          "name": "stderr",
          "text": [
            "100%|██████████| 3750/3750 [00:15<00:00, 239.49it/s]\n"
          ]
        },
        {
          "output_type": "stream",
          "name": "stdout",
          "text": [
            "Epoch 0- Evaluating... \n"
          ]
        },
        {
          "output_type": "stream",
          "name": "stderr",
          "text": [
            "100%|██████████| 313/313 [00:01<00:00, 201.82it/s]\n"
          ]
        },
        {
          "output_type": "stream",
          "name": "stdout",
          "text": [
            "Accuracy:  0.9763\n",
            "Epoch 1- Training... \n"
          ]
        },
        {
          "output_type": "stream",
          "name": "stderr",
          "text": [
            "100%|██████████| 3750/3750 [00:15<00:00, 236.20it/s]\n"
          ]
        },
        {
          "output_type": "stream",
          "name": "stdout",
          "text": [
            "Epoch 1- Evaluating... \n"
          ]
        },
        {
          "output_type": "stream",
          "name": "stderr",
          "text": [
            "100%|██████████| 313/313 [00:01<00:00, 196.53it/s]\n"
          ]
        },
        {
          "output_type": "stream",
          "name": "stdout",
          "text": [
            "Accuracy:  0.9755\n",
            "Epoch 2- Training... \n"
          ]
        },
        {
          "output_type": "stream",
          "name": "stderr",
          "text": [
            "100%|██████████| 3750/3750 [00:16<00:00, 230.98it/s]\n"
          ]
        },
        {
          "output_type": "stream",
          "name": "stdout",
          "text": [
            "Epoch 2- Evaluating... \n"
          ]
        },
        {
          "output_type": "stream",
          "name": "stderr",
          "text": [
            "100%|██████████| 313/313 [00:01<00:00, 199.42it/s]\n"
          ]
        },
        {
          "output_type": "stream",
          "name": "stdout",
          "text": [
            "Accuracy:  0.9728\n",
            "Epoch 3- Training... \n"
          ]
        },
        {
          "output_type": "stream",
          "name": "stderr",
          "text": [
            "100%|██████████| 3750/3750 [00:15<00:00, 240.45it/s]\n"
          ]
        },
        {
          "output_type": "stream",
          "name": "stdout",
          "text": [
            "Epoch 3- Evaluating... \n"
          ]
        },
        {
          "output_type": "stream",
          "name": "stderr",
          "text": [
            "100%|██████████| 313/313 [00:01<00:00, 198.42it/s]\n"
          ]
        },
        {
          "output_type": "stream",
          "name": "stdout",
          "text": [
            "Accuracy:  0.9758\n",
            "Epoch 4- Training... \n"
          ]
        },
        {
          "output_type": "stream",
          "name": "stderr",
          "text": [
            "100%|██████████| 3750/3750 [00:15<00:00, 240.39it/s]\n"
          ]
        },
        {
          "output_type": "stream",
          "name": "stdout",
          "text": [
            "Epoch 4- Evaluating... \n"
          ]
        },
        {
          "output_type": "stream",
          "name": "stderr",
          "text": [
            "100%|██████████| 313/313 [00:01<00:00, 199.55it/s]\n"
          ]
        },
        {
          "output_type": "stream",
          "name": "stdout",
          "text": [
            "Accuracy:  0.9777\n",
            "Epoch 5- Training... \n"
          ]
        },
        {
          "output_type": "stream",
          "name": "stderr",
          "text": [
            "100%|██████████| 3750/3750 [00:15<00:00, 240.65it/s]\n"
          ]
        },
        {
          "output_type": "stream",
          "name": "stdout",
          "text": [
            "Epoch 5- Evaluating... \n"
          ]
        },
        {
          "output_type": "stream",
          "name": "stderr",
          "text": [
            "100%|██████████| 313/313 [00:01<00:00, 201.70it/s]\n"
          ]
        },
        {
          "output_type": "stream",
          "name": "stdout",
          "text": [
            "Accuracy:  0.9763\n",
            "Epoch 6- Training... \n"
          ]
        },
        {
          "output_type": "stream",
          "name": "stderr",
          "text": [
            "100%|██████████| 3750/3750 [00:15<00:00, 238.83it/s]\n"
          ]
        },
        {
          "output_type": "stream",
          "name": "stdout",
          "text": [
            "Epoch 6- Evaluating... \n"
          ]
        },
        {
          "output_type": "stream",
          "name": "stderr",
          "text": [
            "100%|██████████| 313/313 [00:01<00:00, 200.25it/s]\n"
          ]
        },
        {
          "output_type": "stream",
          "name": "stdout",
          "text": [
            "Accuracy:  0.9755\n",
            "Epoch 7- Training... \n"
          ]
        },
        {
          "output_type": "stream",
          "name": "stderr",
          "text": [
            "100%|██████████| 3750/3750 [00:17<00:00, 215.20it/s]\n"
          ]
        },
        {
          "output_type": "stream",
          "name": "stdout",
          "text": [
            "Epoch 7- Evaluating... \n"
          ]
        },
        {
          "output_type": "stream",
          "name": "stderr",
          "text": [
            "100%|██████████| 313/313 [00:01<00:00, 197.56it/s]\n"
          ]
        },
        {
          "output_type": "stream",
          "name": "stdout",
          "text": [
            "Accuracy:  0.9681\n",
            "Epoch 8- Training... \n"
          ]
        },
        {
          "output_type": "stream",
          "name": "stderr",
          "text": [
            "100%|██████████| 3750/3750 [00:16<00:00, 230.78it/s]\n"
          ]
        },
        {
          "output_type": "stream",
          "name": "stdout",
          "text": [
            "Epoch 8- Evaluating... \n"
          ]
        },
        {
          "output_type": "stream",
          "name": "stderr",
          "text": [
            "100%|██████████| 313/313 [00:01<00:00, 200.88it/s]\n"
          ]
        },
        {
          "output_type": "stream",
          "name": "stdout",
          "text": [
            "Accuracy:  0.9752\n",
            "Epoch 9- Training... \n"
          ]
        },
        {
          "output_type": "stream",
          "name": "stderr",
          "text": [
            "100%|██████████| 3750/3750 [00:15<00:00, 237.21it/s]\n"
          ]
        },
        {
          "output_type": "stream",
          "name": "stdout",
          "text": [
            "Epoch 9- Evaluating... \n"
          ]
        },
        {
          "output_type": "stream",
          "name": "stderr",
          "text": [
            "100%|██████████| 313/313 [00:01<00:00, 198.63it/s]"
          ]
        },
        {
          "output_type": "stream",
          "name": "stdout",
          "text": [
            "Accuracy:  0.9775\n"
          ]
        },
        {
          "output_type": "stream",
          "name": "stderr",
          "text": [
            "\n"
          ]
        }
      ]
    },
    {
      "cell_type": "markdown",
      "source": [
        "**Task 8**: In this task, you are asked to use the last trained model to make a prediction of an image on test set. You also need to calculate the confident score of that prediction using softmax function. **(2 points)**"
      ],
      "metadata": {
        "id": "nTMfYOwhQaL5"
      }
    },
    {
      "cell_type": "code",
      "source": [
        "img, label = testset[0]   # you can change the index\n",
        "# input_tensor = torch.tensor(img).cuda() # convert image to tensor to be able to pass through model, and model the image to GPU\n",
        "input_tensor = img.clone().detach().cuda()  # to remove the torch.tensor will be deprecated error we use x.clone()\n",
        "output = model(input_tensor)\n",
        "# your code here\n",
        "value = model(input_tensor).argmax(axis=-1)[0]\n",
        "confident_score = softmax(model(input_tensor))[0].max() * 100\n",
        "print(f\"Prediction: {value} - confident score: {confident_score}\")\n",
        "plt.imshow(img[0])\n",
        "     \n"
      ],
      "metadata": {
        "id": "cIHAOO6Tfq9i",
        "colab": {
          "base_uri": "https://localhost:8080/",
          "height": 302
        },
        "outputId": "3a0605d6-4c16-4801-bf0a-da6f5d42a1d8"
      },
      "execution_count": 35,
      "outputs": [
        {
          "output_type": "stream",
          "name": "stdout",
          "text": [
            "Prediction: 7 - confident score: 99.99911499023438\n"
          ]
        },
        {
          "output_type": "execute_result",
          "data": {
            "text/plain": [
              "<matplotlib.image.AxesImage at 0x7f46a842d190>"
            ]
          },
          "metadata": {},
          "execution_count": 35
        },
        {
          "output_type": "display_data",
          "data": {
            "text/plain": [
              "<Figure size 432x288 with 1 Axes>"
            ],
            "image/png": "[encoded data removed]"
          },
          "metadata": {
            "needs_background": "light"
          }
        }
      ]
    },
    {
      "cell_type": "code",
      "source": [
        "img, label = testset[1256]   # you can change the index\n",
        "# input_tensor = torch.tensor(img).cuda() # convert image to tensor to be able to pass through model, and model the image to GPU\n",
        "input_tensor = img.clone().detach().cuda()  # to remove the torch.tensor will be deprecated error we use x.clone()\n",
        "output = model(input_tensor)\n",
        "# your code here\n",
        "value = model(input_tensor).argmax(axis=-1)[0]\n",
        "confident_score = softmax(model(input_tensor))[0].max() * 100\n",
        "print(f\"Prediction: {value} - confident score: {confident_score}\")\n",
        "plt.imshow(img[0])\n",
        "     \n"
      ],
      "metadata": {
        "colab": {
          "base_uri": "https://localhost:8080/",
          "height": 302
        },
        "id": "uxVBYEE-Tn_b",
        "outputId": "c9efa17c-4495-4fe1-eac9-515d3d8071b6"
      },
      "execution_count": 34,
      "outputs": [
        {
          "output_type": "stream",
          "name": "stdout",
          "text": [
            "Prediction: 2 - confident score: 99.39154052734375\n"
          ]
        },
        {
          "output_type": "execute_result",
          "data": {
            "text/plain": [
              "<matplotlib.image.AxesImage at 0x7f46a83413d0>"
            ]
          },
          "metadata": {},
          "execution_count": 34
        },
        {
          "output_type": "display_data",
          "data": {
            "text/plain": [
              "<Figure size 432x288 with 1 Axes>"
            ],
            "image/png": "[encoded data removed]"
          },
          "metadata": {
            "needs_background": "light"
          }
        }
      ]
    },
    {
      "cell_type": "code",
      "source": [
        "img, label = testset[100]   # you can change the index\n",
        "# input_tensor = torch.tensor(img).cuda() # convert image to tensor to be able to pass through model, and model the image to GPU\n",
        "input_tensor = img.clone().detach().cuda()  # to remove the torch.tensor will be deprecated error we use x.clone()\n",
        "output = model(input_tensor)\n",
        "# your code here\n",
        "value = model(input_tensor).argmax(axis=-1)[0]\n",
        "confident_score = softmax(model(input_tensor))[0].max() * 100\n",
        "print(f\"Prediction: {value} - confident score: {confident_score}\")\n",
        "plt.imshow(img[0])\n",
        "     \n"
      ],
      "metadata": {
        "colab": {
          "base_uri": "https://localhost:8080/",
          "height": 302
        },
        "id": "_RLfleWUT4G2",
        "outputId": "7179077a-5849-47cd-9145-05835b69cb22"
      },
      "execution_count": 36,
      "outputs": [
        {
          "output_type": "stream",
          "name": "stdout",
          "text": [
            "Prediction: 6 - confident score: 99.99952697753906\n"
          ]
        },
        {
          "output_type": "execute_result",
          "data": {
            "text/plain": [
              "<matplotlib.image.AxesImage at 0x7f46a820cf10>"
            ]
          },
          "metadata": {},
          "execution_count": 36
        },
        {
          "output_type": "display_data",
          "data": {
            "text/plain": [
              "<Figure size 432x288 with 1 Axes>"
            ],
            "image/png": "[encoded data removed]"
          },
          "metadata": {
            "needs_background": "light"
          }
        }
      ]
    }
  ]
}