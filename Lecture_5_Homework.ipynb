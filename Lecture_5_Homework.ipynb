{
  "cells": [
    {
      "cell_type": "markdown",
      "metadata": {
        "id": "view-in-github",
        "colab_type": "text"
      },
      "source": [
        "<a href=\"https://colab.research.google.com/github/MUTTA-ISIGI/basic-ml-course/blob/master/Lecture_5_Homework.ipynb\" target=\"_parent\"><img src=\"https://colab.research.google.com/assets/colab-badge.svg\" alt=\"Open In Colab\"/></a>"
      ]
    },
    {
      "cell_type": "markdown",
      "metadata": {
        "id": "h6sFU3yy9rKe"
      },
      "source": [
        "In this assignment, we will implement Bernoulli Naive Bayes and Multinomial Naive Bayes, and apply them for text classification. \\\\\n",
        "We will experiment on the 20 newsgroups text dataset. It comprises around 18000 newsgroups posts on 20 topics split in two subsets: one for training (or development) and the other one for testing (or for performance evaluation). \\\\\n",
        "First, we load the dataset from sklearn"
      ]
    },
    {
      "cell_type": "code",
      "execution_count": 51,
      "metadata": {
        "id": "VUJshdxZ8N7G"
      },
      "outputs": [],
      "source": [
        "from sklearn.datasets import fetch_20newsgroups\n",
        "newsgroups_train = fetch_20newsgroups(subset='train')\n",
        "newsgroups_test = fetch_20newsgroups(subset='test')"
      ]
    },
    {
      "cell_type": "markdown",
      "metadata": {
        "id": "PXgEMdjf-drl"
      },
      "source": [
        "You can access to text by `data` property. For labels, their name and corresponding numeric values are stored in `target_names` and `target`. \\\\\n",
        "Let's take a look at our data"
      ]
    },
    {
      "cell_type": "code",
      "execution_count": 52,
      "metadata": {
        "colab": {
          "base_uri": "https://localhost:8080/"
        },
        "id": "Pri0JqOR-mP_",
        "outputId": "cf393aaf-f4e7-469a-b987-0f8c031c96ab"
      },
      "outputs": [
        {
          "output_type": "execute_result",
          "data": {
            "text/plain": [
              "11314"
            ]
          },
          "metadata": {},
          "execution_count": 52
        }
      ],
      "source": [
        "len(newsgroups_train.data)"
      ]
    },
    {
      "cell_type": "code",
      "execution_count": 53,
      "metadata": {
        "colab": {
          "base_uri": "https://localhost:8080/"
        },
        "id": "oWzOQVje-0OI",
        "outputId": "bdb676a4-79cc-43a3-b2fc-0abeaeb04940"
      },
      "outputs": [
        {
          "output_type": "execute_result",
          "data": {
            "text/plain": [
              "(array([7, 4, 4, ..., 3, 1, 8]),\n",
              " ['alt.atheism',\n",
              "  'comp.graphics',\n",
              "  'comp.os.ms-windows.misc',\n",
              "  'comp.sys.ibm.pc.hardware',\n",
              "  'comp.sys.mac.hardware',\n",
              "  'comp.windows.x',\n",
              "  'misc.forsale',\n",
              "  'rec.autos',\n",
              "  'rec.motorcycles',\n",
              "  'rec.sport.baseball',\n",
              "  'rec.sport.hockey',\n",
              "  'sci.crypt',\n",
              "  'sci.electronics',\n",
              "  'sci.med',\n",
              "  'sci.space',\n",
              "  'soc.religion.christian',\n",
              "  'talk.politics.guns',\n",
              "  'talk.politics.mideast',\n",
              "  'talk.politics.misc',\n",
              "  'talk.religion.misc'])"
            ]
          },
          "metadata": {},
          "execution_count": 53
        }
      ],
      "source": [
        "newsgroups_train.target, newsgroups_train.target_names"
      ]
    },
    {
      "cell_type": "code",
      "execution_count": 54,
      "metadata": {
        "colab": {
          "base_uri": "https://localhost:8080/",
          "height": 127
        },
        "id": "2RDyDW0N-XGU",
        "outputId": "a0c63139-7739-49fb-f625-5404de09f4c5"
      },
      "outputs": [
        {
          "output_type": "execute_result",
          "data": {
            "text/plain": [
              "\"From: lerxst@wam.umd.edu (where's my thing)\\nSubject: WHAT car is this!?\\nNntp-Posting-Host: rac3.wam.umd.edu\\nOrganization: University of Maryland, College Park\\nLines: 15\\n\\n I was wondering if anyone out there could enlighten me on this car I saw\\nthe other day. It was a 2-door sports car, looked to be from the late 60s/\\nearly 70s. It was called a Bricklin. The doors were really small. In addition,\\nthe front bumper was separate from the rest of the body. This is \\nall I know. If anyone can tellme a model name, engine specs, years\\nof production, where this car is made, history, or whatever info you\\nhave on this funky looking car, please e-mail.\\n\\nThanks,\\n- IL\\n   ---- brought to you by your neighborhood Lerxst ----\\n\\n\\n\\n\\n\""
            ],
            "application/vnd.google.colaboratory.intrinsic+json": {
              "type": "string"
            }
          },
          "metadata": {},
          "execution_count": 54
        }
      ],
      "source": [
        "newsgroups_train.data[0]"
      ]
    },
    {
      "cell_type": "markdown",
      "metadata": {
        "id": "U3AQxoDZ_hBe"
      },
      "source": [
        "When applying machine learning to solve problems, designing algorithm is not the only way to optimize. We can also intervene on data, i.e. data preprocessing, feature selection, etc. In some case, this approach is even better than model optimizing. <br>\n",
        "For this dataset, you can notice that the text have lots of redundant information, for example punctuation, title, etc. We can remove those from our data to get better performance. Here I define a function to remove all punctuation from text."
      ]
    },
    {
      "cell_type": "code",
      "execution_count": 55,
      "metadata": {
        "id": "d1wQ6mFp-YyE"
      },
      "outputs": [],
      "source": [
        "def remove_tokens(token_list, text):\n",
        "    for token in token_list:\n",
        "        text = text.replace(token, '')\n",
        "    return text"
      ]
    },
    {
      "cell_type": "code",
      "execution_count": 56,
      "metadata": {
        "id": "yw6KGy8pBPUr"
      },
      "outputs": [],
      "source": [
        "from string import punctuation\n",
        "preprocessed_text = [remove_tokens(punctuation, text) for text in newsgroups_train.data]"
      ]
    },
    {
      "cell_type": "markdown",
      "metadata": {
        "id": "FK2T5rTQBZEY"
      },
      "source": [
        "**Assignment 1** : First we have to transform text into numeric feature. You have to build a matrix that counts word occurences in each documents **(0.5pt)**. For fast computing, we only select `30000` words with highest frequency. <br>\n",
        "*Hint* You should use `sklearn.feature_extraction.text.CountVectorizer` and `max_features` argument."
      ]
    },
    {
      "cell_type": "code",
      "execution_count": 57,
      "metadata": {
        "colab": {
          "base_uri": "https://localhost:8080/"
        },
        "id": "426ZmPR-ytRL",
        "outputId": "415bd960-7182-42d7-da87-f11727ae31e3"
      },
      "outputs": [
        {
          "output_type": "stream",
          "name": "stdout",
          "text": [
            "[[0 0 0 ... 0 0 0]\n",
            " [0 0 0 ... 0 0 0]\n",
            " [0 0 0 ... 0 0 0]\n",
            " ...\n",
            " [0 0 0 ... 0 0 0]\n",
            " [0 0 0 ... 0 0 0]\n",
            " [0 0 0 ... 0 0 0]]\n",
            "(11314, 30000)\n"
          ]
        }
      ],
      "source": [
        "from sklearn.feature_extraction.text import CountVectorizer\n",
        "num_word = 30000\n",
        "vectorizer = CountVectorizer(max_features=num_word)\n",
        "train_data = vectorizer.fit_transform(preprocessed_text).toarray()\n",
        "print(train_data)\n",
        "print(train_data.shape)\n"
      ]
    },
    {
      "cell_type": "markdown",
      "metadata": {
        "id": "MnHe2WcpDRJ_"
      },
      "source": [
        "Recall that for Naive Bayes, we find label that satisfy \n",
        "$$c=\\arg\\max_{c'} p(c')\\prod p(x_i|c')$$\n",
        "**Assigment 2** : We will derive prior probabilities $p(c')$ from data by computing frequency of class. You have to compute the number of documents in each class in `class_freq` variable, and divide to the total number of documents to get prior probability in `prior_prob` variable **(1pt)** <br>\n",
        "*Hint* To count the number of data with given class, you can use `np.unique` function with argument `return_counts=True`. To get summation of a numpy array, you coud use `np.sum` function"
      ]
    },
    {
      "cell_type": "code",
      "execution_count": 58,
      "metadata": {
        "colab": {
          "base_uri": "https://localhost:8080/"
        },
        "id": "tyufOD_ODQra",
        "outputId": "a401ba81-b0ce-4f20-ad78-60f833538882"
      },
      "outputs": [
        {
          "output_type": "execute_result",
          "data": {
            "text/plain": [
              "array([480, 584, 591, 590, 578, 593, 585, 594, 598, 597, 600, 595, 591,\n",
              "       594, 593, 599, 546, 564, 465, 377])"
            ]
          },
          "metadata": {},
          "execution_count": 58
        }
      ],
      "source": [
        "import numpy as np\n",
        "classes,class_freq = np.unique(newsgroups_train.target,return_counts=True)\n",
        "prior_prob = class_freq/np.sum(class_freq) \n",
        "class_freq"
      ]
    },
    {
      "cell_type": "markdown",
      "metadata": {
        "id": "ib3LX3zVGe0L"
      },
      "source": [
        "**Assigment 3** : In this step, we will implement Bernoulli Naive Bayes. Therefore, the conditional probability is probability of that a document with label $c$ has the word $x_i$. <br>\n",
        "To do that, we need the number of documents which has word $x_i$ and label $c$ for every pair $(x_i,c)$. Your task is computing these values and store them in `word_label_freq` variable. It should be a numpy array for fast computing in the next step. **(0.5.pt)** <br>\n",
        "*Hint:* Our `'train_data` features are the number of occurences of words in documents. You can convert them to binary feature that whether a word appears in a document. To get all data of a given class, you can use [boolean index select](https://numpy.org/doc/stable/user/basics.indexing.html#boolean-array-indexing). To sum up a 2d numpy array along a selected dimension, you can use `np.sum(..., axis=...)`"
      ]
    },
    {
      "cell_type": "code",
      "execution_count": 59,
      "metadata": {
        "colab": {
          "base_uri": "https://localhost:8080/"
        },
        "id": "x5c39g3zFKX6",
        "outputId": "9e9f0f60-92f1-4698-b7bf-34d81ab40528"
      },
      "outputs": [
        {
          "output_type": "execute_result",
          "data": {
            "text/plain": [
              "array([0.04242531, 0.05161747, 0.05223617, 0.05214778, 0.05108715,\n",
              "       0.05241294, 0.05170585, 0.05250133, 0.05285487, 0.05276648,\n",
              "       0.05303164, 0.05258971, 0.05223617, 0.05250133, 0.05241294,\n",
              "       0.05294326, 0.04825879, 0.04984974, 0.04109952, 0.03332155])"
            ]
          },
          "metadata": {},
          "execution_count": 59
        }
      ],
      "source": [
        "#word_label_freq = np.zeros(len(newsgroups_train.target_names),train_data())\n",
        "word_label_freq = class_freq/ np.sum(class_freq,axis = 0)\n",
        "word_label_freq "
      ]
    },
    {
      "cell_type": "markdown",
      "metadata": {
        "id": "uDRlWLSdGiXu"
      },
      "source": [
        "**Assigment 4** : \n",
        "The conditional probability is computed by dividing the number of documents which has word $x_i$ and label $c$ to the number of documents with label $c$. However, if there is no document which has word $x_i$ and label $c$ in training data, the probability will be zero, which is undesirable. <br>\n",
        "To handle this problem, we can apply Laplace smoothing, then conditional probability will be computed as following\n",
        "$$p(x_i=1|c) = \\frac{N_{ic} + \\alpha}{N_c +|V|\\alpha}$$\n",
        "where $|V|$ is the number of words, which is `30000` here. <br>\n",
        "Your task here is implementing this formula with default `alpha=0.01` and then fill in all the probability values in `cond_prob` variable. It should be a numpy array for fast computing in the next step. **(1pt)**"
      ]
    },
    {
      "cell_type": "code",
      "execution_count": 60,
      "metadata": {
        "id": "015-PXOs2qSl"
      },
      "outputs": [],
      "source": [
        "alpha = 0.01"
      ]
    },
    {
      "cell_type": "code",
      "execution_count": 61,
      "metadata": {
        "colab": {
          "base_uri": "https://localhost:8080/"
        },
        "id": "cH_GMi4nFSzk",
        "outputId": "4a8d5a60-7680-45a3-8cb9-cebcc96d683c"
      },
      "outputs": [
        {
          "output_type": "stream",
          "name": "stdout",
          "text": [
            "(20,)\n",
            "[6.72119407e-05 6.97030148e-05 6.98497953e-05 6.98289680e-05\n",
            " 6.95753402e-05 6.98913099e-05 6.97241256e-05 6.99119975e-05\n",
            " 6.99942874e-05 6.99737837e-05 7.00351580e-05 6.99326390e-05\n",
            " 6.98497953e-05 6.99119975e-05 6.98913099e-05 7.00147454e-05\n",
            " 6.88638232e-05 6.92705367e-05 6.67967617e-05 6.39904705e-05]\n"
          ]
        }
      ],
      "source": [
        "#cond_prob = word_label_freq + alpha / word_label_freq + num_word * alpha\n",
        "\n",
        "#print(cond_prob.shape)\n",
        "cond_prob = np.array([(word_label_freq[i] + alpha)/(class_freq[i] + num_word * alpha) for i in range(len(class_freq))])\n",
        "print(cond_prob.shape)\n",
        "print(cond_prob)\n"
      ]
    },
    {
      "cell_type": "markdown",
      "metadata": {
        "id": "AsBHViWqGj9U"
      },
      "source": [
        "**Assigment 5** : For test data, the conditional probabily follows Bernoulli distribution and is computed by\n",
        "$$p(x_i|c) = p(x_i=1|c)x_i + p(x_i=0|c)(1 - x_i)$$\n",
        "Then we multiply with prior probability and select the class with highest value as predicted label. For numerical stability, you should use log probability to compute. **(2pt)** <br>\n",
        "$$c = \\arg\\max_{c'}(\\log p(c')+\\sum_{x_i\\in vocab}\\log p(x_i|c'))$$\n",
        "*Hint* Remember to convert test data feature to binary feature as training data.\n"
      ]
    },
    {
      "cell_type": "code",
      "execution_count": 62,
      "metadata": {
        "id": "ZbLeeFp43Eg7"
      },
      "outputs": [],
      "source": [
        "def find_label(data):\n",
        "    \"\"\"\n",
        "        Your code here\n",
        "    \"\"\"\n",
        "    data = np.array(data.toarray()).flatten()\n",
        "    indices = np.where(data > 0)\n",
        "    if __name__ == \"__main__\":\n",
        "\n",
        "     data = cond_prob * class_freq + prior_prob * 1 - class_freq\n",
        "    label = np.log(prior_prob) + np.sum(np.log(data))\n",
        "    return label\n",
        "\n",
        "    #return find_label(data)\n",
        "    # data = np.array(data.toarray()).flatten()\n",
        "    # indices = np.where(data > 0)\n",
        "    # indices_0 = np.where(data==0)\n",
        "  \n",
        "    # mx_val = -1e18\n",
        "    # result_class = 0\n",
        "    # for i,class_val in enumerate(cond_prob):\n",
        "    #   prod = np.log(prior_prob[i]) + np.sum(np.log(class_val[indices])) + np.sum(np.log(1 - class_val[indices_0]))\n",
        "    #   if prod >= mx_val:\n",
        "    #     result_class = i\n",
        "    #     mx_val = prod\n",
        "    # return result_class\n"
      ]
    },
    {
      "cell_type": "markdown",
      "metadata": {
        "id": "epm5l9atNAMr"
      },
      "source": [
        "Now we can obtain labels and accuracy score of model on test data"
      ]
    },
    {
      "cell_type": "code",
      "execution_count": 63,
      "metadata": {
        "id": "bxBsRI6f4Jym"
      },
      "outputs": [],
      "source": [
        "preprocessed_test_text = [remove_tokens(punctuation, text) for text in newsgroups_test.data]\n",
        "test_data = vectorizer.transform(preprocessed_test_text)"
      ]
    },
    {
      "cell_type": "code",
      "execution_count": 80,
      "metadata": {
        "id": "wNLWpQMc4a9s",
        "colab": {
          "base_uri": "https://localhost:8080/"
        },
        "outputId": "84c83de2-8684-41da-c2e7-09e63ec3b23d"
      },
      "outputs": [
        {
          "output_type": "stream",
          "name": "stderr",
          "text": [
            "0it [00:00, ?it/s]/usr/local/lib/python3.7/dist-packages/ipykernel_launcher.py:10: RuntimeWarning: invalid value encountered in log\n",
            "  # Remove the CWD from sys.path while we load stuff.\n",
            "7532it [00:01, 5852.21it/s]\n"
          ]
        }
      ],
      "source": [
        "pred = []\n",
        "from tqdm import tqdm\n",
        "for text in tqdm(test_data):\n",
        "    pred.append(find_label(text))"
      ]
    },
    {
      "cell_type": "code",
      "execution_count": 99,
      "metadata": {
        "id": "MSEKT9t-7KgT",
        "colab": {
          "base_uri": "https://localhost:8080/",
          "height": 378
        },
        "outputId": "381c2f4f-a34f-4979-a784-5e4ac921cccb"
      },
      "outputs": [
        {
          "output_type": "stream",
          "name": "stdout",
          "text": [
            "nan\n"
          ]
        },
        {
          "output_type": "error",
          "ename": "ValueError",
          "evalue": "ignored",
          "traceback": [
            "\u001b[0;31m---------------------------------------------------------------------------\u001b[0m",
            "\u001b[0;31mValueError\u001b[0m                                Traceback (most recent call last)",
            "\u001b[0;32m<ipython-input-99-0e070dd373ca>\u001b[0m in \u001b[0;36m<module>\u001b[0;34m\u001b[0m\n\u001b[1;32m      4\u001b[0m \u001b[0;34m\u001b[0m\u001b[0m\n\u001b[1;32m      5\u001b[0m \u001b[0mprint\u001b[0m\u001b[0;34m(\u001b[0m\u001b[0mnp\u001b[0m\u001b[0;34m.\u001b[0m\u001b[0msum\u001b[0m\u001b[0;34m(\u001b[0m\u001b[0mpred\u001b[0m\u001b[0;34m)\u001b[0m\u001b[0;34m)\u001b[0m\u001b[0;34m\u001b[0m\u001b[0;34m\u001b[0m\u001b[0m\n\u001b[0;32m----> 6\u001b[0;31m \u001b[0mmetrics\u001b[0m\u001b[0;34m.\u001b[0m\u001b[0maccuracy_score\u001b[0m\u001b[0;34m(\u001b[0m\u001b[0mpred\u001b[0m\u001b[0;34m,\u001b[0m \u001b[0mnewsgroups_test\u001b[0m\u001b[0;34m.\u001b[0m\u001b[0mtarget\u001b[0m\u001b[0;34m)\u001b[0m\u001b[0;34m\u001b[0m\u001b[0;34m\u001b[0m\u001b[0m\n\u001b[0m",
            "\u001b[0;32m/usr/local/lib/python3.7/dist-packages/sklearn/metrics/_classification.py\u001b[0m in \u001b[0;36maccuracy_score\u001b[0;34m(y_true, y_pred, normalize, sample_weight)\u001b[0m\n\u001b[1;32m    209\u001b[0m \u001b[0;34m\u001b[0m\u001b[0m\n\u001b[1;32m    210\u001b[0m     \u001b[0;31m# Compute accuracy for each possible representation\u001b[0m\u001b[0;34m\u001b[0m\u001b[0;34m\u001b[0m\u001b[0;34m\u001b[0m\u001b[0m\n\u001b[0;32m--> 211\u001b[0;31m     \u001b[0my_type\u001b[0m\u001b[0;34m,\u001b[0m \u001b[0my_true\u001b[0m\u001b[0;34m,\u001b[0m \u001b[0my_pred\u001b[0m \u001b[0;34m=\u001b[0m \u001b[0m_check_targets\u001b[0m\u001b[0;34m(\u001b[0m\u001b[0my_true\u001b[0m\u001b[0;34m,\u001b[0m \u001b[0my_pred\u001b[0m\u001b[0;34m)\u001b[0m\u001b[0;34m\u001b[0m\u001b[0;34m\u001b[0m\u001b[0m\n\u001b[0m\u001b[1;32m    212\u001b[0m     \u001b[0mcheck_consistent_length\u001b[0m\u001b[0;34m(\u001b[0m\u001b[0my_true\u001b[0m\u001b[0;34m,\u001b[0m \u001b[0my_pred\u001b[0m\u001b[0;34m,\u001b[0m \u001b[0msample_weight\u001b[0m\u001b[0;34m)\u001b[0m\u001b[0;34m\u001b[0m\u001b[0;34m\u001b[0m\u001b[0m\n\u001b[1;32m    213\u001b[0m     \u001b[0;32mif\u001b[0m \u001b[0my_type\u001b[0m\u001b[0;34m.\u001b[0m\u001b[0mstartswith\u001b[0m\u001b[0;34m(\u001b[0m\u001b[0;34m\"multilabel\"\u001b[0m\u001b[0;34m)\u001b[0m\u001b[0;34m:\u001b[0m\u001b[0;34m\u001b[0m\u001b[0;34m\u001b[0m\u001b[0m\n",
            "\u001b[0;32m/usr/local/lib/python3.7/dist-packages/sklearn/metrics/_classification.py\u001b[0m in \u001b[0;36m_check_targets\u001b[0;34m(y_true, y_pred)\u001b[0m\n\u001b[1;32m     82\u001b[0m     \u001b[0my_pred\u001b[0m \u001b[0;34m:\u001b[0m \u001b[0marray\u001b[0m \u001b[0;32mor\u001b[0m \u001b[0mindicator\u001b[0m \u001b[0mmatrix\u001b[0m\u001b[0;34m\u001b[0m\u001b[0;34m\u001b[0m\u001b[0m\n\u001b[1;32m     83\u001b[0m     \"\"\"\n\u001b[0;32m---> 84\u001b[0;31m     \u001b[0mcheck_consistent_length\u001b[0m\u001b[0;34m(\u001b[0m\u001b[0my_true\u001b[0m\u001b[0;34m,\u001b[0m \u001b[0my_pred\u001b[0m\u001b[0;34m)\u001b[0m\u001b[0;34m\u001b[0m\u001b[0;34m\u001b[0m\u001b[0m\n\u001b[0m\u001b[1;32m     85\u001b[0m     \u001b[0mtype_true\u001b[0m \u001b[0;34m=\u001b[0m \u001b[0mtype_of_target\u001b[0m\u001b[0;34m(\u001b[0m\u001b[0my_true\u001b[0m\u001b[0;34m)\u001b[0m\u001b[0;34m\u001b[0m\u001b[0;34m\u001b[0m\u001b[0m\n\u001b[1;32m     86\u001b[0m     \u001b[0mtype_pred\u001b[0m \u001b[0;34m=\u001b[0m \u001b[0mtype_of_target\u001b[0m\u001b[0;34m(\u001b[0m\u001b[0my_pred\u001b[0m\u001b[0;34m)\u001b[0m\u001b[0;34m\u001b[0m\u001b[0;34m\u001b[0m\u001b[0m\n",
            "\u001b[0;32m/usr/local/lib/python3.7/dist-packages/sklearn/utils/validation.py\u001b[0m in \u001b[0;36mcheck_consistent_length\u001b[0;34m(*arrays)\u001b[0m\n\u001b[1;32m    332\u001b[0m         raise ValueError(\n\u001b[1;32m    333\u001b[0m             \u001b[0;34m\"Found input variables with inconsistent numbers of samples: %r\"\u001b[0m\u001b[0;34m\u001b[0m\u001b[0;34m\u001b[0m\u001b[0m\n\u001b[0;32m--> 334\u001b[0;31m             \u001b[0;34m%\u001b[0m \u001b[0;34m[\u001b[0m\u001b[0mint\u001b[0m\u001b[0;34m(\u001b[0m\u001b[0ml\u001b[0m\u001b[0;34m)\u001b[0m \u001b[0;32mfor\u001b[0m \u001b[0ml\u001b[0m \u001b[0;32min\u001b[0m \u001b[0mlengths\u001b[0m\u001b[0;34m]\u001b[0m\u001b[0;34m\u001b[0m\u001b[0;34m\u001b[0m\u001b[0m\n\u001b[0m\u001b[1;32m    335\u001b[0m         )\n\u001b[1;32m    336\u001b[0m \u001b[0;34m\u001b[0m\u001b[0m\n",
            "\u001b[0;31mValueError\u001b[0m: Found input variables with inconsistent numbers of samples: [7532, 20]"
          ]
        }
      ],
      "source": [
        "from sklearn import metrics\n",
        "#from sklearn.metrics import accuracy_score\n",
        "\n",
        "\n",
        "print(np.sum(pred))\n",
        "metrics.accuracy_score(pred, newsgroups_test.target)"
      ]
    },
    {
      "cell_type": "markdown",
      "metadata": {
        "id": "x70hGH3RGlbI"
      },
      "source": [
        "**Assigment 6** : Next, we will implement Multinomial Naive Bayes. For this model, the conditional probability follows multinomial distribution. We have to estimate conditional probabilities from data as the frequency of words in all documents with a given class. <br>\n",
        "First, you have to count the number of occurences of a word $x_i$ in all document with class $c$ **(0.5pt)**."
      ]
    },
    {
      "cell_type": "code",
      "execution_count": 89,
      "metadata": {
        "id": "_ZGCBLk8FaHw",
        "colab": {
          "base_uri": "https://localhost:8080/"
        },
        "outputId": "2359e90a-8479-4a26-f552-6f3600be8327"
      },
      "outputs": [
        {
          "output_type": "stream",
          "name": "stdout",
          "text": [
            "[[ 0.  0.  0. ...  0.  0.  0.]\n",
            " [18.  0.  0. ... 10.  2.  1.]\n",
            " [ 4.  0.  1. ...  0.  0.  0.]\n",
            " ...\n",
            " [ 0.  4.  1. ...  0.  0.  0.]\n",
            " [ 1.  0.  0. ...  0.  0.  0.]\n",
            " [ 0.  0.  0. ...  0.  0.  0.]]\n"
          ]
        }
      ],
      "source": [
        "word_label_freq = np.zeros((len(newsgroups_train.target_names),train_data.shape[1]))\n",
        "\n",
        "for i in range(len(newsgroups_train.target)):\n",
        "  word_label_freq[newsgroups_train.target[i]] += train_data[i]\n",
        "\n",
        "word_label_freq\n",
        "print(word_label_freq)"
      ]
    },
    {
      "cell_type": "markdown",
      "metadata": {
        "id": "4GP4fhl_GsOQ"
      },
      "source": [
        "**Assigment 7** : Your task here is to count the total number of words in all documents of class $c$ to compute probability in next step. **(0.5)pt** <br>\n",
        "*Hint* You can sum the number of occurences of all words in class $c$ that we obtained in last step."
      ]
    },
    {
      "cell_type": "code",
      "execution_count": 90,
      "metadata": {
        "id": "W2yAJ49sFud0",
        "colab": {
          "base_uri": "https://localhost:8080/"
        },
        "outputId": "2fbabc53-5fea-44e4-de84-4a32017fca60"
      },
      "outputs": [
        {
          "output_type": "stream",
          "name": "stdout",
          "text": [
            "[149997. 110358.  93067. 103648.  92609. 147439.  69568. 117770. 106393.\n",
            " 115963. 152844. 203722. 107589. 155324. 155745. 203120. 178699. 255412.\n",
            " 187744. 120767.]\n"
          ]
        }
      ],
      "source": [
        "num_word_in_classes = np.sum(word_label_freq,axis=1)\n",
        "print(num_word_in_classes)"
      ]
    },
    {
      "cell_type": "markdown",
      "metadata": {
        "id": "9S4qCZrtGtwO"
      },
      "source": [
        "**Assigment 8** : Now we can compute conditional probability for every pair $(x_i, c)$. Similar to Bernoulli Naive Bayes, we also add Laplace smoothing to avoid zero probability\n",
        "$$p(x_i|c) = \\frac{N_{ic} + \\alpha}{N_c +|V|\\alpha}$$\n",
        "where $N_{ic}$ is the number of occurences of word $x_i$ in all documents with class $c$, $N_c$ is the total number of words in all documents of class $c$. <br>\n",
        "For numerical stability, you should compute log of probablity **(1pt)**.\n",
        "$$\\log p(x_i|c) = \\log (N_{ic} + \\alpha) - \\log(N_c +|V|\\alpha)$$"
      ]
    },
    {
      "cell_type": "code",
      "execution_count": 93,
      "metadata": {
        "id": "gUMX_iwDFwr3",
        "colab": {
          "base_uri": "https://localhost:8080/"
        },
        "outputId": "a8e69d2d-5104-46e5-e2ce-9439253de211"
      },
      "outputs": [
        {
          "output_type": "stream",
          "name": "stdout",
          "text": [
            "(20, 30000)\n",
            "[[-16.5255388  -16.5255388  -16.5255388  ... -16.5255388  -16.5255388\n",
            "  -16.5255388 ]\n",
            " [ -8.72327248 -16.21936983 -16.21936983 ...  -9.31061505 -10.91606492\n",
            "  -11.60424931]\n",
            " [-10.055502   -16.04946343 -11.43434291 ... -16.04946343 -16.04946343\n",
            "  -16.04946343]\n",
            " ...\n",
            " [-17.05697728 -11.06301585 -12.44185676 ... -17.05697728 -17.05697728\n",
            "  -17.05697728]\n",
            " [-12.13448093 -16.74960144 -16.74960144 ... -16.74960144 -16.74960144\n",
            "  -16.74960144]\n",
            " [-16.30926958 -16.30926958 -16.30926958 ... -16.30926958 -16.30926958\n",
            "  -16.30926958]]\n"
          ]
        }
      ],
      "source": [
        "log_cond_prob = np.array([np.log(word_label_freq[i] + alpha) - np.log(num_word_in_classes[i] + num_word * alpha) for i in range(len(class_freq))])\n",
        "print(log_cond_prob.shape)\n",
        "print(log_cond_prob)"
      ]
    },
    {
      "cell_type": "markdown",
      "metadata": {
        "id": "whEfFBPC-W2H"
      },
      "source": [
        "**Assignment 9** : After getting all necessary probabilities, we can find label of new test data. For this task, you have to implement `find_label` function that compute product of prior and conditional probablities, and select the label with highest value. Finally, you can get prediction for all test data and get accuracy score **(3pt)**.\n",
        "$$c = \\arg\\max_{c'}(\\log p(c')+\\sum_{x_i\\in text}\\log p(x_i|c'))$$"
      ]
    },
    {
      "cell_type": "code",
      "execution_count": 96,
      "metadata": {
        "id": "J7pylT3i_CiO"
      },
      "outputs": [],
      "source": [
        "def find_label(data):\n",
        "    \"\"\"\n",
        "      Your code here\n",
        "    \"\"\"\n",
        "    data = np.array(data.toarray()).flatten()\n",
        "    indices = np.where(data > 0)\n",
        "    if __name__ == \"__main__\":\n",
        "\n",
        "     data = cond_prob * class_freq + prior_prob * 1 - class_freq\n",
        "    label = np.log(prior_prob) + np.sum(np.log(data))\n",
        "    return label\n",
        "    # data = np.array(data.toarray()).flatten()\n",
        "    # indices = np.where(data > 0)\n",
        "    # indices_0 = np.where(data==0)\n",
        "    #   #print(indices)\n",
        "    #   #print(data.shape)\n",
        "    # mx_val = -1e18\n",
        "    # result_class = 0\n",
        "    # for i,class_val in enumerate(log_cond_prob):\n",
        "    #   prod = np.log(prior_prob[i]) + np.sum(class_val[indices]) + np.sum(np.log(1 - np.exp(class_val[indices_0])))\n",
        "    #   if prod >= mx_val:\n",
        "    #       result_class = i\n",
        "    #       mx_val = prod\n",
        "    #   return result_class"
      ]
    },
    {
      "cell_type": "code",
      "execution_count": 97,
      "metadata": {
        "id": "WHolEq4mb3Jc",
        "colab": {
          "base_uri": "https://localhost:8080/",
          "height": 415
        },
        "outputId": "788de297-b8fc-4188-aa1c-785c14c34a4d"
      },
      "outputs": [
        {
          "output_type": "stream",
          "name": "stderr",
          "text": [
            "0it [00:00, ?it/s]/usr/local/lib/python3.7/dist-packages/ipykernel_launcher.py:10: RuntimeWarning: invalid value encountered in log\n",
            "  # Remove the CWD from sys.path while we load stuff.\n",
            "7532it [00:01, 6028.49it/s]\n"
          ]
        },
        {
          "output_type": "error",
          "ename": "ValueError",
          "evalue": "ignored",
          "traceback": [
            "\u001b[0;31m---------------------------------------------------------------------------\u001b[0m",
            "\u001b[0;31mValueError\u001b[0m                                Traceback (most recent call last)",
            "\u001b[0;32m<ipython-input-97-70f627f425ac>\u001b[0m in \u001b[0;36m<module>\u001b[0;34m\u001b[0m\n\u001b[1;32m      2\u001b[0m \u001b[0;32mfor\u001b[0m \u001b[0mtext\u001b[0m \u001b[0;32min\u001b[0m \u001b[0mtqdm\u001b[0m\u001b[0;34m(\u001b[0m\u001b[0mtest_data\u001b[0m\u001b[0;34m)\u001b[0m\u001b[0;34m:\u001b[0m\u001b[0;34m\u001b[0m\u001b[0;34m\u001b[0m\u001b[0m\n\u001b[1;32m      3\u001b[0m     \u001b[0mpred\u001b[0m\u001b[0;34m.\u001b[0m\u001b[0mappend\u001b[0m\u001b[0;34m(\u001b[0m\u001b[0mfind_label\u001b[0m\u001b[0;34m(\u001b[0m\u001b[0mtext\u001b[0m\u001b[0;34m)\u001b[0m\u001b[0;34m)\u001b[0m\u001b[0;34m\u001b[0m\u001b[0;34m\u001b[0m\u001b[0m\n\u001b[0;32m----> 4\u001b[0;31m \u001b[0mmetrics\u001b[0m\u001b[0;34m.\u001b[0m\u001b[0maccuracy_score\u001b[0m\u001b[0;34m(\u001b[0m\u001b[0mpred\u001b[0m\u001b[0;34m,\u001b[0m \u001b[0mnewsgroups_test\u001b[0m\u001b[0;34m.\u001b[0m\u001b[0mtarget\u001b[0m\u001b[0;34m)\u001b[0m\u001b[0;34m\u001b[0m\u001b[0;34m\u001b[0m\u001b[0m\n\u001b[0m",
            "\u001b[0;32m/usr/local/lib/python3.7/dist-packages/sklearn/metrics/_classification.py\u001b[0m in \u001b[0;36maccuracy_score\u001b[0;34m(y_true, y_pred, normalize, sample_weight)\u001b[0m\n\u001b[1;32m    209\u001b[0m \u001b[0;34m\u001b[0m\u001b[0m\n\u001b[1;32m    210\u001b[0m     \u001b[0;31m# Compute accuracy for each possible representation\u001b[0m\u001b[0;34m\u001b[0m\u001b[0;34m\u001b[0m\u001b[0;34m\u001b[0m\u001b[0m\n\u001b[0;32m--> 211\u001b[0;31m     \u001b[0my_type\u001b[0m\u001b[0;34m,\u001b[0m \u001b[0my_true\u001b[0m\u001b[0;34m,\u001b[0m \u001b[0my_pred\u001b[0m \u001b[0;34m=\u001b[0m \u001b[0m_check_targets\u001b[0m\u001b[0;34m(\u001b[0m\u001b[0my_true\u001b[0m\u001b[0;34m,\u001b[0m \u001b[0my_pred\u001b[0m\u001b[0;34m)\u001b[0m\u001b[0;34m\u001b[0m\u001b[0;34m\u001b[0m\u001b[0m\n\u001b[0m\u001b[1;32m    212\u001b[0m     \u001b[0mcheck_consistent_length\u001b[0m\u001b[0;34m(\u001b[0m\u001b[0my_true\u001b[0m\u001b[0;34m,\u001b[0m \u001b[0my_pred\u001b[0m\u001b[0;34m,\u001b[0m \u001b[0msample_weight\u001b[0m\u001b[0;34m)\u001b[0m\u001b[0;34m\u001b[0m\u001b[0;34m\u001b[0m\u001b[0m\n\u001b[1;32m    213\u001b[0m     \u001b[0;32mif\u001b[0m \u001b[0my_type\u001b[0m\u001b[0;34m.\u001b[0m\u001b[0mstartswith\u001b[0m\u001b[0;34m(\u001b[0m\u001b[0;34m\"multilabel\"\u001b[0m\u001b[0;34m)\u001b[0m\u001b[0;34m:\u001b[0m\u001b[0;34m\u001b[0m\u001b[0;34m\u001b[0m\u001b[0m\n",
            "\u001b[0;32m/usr/local/lib/python3.7/dist-packages/sklearn/metrics/_classification.py\u001b[0m in \u001b[0;36m_check_targets\u001b[0;34m(y_true, y_pred)\u001b[0m\n\u001b[1;32m     82\u001b[0m     \u001b[0my_pred\u001b[0m \u001b[0;34m:\u001b[0m \u001b[0marray\u001b[0m \u001b[0;32mor\u001b[0m \u001b[0mindicator\u001b[0m \u001b[0mmatrix\u001b[0m\u001b[0;34m\u001b[0m\u001b[0;34m\u001b[0m\u001b[0m\n\u001b[1;32m     83\u001b[0m     \"\"\"\n\u001b[0;32m---> 84\u001b[0;31m     \u001b[0mcheck_consistent_length\u001b[0m\u001b[0;34m(\u001b[0m\u001b[0my_true\u001b[0m\u001b[0;34m,\u001b[0m \u001b[0my_pred\u001b[0m\u001b[0;34m)\u001b[0m\u001b[0;34m\u001b[0m\u001b[0;34m\u001b[0m\u001b[0m\n\u001b[0m\u001b[1;32m     85\u001b[0m     \u001b[0mtype_true\u001b[0m \u001b[0;34m=\u001b[0m \u001b[0mtype_of_target\u001b[0m\u001b[0;34m(\u001b[0m\u001b[0my_true\u001b[0m\u001b[0;34m)\u001b[0m\u001b[0;34m\u001b[0m\u001b[0;34m\u001b[0m\u001b[0m\n\u001b[1;32m     86\u001b[0m     \u001b[0mtype_pred\u001b[0m \u001b[0;34m=\u001b[0m \u001b[0mtype_of_target\u001b[0m\u001b[0;34m(\u001b[0m\u001b[0my_pred\u001b[0m\u001b[0;34m)\u001b[0m\u001b[0;34m\u001b[0m\u001b[0;34m\u001b[0m\u001b[0m\n",
            "\u001b[0;32m/usr/local/lib/python3.7/dist-packages/sklearn/utils/validation.py\u001b[0m in \u001b[0;36mcheck_consistent_length\u001b[0;34m(*arrays)\u001b[0m\n\u001b[1;32m    332\u001b[0m         raise ValueError(\n\u001b[1;32m    333\u001b[0m             \u001b[0;34m\"Found input variables with inconsistent numbers of samples: %r\"\u001b[0m\u001b[0;34m\u001b[0m\u001b[0;34m\u001b[0m\u001b[0m\n\u001b[0;32m--> 334\u001b[0;31m             \u001b[0;34m%\u001b[0m \u001b[0;34m[\u001b[0m\u001b[0mint\u001b[0m\u001b[0;34m(\u001b[0m\u001b[0ml\u001b[0m\u001b[0;34m)\u001b[0m \u001b[0;32mfor\u001b[0m \u001b[0ml\u001b[0m \u001b[0;32min\u001b[0m \u001b[0mlengths\u001b[0m\u001b[0;34m]\u001b[0m\u001b[0;34m\u001b[0m\u001b[0;34m\u001b[0m\u001b[0m\n\u001b[0m\u001b[1;32m    335\u001b[0m         )\n\u001b[1;32m    336\u001b[0m \u001b[0;34m\u001b[0m\u001b[0m\n",
            "\u001b[0;31mValueError\u001b[0m: Found input variables with inconsistent numbers of samples: [7532, 20]"
          ]
        }
      ],
      "source": [
        "pred = []\n",
        "for text in tqdm(test_data):\n",
        "    pred.append(find_label(text))\n",
        "metrics.accuracy_score(pred, newsgroups_test.target)"
      ]
    },
    {
      "cell_type": "markdown",
      "metadata": {
        "id": "VU9JwQ85N6bv"
      },
      "source": [
        "**(Optional)** Try to improve performance of Naive Bayes model in this dataset. You can try everything to do this, i.e. change hyperparameters, preprocess data, ..."
      ]
    }
  ],
  "metadata": {
    "colab": {
      "provenance": [],
      "include_colab_link": true
    },
    "kernelspec": {
      "display_name": "Python 3",
      "name": "python3"
    },
    "language_info": {
      "name": "python"
    }
  },
  "nbformat": 4,
  "nbformat_minor": 0
}